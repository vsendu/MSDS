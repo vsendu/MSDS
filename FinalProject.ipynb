{
 "cells": [
  {
   "cell_type": "code",
   "execution_count": 30,
   "metadata": {},
   "outputs": [
    {
     "data": {
      "text/html": [
       "        <script type=\"text/javascript\">\n",
       "        window.PlotlyConfig = {MathJaxConfig: 'local'};\n",
       "        if (window.MathJax) {MathJax.Hub.Config({SVG: {font: \"STIX-Web\"}});}\n",
       "        if (typeof require !== 'undefined') {\n",
       "        require.undef(\"plotly\");\n",
       "        requirejs.config({\n",
       "            paths: {\n",
       "                'plotly': ['https://cdn.plot.ly/plotly-2.4.2.min']\n",
       "            }\n",
       "        });\n",
       "        require(['plotly'], function(Plotly) {\n",
       "            window._Plotly = Plotly;\n",
       "        });\n",
       "        }\n",
       "        </script>\n",
       "        "
      ]
     },
     "metadata": {},
     "output_type": "display_data"
    }
   ],
   "source": [
    "import numpy as np \n",
    "import pandas as pd \n",
    "from plotly.offline import init_notebook_mode,iplot\n",
    "init_notebook_mode(connected=True)\n",
    "import plotly.graph_objs as go\n",
    "from plotly.tools import FigureFactory as ff\n",
    "import matplotlib.pyplot as plt\n",
    "from PIL import Image\n",
    "\n",
    "import warnings\n",
    "warnings.filterwarnings(\"ignore\")\n",
    "import chart_studio.plotly as py\n"
   ]
  },
  {
   "cell_type": "code",
   "execution_count": 31,
   "metadata": {},
   "outputs": [
    {
     "data": {
      "text/html": [
       "<div>\n",
       "<style scoped>\n",
       "    .dataframe tbody tr th:only-of-type {\n",
       "        vertical-align: middle;\n",
       "    }\n",
       "\n",
       "    .dataframe tbody tr th {\n",
       "        vertical-align: top;\n",
       "    }\n",
       "\n",
       "    .dataframe thead th {\n",
       "        text-align: right;\n",
       "    }\n",
       "</style>\n",
       "<table border=\"1\" class=\"dataframe\">\n",
       "  <thead>\n",
       "    <tr style=\"text-align: right;\">\n",
       "      <th></th>\n",
       "      <th>Rank</th>\n",
       "      <th>Name</th>\n",
       "      <th>Platform</th>\n",
       "      <th>Year</th>\n",
       "      <th>Genre</th>\n",
       "      <th>Publisher</th>\n",
       "      <th>NA_Sales</th>\n",
       "      <th>EU_Sales</th>\n",
       "      <th>JP_Sales</th>\n",
       "      <th>Other_Sales</th>\n",
       "      <th>Global_Sales</th>\n",
       "    </tr>\n",
       "  </thead>\n",
       "  <tbody>\n",
       "    <tr>\n",
       "      <th>0</th>\n",
       "      <td>1</td>\n",
       "      <td>Wii Sports</td>\n",
       "      <td>Wii</td>\n",
       "      <td>2006.0</td>\n",
       "      <td>Sports</td>\n",
       "      <td>Nintendo</td>\n",
       "      <td>41.49</td>\n",
       "      <td>29.02</td>\n",
       "      <td>3.77</td>\n",
       "      <td>8.46</td>\n",
       "      <td>82.74</td>\n",
       "    </tr>\n",
       "    <tr>\n",
       "      <th>1</th>\n",
       "      <td>2</td>\n",
       "      <td>Super Mario Bros.</td>\n",
       "      <td>NES</td>\n",
       "      <td>1985.0</td>\n",
       "      <td>Platform</td>\n",
       "      <td>Nintendo</td>\n",
       "      <td>29.08</td>\n",
       "      <td>3.58</td>\n",
       "      <td>6.81</td>\n",
       "      <td>0.77</td>\n",
       "      <td>40.24</td>\n",
       "    </tr>\n",
       "    <tr>\n",
       "      <th>2</th>\n",
       "      <td>3</td>\n",
       "      <td>Mario Kart Wii</td>\n",
       "      <td>Wii</td>\n",
       "      <td>2008.0</td>\n",
       "      <td>Racing</td>\n",
       "      <td>Nintendo</td>\n",
       "      <td>15.85</td>\n",
       "      <td>12.88</td>\n",
       "      <td>3.79</td>\n",
       "      <td>3.31</td>\n",
       "      <td>35.82</td>\n",
       "    </tr>\n",
       "    <tr>\n",
       "      <th>3</th>\n",
       "      <td>4</td>\n",
       "      <td>Wii Sports Resort</td>\n",
       "      <td>Wii</td>\n",
       "      <td>2009.0</td>\n",
       "      <td>Sports</td>\n",
       "      <td>Nintendo</td>\n",
       "      <td>15.75</td>\n",
       "      <td>11.01</td>\n",
       "      <td>3.28</td>\n",
       "      <td>2.96</td>\n",
       "      <td>33.00</td>\n",
       "    </tr>\n",
       "    <tr>\n",
       "      <th>4</th>\n",
       "      <td>5</td>\n",
       "      <td>Pokemon Red/Pokemon Blue</td>\n",
       "      <td>GB</td>\n",
       "      <td>1996.0</td>\n",
       "      <td>Role-Playing</td>\n",
       "      <td>Nintendo</td>\n",
       "      <td>11.27</td>\n",
       "      <td>8.89</td>\n",
       "      <td>10.22</td>\n",
       "      <td>1.00</td>\n",
       "      <td>31.37</td>\n",
       "    </tr>\n",
       "  </tbody>\n",
       "</table>\n",
       "</div>"
      ],
      "text/plain": [
       "   Rank                      Name Platform    Year         Genre Publisher  \\\n",
       "0     1                Wii Sports      Wii  2006.0        Sports  Nintendo   \n",
       "1     2         Super Mario Bros.      NES  1985.0      Platform  Nintendo   \n",
       "2     3            Mario Kart Wii      Wii  2008.0        Racing  Nintendo   \n",
       "3     4         Wii Sports Resort      Wii  2009.0        Sports  Nintendo   \n",
       "4     5  Pokemon Red/Pokemon Blue       GB  1996.0  Role-Playing  Nintendo   \n",
       "\n",
       "   NA_Sales  EU_Sales  JP_Sales  Other_Sales  Global_Sales  \n",
       "0     41.49     29.02      3.77         8.46         82.74  \n",
       "1     29.08      3.58      6.81         0.77         40.24  \n",
       "2     15.85     12.88      3.79         3.31         35.82  \n",
       "3     15.75     11.01      3.28         2.96         33.00  \n",
       "4     11.27      8.89     10.22         1.00         31.37  "
      ]
     },
     "execution_count": 31,
     "metadata": {},
     "output_type": "execute_result"
    }
   ],
   "source": [
    "df=pd.read_csv(r\"C:\\Users\\sendu\\Desktop\\data\\vgsales.csv\")\n",
    "df.head()"
   ]
  },
  {
   "cell_type": "code",
   "execution_count": 32,
   "metadata": {},
   "outputs": [],
   "source": [
    "df=df.head(100)"
   ]
  },
  {
   "cell_type": "code",
   "execution_count": 33,
   "metadata": {},
   "outputs": [
    {
     "data": {
      "application/vnd.plotly.v1+json": {
       "config": {
        "linkText": "Export to plot.ly",
        "plotlyServerURL": "https://plot.ly",
        "showLink": false
       },
       "data": [
        {
         "marker": {
          "color": "rgba(28, 149, 249, 0.8)",
          "size": 8
         },
         "mode": "markers",
         "name": "North America",
         "text": [
          "Wii Sports",
          "Super Mario Bros.",
          "Mario Kart Wii",
          "Wii Sports Resort",
          "Pokemon Red/Pokemon Blue",
          "Tetris",
          "New Super Mario Bros.",
          "Wii Play",
          "New Super Mario Bros. Wii",
          "Duck Hunt",
          "Nintendogs",
          "Mario Kart DS",
          "Pokemon Gold/Pokemon Silver",
          "Wii Fit",
          "Wii Fit Plus",
          "Kinect Adventures!",
          "Grand Theft Auto V",
          "Grand Theft Auto: San Andreas",
          "Super Mario World",
          "Brain Age: Train Your Brain in Minutes a Day",
          "Pokemon Diamond/Pokemon Pearl",
          "Super Mario Land",
          "Super Mario Bros. 3",
          "Grand Theft Auto V",
          "Grand Theft Auto: Vice City",
          "Pokemon Ruby/Pokemon Sapphire",
          "Pokemon Black/Pokemon White",
          "Brain Age 2: More Training in Minutes a Day",
          "Gran Turismo 3: A-Spec",
          "Call of Duty: Modern Warfare 3",
          "Pokémon Yellow: Special Pikachu Edition",
          "Call of Duty: Black Ops",
          "Pokemon X/Pokemon Y",
          "Call of Duty: Black Ops 3",
          "Call of Duty: Black Ops II",
          "Call of Duty: Black Ops II",
          "Call of Duty: Modern Warfare 2",
          "Call of Duty: Modern Warfare 3",
          "Grand Theft Auto III",
          "Super Smash Bros. Brawl",
          "Call of Duty: Black Ops",
          "Animal Crossing: Wild World",
          "Mario Kart 7",
          "Halo 3",
          "Grand Theft Auto V",
          "Pokemon HeartGold/Pokemon SoulSilver",
          "Super Mario 64",
          "Gran Turismo 4",
          "Super Mario Galaxy",
          "Pokemon Omega Ruby/Pokemon Alpha Sapphire",
          "Super Mario Land 2: 6 Golden Coins",
          "Grand Theft Auto IV",
          "Gran Turismo",
          "Super Mario 3D Land",
          "Gran Turismo 5",
          "Call of Duty: Modern Warfare 2",
          "Grand Theft Auto IV",
          "Super Mario All-Stars",
          "Pokemon FireRed/Pokemon LeafGreen",
          "Super Mario 64",
          "Just Dance 3",
          "Call of Duty: Ghosts",
          "Halo: Reach",
          "Mario Kart 64",
          "New Super Mario Bros. 2",
          "Halo 4",
          "Final Fantasy VII",
          "Call of Duty: Ghosts",
          "Just Dance 2",
          "Gran Turismo 2",
          "Call of Duty 4: Modern Warfare",
          "Donkey Kong Country",
          "Minecraft",
          "Animal Crossing: New Leaf",
          "Mario Party DS",
          "The Elder Scrolls V: Skyrim",
          "Super Mario Kart",
          "FIFA 16",
          "Wii Party",
          "Halo 2",
          "Mario Party 8",
          "Pokemon Black 2/Pokemon White 2",
          "FIFA Soccer 13",
          "The Sims 3",
          "GoldenEye 007",
          "Mario & Sonic at the Olympic Games",
          "Final Fantasy X",
          "Final Fantasy VIII",
          "Pokémon Platinum Version",
          "Pac-Man",
          "Grand Theft Auto: Liberty City Stories",
          "Super Mario Galaxy 2",
          "Star Wars Battlefront (2015)",
          "Call of Duty: Advanced Warfare",
          "The Legend of Zelda: Ocarina of Time",
          "Crash Bandicoot 2: Cortex Strikes Back",
          "Super Mario Bros. 2",
          "Super Smash Bros. for Wii U and 3DS",
          "Call of Duty: World at War",
          "Battlefield 3"
         ],
         "type": "scatter",
         "x": [
          1,
          2,
          3,
          4,
          5,
          6,
          7,
          8,
          9,
          10,
          11,
          12,
          13,
          14,
          15,
          16,
          17,
          18,
          19,
          20,
          21,
          22,
          23,
          24,
          25,
          26,
          27,
          28,
          29,
          30,
          31,
          32,
          33,
          34,
          35,
          36,
          37,
          38,
          39,
          40,
          41,
          42,
          43,
          44,
          45,
          46,
          47,
          48,
          49,
          50,
          51,
          52,
          53,
          54,
          55,
          56,
          57,
          58,
          59,
          60,
          61,
          62,
          63,
          64,
          65,
          66,
          67,
          68,
          69,
          70,
          71,
          72,
          73,
          74,
          75,
          76,
          77,
          78,
          79,
          80,
          81,
          82,
          83,
          84,
          85,
          86,
          87,
          88,
          89,
          90,
          91,
          92,
          93,
          94,
          95,
          96,
          97,
          98,
          99,
          100
         ],
         "y": [
          41.49,
          29.08,
          15.85,
          15.75,
          11.27,
          23.2,
          11.38,
          14.03,
          14.59,
          26.93,
          9.07,
          9.81,
          9,
          8.94,
          9.09,
          14.97,
          7.01,
          9.43,
          12.78,
          4.75,
          6.42,
          10.83,
          9.54,
          9.63,
          8.41,
          6.06,
          5.57,
          3.44,
          6.85,
          9.03,
          5.89,
          9.67,
          5.17,
          5.77,
          4.99,
          8.25,
          8.52,
          5.54,
          6.99,
          6.75,
          5.98,
          2.55,
          4.74,
          7.97,
          3.8,
          4.4,
          6.91,
          3.01,
          6.16,
          4.23,
          6.16,
          6.76,
          4.02,
          4.89,
          2.96,
          4.99,
          4.76,
          5.99,
          4.34,
          5.08,
          6.05,
          6.72,
          7.03,
          5.55,
          3.66,
          6.63,
          3.01,
          4.09,
          5.84,
          3.88,
          5.91,
          4.36,
          5.58,
          2.01,
          4.46,
          5.03,
          3.54,
          1.11,
          1.79,
          6.82,
          3.81,
          2.91,
          1.06,
          0.98,
          5.8,
          2.58,
          2.91,
          2.28,
          2.82,
          7.28,
          2.9,
          3.66,
          2.93,
          2.8,
          4.1,
          3.78,
          5.39,
          3.24,
          4.79,
          4.46
         ]
        },
        {
         "marker": {
          "color": "rgba(249, 94, 28, 0.8)",
          "size": 8
         },
         "mode": "markers",
         "name": "Europe",
         "text": [
          "Wii Sports",
          "Super Mario Bros.",
          "Mario Kart Wii",
          "Wii Sports Resort",
          "Pokemon Red/Pokemon Blue",
          "Tetris",
          "New Super Mario Bros.",
          "Wii Play",
          "New Super Mario Bros. Wii",
          "Duck Hunt",
          "Nintendogs",
          "Mario Kart DS",
          "Pokemon Gold/Pokemon Silver",
          "Wii Fit",
          "Wii Fit Plus",
          "Kinect Adventures!",
          "Grand Theft Auto V",
          "Grand Theft Auto: San Andreas",
          "Super Mario World",
          "Brain Age: Train Your Brain in Minutes a Day",
          "Pokemon Diamond/Pokemon Pearl",
          "Super Mario Land",
          "Super Mario Bros. 3",
          "Grand Theft Auto V",
          "Grand Theft Auto: Vice City",
          "Pokemon Ruby/Pokemon Sapphire",
          "Pokemon Black/Pokemon White",
          "Brain Age 2: More Training in Minutes a Day",
          "Gran Turismo 3: A-Spec",
          "Call of Duty: Modern Warfare 3",
          "Pokémon Yellow: Special Pikachu Edition",
          "Call of Duty: Black Ops",
          "Pokemon X/Pokemon Y",
          "Call of Duty: Black Ops 3",
          "Call of Duty: Black Ops II",
          "Call of Duty: Black Ops II",
          "Call of Duty: Modern Warfare 2",
          "Call of Duty: Modern Warfare 3",
          "Grand Theft Auto III",
          "Super Smash Bros. Brawl",
          "Call of Duty: Black Ops",
          "Animal Crossing: Wild World",
          "Mario Kart 7",
          "Halo 3",
          "Grand Theft Auto V",
          "Pokemon HeartGold/Pokemon SoulSilver",
          "Super Mario 64",
          "Gran Turismo 4",
          "Super Mario Galaxy",
          "Pokemon Omega Ruby/Pokemon Alpha Sapphire",
          "Super Mario Land 2: 6 Golden Coins",
          "Grand Theft Auto IV",
          "Gran Turismo",
          "Super Mario 3D Land",
          "Gran Turismo 5",
          "Call of Duty: Modern Warfare 2",
          "Grand Theft Auto IV",
          "Super Mario All-Stars",
          "Pokemon FireRed/Pokemon LeafGreen",
          "Super Mario 64",
          "Just Dance 3",
          "Call of Duty: Ghosts",
          "Halo: Reach",
          "Mario Kart 64",
          "New Super Mario Bros. 2",
          "Halo 4",
          "Final Fantasy VII",
          "Call of Duty: Ghosts",
          "Just Dance 2",
          "Gran Turismo 2",
          "Call of Duty 4: Modern Warfare",
          "Donkey Kong Country",
          "Minecraft",
          "Animal Crossing: New Leaf",
          "Mario Party DS",
          "The Elder Scrolls V: Skyrim",
          "Super Mario Kart",
          "FIFA 16",
          "Wii Party",
          "Halo 2",
          "Mario Party 8",
          "Pokemon Black 2/Pokemon White 2",
          "FIFA Soccer 13",
          "The Sims 3",
          "GoldenEye 007",
          "Mario & Sonic at the Olympic Games",
          "Final Fantasy X",
          "Final Fantasy VIII",
          "Pokémon Platinum Version",
          "Pac-Man",
          "Grand Theft Auto: Liberty City Stories",
          "Super Mario Galaxy 2",
          "Star Wars Battlefront (2015)",
          "Call of Duty: Advanced Warfare",
          "The Legend of Zelda: Ocarina of Time",
          "Crash Bandicoot 2: Cortex Strikes Back",
          "Super Mario Bros. 2",
          "Super Smash Bros. for Wii U and 3DS",
          "Call of Duty: World at War",
          "Battlefield 3"
         ],
         "type": "scatter",
         "x": [
          1,
          2,
          3,
          4,
          5,
          6,
          7,
          8,
          9,
          10,
          11,
          12,
          13,
          14,
          15,
          16,
          17,
          18,
          19,
          20,
          21,
          22,
          23,
          24,
          25,
          26,
          27,
          28,
          29,
          30,
          31,
          32,
          33,
          34,
          35,
          36,
          37,
          38,
          39,
          40,
          41,
          42,
          43,
          44,
          45,
          46,
          47,
          48,
          49,
          50,
          51,
          52,
          53,
          54,
          55,
          56,
          57,
          58,
          59,
          60,
          61,
          62,
          63,
          64,
          65,
          66,
          67,
          68,
          69,
          70,
          71,
          72,
          73,
          74,
          75,
          76,
          77,
          78,
          79,
          80,
          81,
          82,
          83,
          84,
          85,
          86,
          87,
          88,
          89,
          90,
          91,
          92,
          93,
          94,
          95,
          96,
          97,
          98,
          99,
          100
         ],
         "y": [
          29.02,
          3.58,
          12.88,
          11.01,
          8.89,
          2.26,
          9.23,
          9.2,
          7.06,
          0.63,
          11,
          7.57,
          6.18,
          8.03,
          8.59,
          4.94,
          9.27,
          0.4,
          3.75,
          9.26,
          4.52,
          2.71,
          3.44,
          5.31,
          5.49,
          3.9,
          3.28,
          5.36,
          5.09,
          4.28,
          5.04,
          3.73,
          4.05,
          5.81,
          5.88,
          4.3,
          3.63,
          5.82,
          4.51,
          2.61,
          4.44,
          3.52,
          3.91,
          2.83,
          5.81,
          2.77,
          2.85,
          0.01,
          3.4,
          3.37,
          2.04,
          3.1,
          3.87,
          2.99,
          4.88,
          3.69,
          3.76,
          2.15,
          2.65,
          3.11,
          3.15,
          2.63,
          1.98,
          1.94,
          3.07,
          2.36,
          2.47,
          3.73,
          2.89,
          3.42,
          2.38,
          1.71,
          2.83,
          2.32,
          1.88,
          2.86,
          1.24,
          6.06,
          3.53,
          1.53,
          2.3,
          1.86,
          5.05,
          6.42,
          2.01,
          3.9,
          2.07,
          1.72,
          1.78,
          0.45,
          2.83,
          2.42,
          3.29,
          3.3,
          1.89,
          2.17,
          1.18,
          1.35,
          1.9,
          2.13
         ]
        },
        {
         "marker": {
          "color": "rgba(150, 26, 80, 0.8)",
          "size": 8
         },
         "mode": "markers",
         "name": "Japan",
         "text": [
          "Wii Sports",
          "Super Mario Bros.",
          "Mario Kart Wii",
          "Wii Sports Resort",
          "Pokemon Red/Pokemon Blue",
          "Tetris",
          "New Super Mario Bros.",
          "Wii Play",
          "New Super Mario Bros. Wii",
          "Duck Hunt",
          "Nintendogs",
          "Mario Kart DS",
          "Pokemon Gold/Pokemon Silver",
          "Wii Fit",
          "Wii Fit Plus",
          "Kinect Adventures!",
          "Grand Theft Auto V",
          "Grand Theft Auto: San Andreas",
          "Super Mario World",
          "Brain Age: Train Your Brain in Minutes a Day",
          "Pokemon Diamond/Pokemon Pearl",
          "Super Mario Land",
          "Super Mario Bros. 3",
          "Grand Theft Auto V",
          "Grand Theft Auto: Vice City",
          "Pokemon Ruby/Pokemon Sapphire",
          "Pokemon Black/Pokemon White",
          "Brain Age 2: More Training in Minutes a Day",
          "Gran Turismo 3: A-Spec",
          "Call of Duty: Modern Warfare 3",
          "Pokémon Yellow: Special Pikachu Edition",
          "Call of Duty: Black Ops",
          "Pokemon X/Pokemon Y",
          "Call of Duty: Black Ops 3",
          "Call of Duty: Black Ops II",
          "Call of Duty: Black Ops II",
          "Call of Duty: Modern Warfare 2",
          "Call of Duty: Modern Warfare 3",
          "Grand Theft Auto III",
          "Super Smash Bros. Brawl",
          "Call of Duty: Black Ops",
          "Animal Crossing: Wild World",
          "Mario Kart 7",
          "Halo 3",
          "Grand Theft Auto V",
          "Pokemon HeartGold/Pokemon SoulSilver",
          "Super Mario 64",
          "Gran Turismo 4",
          "Super Mario Galaxy",
          "Pokemon Omega Ruby/Pokemon Alpha Sapphire",
          "Super Mario Land 2: 6 Golden Coins",
          "Grand Theft Auto IV",
          "Gran Turismo",
          "Super Mario 3D Land",
          "Gran Turismo 5",
          "Call of Duty: Modern Warfare 2",
          "Grand Theft Auto IV",
          "Super Mario All-Stars",
          "Pokemon FireRed/Pokemon LeafGreen",
          "Super Mario 64",
          "Just Dance 3",
          "Call of Duty: Ghosts",
          "Halo: Reach",
          "Mario Kart 64",
          "New Super Mario Bros. 2",
          "Halo 4",
          "Final Fantasy VII",
          "Call of Duty: Ghosts",
          "Just Dance 2",
          "Gran Turismo 2",
          "Call of Duty 4: Modern Warfare",
          "Donkey Kong Country",
          "Minecraft",
          "Animal Crossing: New Leaf",
          "Mario Party DS",
          "The Elder Scrolls V: Skyrim",
          "Super Mario Kart",
          "FIFA 16",
          "Wii Party",
          "Halo 2",
          "Mario Party 8",
          "Pokemon Black 2/Pokemon White 2",
          "FIFA Soccer 13",
          "The Sims 3",
          "GoldenEye 007",
          "Mario & Sonic at the Olympic Games",
          "Final Fantasy X",
          "Final Fantasy VIII",
          "Pokémon Platinum Version",
          "Pac-Man",
          "Grand Theft Auto: Liberty City Stories",
          "Super Mario Galaxy 2",
          "Star Wars Battlefront (2015)",
          "Call of Duty: Advanced Warfare",
          "The Legend of Zelda: Ocarina of Time",
          "Crash Bandicoot 2: Cortex Strikes Back",
          "Super Mario Bros. 2",
          "Super Smash Bros. for Wii U and 3DS",
          "Call of Duty: World at War",
          "Battlefield 3"
         ],
         "type": "scatter",
         "x": [
          1,
          2,
          3,
          4,
          5,
          6,
          7,
          8,
          9,
          10,
          11,
          12,
          13,
          14,
          15,
          16,
          17,
          18,
          19,
          20,
          21,
          22,
          23,
          24,
          25,
          26,
          27,
          28,
          29,
          30,
          31,
          32,
          33,
          34,
          35,
          36,
          37,
          38,
          39,
          40,
          41,
          42,
          43,
          44,
          45,
          46,
          47,
          48,
          49,
          50,
          51,
          52,
          53,
          54,
          55,
          56,
          57,
          58,
          59,
          60,
          61,
          62,
          63,
          64,
          65,
          66,
          67,
          68,
          69,
          70,
          71,
          72,
          73,
          74,
          75,
          76,
          77,
          78,
          79,
          80,
          81,
          82,
          83,
          84,
          85,
          86,
          87,
          88,
          89,
          90,
          91,
          92,
          93,
          94,
          95,
          96,
          97,
          98,
          99,
          100
         ],
         "y": [
          3.77,
          6.81,
          3.79,
          3.28,
          10.22,
          4.22,
          6.5,
          2.93,
          4.7,
          0.28,
          1.93,
          4.13,
          7.2,
          3.6,
          2.53,
          0.24,
          0.97,
          0.41,
          3.54,
          4.16,
          6.04,
          4.18,
          3.84,
          0.06,
          0.47,
          5.38,
          5.65,
          5.32,
          1.87,
          0.13,
          3.12,
          0.11,
          4.34,
          0.35,
          0.65,
          0.07,
          0.08,
          0.49,
          0.3,
          2.66,
          0.48,
          5.33,
          2.67,
          0.13,
          0.36,
          3.96,
          1.91,
          1.1,
          1.2,
          3.08,
          2.69,
          0.14,
          2.54,
          2.13,
          0.81,
          0.38,
          0.44,
          2.12,
          3.15,
          1.25,
          0,
          0.04,
          0.08,
          2.23,
          2.47,
          0.04,
          3.28,
          0.38,
          0.01,
          1.69,
          0.13,
          3,
          0.02,
          4.36,
          1.98,
          0.1,
          3.81,
          0.06,
          2.49,
          0.05,
          1.58,
          3.14,
          0.13,
          0,
          0.13,
          0.66,
          2.73,
          3.63,
          2.69,
          0,
          0.24,
          0.98,
          0.22,
          0.14,
          1.45,
          1.31,
          0.7,
          2.42,
          0,
          0.06
         ]
        },
        {
         "marker": {
          "color": "lime",
          "size": 8
         },
         "mode": "markers",
         "name": "Other",
         "text": [
          "Wii Sports",
          "Super Mario Bros.",
          "Mario Kart Wii",
          "Wii Sports Resort",
          "Pokemon Red/Pokemon Blue",
          "Tetris",
          "New Super Mario Bros.",
          "Wii Play",
          "New Super Mario Bros. Wii",
          "Duck Hunt",
          "Nintendogs",
          "Mario Kart DS",
          "Pokemon Gold/Pokemon Silver",
          "Wii Fit",
          "Wii Fit Plus",
          "Kinect Adventures!",
          "Grand Theft Auto V",
          "Grand Theft Auto: San Andreas",
          "Super Mario World",
          "Brain Age: Train Your Brain in Minutes a Day",
          "Pokemon Diamond/Pokemon Pearl",
          "Super Mario Land",
          "Super Mario Bros. 3",
          "Grand Theft Auto V",
          "Grand Theft Auto: Vice City",
          "Pokemon Ruby/Pokemon Sapphire",
          "Pokemon Black/Pokemon White",
          "Brain Age 2: More Training in Minutes a Day",
          "Gran Turismo 3: A-Spec",
          "Call of Duty: Modern Warfare 3",
          "Pokémon Yellow: Special Pikachu Edition",
          "Call of Duty: Black Ops",
          "Pokemon X/Pokemon Y",
          "Call of Duty: Black Ops 3",
          "Call of Duty: Black Ops II",
          "Call of Duty: Black Ops II",
          "Call of Duty: Modern Warfare 2",
          "Call of Duty: Modern Warfare 3",
          "Grand Theft Auto III",
          "Super Smash Bros. Brawl",
          "Call of Duty: Black Ops",
          "Animal Crossing: Wild World",
          "Mario Kart 7",
          "Halo 3",
          "Grand Theft Auto V",
          "Pokemon HeartGold/Pokemon SoulSilver",
          "Super Mario 64",
          "Gran Turismo 4",
          "Super Mario Galaxy",
          "Pokemon Omega Ruby/Pokemon Alpha Sapphire",
          "Super Mario Land 2: 6 Golden Coins",
          "Grand Theft Auto IV",
          "Gran Turismo",
          "Super Mario 3D Land",
          "Gran Turismo 5",
          "Call of Duty: Modern Warfare 2",
          "Grand Theft Auto IV",
          "Super Mario All-Stars",
          "Pokemon FireRed/Pokemon LeafGreen",
          "Super Mario 64",
          "Just Dance 3",
          "Call of Duty: Ghosts",
          "Halo: Reach",
          "Mario Kart 64",
          "New Super Mario Bros. 2",
          "Halo 4",
          "Final Fantasy VII",
          "Call of Duty: Ghosts",
          "Just Dance 2",
          "Gran Turismo 2",
          "Call of Duty 4: Modern Warfare",
          "Donkey Kong Country",
          "Minecraft",
          "Animal Crossing: New Leaf",
          "Mario Party DS",
          "The Elder Scrolls V: Skyrim",
          "Super Mario Kart",
          "FIFA 16",
          "Wii Party",
          "Halo 2",
          "Mario Party 8",
          "Pokemon Black 2/Pokemon White 2",
          "FIFA Soccer 13",
          "The Sims 3",
          "GoldenEye 007",
          "Mario & Sonic at the Olympic Games",
          "Final Fantasy X",
          "Final Fantasy VIII",
          "Pokémon Platinum Version",
          "Pac-Man",
          "Grand Theft Auto: Liberty City Stories",
          "Super Mario Galaxy 2",
          "Star Wars Battlefront (2015)",
          "Call of Duty: Advanced Warfare",
          "The Legend of Zelda: Ocarina of Time",
          "Crash Bandicoot 2: Cortex Strikes Back",
          "Super Mario Bros. 2",
          "Super Smash Bros. for Wii U and 3DS",
          "Call of Duty: World at War",
          "Battlefield 3"
         ],
         "type": "scatter",
         "x": [
          1,
          2,
          3,
          4,
          5,
          6,
          7,
          8,
          9,
          10,
          11,
          12,
          13,
          14,
          15,
          16,
          17,
          18,
          19,
          20,
          21,
          22,
          23,
          24,
          25,
          26,
          27,
          28,
          29,
          30,
          31,
          32,
          33,
          34,
          35,
          36,
          37,
          38,
          39,
          40,
          41,
          42,
          43,
          44,
          45,
          46,
          47,
          48,
          49,
          50,
          51,
          52,
          53,
          54,
          55,
          56,
          57,
          58,
          59,
          60,
          61,
          62,
          63,
          64,
          65,
          66,
          67,
          68,
          69,
          70,
          71,
          72,
          73,
          74,
          75,
          76,
          77,
          78,
          79,
          80,
          81,
          82,
          83,
          84,
          85,
          86,
          87,
          88,
          89,
          90,
          91,
          92,
          93,
          94,
          95,
          96,
          97,
          98,
          99,
          100
         ],
         "y": [
          8.46,
          0.77,
          3.31,
          2.96,
          1,
          0.58,
          2.9,
          2.85,
          2.26,
          0.47,
          2.75,
          1.92,
          0.71,
          2.15,
          1.79,
          1.67,
          4.14,
          10.57,
          0.55,
          2.05,
          1.37,
          0.42,
          0.46,
          1.38,
          1.78,
          0.5,
          0.82,
          1.18,
          1.16,
          1.32,
          0.59,
          1.13,
          0.79,
          2.31,
          2.52,
          1.12,
          1.29,
          1.62,
          1.3,
          1.02,
          1.83,
          0.88,
          0.89,
          1.21,
          2.02,
          0.77,
          0.23,
          7.53,
          0.76,
          0.65,
          0.29,
          1.03,
          0.52,
          0.78,
          2.12,
          1.63,
          1.62,
          0.29,
          0.35,
          0.98,
          1.07,
          0.82,
          0.78,
          0.15,
          0.63,
          0.73,
          0.96,
          1.38,
          0.78,
          0.5,
          0.9,
          0.23,
          0.77,
          0.41,
          0.7,
          0.85,
          0.18,
          1.26,
          0.68,
          0.08,
          0.73,
          0.43,
          2.01,
          0.71,
          0.15,
          0.91,
          0.33,
          0.23,
          0.55,
          0.08,
          1.75,
          0.64,
          1.23,
          1.37,
          0.16,
          0.31,
          0.19,
          0.43,
          0.69,
          0.69
         ]
        }
       ],
       "layout": {
        "paper_bgcolor": "rgb(243, 243, 243)",
        "plot_bgcolor": "rgb(243, 243, 243)",
        "template": {
         "data": {
          "bar": [
           {
            "error_x": {
             "color": "#2a3f5f"
            },
            "error_y": {
             "color": "#2a3f5f"
            },
            "marker": {
             "line": {
              "color": "#E5ECF6",
              "width": 0.5
             },
             "pattern": {
              "fillmode": "overlay",
              "size": 10,
              "solidity": 0.2
             }
            },
            "type": "bar"
           }
          ],
          "barpolar": [
           {
            "marker": {
             "line": {
              "color": "#E5ECF6",
              "width": 0.5
             },
             "pattern": {
              "fillmode": "overlay",
              "size": 10,
              "solidity": 0.2
             }
            },
            "type": "barpolar"
           }
          ],
          "carpet": [
           {
            "aaxis": {
             "endlinecolor": "#2a3f5f",
             "gridcolor": "white",
             "linecolor": "white",
             "minorgridcolor": "white",
             "startlinecolor": "#2a3f5f"
            },
            "baxis": {
             "endlinecolor": "#2a3f5f",
             "gridcolor": "white",
             "linecolor": "white",
             "minorgridcolor": "white",
             "startlinecolor": "#2a3f5f"
            },
            "type": "carpet"
           }
          ],
          "choropleth": [
           {
            "colorbar": {
             "outlinewidth": 0,
             "ticks": ""
            },
            "type": "choropleth"
           }
          ],
          "contour": [
           {
            "colorbar": {
             "outlinewidth": 0,
             "ticks": ""
            },
            "colorscale": [
             [
              0,
              "#0d0887"
             ],
             [
              0.1111111111111111,
              "#46039f"
             ],
             [
              0.2222222222222222,
              "#7201a8"
             ],
             [
              0.3333333333333333,
              "#9c179e"
             ],
             [
              0.4444444444444444,
              "#bd3786"
             ],
             [
              0.5555555555555556,
              "#d8576b"
             ],
             [
              0.6666666666666666,
              "#ed7953"
             ],
             [
              0.7777777777777778,
              "#fb9f3a"
             ],
             [
              0.8888888888888888,
              "#fdca26"
             ],
             [
              1,
              "#f0f921"
             ]
            ],
            "type": "contour"
           }
          ],
          "contourcarpet": [
           {
            "colorbar": {
             "outlinewidth": 0,
             "ticks": ""
            },
            "type": "contourcarpet"
           }
          ],
          "heatmap": [
           {
            "colorbar": {
             "outlinewidth": 0,
             "ticks": ""
            },
            "colorscale": [
             [
              0,
              "#0d0887"
             ],
             [
              0.1111111111111111,
              "#46039f"
             ],
             [
              0.2222222222222222,
              "#7201a8"
             ],
             [
              0.3333333333333333,
              "#9c179e"
             ],
             [
              0.4444444444444444,
              "#bd3786"
             ],
             [
              0.5555555555555556,
              "#d8576b"
             ],
             [
              0.6666666666666666,
              "#ed7953"
             ],
             [
              0.7777777777777778,
              "#fb9f3a"
             ],
             [
              0.8888888888888888,
              "#fdca26"
             ],
             [
              1,
              "#f0f921"
             ]
            ],
            "type": "heatmap"
           }
          ],
          "heatmapgl": [
           {
            "colorbar": {
             "outlinewidth": 0,
             "ticks": ""
            },
            "colorscale": [
             [
              0,
              "#0d0887"
             ],
             [
              0.1111111111111111,
              "#46039f"
             ],
             [
              0.2222222222222222,
              "#7201a8"
             ],
             [
              0.3333333333333333,
              "#9c179e"
             ],
             [
              0.4444444444444444,
              "#bd3786"
             ],
             [
              0.5555555555555556,
              "#d8576b"
             ],
             [
              0.6666666666666666,
              "#ed7953"
             ],
             [
              0.7777777777777778,
              "#fb9f3a"
             ],
             [
              0.8888888888888888,
              "#fdca26"
             ],
             [
              1,
              "#f0f921"
             ]
            ],
            "type": "heatmapgl"
           }
          ],
          "histogram": [
           {
            "marker": {
             "pattern": {
              "fillmode": "overlay",
              "size": 10,
              "solidity": 0.2
             }
            },
            "type": "histogram"
           }
          ],
          "histogram2d": [
           {
            "colorbar": {
             "outlinewidth": 0,
             "ticks": ""
            },
            "colorscale": [
             [
              0,
              "#0d0887"
             ],
             [
              0.1111111111111111,
              "#46039f"
             ],
             [
              0.2222222222222222,
              "#7201a8"
             ],
             [
              0.3333333333333333,
              "#9c179e"
             ],
             [
              0.4444444444444444,
              "#bd3786"
             ],
             [
              0.5555555555555556,
              "#d8576b"
             ],
             [
              0.6666666666666666,
              "#ed7953"
             ],
             [
              0.7777777777777778,
              "#fb9f3a"
             ],
             [
              0.8888888888888888,
              "#fdca26"
             ],
             [
              1,
              "#f0f921"
             ]
            ],
            "type": "histogram2d"
           }
          ],
          "histogram2dcontour": [
           {
            "colorbar": {
             "outlinewidth": 0,
             "ticks": ""
            },
            "colorscale": [
             [
              0,
              "#0d0887"
             ],
             [
              0.1111111111111111,
              "#46039f"
             ],
             [
              0.2222222222222222,
              "#7201a8"
             ],
             [
              0.3333333333333333,
              "#9c179e"
             ],
             [
              0.4444444444444444,
              "#bd3786"
             ],
             [
              0.5555555555555556,
              "#d8576b"
             ],
             [
              0.6666666666666666,
              "#ed7953"
             ],
             [
              0.7777777777777778,
              "#fb9f3a"
             ],
             [
              0.8888888888888888,
              "#fdca26"
             ],
             [
              1,
              "#f0f921"
             ]
            ],
            "type": "histogram2dcontour"
           }
          ],
          "mesh3d": [
           {
            "colorbar": {
             "outlinewidth": 0,
             "ticks": ""
            },
            "type": "mesh3d"
           }
          ],
          "parcoords": [
           {
            "line": {
             "colorbar": {
              "outlinewidth": 0,
              "ticks": ""
             }
            },
            "type": "parcoords"
           }
          ],
          "pie": [
           {
            "automargin": true,
            "type": "pie"
           }
          ],
          "scatter": [
           {
            "marker": {
             "colorbar": {
              "outlinewidth": 0,
              "ticks": ""
             }
            },
            "type": "scatter"
           }
          ],
          "scatter3d": [
           {
            "line": {
             "colorbar": {
              "outlinewidth": 0,
              "ticks": ""
             }
            },
            "marker": {
             "colorbar": {
              "outlinewidth": 0,
              "ticks": ""
             }
            },
            "type": "scatter3d"
           }
          ],
          "scattercarpet": [
           {
            "marker": {
             "colorbar": {
              "outlinewidth": 0,
              "ticks": ""
             }
            },
            "type": "scattercarpet"
           }
          ],
          "scattergeo": [
           {
            "marker": {
             "colorbar": {
              "outlinewidth": 0,
              "ticks": ""
             }
            },
            "type": "scattergeo"
           }
          ],
          "scattergl": [
           {
            "marker": {
             "colorbar": {
              "outlinewidth": 0,
              "ticks": ""
             }
            },
            "type": "scattergl"
           }
          ],
          "scattermapbox": [
           {
            "marker": {
             "colorbar": {
              "outlinewidth": 0,
              "ticks": ""
             }
            },
            "type": "scattermapbox"
           }
          ],
          "scatterpolar": [
           {
            "marker": {
             "colorbar": {
              "outlinewidth": 0,
              "ticks": ""
             }
            },
            "type": "scatterpolar"
           }
          ],
          "scatterpolargl": [
           {
            "marker": {
             "colorbar": {
              "outlinewidth": 0,
              "ticks": ""
             }
            },
            "type": "scatterpolargl"
           }
          ],
          "scatterternary": [
           {
            "marker": {
             "colorbar": {
              "outlinewidth": 0,
              "ticks": ""
             }
            },
            "type": "scatterternary"
           }
          ],
          "surface": [
           {
            "colorbar": {
             "outlinewidth": 0,
             "ticks": ""
            },
            "colorscale": [
             [
              0,
              "#0d0887"
             ],
             [
              0.1111111111111111,
              "#46039f"
             ],
             [
              0.2222222222222222,
              "#7201a8"
             ],
             [
              0.3333333333333333,
              "#9c179e"
             ],
             [
              0.4444444444444444,
              "#bd3786"
             ],
             [
              0.5555555555555556,
              "#d8576b"
             ],
             [
              0.6666666666666666,
              "#ed7953"
             ],
             [
              0.7777777777777778,
              "#fb9f3a"
             ],
             [
              0.8888888888888888,
              "#fdca26"
             ],
             [
              1,
              "#f0f921"
             ]
            ],
            "type": "surface"
           }
          ],
          "table": [
           {
            "cells": {
             "fill": {
              "color": "#EBF0F8"
             },
             "line": {
              "color": "white"
             }
            },
            "header": {
             "fill": {
              "color": "#C8D4E3"
             },
             "line": {
              "color": "white"
             }
            },
            "type": "table"
           }
          ]
         },
         "layout": {
          "annotationdefaults": {
           "arrowcolor": "#2a3f5f",
           "arrowhead": 0,
           "arrowwidth": 1
          },
          "autotypenumbers": "strict",
          "coloraxis": {
           "colorbar": {
            "outlinewidth": 0,
            "ticks": ""
           }
          },
          "colorscale": {
           "diverging": [
            [
             0,
             "#8e0152"
            ],
            [
             0.1,
             "#c51b7d"
            ],
            [
             0.2,
             "#de77ae"
            ],
            [
             0.3,
             "#f1b6da"
            ],
            [
             0.4,
             "#fde0ef"
            ],
            [
             0.5,
             "#f7f7f7"
            ],
            [
             0.6,
             "#e6f5d0"
            ],
            [
             0.7,
             "#b8e186"
            ],
            [
             0.8,
             "#7fbc41"
            ],
            [
             0.9,
             "#4d9221"
            ],
            [
             1,
             "#276419"
            ]
           ],
           "sequential": [
            [
             0,
             "#0d0887"
            ],
            [
             0.1111111111111111,
             "#46039f"
            ],
            [
             0.2222222222222222,
             "#7201a8"
            ],
            [
             0.3333333333333333,
             "#9c179e"
            ],
            [
             0.4444444444444444,
             "#bd3786"
            ],
            [
             0.5555555555555556,
             "#d8576b"
            ],
            [
             0.6666666666666666,
             "#ed7953"
            ],
            [
             0.7777777777777778,
             "#fb9f3a"
            ],
            [
             0.8888888888888888,
             "#fdca26"
            ],
            [
             1,
             "#f0f921"
            ]
           ],
           "sequentialminus": [
            [
             0,
             "#0d0887"
            ],
            [
             0.1111111111111111,
             "#46039f"
            ],
            [
             0.2222222222222222,
             "#7201a8"
            ],
            [
             0.3333333333333333,
             "#9c179e"
            ],
            [
             0.4444444444444444,
             "#bd3786"
            ],
            [
             0.5555555555555556,
             "#d8576b"
            ],
            [
             0.6666666666666666,
             "#ed7953"
            ],
            [
             0.7777777777777778,
             "#fb9f3a"
            ],
            [
             0.8888888888888888,
             "#fdca26"
            ],
            [
             1,
             "#f0f921"
            ]
           ]
          },
          "colorway": [
           "#636efa",
           "#EF553B",
           "#00cc96",
           "#ab63fa",
           "#FFA15A",
           "#19d3f3",
           "#FF6692",
           "#B6E880",
           "#FF97FF",
           "#FECB52"
          ],
          "font": {
           "color": "#2a3f5f"
          },
          "geo": {
           "bgcolor": "white",
           "lakecolor": "white",
           "landcolor": "#E5ECF6",
           "showlakes": true,
           "showland": true,
           "subunitcolor": "white"
          },
          "hoverlabel": {
           "align": "left"
          },
          "hovermode": "closest",
          "mapbox": {
           "style": "light"
          },
          "paper_bgcolor": "white",
          "plot_bgcolor": "#E5ECF6",
          "polar": {
           "angularaxis": {
            "gridcolor": "white",
            "linecolor": "white",
            "ticks": ""
           },
           "bgcolor": "#E5ECF6",
           "radialaxis": {
            "gridcolor": "white",
            "linecolor": "white",
            "ticks": ""
           }
          },
          "scene": {
           "xaxis": {
            "backgroundcolor": "#E5ECF6",
            "gridcolor": "white",
            "gridwidth": 2,
            "linecolor": "white",
            "showbackground": true,
            "ticks": "",
            "zerolinecolor": "white"
           },
           "yaxis": {
            "backgroundcolor": "#E5ECF6",
            "gridcolor": "white",
            "gridwidth": 2,
            "linecolor": "white",
            "showbackground": true,
            "ticks": "",
            "zerolinecolor": "white"
           },
           "zaxis": {
            "backgroundcolor": "#E5ECF6",
            "gridcolor": "white",
            "gridwidth": 2,
            "linecolor": "white",
            "showbackground": true,
            "ticks": "",
            "zerolinecolor": "white"
           }
          },
          "shapedefaults": {
           "line": {
            "color": "#2a3f5f"
           }
          },
          "ternary": {
           "aaxis": {
            "gridcolor": "white",
            "linecolor": "white",
            "ticks": ""
           },
           "baxis": {
            "gridcolor": "white",
            "linecolor": "white",
            "ticks": ""
           },
           "bgcolor": "#E5ECF6",
           "caxis": {
            "gridcolor": "white",
            "linecolor": "white",
            "ticks": ""
           }
          },
          "title": {
           "x": 0.05
          },
          "xaxis": {
           "automargin": true,
           "gridcolor": "white",
           "linecolor": "white",
           "ticks": "",
           "title": {
            "standoff": 15
           },
           "zerolinecolor": "white",
           "zerolinewidth": 2
          },
          "yaxis": {
           "automargin": true,
           "gridcolor": "white",
           "linecolor": "white",
           "ticks": "",
           "title": {
            "standoff": 15
           },
           "zerolinecolor": "white",
           "zerolinewidth": 2
          }
         }
        },
        "title": {
         "text": "North America, Europe, Japan and Other Sales of Top 100 Video Games"
        },
        "xaxis": {
         "gridcolor": "white",
         "ticklen": 5,
         "title": {
          "text": "Rank"
         },
         "zeroline": false,
         "zerolinewidth": 1
        },
        "yaxis": {
         "gridcolor": "white",
         "ticklen": 5,
         "title": {
          "text": "Sales(In Millions)"
         },
         "zeroline": false,
         "zerolinewidth": 1
        }
       }
      },
      "text/html": [
       "<div>                            <div id=\"e1ab8514-df2a-4fbf-8fe1-5191a8f68428\" class=\"plotly-graph-div\" style=\"height:525px; width:100%;\"></div>            <script type=\"text/javascript\">                require([\"plotly\"], function(Plotly) {                    window.PLOTLYENV=window.PLOTLYENV || {};                                    if (document.getElementById(\"e1ab8514-df2a-4fbf-8fe1-5191a8f68428\")) {                    Plotly.newPlot(                        \"e1ab8514-df2a-4fbf-8fe1-5191a8f68428\",                        [{\"marker\":{\"color\":\"rgba(28, 149, 249, 0.8)\",\"size\":8},\"mode\":\"markers\",\"name\":\"North America\",\"text\":[\"Wii Sports\",\"Super Mario Bros.\",\"Mario Kart Wii\",\"Wii Sports Resort\",\"Pokemon Red/Pokemon Blue\",\"Tetris\",\"New Super Mario Bros.\",\"Wii Play\",\"New Super Mario Bros. Wii\",\"Duck Hunt\",\"Nintendogs\",\"Mario Kart DS\",\"Pokemon Gold/Pokemon Silver\",\"Wii Fit\",\"Wii Fit Plus\",\"Kinect Adventures!\",\"Grand Theft Auto V\",\"Grand Theft Auto: San Andreas\",\"Super Mario World\",\"Brain Age: Train Your Brain in Minutes a Day\",\"Pokemon Diamond/Pokemon Pearl\",\"Super Mario Land\",\"Super Mario Bros. 3\",\"Grand Theft Auto V\",\"Grand Theft Auto: Vice City\",\"Pokemon Ruby/Pokemon Sapphire\",\"Pokemon Black/Pokemon White\",\"Brain Age 2: More Training in Minutes a Day\",\"Gran Turismo 3: A-Spec\",\"Call of Duty: Modern Warfare 3\",\"Pok\\u00e9mon Yellow: Special Pikachu Edition\",\"Call of Duty: Black Ops\",\"Pokemon X/Pokemon Y\",\"Call of Duty: Black Ops 3\",\"Call of Duty: Black Ops II\",\"Call of Duty: Black Ops II\",\"Call of Duty: Modern Warfare 2\",\"Call of Duty: Modern Warfare 3\",\"Grand Theft Auto III\",\"Super Smash Bros. Brawl\",\"Call of Duty: Black Ops\",\"Animal Crossing: Wild World\",\"Mario Kart 7\",\"Halo 3\",\"Grand Theft Auto V\",\"Pokemon HeartGold/Pokemon SoulSilver\",\"Super Mario 64\",\"Gran Turismo 4\",\"Super Mario Galaxy\",\"Pokemon Omega Ruby/Pokemon Alpha Sapphire\",\"Super Mario Land 2: 6 Golden Coins\",\"Grand Theft Auto IV\",\"Gran Turismo\",\"Super Mario 3D Land\",\"Gran Turismo 5\",\"Call of Duty: Modern Warfare 2\",\"Grand Theft Auto IV\",\"Super Mario All-Stars\",\"Pokemon FireRed/Pokemon LeafGreen\",\"Super Mario 64\",\"Just Dance 3\",\"Call of Duty: Ghosts\",\"Halo: Reach\",\"Mario Kart 64\",\"New Super Mario Bros. 2\",\"Halo 4\",\"Final Fantasy VII\",\"Call of Duty: Ghosts\",\"Just Dance 2\",\"Gran Turismo 2\",\"Call of Duty 4: Modern Warfare\",\"Donkey Kong Country\",\"Minecraft\",\"Animal Crossing: New Leaf\",\"Mario Party DS\",\"The Elder Scrolls V: Skyrim\",\"Super Mario Kart\",\"FIFA 16\",\"Wii Party\",\"Halo 2\",\"Mario Party 8\",\"Pokemon Black 2/Pokemon White 2\",\"FIFA Soccer 13\",\"The Sims 3\",\"GoldenEye 007\",\"Mario & Sonic at the Olympic Games\",\"Final Fantasy X\",\"Final Fantasy VIII\",\"Pok\\u00e9mon Platinum Version\",\"Pac-Man\",\"Grand Theft Auto: Liberty City Stories\",\"Super Mario Galaxy 2\",\"Star Wars Battlefront (2015)\",\"Call of Duty: Advanced Warfare\",\"The Legend of Zelda: Ocarina of Time\",\"Crash Bandicoot 2: Cortex Strikes Back\",\"Super Mario Bros. 2\",\"Super Smash Bros. for Wii U and 3DS\",\"Call of Duty: World at War\",\"Battlefield 3\"],\"type\":\"scatter\",\"x\":[1,2,3,4,5,6,7,8,9,10,11,12,13,14,15,16,17,18,19,20,21,22,23,24,25,26,27,28,29,30,31,32,33,34,35,36,37,38,39,40,41,42,43,44,45,46,47,48,49,50,51,52,53,54,55,56,57,58,59,60,61,62,63,64,65,66,67,68,69,70,71,72,73,74,75,76,77,78,79,80,81,82,83,84,85,86,87,88,89,90,91,92,93,94,95,96,97,98,99,100],\"y\":[41.49,29.08,15.85,15.75,11.27,23.2,11.38,14.03,14.59,26.93,9.07,9.81,9.0,8.94,9.09,14.97,7.01,9.43,12.78,4.75,6.42,10.83,9.54,9.63,8.41,6.06,5.57,3.44,6.85,9.03,5.89,9.67,5.17,5.77,4.99,8.25,8.52,5.54,6.99,6.75,5.98,2.55,4.74,7.97,3.8,4.4,6.91,3.01,6.16,4.23,6.16,6.76,4.02,4.89,2.96,4.99,4.76,5.99,4.34,5.08,6.05,6.72,7.03,5.55,3.66,6.63,3.01,4.09,5.84,3.88,5.91,4.36,5.58,2.01,4.46,5.03,3.54,1.11,1.79,6.82,3.81,2.91,1.06,0.98,5.8,2.58,2.91,2.28,2.82,7.28,2.9,3.66,2.93,2.8,4.1,3.78,5.39,3.24,4.79,4.46]},{\"marker\":{\"color\":\"rgba(249, 94, 28, 0.8)\",\"size\":8},\"mode\":\"markers\",\"name\":\"Europe\",\"text\":[\"Wii Sports\",\"Super Mario Bros.\",\"Mario Kart Wii\",\"Wii Sports Resort\",\"Pokemon Red/Pokemon Blue\",\"Tetris\",\"New Super Mario Bros.\",\"Wii Play\",\"New Super Mario Bros. Wii\",\"Duck Hunt\",\"Nintendogs\",\"Mario Kart DS\",\"Pokemon Gold/Pokemon Silver\",\"Wii Fit\",\"Wii Fit Plus\",\"Kinect Adventures!\",\"Grand Theft Auto V\",\"Grand Theft Auto: San Andreas\",\"Super Mario World\",\"Brain Age: Train Your Brain in Minutes a Day\",\"Pokemon Diamond/Pokemon Pearl\",\"Super Mario Land\",\"Super Mario Bros. 3\",\"Grand Theft Auto V\",\"Grand Theft Auto: Vice City\",\"Pokemon Ruby/Pokemon Sapphire\",\"Pokemon Black/Pokemon White\",\"Brain Age 2: More Training in Minutes a Day\",\"Gran Turismo 3: A-Spec\",\"Call of Duty: Modern Warfare 3\",\"Pok\\u00e9mon Yellow: Special Pikachu Edition\",\"Call of Duty: Black Ops\",\"Pokemon X/Pokemon Y\",\"Call of Duty: Black Ops 3\",\"Call of Duty: Black Ops II\",\"Call of Duty: Black Ops II\",\"Call of Duty: Modern Warfare 2\",\"Call of Duty: Modern Warfare 3\",\"Grand Theft Auto III\",\"Super Smash Bros. Brawl\",\"Call of Duty: Black Ops\",\"Animal Crossing: Wild World\",\"Mario Kart 7\",\"Halo 3\",\"Grand Theft Auto V\",\"Pokemon HeartGold/Pokemon SoulSilver\",\"Super Mario 64\",\"Gran Turismo 4\",\"Super Mario Galaxy\",\"Pokemon Omega Ruby/Pokemon Alpha Sapphire\",\"Super Mario Land 2: 6 Golden Coins\",\"Grand Theft Auto IV\",\"Gran Turismo\",\"Super Mario 3D Land\",\"Gran Turismo 5\",\"Call of Duty: Modern Warfare 2\",\"Grand Theft Auto IV\",\"Super Mario All-Stars\",\"Pokemon FireRed/Pokemon LeafGreen\",\"Super Mario 64\",\"Just Dance 3\",\"Call of Duty: Ghosts\",\"Halo: Reach\",\"Mario Kart 64\",\"New Super Mario Bros. 2\",\"Halo 4\",\"Final Fantasy VII\",\"Call of Duty: Ghosts\",\"Just Dance 2\",\"Gran Turismo 2\",\"Call of Duty 4: Modern Warfare\",\"Donkey Kong Country\",\"Minecraft\",\"Animal Crossing: New Leaf\",\"Mario Party DS\",\"The Elder Scrolls V: Skyrim\",\"Super Mario Kart\",\"FIFA 16\",\"Wii Party\",\"Halo 2\",\"Mario Party 8\",\"Pokemon Black 2/Pokemon White 2\",\"FIFA Soccer 13\",\"The Sims 3\",\"GoldenEye 007\",\"Mario & Sonic at the Olympic Games\",\"Final Fantasy X\",\"Final Fantasy VIII\",\"Pok\\u00e9mon Platinum Version\",\"Pac-Man\",\"Grand Theft Auto: Liberty City Stories\",\"Super Mario Galaxy 2\",\"Star Wars Battlefront (2015)\",\"Call of Duty: Advanced Warfare\",\"The Legend of Zelda: Ocarina of Time\",\"Crash Bandicoot 2: Cortex Strikes Back\",\"Super Mario Bros. 2\",\"Super Smash Bros. for Wii U and 3DS\",\"Call of Duty: World at War\",\"Battlefield 3\"],\"type\":\"scatter\",\"x\":[1,2,3,4,5,6,7,8,9,10,11,12,13,14,15,16,17,18,19,20,21,22,23,24,25,26,27,28,29,30,31,32,33,34,35,36,37,38,39,40,41,42,43,44,45,46,47,48,49,50,51,52,53,54,55,56,57,58,59,60,61,62,63,64,65,66,67,68,69,70,71,72,73,74,75,76,77,78,79,80,81,82,83,84,85,86,87,88,89,90,91,92,93,94,95,96,97,98,99,100],\"y\":[29.02,3.58,12.88,11.01,8.89,2.26,9.23,9.2,7.06,0.63,11.0,7.57,6.18,8.03,8.59,4.94,9.27,0.4,3.75,9.26,4.52,2.71,3.44,5.31,5.49,3.9,3.28,5.36,5.09,4.28,5.04,3.73,4.05,5.81,5.88,4.3,3.63,5.82,4.51,2.61,4.44,3.52,3.91,2.83,5.81,2.77,2.85,0.01,3.4,3.37,2.04,3.1,3.87,2.99,4.88,3.69,3.76,2.15,2.65,3.11,3.15,2.63,1.98,1.94,3.07,2.36,2.47,3.73,2.89,3.42,2.38,1.71,2.83,2.32,1.88,2.86,1.24,6.06,3.53,1.53,2.3,1.86,5.05,6.42,2.01,3.9,2.07,1.72,1.78,0.45,2.83,2.42,3.29,3.3,1.89,2.17,1.18,1.35,1.9,2.13]},{\"marker\":{\"color\":\"rgba(150, 26, 80, 0.8)\",\"size\":8},\"mode\":\"markers\",\"name\":\"Japan\",\"text\":[\"Wii Sports\",\"Super Mario Bros.\",\"Mario Kart Wii\",\"Wii Sports Resort\",\"Pokemon Red/Pokemon Blue\",\"Tetris\",\"New Super Mario Bros.\",\"Wii Play\",\"New Super Mario Bros. Wii\",\"Duck Hunt\",\"Nintendogs\",\"Mario Kart DS\",\"Pokemon Gold/Pokemon Silver\",\"Wii Fit\",\"Wii Fit Plus\",\"Kinect Adventures!\",\"Grand Theft Auto V\",\"Grand Theft Auto: San Andreas\",\"Super Mario World\",\"Brain Age: Train Your Brain in Minutes a Day\",\"Pokemon Diamond/Pokemon Pearl\",\"Super Mario Land\",\"Super Mario Bros. 3\",\"Grand Theft Auto V\",\"Grand Theft Auto: Vice City\",\"Pokemon Ruby/Pokemon Sapphire\",\"Pokemon Black/Pokemon White\",\"Brain Age 2: More Training in Minutes a Day\",\"Gran Turismo 3: A-Spec\",\"Call of Duty: Modern Warfare 3\",\"Pok\\u00e9mon Yellow: Special Pikachu Edition\",\"Call of Duty: Black Ops\",\"Pokemon X/Pokemon Y\",\"Call of Duty: Black Ops 3\",\"Call of Duty: Black Ops II\",\"Call of Duty: Black Ops II\",\"Call of Duty: Modern Warfare 2\",\"Call of Duty: Modern Warfare 3\",\"Grand Theft Auto III\",\"Super Smash Bros. Brawl\",\"Call of Duty: Black Ops\",\"Animal Crossing: Wild World\",\"Mario Kart 7\",\"Halo 3\",\"Grand Theft Auto V\",\"Pokemon HeartGold/Pokemon SoulSilver\",\"Super Mario 64\",\"Gran Turismo 4\",\"Super Mario Galaxy\",\"Pokemon Omega Ruby/Pokemon Alpha Sapphire\",\"Super Mario Land 2: 6 Golden Coins\",\"Grand Theft Auto IV\",\"Gran Turismo\",\"Super Mario 3D Land\",\"Gran Turismo 5\",\"Call of Duty: Modern Warfare 2\",\"Grand Theft Auto IV\",\"Super Mario All-Stars\",\"Pokemon FireRed/Pokemon LeafGreen\",\"Super Mario 64\",\"Just Dance 3\",\"Call of Duty: Ghosts\",\"Halo: Reach\",\"Mario Kart 64\",\"New Super Mario Bros. 2\",\"Halo 4\",\"Final Fantasy VII\",\"Call of Duty: Ghosts\",\"Just Dance 2\",\"Gran Turismo 2\",\"Call of Duty 4: Modern Warfare\",\"Donkey Kong Country\",\"Minecraft\",\"Animal Crossing: New Leaf\",\"Mario Party DS\",\"The Elder Scrolls V: Skyrim\",\"Super Mario Kart\",\"FIFA 16\",\"Wii Party\",\"Halo 2\",\"Mario Party 8\",\"Pokemon Black 2/Pokemon White 2\",\"FIFA Soccer 13\",\"The Sims 3\",\"GoldenEye 007\",\"Mario & Sonic at the Olympic Games\",\"Final Fantasy X\",\"Final Fantasy VIII\",\"Pok\\u00e9mon Platinum Version\",\"Pac-Man\",\"Grand Theft Auto: Liberty City Stories\",\"Super Mario Galaxy 2\",\"Star Wars Battlefront (2015)\",\"Call of Duty: Advanced Warfare\",\"The Legend of Zelda: Ocarina of Time\",\"Crash Bandicoot 2: Cortex Strikes Back\",\"Super Mario Bros. 2\",\"Super Smash Bros. for Wii U and 3DS\",\"Call of Duty: World at War\",\"Battlefield 3\"],\"type\":\"scatter\",\"x\":[1,2,3,4,5,6,7,8,9,10,11,12,13,14,15,16,17,18,19,20,21,22,23,24,25,26,27,28,29,30,31,32,33,34,35,36,37,38,39,40,41,42,43,44,45,46,47,48,49,50,51,52,53,54,55,56,57,58,59,60,61,62,63,64,65,66,67,68,69,70,71,72,73,74,75,76,77,78,79,80,81,82,83,84,85,86,87,88,89,90,91,92,93,94,95,96,97,98,99,100],\"y\":[3.77,6.81,3.79,3.28,10.22,4.22,6.5,2.93,4.7,0.28,1.93,4.13,7.2,3.6,2.53,0.24,0.97,0.41,3.54,4.16,6.04,4.18,3.84,0.06,0.47,5.38,5.65,5.32,1.87,0.13,3.12,0.11,4.34,0.35,0.65,0.07,0.08,0.49,0.3,2.66,0.48,5.33,2.67,0.13,0.36,3.96,1.91,1.1,1.2,3.08,2.69,0.14,2.54,2.13,0.81,0.38,0.44,2.12,3.15,1.25,0.0,0.04,0.08,2.23,2.47,0.04,3.28,0.38,0.01,1.69,0.13,3.0,0.02,4.36,1.98,0.1,3.81,0.06,2.49,0.05,1.58,3.14,0.13,0.0,0.13,0.66,2.73,3.63,2.69,0.0,0.24,0.98,0.22,0.14,1.45,1.31,0.7,2.42,0.0,0.06]},{\"marker\":{\"color\":\"lime\",\"size\":8},\"mode\":\"markers\",\"name\":\"Other\",\"text\":[\"Wii Sports\",\"Super Mario Bros.\",\"Mario Kart Wii\",\"Wii Sports Resort\",\"Pokemon Red/Pokemon Blue\",\"Tetris\",\"New Super Mario Bros.\",\"Wii Play\",\"New Super Mario Bros. Wii\",\"Duck Hunt\",\"Nintendogs\",\"Mario Kart DS\",\"Pokemon Gold/Pokemon Silver\",\"Wii Fit\",\"Wii Fit Plus\",\"Kinect Adventures!\",\"Grand Theft Auto V\",\"Grand Theft Auto: San Andreas\",\"Super Mario World\",\"Brain Age: Train Your Brain in Minutes a Day\",\"Pokemon Diamond/Pokemon Pearl\",\"Super Mario Land\",\"Super Mario Bros. 3\",\"Grand Theft Auto V\",\"Grand Theft Auto: Vice City\",\"Pokemon Ruby/Pokemon Sapphire\",\"Pokemon Black/Pokemon White\",\"Brain Age 2: More Training in Minutes a Day\",\"Gran Turismo 3: A-Spec\",\"Call of Duty: Modern Warfare 3\",\"Pok\\u00e9mon Yellow: Special Pikachu Edition\",\"Call of Duty: Black Ops\",\"Pokemon X/Pokemon Y\",\"Call of Duty: Black Ops 3\",\"Call of Duty: Black Ops II\",\"Call of Duty: Black Ops II\",\"Call of Duty: Modern Warfare 2\",\"Call of Duty: Modern Warfare 3\",\"Grand Theft Auto III\",\"Super Smash Bros. Brawl\",\"Call of Duty: Black Ops\",\"Animal Crossing: Wild World\",\"Mario Kart 7\",\"Halo 3\",\"Grand Theft Auto V\",\"Pokemon HeartGold/Pokemon SoulSilver\",\"Super Mario 64\",\"Gran Turismo 4\",\"Super Mario Galaxy\",\"Pokemon Omega Ruby/Pokemon Alpha Sapphire\",\"Super Mario Land 2: 6 Golden Coins\",\"Grand Theft Auto IV\",\"Gran Turismo\",\"Super Mario 3D Land\",\"Gran Turismo 5\",\"Call of Duty: Modern Warfare 2\",\"Grand Theft Auto IV\",\"Super Mario All-Stars\",\"Pokemon FireRed/Pokemon LeafGreen\",\"Super Mario 64\",\"Just Dance 3\",\"Call of Duty: Ghosts\",\"Halo: Reach\",\"Mario Kart 64\",\"New Super Mario Bros. 2\",\"Halo 4\",\"Final Fantasy VII\",\"Call of Duty: Ghosts\",\"Just Dance 2\",\"Gran Turismo 2\",\"Call of Duty 4: Modern Warfare\",\"Donkey Kong Country\",\"Minecraft\",\"Animal Crossing: New Leaf\",\"Mario Party DS\",\"The Elder Scrolls V: Skyrim\",\"Super Mario Kart\",\"FIFA 16\",\"Wii Party\",\"Halo 2\",\"Mario Party 8\",\"Pokemon Black 2/Pokemon White 2\",\"FIFA Soccer 13\",\"The Sims 3\",\"GoldenEye 007\",\"Mario & Sonic at the Olympic Games\",\"Final Fantasy X\",\"Final Fantasy VIII\",\"Pok\\u00e9mon Platinum Version\",\"Pac-Man\",\"Grand Theft Auto: Liberty City Stories\",\"Super Mario Galaxy 2\",\"Star Wars Battlefront (2015)\",\"Call of Duty: Advanced Warfare\",\"The Legend of Zelda: Ocarina of Time\",\"Crash Bandicoot 2: Cortex Strikes Back\",\"Super Mario Bros. 2\",\"Super Smash Bros. for Wii U and 3DS\",\"Call of Duty: World at War\",\"Battlefield 3\"],\"type\":\"scatter\",\"x\":[1,2,3,4,5,6,7,8,9,10,11,12,13,14,15,16,17,18,19,20,21,22,23,24,25,26,27,28,29,30,31,32,33,34,35,36,37,38,39,40,41,42,43,44,45,46,47,48,49,50,51,52,53,54,55,56,57,58,59,60,61,62,63,64,65,66,67,68,69,70,71,72,73,74,75,76,77,78,79,80,81,82,83,84,85,86,87,88,89,90,91,92,93,94,95,96,97,98,99,100],\"y\":[8.46,0.77,3.31,2.96,1.0,0.58,2.9,2.85,2.26,0.47,2.75,1.92,0.71,2.15,1.79,1.67,4.14,10.57,0.55,2.05,1.37,0.42,0.46,1.38,1.78,0.5,0.82,1.18,1.16,1.32,0.59,1.13,0.79,2.31,2.52,1.12,1.29,1.62,1.3,1.02,1.83,0.88,0.89,1.21,2.02,0.77,0.23,7.53,0.76,0.65,0.29,1.03,0.52,0.78,2.12,1.63,1.62,0.29,0.35,0.98,1.07,0.82,0.78,0.15,0.63,0.73,0.96,1.38,0.78,0.5,0.9,0.23,0.77,0.41,0.7,0.85,0.18,1.26,0.68,0.08,0.73,0.43,2.01,0.71,0.15,0.91,0.33,0.23,0.55,0.08,1.75,0.64,1.23,1.37,0.16,0.31,0.19,0.43,0.69,0.69]}],                        {\"paper_bgcolor\":\"rgb(243, 243, 243)\",\"plot_bgcolor\":\"rgb(243, 243, 243)\",\"template\":{\"data\":{\"bar\":[{\"error_x\":{\"color\":\"#2a3f5f\"},\"error_y\":{\"color\":\"#2a3f5f\"},\"marker\":{\"line\":{\"color\":\"#E5ECF6\",\"width\":0.5},\"pattern\":{\"fillmode\":\"overlay\",\"size\":10,\"solidity\":0.2}},\"type\":\"bar\"}],\"barpolar\":[{\"marker\":{\"line\":{\"color\":\"#E5ECF6\",\"width\":0.5},\"pattern\":{\"fillmode\":\"overlay\",\"size\":10,\"solidity\":0.2}},\"type\":\"barpolar\"}],\"carpet\":[{\"aaxis\":{\"endlinecolor\":\"#2a3f5f\",\"gridcolor\":\"white\",\"linecolor\":\"white\",\"minorgridcolor\":\"white\",\"startlinecolor\":\"#2a3f5f\"},\"baxis\":{\"endlinecolor\":\"#2a3f5f\",\"gridcolor\":\"white\",\"linecolor\":\"white\",\"minorgridcolor\":\"white\",\"startlinecolor\":\"#2a3f5f\"},\"type\":\"carpet\"}],\"choropleth\":[{\"colorbar\":{\"outlinewidth\":0,\"ticks\":\"\"},\"type\":\"choropleth\"}],\"contour\":[{\"colorbar\":{\"outlinewidth\":0,\"ticks\":\"\"},\"colorscale\":[[0.0,\"#0d0887\"],[0.1111111111111111,\"#46039f\"],[0.2222222222222222,\"#7201a8\"],[0.3333333333333333,\"#9c179e\"],[0.4444444444444444,\"#bd3786\"],[0.5555555555555556,\"#d8576b\"],[0.6666666666666666,\"#ed7953\"],[0.7777777777777778,\"#fb9f3a\"],[0.8888888888888888,\"#fdca26\"],[1.0,\"#f0f921\"]],\"type\":\"contour\"}],\"contourcarpet\":[{\"colorbar\":{\"outlinewidth\":0,\"ticks\":\"\"},\"type\":\"contourcarpet\"}],\"heatmap\":[{\"colorbar\":{\"outlinewidth\":0,\"ticks\":\"\"},\"colorscale\":[[0.0,\"#0d0887\"],[0.1111111111111111,\"#46039f\"],[0.2222222222222222,\"#7201a8\"],[0.3333333333333333,\"#9c179e\"],[0.4444444444444444,\"#bd3786\"],[0.5555555555555556,\"#d8576b\"],[0.6666666666666666,\"#ed7953\"],[0.7777777777777778,\"#fb9f3a\"],[0.8888888888888888,\"#fdca26\"],[1.0,\"#f0f921\"]],\"type\":\"heatmap\"}],\"heatmapgl\":[{\"colorbar\":{\"outlinewidth\":0,\"ticks\":\"\"},\"colorscale\":[[0.0,\"#0d0887\"],[0.1111111111111111,\"#46039f\"],[0.2222222222222222,\"#7201a8\"],[0.3333333333333333,\"#9c179e\"],[0.4444444444444444,\"#bd3786\"],[0.5555555555555556,\"#d8576b\"],[0.6666666666666666,\"#ed7953\"],[0.7777777777777778,\"#fb9f3a\"],[0.8888888888888888,\"#fdca26\"],[1.0,\"#f0f921\"]],\"type\":\"heatmapgl\"}],\"histogram\":[{\"marker\":{\"pattern\":{\"fillmode\":\"overlay\",\"size\":10,\"solidity\":0.2}},\"type\":\"histogram\"}],\"histogram2d\":[{\"colorbar\":{\"outlinewidth\":0,\"ticks\":\"\"},\"colorscale\":[[0.0,\"#0d0887\"],[0.1111111111111111,\"#46039f\"],[0.2222222222222222,\"#7201a8\"],[0.3333333333333333,\"#9c179e\"],[0.4444444444444444,\"#bd3786\"],[0.5555555555555556,\"#d8576b\"],[0.6666666666666666,\"#ed7953\"],[0.7777777777777778,\"#fb9f3a\"],[0.8888888888888888,\"#fdca26\"],[1.0,\"#f0f921\"]],\"type\":\"histogram2d\"}],\"histogram2dcontour\":[{\"colorbar\":{\"outlinewidth\":0,\"ticks\":\"\"},\"colorscale\":[[0.0,\"#0d0887\"],[0.1111111111111111,\"#46039f\"],[0.2222222222222222,\"#7201a8\"],[0.3333333333333333,\"#9c179e\"],[0.4444444444444444,\"#bd3786\"],[0.5555555555555556,\"#d8576b\"],[0.6666666666666666,\"#ed7953\"],[0.7777777777777778,\"#fb9f3a\"],[0.8888888888888888,\"#fdca26\"],[1.0,\"#f0f921\"]],\"type\":\"histogram2dcontour\"}],\"mesh3d\":[{\"colorbar\":{\"outlinewidth\":0,\"ticks\":\"\"},\"type\":\"mesh3d\"}],\"parcoords\":[{\"line\":{\"colorbar\":{\"outlinewidth\":0,\"ticks\":\"\"}},\"type\":\"parcoords\"}],\"pie\":[{\"automargin\":true,\"type\":\"pie\"}],\"scatter\":[{\"marker\":{\"colorbar\":{\"outlinewidth\":0,\"ticks\":\"\"}},\"type\":\"scatter\"}],\"scatter3d\":[{\"line\":{\"colorbar\":{\"outlinewidth\":0,\"ticks\":\"\"}},\"marker\":{\"colorbar\":{\"outlinewidth\":0,\"ticks\":\"\"}},\"type\":\"scatter3d\"}],\"scattercarpet\":[{\"marker\":{\"colorbar\":{\"outlinewidth\":0,\"ticks\":\"\"}},\"type\":\"scattercarpet\"}],\"scattergeo\":[{\"marker\":{\"colorbar\":{\"outlinewidth\":0,\"ticks\":\"\"}},\"type\":\"scattergeo\"}],\"scattergl\":[{\"marker\":{\"colorbar\":{\"outlinewidth\":0,\"ticks\":\"\"}},\"type\":\"scattergl\"}],\"scattermapbox\":[{\"marker\":{\"colorbar\":{\"outlinewidth\":0,\"ticks\":\"\"}},\"type\":\"scattermapbox\"}],\"scatterpolar\":[{\"marker\":{\"colorbar\":{\"outlinewidth\":0,\"ticks\":\"\"}},\"type\":\"scatterpolar\"}],\"scatterpolargl\":[{\"marker\":{\"colorbar\":{\"outlinewidth\":0,\"ticks\":\"\"}},\"type\":\"scatterpolargl\"}],\"scatterternary\":[{\"marker\":{\"colorbar\":{\"outlinewidth\":0,\"ticks\":\"\"}},\"type\":\"scatterternary\"}],\"surface\":[{\"colorbar\":{\"outlinewidth\":0,\"ticks\":\"\"},\"colorscale\":[[0.0,\"#0d0887\"],[0.1111111111111111,\"#46039f\"],[0.2222222222222222,\"#7201a8\"],[0.3333333333333333,\"#9c179e\"],[0.4444444444444444,\"#bd3786\"],[0.5555555555555556,\"#d8576b\"],[0.6666666666666666,\"#ed7953\"],[0.7777777777777778,\"#fb9f3a\"],[0.8888888888888888,\"#fdca26\"],[1.0,\"#f0f921\"]],\"type\":\"surface\"}],\"table\":[{\"cells\":{\"fill\":{\"color\":\"#EBF0F8\"},\"line\":{\"color\":\"white\"}},\"header\":{\"fill\":{\"color\":\"#C8D4E3\"},\"line\":{\"color\":\"white\"}},\"type\":\"table\"}]},\"layout\":{\"annotationdefaults\":{\"arrowcolor\":\"#2a3f5f\",\"arrowhead\":0,\"arrowwidth\":1},\"autotypenumbers\":\"strict\",\"coloraxis\":{\"colorbar\":{\"outlinewidth\":0,\"ticks\":\"\"}},\"colorscale\":{\"diverging\":[[0,\"#8e0152\"],[0.1,\"#c51b7d\"],[0.2,\"#de77ae\"],[0.3,\"#f1b6da\"],[0.4,\"#fde0ef\"],[0.5,\"#f7f7f7\"],[0.6,\"#e6f5d0\"],[0.7,\"#b8e186\"],[0.8,\"#7fbc41\"],[0.9,\"#4d9221\"],[1,\"#276419\"]],\"sequential\":[[0.0,\"#0d0887\"],[0.1111111111111111,\"#46039f\"],[0.2222222222222222,\"#7201a8\"],[0.3333333333333333,\"#9c179e\"],[0.4444444444444444,\"#bd3786\"],[0.5555555555555556,\"#d8576b\"],[0.6666666666666666,\"#ed7953\"],[0.7777777777777778,\"#fb9f3a\"],[0.8888888888888888,\"#fdca26\"],[1.0,\"#f0f921\"]],\"sequentialminus\":[[0.0,\"#0d0887\"],[0.1111111111111111,\"#46039f\"],[0.2222222222222222,\"#7201a8\"],[0.3333333333333333,\"#9c179e\"],[0.4444444444444444,\"#bd3786\"],[0.5555555555555556,\"#d8576b\"],[0.6666666666666666,\"#ed7953\"],[0.7777777777777778,\"#fb9f3a\"],[0.8888888888888888,\"#fdca26\"],[1.0,\"#f0f921\"]]},\"colorway\":[\"#636efa\",\"#EF553B\",\"#00cc96\",\"#ab63fa\",\"#FFA15A\",\"#19d3f3\",\"#FF6692\",\"#B6E880\",\"#FF97FF\",\"#FECB52\"],\"font\":{\"color\":\"#2a3f5f\"},\"geo\":{\"bgcolor\":\"white\",\"lakecolor\":\"white\",\"landcolor\":\"#E5ECF6\",\"showlakes\":true,\"showland\":true,\"subunitcolor\":\"white\"},\"hoverlabel\":{\"align\":\"left\"},\"hovermode\":\"closest\",\"mapbox\":{\"style\":\"light\"},\"paper_bgcolor\":\"white\",\"plot_bgcolor\":\"#E5ECF6\",\"polar\":{\"angularaxis\":{\"gridcolor\":\"white\",\"linecolor\":\"white\",\"ticks\":\"\"},\"bgcolor\":\"#E5ECF6\",\"radialaxis\":{\"gridcolor\":\"white\",\"linecolor\":\"white\",\"ticks\":\"\"}},\"scene\":{\"xaxis\":{\"backgroundcolor\":\"#E5ECF6\",\"gridcolor\":\"white\",\"gridwidth\":2,\"linecolor\":\"white\",\"showbackground\":true,\"ticks\":\"\",\"zerolinecolor\":\"white\"},\"yaxis\":{\"backgroundcolor\":\"#E5ECF6\",\"gridcolor\":\"white\",\"gridwidth\":2,\"linecolor\":\"white\",\"showbackground\":true,\"ticks\":\"\",\"zerolinecolor\":\"white\"},\"zaxis\":{\"backgroundcolor\":\"#E5ECF6\",\"gridcolor\":\"white\",\"gridwidth\":2,\"linecolor\":\"white\",\"showbackground\":true,\"ticks\":\"\",\"zerolinecolor\":\"white\"}},\"shapedefaults\":{\"line\":{\"color\":\"#2a3f5f\"}},\"ternary\":{\"aaxis\":{\"gridcolor\":\"white\",\"linecolor\":\"white\",\"ticks\":\"\"},\"baxis\":{\"gridcolor\":\"white\",\"linecolor\":\"white\",\"ticks\":\"\"},\"bgcolor\":\"#E5ECF6\",\"caxis\":{\"gridcolor\":\"white\",\"linecolor\":\"white\",\"ticks\":\"\"}},\"title\":{\"x\":0.05},\"xaxis\":{\"automargin\":true,\"gridcolor\":\"white\",\"linecolor\":\"white\",\"ticks\":\"\",\"title\":{\"standoff\":15},\"zerolinecolor\":\"white\",\"zerolinewidth\":2},\"yaxis\":{\"automargin\":true,\"gridcolor\":\"white\",\"linecolor\":\"white\",\"ticks\":\"\",\"title\":{\"standoff\":15},\"zerolinecolor\":\"white\",\"zerolinewidth\":2}}},\"title\":{\"text\":\"North America, Europe, Japan and Other Sales of Top 100 Video Games\"},\"xaxis\":{\"gridcolor\":\"white\",\"ticklen\":5,\"title\":{\"text\":\"Rank\"},\"zeroline\":false,\"zerolinewidth\":1},\"yaxis\":{\"gridcolor\":\"white\",\"ticklen\":5,\"title\":{\"text\":\"Sales(In Millions)\"},\"zeroline\":false,\"zerolinewidth\":1}},                        {\"responsive\": true}                    ).then(function(){\n",
       "                            \n",
       "var gd = document.getElementById('e1ab8514-df2a-4fbf-8fe1-5191a8f68428');\n",
       "var x = new MutationObserver(function (mutations, observer) {{\n",
       "        var display = window.getComputedStyle(gd).display;\n",
       "        if (!display || display === 'none') {{\n",
       "            console.log([gd, 'removed!']);\n",
       "            Plotly.purge(gd);\n",
       "            observer.disconnect();\n",
       "        }}\n",
       "}});\n",
       "\n",
       "// Listen for the removal of the full notebook cells\n",
       "var notebookContainer = gd.closest('#notebook-container');\n",
       "if (notebookContainer) {{\n",
       "    x.observe(notebookContainer, {childList: true});\n",
       "}}\n",
       "\n",
       "// Listen for the clearing of the current output cell\n",
       "var outputEl = gd.closest('.output');\n",
       "if (outputEl) {{\n",
       "    x.observe(outputEl, {childList: true});\n",
       "}}\n",
       "\n",
       "                        })                };                });            </script>        </div>"
      ]
     },
     "metadata": {},
     "output_type": "display_data"
    }
   ],
   "source": [
    "trace1 = go.Scatter(\n",
    "                    x = df.Rank,\n",
    "                    y = df.NA_Sales,\n",
    "                    mode = \"markers\",\n",
    "                    name = \"North America\",\n",
    "                    marker = dict(color = 'rgba(28, 149, 249, 0.8)',size=8),\n",
    "                    text= df.Name)\n",
    "\n",
    "trace2 = go.Scatter(\n",
    "                    x = df.Rank,\n",
    "                    y = df.EU_Sales,\n",
    "                    mode = \"markers\",\n",
    "                    name = \"Europe\",\n",
    "                    marker = dict(color = 'rgba(249, 94, 28, 0.8)',size=8),\n",
    "                    text= df.Name)\n",
    "trace3 = go.Scatter(\n",
    "                    x = df.Rank,\n",
    "                    y = df.JP_Sales,\n",
    "                    mode = \"markers\",\n",
    "                    name = \"Japan\",\n",
    "                    marker = dict(color = 'rgba(150, 26, 80, 0.8)',size=8),\n",
    "                    text= df.Name)\n",
    "trace4 = go.Scatter(\n",
    "                    x = df.Rank,\n",
    "                    y = df.Other_Sales,\n",
    "                    mode = \"markers\",\n",
    "                    name = \"Other\",\n",
    "                    marker = dict(color = 'lime',size=8),\n",
    "                    text= df.Name)\n",
    "                    \n",
    "\n",
    "data = [trace1, trace2,trace3,trace4]\n",
    "layout = dict(title = 'North America, Europe, Japan and Other Sales of Top 100 Video Games',\n",
    "              xaxis= dict(title= 'Rank',ticklen= 5,zeroline= False,zerolinewidth=1,gridcolor=\"white\"),\n",
    "              yaxis= dict(title= 'Sales(In Millions)',ticklen= 5,zeroline= False,zerolinewidth=1,gridcolor=\"white\",),\n",
    "              paper_bgcolor='rgb(243, 243, 243)',\n",
    "              plot_bgcolor='rgb(243, 243, 243)' )\n",
    "fig = dict(data = data, layout = layout)\n",
    "iplot(fig)"
   ]
  },
  {
   "cell_type": "code",
   "execution_count": 34,
   "metadata": {},
   "outputs": [
    {
     "data": {
      "application/vnd.plotly.v1+json": {
       "config": {
        "linkText": "Export to plot.ly",
        "plotlyServerURL": "https://plot.ly",
        "showLink": false
       },
       "data": [
        {
         "marker": {
          "color": [
           82.74,
           40.24,
           35.82,
           33,
           31.37,
           30.26,
           30.01,
           29.02,
           28.62,
           28.31,
           24.76,
           23.42,
           23.1,
           22.72,
           22,
           21.82,
           21.4,
           20.81,
           20.61,
           20.22,
           18.36,
           18.14,
           17.28,
           16.38,
           16.15,
           15.85,
           15.32,
           15.3,
           14.98,
           14.76,
           14.64,
           14.64,
           14.35,
           14.24,
           14.03,
           13.73,
           13.51,
           13.46,
           13.1,
           13.04,
           12.73,
           12.27,
           12.21,
           12.14,
           11.98,
           11.9,
           11.89,
           11.66,
           11.52,
           11.33,
           11.18,
           11.02,
           10.95,
           10.79,
           10.77,
           10.69,
           10.57,
           10.55,
           10.49,
           10.42,
           10.26,
           10.21,
           9.88,
           9.87,
           9.82,
           9.76,
           9.72,
           9.59,
           9.52,
           9.49,
           9.32,
           9.3,
           9.2,
           9.09,
           9.02,
           8.84,
           8.76,
           8.49,
           8.49,
           8.49,
           8.42,
           8.33,
           8.24,
           8.11,
           8.09,
           8.06,
           8.05,
           7.86,
           7.84,
           7.81,
           7.72,
           7.69,
           7.67,
           7.6,
           7.6,
           7.58,
           7.46,
           7.45,
           7.37,
           7.34
          ],
          "colorscale": [
           [
            0,
            "rgb(0,0,0)"
           ],
           [
            0.25,
            "rgb(230,0,0)"
           ],
           [
            0.5,
            "rgb(230,210,0)"
           ],
           [
            0.75,
            "rgb(255,255,255)"
           ],
           [
            1,
            "rgb(160,200,255)"
           ]
          ],
          "showscale": true,
          "size": [
           82.74,
           40.24,
           35.82,
           33,
           31.37,
           30.26,
           30.01,
           29.02,
           28.62,
           28.31,
           24.76,
           23.42,
           23.1,
           22.72,
           22,
           21.82,
           21.4,
           20.81,
           20.61,
           20.22,
           18.36,
           18.14,
           17.28,
           16.38,
           16.15,
           15.85,
           15.32,
           15.3,
           14.98,
           14.76,
           14.64,
           14.64,
           14.35,
           14.24,
           14.03,
           13.73,
           13.51,
           13.46,
           13.1,
           13.04,
           12.73,
           12.27,
           12.21,
           12.14,
           11.98,
           11.9,
           11.89,
           11.66,
           11.52,
           11.33,
           11.18,
           11.02,
           10.95,
           10.79,
           10.77,
           10.69,
           10.57,
           10.55,
           10.49,
           10.42,
           10.26,
           10.21,
           9.88,
           9.87,
           9.82,
           9.76,
           9.72,
           9.59,
           9.52,
           9.49,
           9.32,
           9.3,
           9.2,
           9.09,
           9.02,
           8.84,
           8.76,
           8.49,
           8.49,
           8.49,
           8.42,
           8.33,
           8.24,
           8.11,
           8.09,
           8.06,
           8.05,
           7.86,
           7.84,
           7.81,
           7.72,
           7.69,
           7.67,
           7.6,
           7.6,
           7.58,
           7.46,
           7.45,
           7.37,
           7.34
          ]
         },
         "mode": "markers",
         "text": [
          "Name:Wii Sports, Publisher:Nintendo",
          "Name:Super Mario Bros., Publisher:Nintendo",
          "Name:Mario Kart Wii, Publisher:Nintendo",
          "Name:Wii Sports Resort, Publisher:Nintendo",
          "Name:Pokemon Red/Pokemon Blue, Publisher:Nintendo",
          "Name:Tetris, Publisher:Nintendo",
          "Name:New Super Mario Bros., Publisher:Nintendo",
          "Name:Wii Play, Publisher:Nintendo",
          "Name:New Super Mario Bros. Wii, Publisher:Nintendo",
          "Name:Duck Hunt, Publisher:Nintendo",
          "Name:Nintendogs, Publisher:Nintendo",
          "Name:Mario Kart DS, Publisher:Nintendo",
          "Name:Pokemon Gold/Pokemon Silver, Publisher:Nintendo",
          "Name:Wii Fit, Publisher:Nintendo",
          "Name:Wii Fit Plus, Publisher:Nintendo",
          "Name:Kinect Adventures!, Publisher:Microsoft Game Studios",
          "Name:Grand Theft Auto V, Publisher:Take-Two Interactive",
          "Name:Grand Theft Auto: San Andreas, Publisher:Take-Two Interactive",
          "Name:Super Mario World, Publisher:Nintendo",
          "Name:Brain Age: Train Your Brain in Minutes a Day, Publisher:Nintendo",
          "Name:Pokemon Diamond/Pokemon Pearl, Publisher:Nintendo",
          "Name:Super Mario Land, Publisher:Nintendo",
          "Name:Super Mario Bros. 3, Publisher:Nintendo",
          "Name:Grand Theft Auto V, Publisher:Take-Two Interactive",
          "Name:Grand Theft Auto: Vice City, Publisher:Take-Two Interactive",
          "Name:Pokemon Ruby/Pokemon Sapphire, Publisher:Nintendo",
          "Name:Pokemon Black/Pokemon White, Publisher:Nintendo",
          "Name:Brain Age 2: More Training in Minutes a Day, Publisher:Nintendo",
          "Name:Gran Turismo 3: A-Spec, Publisher:Sony Computer Entertainment",
          "Name:Call of Duty: Modern Warfare 3, Publisher:Activision",
          "Name:Pokémon Yellow: Special Pikachu Edition, Publisher:Nintendo",
          "Name:Call of Duty: Black Ops, Publisher:Activision",
          "Name:Pokemon X/Pokemon Y, Publisher:Nintendo",
          "Name:Call of Duty: Black Ops 3, Publisher:Activision",
          "Name:Call of Duty: Black Ops II, Publisher:Activision",
          "Name:Call of Duty: Black Ops II, Publisher:Activision",
          "Name:Call of Duty: Modern Warfare 2, Publisher:Activision",
          "Name:Call of Duty: Modern Warfare 3, Publisher:Activision",
          "Name:Grand Theft Auto III, Publisher:Take-Two Interactive",
          "Name:Super Smash Bros. Brawl, Publisher:Nintendo",
          "Name:Call of Duty: Black Ops, Publisher:Activision",
          "Name:Animal Crossing: Wild World, Publisher:Nintendo",
          "Name:Mario Kart 7, Publisher:Nintendo",
          "Name:Halo 3, Publisher:Microsoft Game Studios",
          "Name:Grand Theft Auto V, Publisher:Take-Two Interactive",
          "Name:Pokemon HeartGold/Pokemon SoulSilver, Publisher:Nintendo",
          "Name:Super Mario 64, Publisher:Nintendo",
          "Name:Gran Turismo 4, Publisher:Sony Computer Entertainment",
          "Name:Super Mario Galaxy, Publisher:Nintendo",
          "Name:Pokemon Omega Ruby/Pokemon Alpha Sapphire, Publisher:Nintendo",
          "Name:Super Mario Land 2: 6 Golden Coins, Publisher:Nintendo",
          "Name:Grand Theft Auto IV, Publisher:Take-Two Interactive",
          "Name:Gran Turismo, Publisher:Sony Computer Entertainment",
          "Name:Super Mario 3D Land, Publisher:Nintendo",
          "Name:Gran Turismo 5, Publisher:Sony Computer Entertainment",
          "Name:Call of Duty: Modern Warfare 2, Publisher:Activision",
          "Name:Grand Theft Auto IV, Publisher:Take-Two Interactive",
          "Name:Super Mario All-Stars, Publisher:Nintendo",
          "Name:Pokemon FireRed/Pokemon LeafGreen, Publisher:Nintendo",
          "Name:Super Mario 64, Publisher:Nintendo",
          "Name:Just Dance 3, Publisher:Ubisoft",
          "Name:Call of Duty: Ghosts, Publisher:Activision",
          "Name:Halo: Reach, Publisher:Microsoft Game Studios",
          "Name:Mario Kart 64, Publisher:Nintendo",
          "Name:New Super Mario Bros. 2, Publisher:Nintendo",
          "Name:Halo 4, Publisher:Microsoft Game Studios",
          "Name:Final Fantasy VII, Publisher:Sony Computer Entertainment",
          "Name:Call of Duty: Ghosts, Publisher:Activision",
          "Name:Just Dance 2, Publisher:Ubisoft",
          "Name:Gran Turismo 2, Publisher:Sony Computer Entertainment",
          "Name:Call of Duty 4: Modern Warfare, Publisher:Activision",
          "Name:Donkey Kong Country, Publisher:Nintendo",
          "Name:Minecraft, Publisher:Microsoft Game Studios",
          "Name:Animal Crossing: New Leaf, Publisher:Nintendo",
          "Name:Mario Party DS, Publisher:Nintendo",
          "Name:The Elder Scrolls V: Skyrim, Publisher:Bethesda Softworks",
          "Name:Super Mario Kart, Publisher:Nintendo",
          "Name:FIFA 16, Publisher:Electronic Arts",
          "Name:Wii Party, Publisher:Nintendo",
          "Name:Halo 2, Publisher:Microsoft Game Studios",
          "Name:Mario Party 8, Publisher:Nintendo",
          "Name:Pokemon Black 2/Pokemon White 2, Publisher:Nintendo",
          "Name:FIFA Soccer 13, Publisher:Electronic Arts",
          "Name:The Sims 3, Publisher:Electronic Arts",
          "Name:GoldenEye 007, Publisher:Nintendo",
          "Name:Mario & Sonic at the Olympic Games, Publisher:Sega",
          "Name:Final Fantasy X, Publisher:Sony Computer Entertainment",
          "Name:Final Fantasy VIII, Publisher:SquareSoft",
          "Name:Pokémon Platinum Version, Publisher:Nintendo",
          "Name:Pac-Man, Publisher:Atari",
          "Name:Grand Theft Auto: Liberty City Stories, Publisher:Take-Two Interactive",
          "Name:Super Mario Galaxy 2, Publisher:Nintendo",
          "Name:Star Wars Battlefront (2015), Publisher:Electronic Arts",
          "Name:Call of Duty: Advanced Warfare, Publisher:Activision",
          "Name:The Legend of Zelda: Ocarina of Time, Publisher:Nintendo",
          "Name:Crash Bandicoot 2: Cortex Strikes Back, Publisher:Sony Computer Entertainment",
          "Name:Super Mario Bros. 2, Publisher:Nintendo",
          "Name:Super Smash Bros. for Wii U and 3DS, Publisher:Nintendo",
          "Name:Call of Duty: World at War, Publisher:Activision",
          "Name:Battlefield 3, Publisher:Electronic Arts"
         ],
         "type": "scatter",
         "x": [
          1,
          2,
          3,
          4,
          5,
          6,
          7,
          8,
          9,
          10,
          11,
          12,
          13,
          14,
          15,
          16,
          17,
          18,
          19,
          20,
          21,
          22,
          23,
          24,
          25,
          26,
          27,
          28,
          29,
          30,
          31,
          32,
          33,
          34,
          35,
          36,
          37,
          38,
          39,
          40,
          41,
          42,
          43,
          44,
          45,
          46,
          47,
          48,
          49,
          50,
          51,
          52,
          53,
          54,
          55,
          56,
          57,
          58,
          59,
          60,
          61,
          62,
          63,
          64,
          65,
          66,
          67,
          68,
          69,
          70,
          71,
          72,
          73,
          74,
          75,
          76,
          77,
          78,
          79,
          80,
          81,
          82,
          83,
          84,
          85,
          86,
          87,
          88,
          89,
          90,
          91,
          92,
          93,
          94,
          95,
          96,
          97,
          98,
          99,
          100
         ],
         "y": [
          2006,
          1985,
          2008,
          2009,
          1996,
          1989,
          2006,
          2006,
          2009,
          1984,
          2005,
          2005,
          1999,
          2007,
          2009,
          2010,
          2013,
          2004,
          1990,
          2005,
          2006,
          1989,
          1988,
          2013,
          2002,
          2002,
          2010,
          2005,
          2001,
          2011,
          1998,
          2010,
          2013,
          2015,
          2012,
          2012,
          2009,
          2011,
          2001,
          2008,
          2010,
          2005,
          2011,
          2007,
          2014,
          2009,
          1996,
          2004,
          2007,
          2014,
          1992,
          2008,
          1997,
          2011,
          2010,
          2009,
          2008,
          1993,
          2004,
          2004,
          2011,
          2013,
          2010,
          1996,
          2012,
          2012,
          1997,
          2013,
          2010,
          1999,
          2007,
          1994,
          2013,
          2012,
          2007,
          2011,
          1992,
          2015,
          2010,
          2004,
          2007,
          2012,
          2012,
          2009,
          1997,
          2007,
          2001,
          1999,
          2008,
          1982,
          2005,
          2010,
          2015,
          2014,
          1998,
          1997,
          1988,
          2014,
          2008,
          2011
         ]
        }
       ],
       "layout": {
        "paper_bgcolor": "rgb(243, 243, 243)",
        "plot_bgcolor": "rgb(243, 243, 243)",
        "template": {
         "data": {
          "bar": [
           {
            "error_x": {
             "color": "#2a3f5f"
            },
            "error_y": {
             "color": "#2a3f5f"
            },
            "marker": {
             "line": {
              "color": "#E5ECF6",
              "width": 0.5
             },
             "pattern": {
              "fillmode": "overlay",
              "size": 10,
              "solidity": 0.2
             }
            },
            "type": "bar"
           }
          ],
          "barpolar": [
           {
            "marker": {
             "line": {
              "color": "#E5ECF6",
              "width": 0.5
             },
             "pattern": {
              "fillmode": "overlay",
              "size": 10,
              "solidity": 0.2
             }
            },
            "type": "barpolar"
           }
          ],
          "carpet": [
           {
            "aaxis": {
             "endlinecolor": "#2a3f5f",
             "gridcolor": "white",
             "linecolor": "white",
             "minorgridcolor": "white",
             "startlinecolor": "#2a3f5f"
            },
            "baxis": {
             "endlinecolor": "#2a3f5f",
             "gridcolor": "white",
             "linecolor": "white",
             "minorgridcolor": "white",
             "startlinecolor": "#2a3f5f"
            },
            "type": "carpet"
           }
          ],
          "choropleth": [
           {
            "colorbar": {
             "outlinewidth": 0,
             "ticks": ""
            },
            "type": "choropleth"
           }
          ],
          "contour": [
           {
            "colorbar": {
             "outlinewidth": 0,
             "ticks": ""
            },
            "colorscale": [
             [
              0,
              "#0d0887"
             ],
             [
              0.1111111111111111,
              "#46039f"
             ],
             [
              0.2222222222222222,
              "#7201a8"
             ],
             [
              0.3333333333333333,
              "#9c179e"
             ],
             [
              0.4444444444444444,
              "#bd3786"
             ],
             [
              0.5555555555555556,
              "#d8576b"
             ],
             [
              0.6666666666666666,
              "#ed7953"
             ],
             [
              0.7777777777777778,
              "#fb9f3a"
             ],
             [
              0.8888888888888888,
              "#fdca26"
             ],
             [
              1,
              "#f0f921"
             ]
            ],
            "type": "contour"
           }
          ],
          "contourcarpet": [
           {
            "colorbar": {
             "outlinewidth": 0,
             "ticks": ""
            },
            "type": "contourcarpet"
           }
          ],
          "heatmap": [
           {
            "colorbar": {
             "outlinewidth": 0,
             "ticks": ""
            },
            "colorscale": [
             [
              0,
              "#0d0887"
             ],
             [
              0.1111111111111111,
              "#46039f"
             ],
             [
              0.2222222222222222,
              "#7201a8"
             ],
             [
              0.3333333333333333,
              "#9c179e"
             ],
             [
              0.4444444444444444,
              "#bd3786"
             ],
             [
              0.5555555555555556,
              "#d8576b"
             ],
             [
              0.6666666666666666,
              "#ed7953"
             ],
             [
              0.7777777777777778,
              "#fb9f3a"
             ],
             [
              0.8888888888888888,
              "#fdca26"
             ],
             [
              1,
              "#f0f921"
             ]
            ],
            "type": "heatmap"
           }
          ],
          "heatmapgl": [
           {
            "colorbar": {
             "outlinewidth": 0,
             "ticks": ""
            },
            "colorscale": [
             [
              0,
              "#0d0887"
             ],
             [
              0.1111111111111111,
              "#46039f"
             ],
             [
              0.2222222222222222,
              "#7201a8"
             ],
             [
              0.3333333333333333,
              "#9c179e"
             ],
             [
              0.4444444444444444,
              "#bd3786"
             ],
             [
              0.5555555555555556,
              "#d8576b"
             ],
             [
              0.6666666666666666,
              "#ed7953"
             ],
             [
              0.7777777777777778,
              "#fb9f3a"
             ],
             [
              0.8888888888888888,
              "#fdca26"
             ],
             [
              1,
              "#f0f921"
             ]
            ],
            "type": "heatmapgl"
           }
          ],
          "histogram": [
           {
            "marker": {
             "pattern": {
              "fillmode": "overlay",
              "size": 10,
              "solidity": 0.2
             }
            },
            "type": "histogram"
           }
          ],
          "histogram2d": [
           {
            "colorbar": {
             "outlinewidth": 0,
             "ticks": ""
            },
            "colorscale": [
             [
              0,
              "#0d0887"
             ],
             [
              0.1111111111111111,
              "#46039f"
             ],
             [
              0.2222222222222222,
              "#7201a8"
             ],
             [
              0.3333333333333333,
              "#9c179e"
             ],
             [
              0.4444444444444444,
              "#bd3786"
             ],
             [
              0.5555555555555556,
              "#d8576b"
             ],
             [
              0.6666666666666666,
              "#ed7953"
             ],
             [
              0.7777777777777778,
              "#fb9f3a"
             ],
             [
              0.8888888888888888,
              "#fdca26"
             ],
             [
              1,
              "#f0f921"
             ]
            ],
            "type": "histogram2d"
           }
          ],
          "histogram2dcontour": [
           {
            "colorbar": {
             "outlinewidth": 0,
             "ticks": ""
            },
            "colorscale": [
             [
              0,
              "#0d0887"
             ],
             [
              0.1111111111111111,
              "#46039f"
             ],
             [
              0.2222222222222222,
              "#7201a8"
             ],
             [
              0.3333333333333333,
              "#9c179e"
             ],
             [
              0.4444444444444444,
              "#bd3786"
             ],
             [
              0.5555555555555556,
              "#d8576b"
             ],
             [
              0.6666666666666666,
              "#ed7953"
             ],
             [
              0.7777777777777778,
              "#fb9f3a"
             ],
             [
              0.8888888888888888,
              "#fdca26"
             ],
             [
              1,
              "#f0f921"
             ]
            ],
            "type": "histogram2dcontour"
           }
          ],
          "mesh3d": [
           {
            "colorbar": {
             "outlinewidth": 0,
             "ticks": ""
            },
            "type": "mesh3d"
           }
          ],
          "parcoords": [
           {
            "line": {
             "colorbar": {
              "outlinewidth": 0,
              "ticks": ""
             }
            },
            "type": "parcoords"
           }
          ],
          "pie": [
           {
            "automargin": true,
            "type": "pie"
           }
          ],
          "scatter": [
           {
            "marker": {
             "colorbar": {
              "outlinewidth": 0,
              "ticks": ""
             }
            },
            "type": "scatter"
           }
          ],
          "scatter3d": [
           {
            "line": {
             "colorbar": {
              "outlinewidth": 0,
              "ticks": ""
             }
            },
            "marker": {
             "colorbar": {
              "outlinewidth": 0,
              "ticks": ""
             }
            },
            "type": "scatter3d"
           }
          ],
          "scattercarpet": [
           {
            "marker": {
             "colorbar": {
              "outlinewidth": 0,
              "ticks": ""
             }
            },
            "type": "scattercarpet"
           }
          ],
          "scattergeo": [
           {
            "marker": {
             "colorbar": {
              "outlinewidth": 0,
              "ticks": ""
             }
            },
            "type": "scattergeo"
           }
          ],
          "scattergl": [
           {
            "marker": {
             "colorbar": {
              "outlinewidth": 0,
              "ticks": ""
             }
            },
            "type": "scattergl"
           }
          ],
          "scattermapbox": [
           {
            "marker": {
             "colorbar": {
              "outlinewidth": 0,
              "ticks": ""
             }
            },
            "type": "scattermapbox"
           }
          ],
          "scatterpolar": [
           {
            "marker": {
             "colorbar": {
              "outlinewidth": 0,
              "ticks": ""
             }
            },
            "type": "scatterpolar"
           }
          ],
          "scatterpolargl": [
           {
            "marker": {
             "colorbar": {
              "outlinewidth": 0,
              "ticks": ""
             }
            },
            "type": "scatterpolargl"
           }
          ],
          "scatterternary": [
           {
            "marker": {
             "colorbar": {
              "outlinewidth": 0,
              "ticks": ""
             }
            },
            "type": "scatterternary"
           }
          ],
          "surface": [
           {
            "colorbar": {
             "outlinewidth": 0,
             "ticks": ""
            },
            "colorscale": [
             [
              0,
              "#0d0887"
             ],
             [
              0.1111111111111111,
              "#46039f"
             ],
             [
              0.2222222222222222,
              "#7201a8"
             ],
             [
              0.3333333333333333,
              "#9c179e"
             ],
             [
              0.4444444444444444,
              "#bd3786"
             ],
             [
              0.5555555555555556,
              "#d8576b"
             ],
             [
              0.6666666666666666,
              "#ed7953"
             ],
             [
              0.7777777777777778,
              "#fb9f3a"
             ],
             [
              0.8888888888888888,
              "#fdca26"
             ],
             [
              1,
              "#f0f921"
             ]
            ],
            "type": "surface"
           }
          ],
          "table": [
           {
            "cells": {
             "fill": {
              "color": "#EBF0F8"
             },
             "line": {
              "color": "white"
             }
            },
            "header": {
             "fill": {
              "color": "#C8D4E3"
             },
             "line": {
              "color": "white"
             }
            },
            "type": "table"
           }
          ]
         },
         "layout": {
          "annotationdefaults": {
           "arrowcolor": "#2a3f5f",
           "arrowhead": 0,
           "arrowwidth": 1
          },
          "autotypenumbers": "strict",
          "coloraxis": {
           "colorbar": {
            "outlinewidth": 0,
            "ticks": ""
           }
          },
          "colorscale": {
           "diverging": [
            [
             0,
             "#8e0152"
            ],
            [
             0.1,
             "#c51b7d"
            ],
            [
             0.2,
             "#de77ae"
            ],
            [
             0.3,
             "#f1b6da"
            ],
            [
             0.4,
             "#fde0ef"
            ],
            [
             0.5,
             "#f7f7f7"
            ],
            [
             0.6,
             "#e6f5d0"
            ],
            [
             0.7,
             "#b8e186"
            ],
            [
             0.8,
             "#7fbc41"
            ],
            [
             0.9,
             "#4d9221"
            ],
            [
             1,
             "#276419"
            ]
           ],
           "sequential": [
            [
             0,
             "#0d0887"
            ],
            [
             0.1111111111111111,
             "#46039f"
            ],
            [
             0.2222222222222222,
             "#7201a8"
            ],
            [
             0.3333333333333333,
             "#9c179e"
            ],
            [
             0.4444444444444444,
             "#bd3786"
            ],
            [
             0.5555555555555556,
             "#d8576b"
            ],
            [
             0.6666666666666666,
             "#ed7953"
            ],
            [
             0.7777777777777778,
             "#fb9f3a"
            ],
            [
             0.8888888888888888,
             "#fdca26"
            ],
            [
             1,
             "#f0f921"
            ]
           ],
           "sequentialminus": [
            [
             0,
             "#0d0887"
            ],
            [
             0.1111111111111111,
             "#46039f"
            ],
            [
             0.2222222222222222,
             "#7201a8"
            ],
            [
             0.3333333333333333,
             "#9c179e"
            ],
            [
             0.4444444444444444,
             "#bd3786"
            ],
            [
             0.5555555555555556,
             "#d8576b"
            ],
            [
             0.6666666666666666,
             "#ed7953"
            ],
            [
             0.7777777777777778,
             "#fb9f3a"
            ],
            [
             0.8888888888888888,
             "#fdca26"
            ],
            [
             1,
             "#f0f921"
            ]
           ]
          },
          "colorway": [
           "#636efa",
           "#EF553B",
           "#00cc96",
           "#ab63fa",
           "#FFA15A",
           "#19d3f3",
           "#FF6692",
           "#B6E880",
           "#FF97FF",
           "#FECB52"
          ],
          "font": {
           "color": "#2a3f5f"
          },
          "geo": {
           "bgcolor": "white",
           "lakecolor": "white",
           "landcolor": "#E5ECF6",
           "showlakes": true,
           "showland": true,
           "subunitcolor": "white"
          },
          "hoverlabel": {
           "align": "left"
          },
          "hovermode": "closest",
          "mapbox": {
           "style": "light"
          },
          "paper_bgcolor": "white",
          "plot_bgcolor": "#E5ECF6",
          "polar": {
           "angularaxis": {
            "gridcolor": "white",
            "linecolor": "white",
            "ticks": ""
           },
           "bgcolor": "#E5ECF6",
           "radialaxis": {
            "gridcolor": "white",
            "linecolor": "white",
            "ticks": ""
           }
          },
          "scene": {
           "xaxis": {
            "backgroundcolor": "#E5ECF6",
            "gridcolor": "white",
            "gridwidth": 2,
            "linecolor": "white",
            "showbackground": true,
            "ticks": "",
            "zerolinecolor": "white"
           },
           "yaxis": {
            "backgroundcolor": "#E5ECF6",
            "gridcolor": "white",
            "gridwidth": 2,
            "linecolor": "white",
            "showbackground": true,
            "ticks": "",
            "zerolinecolor": "white"
           },
           "zaxis": {
            "backgroundcolor": "#E5ECF6",
            "gridcolor": "white",
            "gridwidth": 2,
            "linecolor": "white",
            "showbackground": true,
            "ticks": "",
            "zerolinecolor": "white"
           }
          },
          "shapedefaults": {
           "line": {
            "color": "#2a3f5f"
           }
          },
          "ternary": {
           "aaxis": {
            "gridcolor": "white",
            "linecolor": "white",
            "ticks": ""
           },
           "baxis": {
            "gridcolor": "white",
            "linecolor": "white",
            "ticks": ""
           },
           "bgcolor": "#E5ECF6",
           "caxis": {
            "gridcolor": "white",
            "linecolor": "white",
            "ticks": ""
           }
          },
          "title": {
           "x": 0.05
          },
          "xaxis": {
           "automargin": true,
           "gridcolor": "white",
           "linecolor": "white",
           "ticks": "",
           "title": {
            "standoff": 15
           },
           "zerolinecolor": "white",
           "zerolinewidth": 2
          },
          "yaxis": {
           "automargin": true,
           "gridcolor": "white",
           "linecolor": "white",
           "ticks": "",
           "title": {
            "standoff": 15
           },
           "zerolinecolor": "white",
           "zerolinewidth": 2
          }
         }
        },
        "title": {
         "text": "Release Years of Top 100 Video Games According to Global Sales"
        },
        "xaxis": {
         "gridcolor": "rgb(255, 255, 255)",
         "gridwidth": 2,
         "ticklen": 5,
         "title": {
          "text": "Rank"
         },
         "zerolinewidth": 1
        },
        "yaxis": {
         "gridcolor": "rgb(255, 255, 255)",
         "gridwidth": 2,
         "ticklen": 5,
         "title": {
          "text": "Years"
         },
         "zerolinewidth": 1
        }
       }
      },
      "text/html": [
       "<div>                            <div id=\"e6a70c76-dff5-4ad4-a7ed-fde8ca575f90\" class=\"plotly-graph-div\" style=\"height:525px; width:100%;\"></div>            <script type=\"text/javascript\">                require([\"plotly\"], function(Plotly) {                    window.PLOTLYENV=window.PLOTLYENV || {};                                    if (document.getElementById(\"e6a70c76-dff5-4ad4-a7ed-fde8ca575f90\")) {                    Plotly.newPlot(                        \"e6a70c76-dff5-4ad4-a7ed-fde8ca575f90\",                        [{\"marker\":{\"color\":[82.74,40.24,35.82,33.0,31.37,30.26,30.01,29.02,28.62,28.31,24.76,23.42,23.1,22.72,22.0,21.82,21.4,20.81,20.61,20.22,18.36,18.14,17.28,16.38,16.15,15.85,15.32,15.3,14.98,14.76,14.64,14.64,14.35,14.24,14.03,13.73,13.51,13.46,13.1,13.04,12.73,12.27,12.21,12.14,11.98,11.9,11.89,11.66,11.52,11.33,11.18,11.02,10.95,10.79,10.77,10.69,10.57,10.55,10.49,10.42,10.26,10.21,9.88,9.87,9.82,9.76,9.72,9.59,9.52,9.49,9.32,9.3,9.2,9.09,9.02,8.84,8.76,8.49,8.49,8.49,8.42,8.33,8.24,8.11,8.09,8.06,8.05,7.86,7.84,7.81,7.72,7.69,7.67,7.6,7.6,7.58,7.46,7.45,7.37,7.34],\"colorscale\":[[0.0,\"rgb(0,0,0)\"],[0.25,\"rgb(230,0,0)\"],[0.5,\"rgb(230,210,0)\"],[0.75,\"rgb(255,255,255)\"],[1.0,\"rgb(160,200,255)\"]],\"showscale\":true,\"size\":[82.74,40.24,35.82,33.0,31.37,30.26,30.01,29.02,28.62,28.31,24.76,23.42,23.1,22.72,22.0,21.82,21.4,20.81,20.61,20.22,18.36,18.14,17.28,16.38,16.15,15.85,15.32,15.3,14.98,14.76,14.64,14.64,14.35,14.24,14.03,13.73,13.51,13.46,13.1,13.04,12.73,12.27,12.21,12.14,11.98,11.9,11.89,11.66,11.52,11.33,11.18,11.02,10.95,10.79,10.77,10.69,10.57,10.55,10.49,10.42,10.26,10.21,9.88,9.87,9.82,9.76,9.72,9.59,9.52,9.49,9.32,9.3,9.2,9.09,9.02,8.84,8.76,8.49,8.49,8.49,8.42,8.33,8.24,8.11,8.09,8.06,8.05,7.86,7.84,7.81,7.72,7.69,7.67,7.6,7.6,7.58,7.46,7.45,7.37,7.34]},\"mode\":\"markers\",\"text\":[\"Name:Wii Sports, Publisher:Nintendo\",\"Name:Super Mario Bros., Publisher:Nintendo\",\"Name:Mario Kart Wii, Publisher:Nintendo\",\"Name:Wii Sports Resort, Publisher:Nintendo\",\"Name:Pokemon Red/Pokemon Blue, Publisher:Nintendo\",\"Name:Tetris, Publisher:Nintendo\",\"Name:New Super Mario Bros., Publisher:Nintendo\",\"Name:Wii Play, Publisher:Nintendo\",\"Name:New Super Mario Bros. Wii, Publisher:Nintendo\",\"Name:Duck Hunt, Publisher:Nintendo\",\"Name:Nintendogs, Publisher:Nintendo\",\"Name:Mario Kart DS, Publisher:Nintendo\",\"Name:Pokemon Gold/Pokemon Silver, Publisher:Nintendo\",\"Name:Wii Fit, Publisher:Nintendo\",\"Name:Wii Fit Plus, Publisher:Nintendo\",\"Name:Kinect Adventures!, Publisher:Microsoft Game Studios\",\"Name:Grand Theft Auto V, Publisher:Take-Two Interactive\",\"Name:Grand Theft Auto: San Andreas, Publisher:Take-Two Interactive\",\"Name:Super Mario World, Publisher:Nintendo\",\"Name:Brain Age: Train Your Brain in Minutes a Day, Publisher:Nintendo\",\"Name:Pokemon Diamond/Pokemon Pearl, Publisher:Nintendo\",\"Name:Super Mario Land, Publisher:Nintendo\",\"Name:Super Mario Bros. 3, Publisher:Nintendo\",\"Name:Grand Theft Auto V, Publisher:Take-Two Interactive\",\"Name:Grand Theft Auto: Vice City, Publisher:Take-Two Interactive\",\"Name:Pokemon Ruby/Pokemon Sapphire, Publisher:Nintendo\",\"Name:Pokemon Black/Pokemon White, Publisher:Nintendo\",\"Name:Brain Age 2: More Training in Minutes a Day, Publisher:Nintendo\",\"Name:Gran Turismo 3: A-Spec, Publisher:Sony Computer Entertainment\",\"Name:Call of Duty: Modern Warfare 3, Publisher:Activision\",\"Name:Pok\\u00e9mon Yellow: Special Pikachu Edition, Publisher:Nintendo\",\"Name:Call of Duty: Black Ops, Publisher:Activision\",\"Name:Pokemon X/Pokemon Y, Publisher:Nintendo\",\"Name:Call of Duty: Black Ops 3, Publisher:Activision\",\"Name:Call of Duty: Black Ops II, Publisher:Activision\",\"Name:Call of Duty: Black Ops II, Publisher:Activision\",\"Name:Call of Duty: Modern Warfare 2, Publisher:Activision\",\"Name:Call of Duty: Modern Warfare 3, Publisher:Activision\",\"Name:Grand Theft Auto III, Publisher:Take-Two Interactive\",\"Name:Super Smash Bros. Brawl, Publisher:Nintendo\",\"Name:Call of Duty: Black Ops, Publisher:Activision\",\"Name:Animal Crossing: Wild World, Publisher:Nintendo\",\"Name:Mario Kart 7, Publisher:Nintendo\",\"Name:Halo 3, Publisher:Microsoft Game Studios\",\"Name:Grand Theft Auto V, Publisher:Take-Two Interactive\",\"Name:Pokemon HeartGold/Pokemon SoulSilver, Publisher:Nintendo\",\"Name:Super Mario 64, Publisher:Nintendo\",\"Name:Gran Turismo 4, Publisher:Sony Computer Entertainment\",\"Name:Super Mario Galaxy, Publisher:Nintendo\",\"Name:Pokemon Omega Ruby/Pokemon Alpha Sapphire, Publisher:Nintendo\",\"Name:Super Mario Land 2: 6 Golden Coins, Publisher:Nintendo\",\"Name:Grand Theft Auto IV, Publisher:Take-Two Interactive\",\"Name:Gran Turismo, Publisher:Sony Computer Entertainment\",\"Name:Super Mario 3D Land, Publisher:Nintendo\",\"Name:Gran Turismo 5, Publisher:Sony Computer Entertainment\",\"Name:Call of Duty: Modern Warfare 2, Publisher:Activision\",\"Name:Grand Theft Auto IV, Publisher:Take-Two Interactive\",\"Name:Super Mario All-Stars, Publisher:Nintendo\",\"Name:Pokemon FireRed/Pokemon LeafGreen, Publisher:Nintendo\",\"Name:Super Mario 64, Publisher:Nintendo\",\"Name:Just Dance 3, Publisher:Ubisoft\",\"Name:Call of Duty: Ghosts, Publisher:Activision\",\"Name:Halo: Reach, Publisher:Microsoft Game Studios\",\"Name:Mario Kart 64, Publisher:Nintendo\",\"Name:New Super Mario Bros. 2, Publisher:Nintendo\",\"Name:Halo 4, Publisher:Microsoft Game Studios\",\"Name:Final Fantasy VII, Publisher:Sony Computer Entertainment\",\"Name:Call of Duty: Ghosts, Publisher:Activision\",\"Name:Just Dance 2, Publisher:Ubisoft\",\"Name:Gran Turismo 2, Publisher:Sony Computer Entertainment\",\"Name:Call of Duty 4: Modern Warfare, Publisher:Activision\",\"Name:Donkey Kong Country, Publisher:Nintendo\",\"Name:Minecraft, Publisher:Microsoft Game Studios\",\"Name:Animal Crossing: New Leaf, Publisher:Nintendo\",\"Name:Mario Party DS, Publisher:Nintendo\",\"Name:The Elder Scrolls V: Skyrim, Publisher:Bethesda Softworks\",\"Name:Super Mario Kart, Publisher:Nintendo\",\"Name:FIFA 16, Publisher:Electronic Arts\",\"Name:Wii Party, Publisher:Nintendo\",\"Name:Halo 2, Publisher:Microsoft Game Studios\",\"Name:Mario Party 8, Publisher:Nintendo\",\"Name:Pokemon Black 2/Pokemon White 2, Publisher:Nintendo\",\"Name:FIFA Soccer 13, Publisher:Electronic Arts\",\"Name:The Sims 3, Publisher:Electronic Arts\",\"Name:GoldenEye 007, Publisher:Nintendo\",\"Name:Mario & Sonic at the Olympic Games, Publisher:Sega\",\"Name:Final Fantasy X, Publisher:Sony Computer Entertainment\",\"Name:Final Fantasy VIII, Publisher:SquareSoft\",\"Name:Pok\\u00e9mon Platinum Version, Publisher:Nintendo\",\"Name:Pac-Man, Publisher:Atari\",\"Name:Grand Theft Auto: Liberty City Stories, Publisher:Take-Two Interactive\",\"Name:Super Mario Galaxy 2, Publisher:Nintendo\",\"Name:Star Wars Battlefront (2015), Publisher:Electronic Arts\",\"Name:Call of Duty: Advanced Warfare, Publisher:Activision\",\"Name:The Legend of Zelda: Ocarina of Time, Publisher:Nintendo\",\"Name:Crash Bandicoot 2: Cortex Strikes Back, Publisher:Sony Computer Entertainment\",\"Name:Super Mario Bros. 2, Publisher:Nintendo\",\"Name:Super Smash Bros. for Wii U and 3DS, Publisher:Nintendo\",\"Name:Call of Duty: World at War, Publisher:Activision\",\"Name:Battlefield 3, Publisher:Electronic Arts\"],\"type\":\"scatter\",\"x\":[1,2,3,4,5,6,7,8,9,10,11,12,13,14,15,16,17,18,19,20,21,22,23,24,25,26,27,28,29,30,31,32,33,34,35,36,37,38,39,40,41,42,43,44,45,46,47,48,49,50,51,52,53,54,55,56,57,58,59,60,61,62,63,64,65,66,67,68,69,70,71,72,73,74,75,76,77,78,79,80,81,82,83,84,85,86,87,88,89,90,91,92,93,94,95,96,97,98,99,100],\"y\":[2006.0,1985.0,2008.0,2009.0,1996.0,1989.0,2006.0,2006.0,2009.0,1984.0,2005.0,2005.0,1999.0,2007.0,2009.0,2010.0,2013.0,2004.0,1990.0,2005.0,2006.0,1989.0,1988.0,2013.0,2002.0,2002.0,2010.0,2005.0,2001.0,2011.0,1998.0,2010.0,2013.0,2015.0,2012.0,2012.0,2009.0,2011.0,2001.0,2008.0,2010.0,2005.0,2011.0,2007.0,2014.0,2009.0,1996.0,2004.0,2007.0,2014.0,1992.0,2008.0,1997.0,2011.0,2010.0,2009.0,2008.0,1993.0,2004.0,2004.0,2011.0,2013.0,2010.0,1996.0,2012.0,2012.0,1997.0,2013.0,2010.0,1999.0,2007.0,1994.0,2013.0,2012.0,2007.0,2011.0,1992.0,2015.0,2010.0,2004.0,2007.0,2012.0,2012.0,2009.0,1997.0,2007.0,2001.0,1999.0,2008.0,1982.0,2005.0,2010.0,2015.0,2014.0,1998.0,1997.0,1988.0,2014.0,2008.0,2011.0]}],                        {\"paper_bgcolor\":\"rgb(243, 243, 243)\",\"plot_bgcolor\":\"rgb(243, 243, 243)\",\"template\":{\"data\":{\"bar\":[{\"error_x\":{\"color\":\"#2a3f5f\"},\"error_y\":{\"color\":\"#2a3f5f\"},\"marker\":{\"line\":{\"color\":\"#E5ECF6\",\"width\":0.5},\"pattern\":{\"fillmode\":\"overlay\",\"size\":10,\"solidity\":0.2}},\"type\":\"bar\"}],\"barpolar\":[{\"marker\":{\"line\":{\"color\":\"#E5ECF6\",\"width\":0.5},\"pattern\":{\"fillmode\":\"overlay\",\"size\":10,\"solidity\":0.2}},\"type\":\"barpolar\"}],\"carpet\":[{\"aaxis\":{\"endlinecolor\":\"#2a3f5f\",\"gridcolor\":\"white\",\"linecolor\":\"white\",\"minorgridcolor\":\"white\",\"startlinecolor\":\"#2a3f5f\"},\"baxis\":{\"endlinecolor\":\"#2a3f5f\",\"gridcolor\":\"white\",\"linecolor\":\"white\",\"minorgridcolor\":\"white\",\"startlinecolor\":\"#2a3f5f\"},\"type\":\"carpet\"}],\"choropleth\":[{\"colorbar\":{\"outlinewidth\":0,\"ticks\":\"\"},\"type\":\"choropleth\"}],\"contour\":[{\"colorbar\":{\"outlinewidth\":0,\"ticks\":\"\"},\"colorscale\":[[0.0,\"#0d0887\"],[0.1111111111111111,\"#46039f\"],[0.2222222222222222,\"#7201a8\"],[0.3333333333333333,\"#9c179e\"],[0.4444444444444444,\"#bd3786\"],[0.5555555555555556,\"#d8576b\"],[0.6666666666666666,\"#ed7953\"],[0.7777777777777778,\"#fb9f3a\"],[0.8888888888888888,\"#fdca26\"],[1.0,\"#f0f921\"]],\"type\":\"contour\"}],\"contourcarpet\":[{\"colorbar\":{\"outlinewidth\":0,\"ticks\":\"\"},\"type\":\"contourcarpet\"}],\"heatmap\":[{\"colorbar\":{\"outlinewidth\":0,\"ticks\":\"\"},\"colorscale\":[[0.0,\"#0d0887\"],[0.1111111111111111,\"#46039f\"],[0.2222222222222222,\"#7201a8\"],[0.3333333333333333,\"#9c179e\"],[0.4444444444444444,\"#bd3786\"],[0.5555555555555556,\"#d8576b\"],[0.6666666666666666,\"#ed7953\"],[0.7777777777777778,\"#fb9f3a\"],[0.8888888888888888,\"#fdca26\"],[1.0,\"#f0f921\"]],\"type\":\"heatmap\"}],\"heatmapgl\":[{\"colorbar\":{\"outlinewidth\":0,\"ticks\":\"\"},\"colorscale\":[[0.0,\"#0d0887\"],[0.1111111111111111,\"#46039f\"],[0.2222222222222222,\"#7201a8\"],[0.3333333333333333,\"#9c179e\"],[0.4444444444444444,\"#bd3786\"],[0.5555555555555556,\"#d8576b\"],[0.6666666666666666,\"#ed7953\"],[0.7777777777777778,\"#fb9f3a\"],[0.8888888888888888,\"#fdca26\"],[1.0,\"#f0f921\"]],\"type\":\"heatmapgl\"}],\"histogram\":[{\"marker\":{\"pattern\":{\"fillmode\":\"overlay\",\"size\":10,\"solidity\":0.2}},\"type\":\"histogram\"}],\"histogram2d\":[{\"colorbar\":{\"outlinewidth\":0,\"ticks\":\"\"},\"colorscale\":[[0.0,\"#0d0887\"],[0.1111111111111111,\"#46039f\"],[0.2222222222222222,\"#7201a8\"],[0.3333333333333333,\"#9c179e\"],[0.4444444444444444,\"#bd3786\"],[0.5555555555555556,\"#d8576b\"],[0.6666666666666666,\"#ed7953\"],[0.7777777777777778,\"#fb9f3a\"],[0.8888888888888888,\"#fdca26\"],[1.0,\"#f0f921\"]],\"type\":\"histogram2d\"}],\"histogram2dcontour\":[{\"colorbar\":{\"outlinewidth\":0,\"ticks\":\"\"},\"colorscale\":[[0.0,\"#0d0887\"],[0.1111111111111111,\"#46039f\"],[0.2222222222222222,\"#7201a8\"],[0.3333333333333333,\"#9c179e\"],[0.4444444444444444,\"#bd3786\"],[0.5555555555555556,\"#d8576b\"],[0.6666666666666666,\"#ed7953\"],[0.7777777777777778,\"#fb9f3a\"],[0.8888888888888888,\"#fdca26\"],[1.0,\"#f0f921\"]],\"type\":\"histogram2dcontour\"}],\"mesh3d\":[{\"colorbar\":{\"outlinewidth\":0,\"ticks\":\"\"},\"type\":\"mesh3d\"}],\"parcoords\":[{\"line\":{\"colorbar\":{\"outlinewidth\":0,\"ticks\":\"\"}},\"type\":\"parcoords\"}],\"pie\":[{\"automargin\":true,\"type\":\"pie\"}],\"scatter\":[{\"marker\":{\"colorbar\":{\"outlinewidth\":0,\"ticks\":\"\"}},\"type\":\"scatter\"}],\"scatter3d\":[{\"line\":{\"colorbar\":{\"outlinewidth\":0,\"ticks\":\"\"}},\"marker\":{\"colorbar\":{\"outlinewidth\":0,\"ticks\":\"\"}},\"type\":\"scatter3d\"}],\"scattercarpet\":[{\"marker\":{\"colorbar\":{\"outlinewidth\":0,\"ticks\":\"\"}},\"type\":\"scattercarpet\"}],\"scattergeo\":[{\"marker\":{\"colorbar\":{\"outlinewidth\":0,\"ticks\":\"\"}},\"type\":\"scattergeo\"}],\"scattergl\":[{\"marker\":{\"colorbar\":{\"outlinewidth\":0,\"ticks\":\"\"}},\"type\":\"scattergl\"}],\"scattermapbox\":[{\"marker\":{\"colorbar\":{\"outlinewidth\":0,\"ticks\":\"\"}},\"type\":\"scattermapbox\"}],\"scatterpolar\":[{\"marker\":{\"colorbar\":{\"outlinewidth\":0,\"ticks\":\"\"}},\"type\":\"scatterpolar\"}],\"scatterpolargl\":[{\"marker\":{\"colorbar\":{\"outlinewidth\":0,\"ticks\":\"\"}},\"type\":\"scatterpolargl\"}],\"scatterternary\":[{\"marker\":{\"colorbar\":{\"outlinewidth\":0,\"ticks\":\"\"}},\"type\":\"scatterternary\"}],\"surface\":[{\"colorbar\":{\"outlinewidth\":0,\"ticks\":\"\"},\"colorscale\":[[0.0,\"#0d0887\"],[0.1111111111111111,\"#46039f\"],[0.2222222222222222,\"#7201a8\"],[0.3333333333333333,\"#9c179e\"],[0.4444444444444444,\"#bd3786\"],[0.5555555555555556,\"#d8576b\"],[0.6666666666666666,\"#ed7953\"],[0.7777777777777778,\"#fb9f3a\"],[0.8888888888888888,\"#fdca26\"],[1.0,\"#f0f921\"]],\"type\":\"surface\"}],\"table\":[{\"cells\":{\"fill\":{\"color\":\"#EBF0F8\"},\"line\":{\"color\":\"white\"}},\"header\":{\"fill\":{\"color\":\"#C8D4E3\"},\"line\":{\"color\":\"white\"}},\"type\":\"table\"}]},\"layout\":{\"annotationdefaults\":{\"arrowcolor\":\"#2a3f5f\",\"arrowhead\":0,\"arrowwidth\":1},\"autotypenumbers\":\"strict\",\"coloraxis\":{\"colorbar\":{\"outlinewidth\":0,\"ticks\":\"\"}},\"colorscale\":{\"diverging\":[[0,\"#8e0152\"],[0.1,\"#c51b7d\"],[0.2,\"#de77ae\"],[0.3,\"#f1b6da\"],[0.4,\"#fde0ef\"],[0.5,\"#f7f7f7\"],[0.6,\"#e6f5d0\"],[0.7,\"#b8e186\"],[0.8,\"#7fbc41\"],[0.9,\"#4d9221\"],[1,\"#276419\"]],\"sequential\":[[0.0,\"#0d0887\"],[0.1111111111111111,\"#46039f\"],[0.2222222222222222,\"#7201a8\"],[0.3333333333333333,\"#9c179e\"],[0.4444444444444444,\"#bd3786\"],[0.5555555555555556,\"#d8576b\"],[0.6666666666666666,\"#ed7953\"],[0.7777777777777778,\"#fb9f3a\"],[0.8888888888888888,\"#fdca26\"],[1.0,\"#f0f921\"]],\"sequentialminus\":[[0.0,\"#0d0887\"],[0.1111111111111111,\"#46039f\"],[0.2222222222222222,\"#7201a8\"],[0.3333333333333333,\"#9c179e\"],[0.4444444444444444,\"#bd3786\"],[0.5555555555555556,\"#d8576b\"],[0.6666666666666666,\"#ed7953\"],[0.7777777777777778,\"#fb9f3a\"],[0.8888888888888888,\"#fdca26\"],[1.0,\"#f0f921\"]]},\"colorway\":[\"#636efa\",\"#EF553B\",\"#00cc96\",\"#ab63fa\",\"#FFA15A\",\"#19d3f3\",\"#FF6692\",\"#B6E880\",\"#FF97FF\",\"#FECB52\"],\"font\":{\"color\":\"#2a3f5f\"},\"geo\":{\"bgcolor\":\"white\",\"lakecolor\":\"white\",\"landcolor\":\"#E5ECF6\",\"showlakes\":true,\"showland\":true,\"subunitcolor\":\"white\"},\"hoverlabel\":{\"align\":\"left\"},\"hovermode\":\"closest\",\"mapbox\":{\"style\":\"light\"},\"paper_bgcolor\":\"white\",\"plot_bgcolor\":\"#E5ECF6\",\"polar\":{\"angularaxis\":{\"gridcolor\":\"white\",\"linecolor\":\"white\",\"ticks\":\"\"},\"bgcolor\":\"#E5ECF6\",\"radialaxis\":{\"gridcolor\":\"white\",\"linecolor\":\"white\",\"ticks\":\"\"}},\"scene\":{\"xaxis\":{\"backgroundcolor\":\"#E5ECF6\",\"gridcolor\":\"white\",\"gridwidth\":2,\"linecolor\":\"white\",\"showbackground\":true,\"ticks\":\"\",\"zerolinecolor\":\"white\"},\"yaxis\":{\"backgroundcolor\":\"#E5ECF6\",\"gridcolor\":\"white\",\"gridwidth\":2,\"linecolor\":\"white\",\"showbackground\":true,\"ticks\":\"\",\"zerolinecolor\":\"white\"},\"zaxis\":{\"backgroundcolor\":\"#E5ECF6\",\"gridcolor\":\"white\",\"gridwidth\":2,\"linecolor\":\"white\",\"showbackground\":true,\"ticks\":\"\",\"zerolinecolor\":\"white\"}},\"shapedefaults\":{\"line\":{\"color\":\"#2a3f5f\"}},\"ternary\":{\"aaxis\":{\"gridcolor\":\"white\",\"linecolor\":\"white\",\"ticks\":\"\"},\"baxis\":{\"gridcolor\":\"white\",\"linecolor\":\"white\",\"ticks\":\"\"},\"bgcolor\":\"#E5ECF6\",\"caxis\":{\"gridcolor\":\"white\",\"linecolor\":\"white\",\"ticks\":\"\"}},\"title\":{\"x\":0.05},\"xaxis\":{\"automargin\":true,\"gridcolor\":\"white\",\"linecolor\":\"white\",\"ticks\":\"\",\"title\":{\"standoff\":15},\"zerolinecolor\":\"white\",\"zerolinewidth\":2},\"yaxis\":{\"automargin\":true,\"gridcolor\":\"white\",\"linecolor\":\"white\",\"ticks\":\"\",\"title\":{\"standoff\":15},\"zerolinecolor\":\"white\",\"zerolinewidth\":2}}},\"title\":{\"text\":\"Release Years of Top 100 Video Games According to Global Sales\"},\"xaxis\":{\"gridcolor\":\"rgb(255, 255, 255)\",\"gridwidth\":2,\"ticklen\":5,\"title\":{\"text\":\"Rank\"},\"zerolinewidth\":1},\"yaxis\":{\"gridcolor\":\"rgb(255, 255, 255)\",\"gridwidth\":2,\"ticklen\":5,\"title\":{\"text\":\"Years\"},\"zerolinewidth\":1}},                        {\"responsive\": true}                    ).then(function(){\n",
       "                            \n",
       "var gd = document.getElementById('e6a70c76-dff5-4ad4-a7ed-fde8ca575f90');\n",
       "var x = new MutationObserver(function (mutations, observer) {{\n",
       "        var display = window.getComputedStyle(gd).display;\n",
       "        if (!display || display === 'none') {{\n",
       "            console.log([gd, 'removed!']);\n",
       "            Plotly.purge(gd);\n",
       "            observer.disconnect();\n",
       "        }}\n",
       "}});\n",
       "\n",
       "// Listen for the removal of the full notebook cells\n",
       "var notebookContainer = gd.closest('#notebook-container');\n",
       "if (notebookContainer) {{\n",
       "    x.observe(notebookContainer, {childList: true});\n",
       "}}\n",
       "\n",
       "// Listen for the clearing of the current output cell\n",
       "var outputEl = gd.closest('.output');\n",
       "if (outputEl) {{\n",
       "    x.observe(outputEl, {childList: true});\n",
       "}}\n",
       "\n",
       "                        })                };                });            </script>        </div>"
      ]
     },
     "metadata": {},
     "output_type": "display_data"
    }
   ],
   "source": [
    "fig={\n",
    "    \"data\" : [\n",
    "    {\n",
    "        'x': df.Rank,\n",
    "        'y': df.Year,\n",
    "        'mode': 'markers',\n",
    "        'marker': {\n",
    "            \"color\":df.Global_Sales,\n",
    "            'size': df.Global_Sales,\n",
    "            'showscale': True,\n",
    "            \"colorscale\":'Blackbody'\n",
    "        },\n",
    "        \"text\" :  \"Name:\"+ df.Name +\",\"+\" Publisher:\" + df.Publisher\n",
    "        \n",
    "    },\n",
    "],\n",
    "\"layout\":\n",
    "    {\n",
    "    \"title\":\"Release Years of Top 100 Video Games According to Global Sales\",\n",
    "    \"xaxis\":{\n",
    "        \"title\":\"Rank\",\n",
    "        \"gridcolor\":'rgb(255, 255, 255)',\n",
    "        \"zerolinewidth\":1,\n",
    "        \"ticklen\":5,\n",
    "        \"gridwidth\":2,\n",
    "    },\n",
    "    \"yaxis\":{\n",
    "        \"title\":'Years',\n",
    "        \"gridcolor\":'rgb(255, 255, 255)',\n",
    "        \"zerolinewidth\":1,\n",
    "        \"ticklen\":5,\n",
    "        \"gridwidth\":2,\n",
    "    },\n",
    "    \n",
    "    \"paper_bgcolor\":'rgb(243, 243, 243)',\n",
    "    \"plot_bgcolor\":'rgb(243, 243, 243)'\n",
    "    }}\n",
    "\n",
    "iplot(fig)"
   ]
  },
  {
   "cell_type": "code",
   "execution_count": 35,
   "metadata": {},
   "outputs": [
    {
     "data": {
      "application/vnd.plotly.v1+json": {
       "config": {
        "linkText": "Export to plot.ly",
        "plotlyServerURL": "https://plot.ly",
        "showLink": false
       },
       "data": [
        {
         "marker": {
          "color": "crimson",
          "line": {
           "color": "black",
           "width": 2
          }
         },
         "opacity": 0.75,
         "type": "histogram",
         "x": [
          "Nintendo",
          "Nintendo",
          "Nintendo",
          "Nintendo",
          "Nintendo",
          "Nintendo",
          "Nintendo",
          "Nintendo",
          "Nintendo",
          "Nintendo",
          "Nintendo",
          "Nintendo",
          "Nintendo",
          "Nintendo",
          "Nintendo",
          "Microsoft Game Studios",
          "Take-Two Interactive",
          "Take-Two Interactive",
          "Nintendo",
          "Nintendo",
          "Nintendo",
          "Nintendo",
          "Nintendo",
          "Take-Two Interactive",
          "Take-Two Interactive",
          "Nintendo",
          "Nintendo",
          "Nintendo",
          "Sony Computer Entertainment",
          "Activision",
          "Nintendo",
          "Activision",
          "Nintendo",
          "Activision",
          "Activision",
          "Activision",
          "Activision",
          "Activision",
          "Take-Two Interactive",
          "Nintendo",
          "Activision",
          "Nintendo",
          "Nintendo",
          "Microsoft Game Studios",
          "Take-Two Interactive",
          "Nintendo",
          "Nintendo",
          "Sony Computer Entertainment",
          "Nintendo",
          "Nintendo",
          "Nintendo",
          "Take-Two Interactive",
          "Sony Computer Entertainment",
          "Nintendo",
          "Sony Computer Entertainment",
          "Activision",
          "Take-Two Interactive",
          "Nintendo",
          "Nintendo",
          "Nintendo",
          "Ubisoft",
          "Activision",
          "Microsoft Game Studios",
          "Nintendo",
          "Nintendo",
          "Microsoft Game Studios",
          "Sony Computer Entertainment",
          "Activision",
          "Ubisoft",
          "Sony Computer Entertainment",
          "Activision",
          "Nintendo",
          "Microsoft Game Studios",
          "Nintendo",
          "Nintendo",
          "Bethesda Softworks",
          "Nintendo",
          "Electronic Arts",
          "Nintendo",
          "Microsoft Game Studios",
          "Nintendo",
          "Nintendo",
          "Electronic Arts",
          "Electronic Arts",
          "Nintendo",
          "Sega",
          "Sony Computer Entertainment",
          "SquareSoft",
          "Nintendo",
          "Atari",
          "Take-Two Interactive",
          "Nintendo",
          "Electronic Arts",
          "Activision",
          "Nintendo",
          "Sony Computer Entertainment",
          "Nintendo",
          "Nintendo",
          "Activision",
          "Electronic Arts"
         ]
        }
       ],
       "layout": {
        "bargap": 0.2,
        "bargroupgap": 0.1,
        "paper_bgcolor": "rgb(243, 243, 243)",
        "plot_bgcolor": "rgb(243, 243, 243)",
        "template": {
         "data": {
          "bar": [
           {
            "error_x": {
             "color": "#2a3f5f"
            },
            "error_y": {
             "color": "#2a3f5f"
            },
            "marker": {
             "line": {
              "color": "#E5ECF6",
              "width": 0.5
             },
             "pattern": {
              "fillmode": "overlay",
              "size": 10,
              "solidity": 0.2
             }
            },
            "type": "bar"
           }
          ],
          "barpolar": [
           {
            "marker": {
             "line": {
              "color": "#E5ECF6",
              "width": 0.5
             },
             "pattern": {
              "fillmode": "overlay",
              "size": 10,
              "solidity": 0.2
             }
            },
            "type": "barpolar"
           }
          ],
          "carpet": [
           {
            "aaxis": {
             "endlinecolor": "#2a3f5f",
             "gridcolor": "white",
             "linecolor": "white",
             "minorgridcolor": "white",
             "startlinecolor": "#2a3f5f"
            },
            "baxis": {
             "endlinecolor": "#2a3f5f",
             "gridcolor": "white",
             "linecolor": "white",
             "minorgridcolor": "white",
             "startlinecolor": "#2a3f5f"
            },
            "type": "carpet"
           }
          ],
          "choropleth": [
           {
            "colorbar": {
             "outlinewidth": 0,
             "ticks": ""
            },
            "type": "choropleth"
           }
          ],
          "contour": [
           {
            "colorbar": {
             "outlinewidth": 0,
             "ticks": ""
            },
            "colorscale": [
             [
              0,
              "#0d0887"
             ],
             [
              0.1111111111111111,
              "#46039f"
             ],
             [
              0.2222222222222222,
              "#7201a8"
             ],
             [
              0.3333333333333333,
              "#9c179e"
             ],
             [
              0.4444444444444444,
              "#bd3786"
             ],
             [
              0.5555555555555556,
              "#d8576b"
             ],
             [
              0.6666666666666666,
              "#ed7953"
             ],
             [
              0.7777777777777778,
              "#fb9f3a"
             ],
             [
              0.8888888888888888,
              "#fdca26"
             ],
             [
              1,
              "#f0f921"
             ]
            ],
            "type": "contour"
           }
          ],
          "contourcarpet": [
           {
            "colorbar": {
             "outlinewidth": 0,
             "ticks": ""
            },
            "type": "contourcarpet"
           }
          ],
          "heatmap": [
           {
            "colorbar": {
             "outlinewidth": 0,
             "ticks": ""
            },
            "colorscale": [
             [
              0,
              "#0d0887"
             ],
             [
              0.1111111111111111,
              "#46039f"
             ],
             [
              0.2222222222222222,
              "#7201a8"
             ],
             [
              0.3333333333333333,
              "#9c179e"
             ],
             [
              0.4444444444444444,
              "#bd3786"
             ],
             [
              0.5555555555555556,
              "#d8576b"
             ],
             [
              0.6666666666666666,
              "#ed7953"
             ],
             [
              0.7777777777777778,
              "#fb9f3a"
             ],
             [
              0.8888888888888888,
              "#fdca26"
             ],
             [
              1,
              "#f0f921"
             ]
            ],
            "type": "heatmap"
           }
          ],
          "heatmapgl": [
           {
            "colorbar": {
             "outlinewidth": 0,
             "ticks": ""
            },
            "colorscale": [
             [
              0,
              "#0d0887"
             ],
             [
              0.1111111111111111,
              "#46039f"
             ],
             [
              0.2222222222222222,
              "#7201a8"
             ],
             [
              0.3333333333333333,
              "#9c179e"
             ],
             [
              0.4444444444444444,
              "#bd3786"
             ],
             [
              0.5555555555555556,
              "#d8576b"
             ],
             [
              0.6666666666666666,
              "#ed7953"
             ],
             [
              0.7777777777777778,
              "#fb9f3a"
             ],
             [
              0.8888888888888888,
              "#fdca26"
             ],
             [
              1,
              "#f0f921"
             ]
            ],
            "type": "heatmapgl"
           }
          ],
          "histogram": [
           {
            "marker": {
             "pattern": {
              "fillmode": "overlay",
              "size": 10,
              "solidity": 0.2
             }
            },
            "type": "histogram"
           }
          ],
          "histogram2d": [
           {
            "colorbar": {
             "outlinewidth": 0,
             "ticks": ""
            },
            "colorscale": [
             [
              0,
              "#0d0887"
             ],
             [
              0.1111111111111111,
              "#46039f"
             ],
             [
              0.2222222222222222,
              "#7201a8"
             ],
             [
              0.3333333333333333,
              "#9c179e"
             ],
             [
              0.4444444444444444,
              "#bd3786"
             ],
             [
              0.5555555555555556,
              "#d8576b"
             ],
             [
              0.6666666666666666,
              "#ed7953"
             ],
             [
              0.7777777777777778,
              "#fb9f3a"
             ],
             [
              0.8888888888888888,
              "#fdca26"
             ],
             [
              1,
              "#f0f921"
             ]
            ],
            "type": "histogram2d"
           }
          ],
          "histogram2dcontour": [
           {
            "colorbar": {
             "outlinewidth": 0,
             "ticks": ""
            },
            "colorscale": [
             [
              0,
              "#0d0887"
             ],
             [
              0.1111111111111111,
              "#46039f"
             ],
             [
              0.2222222222222222,
              "#7201a8"
             ],
             [
              0.3333333333333333,
              "#9c179e"
             ],
             [
              0.4444444444444444,
              "#bd3786"
             ],
             [
              0.5555555555555556,
              "#d8576b"
             ],
             [
              0.6666666666666666,
              "#ed7953"
             ],
             [
              0.7777777777777778,
              "#fb9f3a"
             ],
             [
              0.8888888888888888,
              "#fdca26"
             ],
             [
              1,
              "#f0f921"
             ]
            ],
            "type": "histogram2dcontour"
           }
          ],
          "mesh3d": [
           {
            "colorbar": {
             "outlinewidth": 0,
             "ticks": ""
            },
            "type": "mesh3d"
           }
          ],
          "parcoords": [
           {
            "line": {
             "colorbar": {
              "outlinewidth": 0,
              "ticks": ""
             }
            },
            "type": "parcoords"
           }
          ],
          "pie": [
           {
            "automargin": true,
            "type": "pie"
           }
          ],
          "scatter": [
           {
            "marker": {
             "colorbar": {
              "outlinewidth": 0,
              "ticks": ""
             }
            },
            "type": "scatter"
           }
          ],
          "scatter3d": [
           {
            "line": {
             "colorbar": {
              "outlinewidth": 0,
              "ticks": ""
             }
            },
            "marker": {
             "colorbar": {
              "outlinewidth": 0,
              "ticks": ""
             }
            },
            "type": "scatter3d"
           }
          ],
          "scattercarpet": [
           {
            "marker": {
             "colorbar": {
              "outlinewidth": 0,
              "ticks": ""
             }
            },
            "type": "scattercarpet"
           }
          ],
          "scattergeo": [
           {
            "marker": {
             "colorbar": {
              "outlinewidth": 0,
              "ticks": ""
             }
            },
            "type": "scattergeo"
           }
          ],
          "scattergl": [
           {
            "marker": {
             "colorbar": {
              "outlinewidth": 0,
              "ticks": ""
             }
            },
            "type": "scattergl"
           }
          ],
          "scattermapbox": [
           {
            "marker": {
             "colorbar": {
              "outlinewidth": 0,
              "ticks": ""
             }
            },
            "type": "scattermapbox"
           }
          ],
          "scatterpolar": [
           {
            "marker": {
             "colorbar": {
              "outlinewidth": 0,
              "ticks": ""
             }
            },
            "type": "scatterpolar"
           }
          ],
          "scatterpolargl": [
           {
            "marker": {
             "colorbar": {
              "outlinewidth": 0,
              "ticks": ""
             }
            },
            "type": "scatterpolargl"
           }
          ],
          "scatterternary": [
           {
            "marker": {
             "colorbar": {
              "outlinewidth": 0,
              "ticks": ""
             }
            },
            "type": "scatterternary"
           }
          ],
          "surface": [
           {
            "colorbar": {
             "outlinewidth": 0,
             "ticks": ""
            },
            "colorscale": [
             [
              0,
              "#0d0887"
             ],
             [
              0.1111111111111111,
              "#46039f"
             ],
             [
              0.2222222222222222,
              "#7201a8"
             ],
             [
              0.3333333333333333,
              "#9c179e"
             ],
             [
              0.4444444444444444,
              "#bd3786"
             ],
             [
              0.5555555555555556,
              "#d8576b"
             ],
             [
              0.6666666666666666,
              "#ed7953"
             ],
             [
              0.7777777777777778,
              "#fb9f3a"
             ],
             [
              0.8888888888888888,
              "#fdca26"
             ],
             [
              1,
              "#f0f921"
             ]
            ],
            "type": "surface"
           }
          ],
          "table": [
           {
            "cells": {
             "fill": {
              "color": "#EBF0F8"
             },
             "line": {
              "color": "white"
             }
            },
            "header": {
             "fill": {
              "color": "#C8D4E3"
             },
             "line": {
              "color": "white"
             }
            },
            "type": "table"
           }
          ]
         },
         "layout": {
          "annotationdefaults": {
           "arrowcolor": "#2a3f5f",
           "arrowhead": 0,
           "arrowwidth": 1
          },
          "autotypenumbers": "strict",
          "coloraxis": {
           "colorbar": {
            "outlinewidth": 0,
            "ticks": ""
           }
          },
          "colorscale": {
           "diverging": [
            [
             0,
             "#8e0152"
            ],
            [
             0.1,
             "#c51b7d"
            ],
            [
             0.2,
             "#de77ae"
            ],
            [
             0.3,
             "#f1b6da"
            ],
            [
             0.4,
             "#fde0ef"
            ],
            [
             0.5,
             "#f7f7f7"
            ],
            [
             0.6,
             "#e6f5d0"
            ],
            [
             0.7,
             "#b8e186"
            ],
            [
             0.8,
             "#7fbc41"
            ],
            [
             0.9,
             "#4d9221"
            ],
            [
             1,
             "#276419"
            ]
           ],
           "sequential": [
            [
             0,
             "#0d0887"
            ],
            [
             0.1111111111111111,
             "#46039f"
            ],
            [
             0.2222222222222222,
             "#7201a8"
            ],
            [
             0.3333333333333333,
             "#9c179e"
            ],
            [
             0.4444444444444444,
             "#bd3786"
            ],
            [
             0.5555555555555556,
             "#d8576b"
            ],
            [
             0.6666666666666666,
             "#ed7953"
            ],
            [
             0.7777777777777778,
             "#fb9f3a"
            ],
            [
             0.8888888888888888,
             "#fdca26"
            ],
            [
             1,
             "#f0f921"
            ]
           ],
           "sequentialminus": [
            [
             0,
             "#0d0887"
            ],
            [
             0.1111111111111111,
             "#46039f"
            ],
            [
             0.2222222222222222,
             "#7201a8"
            ],
            [
             0.3333333333333333,
             "#9c179e"
            ],
            [
             0.4444444444444444,
             "#bd3786"
            ],
            [
             0.5555555555555556,
             "#d8576b"
            ],
            [
             0.6666666666666666,
             "#ed7953"
            ],
            [
             0.7777777777777778,
             "#fb9f3a"
            ],
            [
             0.8888888888888888,
             "#fdca26"
            ],
            [
             1,
             "#f0f921"
            ]
           ]
          },
          "colorway": [
           "#636efa",
           "#EF553B",
           "#00cc96",
           "#ab63fa",
           "#FFA15A",
           "#19d3f3",
           "#FF6692",
           "#B6E880",
           "#FF97FF",
           "#FECB52"
          ],
          "font": {
           "color": "#2a3f5f"
          },
          "geo": {
           "bgcolor": "white",
           "lakecolor": "white",
           "landcolor": "#E5ECF6",
           "showlakes": true,
           "showland": true,
           "subunitcolor": "white"
          },
          "hoverlabel": {
           "align": "left"
          },
          "hovermode": "closest",
          "mapbox": {
           "style": "light"
          },
          "paper_bgcolor": "white",
          "plot_bgcolor": "#E5ECF6",
          "polar": {
           "angularaxis": {
            "gridcolor": "white",
            "linecolor": "white",
            "ticks": ""
           },
           "bgcolor": "#E5ECF6",
           "radialaxis": {
            "gridcolor": "white",
            "linecolor": "white",
            "ticks": ""
           }
          },
          "scene": {
           "xaxis": {
            "backgroundcolor": "#E5ECF6",
            "gridcolor": "white",
            "gridwidth": 2,
            "linecolor": "white",
            "showbackground": true,
            "ticks": "",
            "zerolinecolor": "white"
           },
           "yaxis": {
            "backgroundcolor": "#E5ECF6",
            "gridcolor": "white",
            "gridwidth": 2,
            "linecolor": "white",
            "showbackground": true,
            "ticks": "",
            "zerolinecolor": "white"
           },
           "zaxis": {
            "backgroundcolor": "#E5ECF6",
            "gridcolor": "white",
            "gridwidth": 2,
            "linecolor": "white",
            "showbackground": true,
            "ticks": "",
            "zerolinecolor": "white"
           }
          },
          "shapedefaults": {
           "line": {
            "color": "#2a3f5f"
           }
          },
          "ternary": {
           "aaxis": {
            "gridcolor": "white",
            "linecolor": "white",
            "ticks": ""
           },
           "baxis": {
            "gridcolor": "white",
            "linecolor": "white",
            "ticks": ""
           },
           "bgcolor": "#E5ECF6",
           "caxis": {
            "gridcolor": "white",
            "linecolor": "white",
            "ticks": ""
           }
          },
          "title": {
           "x": 0.05
          },
          "xaxis": {
           "automargin": true,
           "gridcolor": "white",
           "linecolor": "white",
           "ticks": "",
           "title": {
            "standoff": 15
           },
           "zerolinecolor": "white",
           "zerolinewidth": 2
          },
          "yaxis": {
           "automargin": true,
           "gridcolor": "white",
           "linecolor": "white",
           "ticks": "",
           "title": {
            "standoff": 15
           },
           "zerolinecolor": "white",
           "zerolinewidth": 2
          }
         }
        },
        "title": {
         "text": "Numbers of Top 100 Video Games Publishers"
        },
        "xaxis": {
         "title": {
          "text": "Publishers"
         }
        },
        "yaxis": {
         "title": {
          "text": "Count"
         }
        }
       }
      },
      "text/html": [
       "<div>                            <div id=\"47b85139-9458-49d8-a06f-6f83ebf42f2d\" class=\"plotly-graph-div\" style=\"height:525px; width:100%;\"></div>            <script type=\"text/javascript\">                require([\"plotly\"], function(Plotly) {                    window.PLOTLYENV=window.PLOTLYENV || {};                                    if (document.getElementById(\"47b85139-9458-49d8-a06f-6f83ebf42f2d\")) {                    Plotly.newPlot(                        \"47b85139-9458-49d8-a06f-6f83ebf42f2d\",                        [{\"marker\":{\"color\":\"crimson\",\"line\":{\"color\":\"black\",\"width\":2}},\"opacity\":0.75,\"type\":\"histogram\",\"x\":[\"Nintendo\",\"Nintendo\",\"Nintendo\",\"Nintendo\",\"Nintendo\",\"Nintendo\",\"Nintendo\",\"Nintendo\",\"Nintendo\",\"Nintendo\",\"Nintendo\",\"Nintendo\",\"Nintendo\",\"Nintendo\",\"Nintendo\",\"Microsoft Game Studios\",\"Take-Two Interactive\",\"Take-Two Interactive\",\"Nintendo\",\"Nintendo\",\"Nintendo\",\"Nintendo\",\"Nintendo\",\"Take-Two Interactive\",\"Take-Two Interactive\",\"Nintendo\",\"Nintendo\",\"Nintendo\",\"Sony Computer Entertainment\",\"Activision\",\"Nintendo\",\"Activision\",\"Nintendo\",\"Activision\",\"Activision\",\"Activision\",\"Activision\",\"Activision\",\"Take-Two Interactive\",\"Nintendo\",\"Activision\",\"Nintendo\",\"Nintendo\",\"Microsoft Game Studios\",\"Take-Two Interactive\",\"Nintendo\",\"Nintendo\",\"Sony Computer Entertainment\",\"Nintendo\",\"Nintendo\",\"Nintendo\",\"Take-Two Interactive\",\"Sony Computer Entertainment\",\"Nintendo\",\"Sony Computer Entertainment\",\"Activision\",\"Take-Two Interactive\",\"Nintendo\",\"Nintendo\",\"Nintendo\",\"Ubisoft\",\"Activision\",\"Microsoft Game Studios\",\"Nintendo\",\"Nintendo\",\"Microsoft Game Studios\",\"Sony Computer Entertainment\",\"Activision\",\"Ubisoft\",\"Sony Computer Entertainment\",\"Activision\",\"Nintendo\",\"Microsoft Game Studios\",\"Nintendo\",\"Nintendo\",\"Bethesda Softworks\",\"Nintendo\",\"Electronic Arts\",\"Nintendo\",\"Microsoft Game Studios\",\"Nintendo\",\"Nintendo\",\"Electronic Arts\",\"Electronic Arts\",\"Nintendo\",\"Sega\",\"Sony Computer Entertainment\",\"SquareSoft\",\"Nintendo\",\"Atari\",\"Take-Two Interactive\",\"Nintendo\",\"Electronic Arts\",\"Activision\",\"Nintendo\",\"Sony Computer Entertainment\",\"Nintendo\",\"Nintendo\",\"Activision\",\"Electronic Arts\"]}],                        {\"bargap\":0.2,\"bargroupgap\":0.1,\"paper_bgcolor\":\"rgb(243, 243, 243)\",\"plot_bgcolor\":\"rgb(243, 243, 243)\",\"template\":{\"data\":{\"bar\":[{\"error_x\":{\"color\":\"#2a3f5f\"},\"error_y\":{\"color\":\"#2a3f5f\"},\"marker\":{\"line\":{\"color\":\"#E5ECF6\",\"width\":0.5},\"pattern\":{\"fillmode\":\"overlay\",\"size\":10,\"solidity\":0.2}},\"type\":\"bar\"}],\"barpolar\":[{\"marker\":{\"line\":{\"color\":\"#E5ECF6\",\"width\":0.5},\"pattern\":{\"fillmode\":\"overlay\",\"size\":10,\"solidity\":0.2}},\"type\":\"barpolar\"}],\"carpet\":[{\"aaxis\":{\"endlinecolor\":\"#2a3f5f\",\"gridcolor\":\"white\",\"linecolor\":\"white\",\"minorgridcolor\":\"white\",\"startlinecolor\":\"#2a3f5f\"},\"baxis\":{\"endlinecolor\":\"#2a3f5f\",\"gridcolor\":\"white\",\"linecolor\":\"white\",\"minorgridcolor\":\"white\",\"startlinecolor\":\"#2a3f5f\"},\"type\":\"carpet\"}],\"choropleth\":[{\"colorbar\":{\"outlinewidth\":0,\"ticks\":\"\"},\"type\":\"choropleth\"}],\"contour\":[{\"colorbar\":{\"outlinewidth\":0,\"ticks\":\"\"},\"colorscale\":[[0.0,\"#0d0887\"],[0.1111111111111111,\"#46039f\"],[0.2222222222222222,\"#7201a8\"],[0.3333333333333333,\"#9c179e\"],[0.4444444444444444,\"#bd3786\"],[0.5555555555555556,\"#d8576b\"],[0.6666666666666666,\"#ed7953\"],[0.7777777777777778,\"#fb9f3a\"],[0.8888888888888888,\"#fdca26\"],[1.0,\"#f0f921\"]],\"type\":\"contour\"}],\"contourcarpet\":[{\"colorbar\":{\"outlinewidth\":0,\"ticks\":\"\"},\"type\":\"contourcarpet\"}],\"heatmap\":[{\"colorbar\":{\"outlinewidth\":0,\"ticks\":\"\"},\"colorscale\":[[0.0,\"#0d0887\"],[0.1111111111111111,\"#46039f\"],[0.2222222222222222,\"#7201a8\"],[0.3333333333333333,\"#9c179e\"],[0.4444444444444444,\"#bd3786\"],[0.5555555555555556,\"#d8576b\"],[0.6666666666666666,\"#ed7953\"],[0.7777777777777778,\"#fb9f3a\"],[0.8888888888888888,\"#fdca26\"],[1.0,\"#f0f921\"]],\"type\":\"heatmap\"}],\"heatmapgl\":[{\"colorbar\":{\"outlinewidth\":0,\"ticks\":\"\"},\"colorscale\":[[0.0,\"#0d0887\"],[0.1111111111111111,\"#46039f\"],[0.2222222222222222,\"#7201a8\"],[0.3333333333333333,\"#9c179e\"],[0.4444444444444444,\"#bd3786\"],[0.5555555555555556,\"#d8576b\"],[0.6666666666666666,\"#ed7953\"],[0.7777777777777778,\"#fb9f3a\"],[0.8888888888888888,\"#fdca26\"],[1.0,\"#f0f921\"]],\"type\":\"heatmapgl\"}],\"histogram\":[{\"marker\":{\"pattern\":{\"fillmode\":\"overlay\",\"size\":10,\"solidity\":0.2}},\"type\":\"histogram\"}],\"histogram2d\":[{\"colorbar\":{\"outlinewidth\":0,\"ticks\":\"\"},\"colorscale\":[[0.0,\"#0d0887\"],[0.1111111111111111,\"#46039f\"],[0.2222222222222222,\"#7201a8\"],[0.3333333333333333,\"#9c179e\"],[0.4444444444444444,\"#bd3786\"],[0.5555555555555556,\"#d8576b\"],[0.6666666666666666,\"#ed7953\"],[0.7777777777777778,\"#fb9f3a\"],[0.8888888888888888,\"#fdca26\"],[1.0,\"#f0f921\"]],\"type\":\"histogram2d\"}],\"histogram2dcontour\":[{\"colorbar\":{\"outlinewidth\":0,\"ticks\":\"\"},\"colorscale\":[[0.0,\"#0d0887\"],[0.1111111111111111,\"#46039f\"],[0.2222222222222222,\"#7201a8\"],[0.3333333333333333,\"#9c179e\"],[0.4444444444444444,\"#bd3786\"],[0.5555555555555556,\"#d8576b\"],[0.6666666666666666,\"#ed7953\"],[0.7777777777777778,\"#fb9f3a\"],[0.8888888888888888,\"#fdca26\"],[1.0,\"#f0f921\"]],\"type\":\"histogram2dcontour\"}],\"mesh3d\":[{\"colorbar\":{\"outlinewidth\":0,\"ticks\":\"\"},\"type\":\"mesh3d\"}],\"parcoords\":[{\"line\":{\"colorbar\":{\"outlinewidth\":0,\"ticks\":\"\"}},\"type\":\"parcoords\"}],\"pie\":[{\"automargin\":true,\"type\":\"pie\"}],\"scatter\":[{\"marker\":{\"colorbar\":{\"outlinewidth\":0,\"ticks\":\"\"}},\"type\":\"scatter\"}],\"scatter3d\":[{\"line\":{\"colorbar\":{\"outlinewidth\":0,\"ticks\":\"\"}},\"marker\":{\"colorbar\":{\"outlinewidth\":0,\"ticks\":\"\"}},\"type\":\"scatter3d\"}],\"scattercarpet\":[{\"marker\":{\"colorbar\":{\"outlinewidth\":0,\"ticks\":\"\"}},\"type\":\"scattercarpet\"}],\"scattergeo\":[{\"marker\":{\"colorbar\":{\"outlinewidth\":0,\"ticks\":\"\"}},\"type\":\"scattergeo\"}],\"scattergl\":[{\"marker\":{\"colorbar\":{\"outlinewidth\":0,\"ticks\":\"\"}},\"type\":\"scattergl\"}],\"scattermapbox\":[{\"marker\":{\"colorbar\":{\"outlinewidth\":0,\"ticks\":\"\"}},\"type\":\"scattermapbox\"}],\"scatterpolar\":[{\"marker\":{\"colorbar\":{\"outlinewidth\":0,\"ticks\":\"\"}},\"type\":\"scatterpolar\"}],\"scatterpolargl\":[{\"marker\":{\"colorbar\":{\"outlinewidth\":0,\"ticks\":\"\"}},\"type\":\"scatterpolargl\"}],\"scatterternary\":[{\"marker\":{\"colorbar\":{\"outlinewidth\":0,\"ticks\":\"\"}},\"type\":\"scatterternary\"}],\"surface\":[{\"colorbar\":{\"outlinewidth\":0,\"ticks\":\"\"},\"colorscale\":[[0.0,\"#0d0887\"],[0.1111111111111111,\"#46039f\"],[0.2222222222222222,\"#7201a8\"],[0.3333333333333333,\"#9c179e\"],[0.4444444444444444,\"#bd3786\"],[0.5555555555555556,\"#d8576b\"],[0.6666666666666666,\"#ed7953\"],[0.7777777777777778,\"#fb9f3a\"],[0.8888888888888888,\"#fdca26\"],[1.0,\"#f0f921\"]],\"type\":\"surface\"}],\"table\":[{\"cells\":{\"fill\":{\"color\":\"#EBF0F8\"},\"line\":{\"color\":\"white\"}},\"header\":{\"fill\":{\"color\":\"#C8D4E3\"},\"line\":{\"color\":\"white\"}},\"type\":\"table\"}]},\"layout\":{\"annotationdefaults\":{\"arrowcolor\":\"#2a3f5f\",\"arrowhead\":0,\"arrowwidth\":1},\"autotypenumbers\":\"strict\",\"coloraxis\":{\"colorbar\":{\"outlinewidth\":0,\"ticks\":\"\"}},\"colorscale\":{\"diverging\":[[0,\"#8e0152\"],[0.1,\"#c51b7d\"],[0.2,\"#de77ae\"],[0.3,\"#f1b6da\"],[0.4,\"#fde0ef\"],[0.5,\"#f7f7f7\"],[0.6,\"#e6f5d0\"],[0.7,\"#b8e186\"],[0.8,\"#7fbc41\"],[0.9,\"#4d9221\"],[1,\"#276419\"]],\"sequential\":[[0.0,\"#0d0887\"],[0.1111111111111111,\"#46039f\"],[0.2222222222222222,\"#7201a8\"],[0.3333333333333333,\"#9c179e\"],[0.4444444444444444,\"#bd3786\"],[0.5555555555555556,\"#d8576b\"],[0.6666666666666666,\"#ed7953\"],[0.7777777777777778,\"#fb9f3a\"],[0.8888888888888888,\"#fdca26\"],[1.0,\"#f0f921\"]],\"sequentialminus\":[[0.0,\"#0d0887\"],[0.1111111111111111,\"#46039f\"],[0.2222222222222222,\"#7201a8\"],[0.3333333333333333,\"#9c179e\"],[0.4444444444444444,\"#bd3786\"],[0.5555555555555556,\"#d8576b\"],[0.6666666666666666,\"#ed7953\"],[0.7777777777777778,\"#fb9f3a\"],[0.8888888888888888,\"#fdca26\"],[1.0,\"#f0f921\"]]},\"colorway\":[\"#636efa\",\"#EF553B\",\"#00cc96\",\"#ab63fa\",\"#FFA15A\",\"#19d3f3\",\"#FF6692\",\"#B6E880\",\"#FF97FF\",\"#FECB52\"],\"font\":{\"color\":\"#2a3f5f\"},\"geo\":{\"bgcolor\":\"white\",\"lakecolor\":\"white\",\"landcolor\":\"#E5ECF6\",\"showlakes\":true,\"showland\":true,\"subunitcolor\":\"white\"},\"hoverlabel\":{\"align\":\"left\"},\"hovermode\":\"closest\",\"mapbox\":{\"style\":\"light\"},\"paper_bgcolor\":\"white\",\"plot_bgcolor\":\"#E5ECF6\",\"polar\":{\"angularaxis\":{\"gridcolor\":\"white\",\"linecolor\":\"white\",\"ticks\":\"\"},\"bgcolor\":\"#E5ECF6\",\"radialaxis\":{\"gridcolor\":\"white\",\"linecolor\":\"white\",\"ticks\":\"\"}},\"scene\":{\"xaxis\":{\"backgroundcolor\":\"#E5ECF6\",\"gridcolor\":\"white\",\"gridwidth\":2,\"linecolor\":\"white\",\"showbackground\":true,\"ticks\":\"\",\"zerolinecolor\":\"white\"},\"yaxis\":{\"backgroundcolor\":\"#E5ECF6\",\"gridcolor\":\"white\",\"gridwidth\":2,\"linecolor\":\"white\",\"showbackground\":true,\"ticks\":\"\",\"zerolinecolor\":\"white\"},\"zaxis\":{\"backgroundcolor\":\"#E5ECF6\",\"gridcolor\":\"white\",\"gridwidth\":2,\"linecolor\":\"white\",\"showbackground\":true,\"ticks\":\"\",\"zerolinecolor\":\"white\"}},\"shapedefaults\":{\"line\":{\"color\":\"#2a3f5f\"}},\"ternary\":{\"aaxis\":{\"gridcolor\":\"white\",\"linecolor\":\"white\",\"ticks\":\"\"},\"baxis\":{\"gridcolor\":\"white\",\"linecolor\":\"white\",\"ticks\":\"\"},\"bgcolor\":\"#E5ECF6\",\"caxis\":{\"gridcolor\":\"white\",\"linecolor\":\"white\",\"ticks\":\"\"}},\"title\":{\"x\":0.05},\"xaxis\":{\"automargin\":true,\"gridcolor\":\"white\",\"linecolor\":\"white\",\"ticks\":\"\",\"title\":{\"standoff\":15},\"zerolinecolor\":\"white\",\"zerolinewidth\":2},\"yaxis\":{\"automargin\":true,\"gridcolor\":\"white\",\"linecolor\":\"white\",\"ticks\":\"\",\"title\":{\"standoff\":15},\"zerolinecolor\":\"white\",\"zerolinewidth\":2}}},\"title\":{\"text\":\"Numbers of Top 100 Video Games Publishers\"},\"xaxis\":{\"title\":{\"text\":\"Publishers\"}},\"yaxis\":{\"title\":{\"text\":\"Count\"}}},                        {\"responsive\": true}                    ).then(function(){\n",
       "                            \n",
       "var gd = document.getElementById('47b85139-9458-49d8-a06f-6f83ebf42f2d');\n",
       "var x = new MutationObserver(function (mutations, observer) {{\n",
       "        var display = window.getComputedStyle(gd).display;\n",
       "        if (!display || display === 'none') {{\n",
       "            console.log([gd, 'removed!']);\n",
       "            Plotly.purge(gd);\n",
       "            observer.disconnect();\n",
       "        }}\n",
       "}});\n",
       "\n",
       "// Listen for the removal of the full notebook cells\n",
       "var notebookContainer = gd.closest('#notebook-container');\n",
       "if (notebookContainer) {{\n",
       "    x.observe(notebookContainer, {childList: true});\n",
       "}}\n",
       "\n",
       "// Listen for the clearing of the current output cell\n",
       "var outputEl = gd.closest('.output');\n",
       "if (outputEl) {{\n",
       "    x.observe(outputEl, {childList: true});\n",
       "}}\n",
       "\n",
       "                        })                };                });            </script>        </div>"
      ]
     },
     "metadata": {},
     "output_type": "display_data"
    }
   ],
   "source": [
    "trace = go.Histogram(x=df.Publisher,marker=dict(color=\"crimson\",line=dict(color='black', width=2)),opacity=0.75)\n",
    "layout = go.Layout(\n",
    "    title='Numbers of Top 100 Video Games Publishers',\n",
    "    xaxis=dict(\n",
    "        title='Publishers'\n",
    "    ),\n",
    "    yaxis=dict(\n",
    "        title='Count'\n",
    "    ),\n",
    "    bargap=0.2,\n",
    "    bargroupgap=0.1, paper_bgcolor='rgb(243, 243, 243)',\n",
    "    plot_bgcolor=\"rgb(243, 243, 243)\")\n",
    "fig = go.Figure(data=[trace], layout=layout)\n",
    "iplot(fig)"
   ]
  },
  {
   "cell_type": "code",
   "execution_count": 36,
   "metadata": {},
   "outputs": [
    {
     "data": {
      "application/vnd.plotly.v1+json": {
       "config": {
        "linkText": "Export to plot.ly",
        "plotlyServerURL": "https://plot.ly",
        "showLink": false
       },
       "data": [
        {
         "marker": {
          "color": "rgb(128, 0, 38)"
         },
         "showlegend": false,
         "type": "box",
         "xaxis": "x",
         "y": [
          2006,
          1985,
          2008,
          2009,
          1996,
          1989,
          2006,
          2006,
          2009,
          1984,
          2005,
          2005,
          1999,
          2007,
          2009,
          2010,
          2013,
          2004,
          1990,
          2005,
          2006,
          1989,
          1988,
          2013,
          2002,
          2002,
          2010,
          2005,
          2001,
          2011,
          1998,
          2010,
          2013,
          2015,
          2012,
          2012,
          2009,
          2011,
          2001,
          2008,
          2010,
          2005,
          2011,
          2007,
          2014,
          2009,
          1996,
          2004,
          2007,
          2014,
          1992,
          2008,
          1997,
          2011,
          2010,
          2009,
          2008,
          1993,
          2004,
          2004,
          2011,
          2013,
          2010,
          1996,
          2012,
          2012,
          1997,
          2013,
          2010,
          1999,
          2007,
          1994,
          2013,
          2012,
          2007,
          2011,
          1992,
          2015,
          2010,
          2004,
          2007,
          2012,
          2012,
          2009,
          1997,
          2007,
          2001,
          1999,
          2008,
          1982,
          2005,
          2010,
          2015,
          2014,
          1998,
          1997,
          1988,
          2014,
          2008,
          2011
         ],
         "yaxis": "y"
        },
        {
         "marker": {
          "color": [
           1,
           2,
           3,
           4,
           5,
           6,
           7,
           8,
           9,
           10,
           11,
           12,
           13,
           14,
           15,
           16,
           17,
           18,
           19,
           20,
           21,
           22,
           23,
           24,
           25,
           26,
           27,
           28,
           29,
           30,
           31,
           32,
           33,
           34,
           35,
           36,
           37,
           38,
           39,
           40,
           41,
           42,
           43,
           44,
           45,
           46,
           47,
           48,
           49,
           50,
           51,
           52,
           53,
           54,
           55,
           56,
           57,
           58,
           59,
           60,
           61,
           62,
           63,
           64,
           65,
           66,
           67,
           68,
           69,
           70,
           71,
           72,
           73,
           74,
           75,
           76,
           77,
           78,
           79,
           80,
           81,
           82,
           83,
           84,
           85,
           86,
           87,
           88,
           89,
           90,
           91,
           92,
           93,
           94,
           95,
           96,
           97,
           98,
           99,
           100
          ],
          "colorscale": [
           [
            0,
            "rgb(128, 0, 38)"
           ],
           [
            1,
            "rgb(255, 255, 204)"
           ]
          ],
          "showscale": true,
          "size": 6
         },
         "mode": "markers",
         "showlegend": false,
         "type": "scatter",
         "x": [
          "Wii",
          "NES",
          "Wii",
          "Wii",
          "GB",
          "GB",
          "DS",
          "Wii",
          "Wii",
          "NES",
          "DS",
          "DS",
          "GB",
          "Wii",
          "Wii",
          "X360",
          "PS3",
          "PS2",
          "SNES",
          "DS",
          "DS",
          "GB",
          "NES",
          "X360",
          "PS2",
          "GBA",
          "DS",
          "DS",
          "PS2",
          "X360",
          "GB",
          "X360",
          "3DS",
          "PS4",
          "PS3",
          "X360",
          "X360",
          "PS3",
          "PS2",
          "Wii",
          "PS3",
          "DS",
          "3DS",
          "X360",
          "PS4",
          "DS",
          "N64",
          "PS2",
          "Wii",
          "3DS",
          "GB",
          "X360",
          "PS",
          "3DS",
          "PS3",
          "PS3",
          "PS3",
          "SNES",
          "GBA",
          "DS",
          "Wii",
          "X360",
          "X360",
          "N64",
          "3DS",
          "X360",
          "PS",
          "PS3",
          "Wii",
          "PS",
          "X360",
          "SNES",
          "X360",
          "3DS",
          "DS",
          "X360",
          "SNES",
          "PS4",
          "Wii",
          "XB",
          "Wii",
          "DS",
          "PS3",
          "PC",
          "N64",
          "Wii",
          "PS2",
          "PS",
          "DS",
          "2600",
          "PSP",
          "Wii",
          "PS4",
          "PS4",
          "N64",
          "PS",
          "NES",
          "3DS",
          "X360",
          "X360"
         ],
         "xaxis": "x2",
         "y": [
          2006,
          1985,
          2008,
          2009,
          1996,
          1989,
          2006,
          2006,
          2009,
          1984,
          2005,
          2005,
          1999,
          2007,
          2009,
          2010,
          2013,
          2004,
          1990,
          2005,
          2006,
          1989,
          1988,
          2013,
          2002,
          2002,
          2010,
          2005,
          2001,
          2011,
          1998,
          2010,
          2013,
          2015,
          2012,
          2012,
          2009,
          2011,
          2001,
          2008,
          2010,
          2005,
          2011,
          2007,
          2014,
          2009,
          1996,
          2004,
          2007,
          2014,
          1992,
          2008,
          1997,
          2011,
          2010,
          2009,
          2008,
          1993,
          2004,
          2004,
          2011,
          2013,
          2010,
          1996,
          2012,
          2012,
          1997,
          2013,
          2010,
          1999,
          2007,
          1994,
          2013,
          2012,
          2007,
          2011,
          1992,
          2015,
          2010,
          2004,
          2007,
          2012,
          2012,
          2009,
          1997,
          2007,
          2001,
          1999,
          2008,
          1982,
          2005,
          2010,
          2015,
          2014,
          1998,
          1997,
          1988,
          2014,
          2008,
          2011
         ],
         "yaxis": "y2"
        },
        {
         "marker": {
          "color": [
           1,
           2,
           3,
           4,
           5,
           6,
           7,
           8,
           9,
           10,
           11,
           12,
           13,
           14,
           15,
           16,
           17,
           18,
           19,
           20,
           21,
           22,
           23,
           24,
           25,
           26,
           27,
           28,
           29,
           30,
           31,
           32,
           33,
           34,
           35,
           36,
           37,
           38,
           39,
           40,
           41,
           42,
           43,
           44,
           45,
           46,
           47,
           48,
           49,
           50,
           51,
           52,
           53,
           54,
           55,
           56,
           57,
           58,
           59,
           60,
           61,
           62,
           63,
           64,
           65,
           66,
           67,
           68,
           69,
           70,
           71,
           72,
           73,
           74,
           75,
           76,
           77,
           78,
           79,
           80,
           81,
           82,
           83,
           84,
           85,
           86,
           87,
           88,
           89,
           90,
           91,
           92,
           93,
           94,
           95,
           96,
           97,
           98,
           99,
           100
          ],
          "colorscale": [
           [
            0,
            "rgb(128, 0, 38)"
           ],
           [
            1,
            "rgb(255, 255, 204)"
           ]
          ],
          "showscale": false,
          "size": 6
         },
         "mode": "markers",
         "showlegend": false,
         "type": "scatter",
         "x": [
          41.49,
          29.08,
          15.85,
          15.75,
          11.27,
          23.2,
          11.38,
          14.03,
          14.59,
          26.93,
          9.07,
          9.81,
          9,
          8.94,
          9.09,
          14.97,
          7.01,
          9.43,
          12.78,
          4.75,
          6.42,
          10.83,
          9.54,
          9.63,
          8.41,
          6.06,
          5.57,
          3.44,
          6.85,
          9.03,
          5.89,
          9.67,
          5.17,
          5.77,
          4.99,
          8.25,
          8.52,
          5.54,
          6.99,
          6.75,
          5.98,
          2.55,
          4.74,
          7.97,
          3.8,
          4.4,
          6.91,
          3.01,
          6.16,
          4.23,
          6.16,
          6.76,
          4.02,
          4.89,
          2.96,
          4.99,
          4.76,
          5.99,
          4.34,
          5.08,
          6.05,
          6.72,
          7.03,
          5.55,
          3.66,
          6.63,
          3.01,
          4.09,
          5.84,
          3.88,
          5.91,
          4.36,
          5.58,
          2.01,
          4.46,
          5.03,
          3.54,
          1.11,
          1.79,
          6.82,
          3.81,
          2.91,
          1.06,
          0.98,
          5.8,
          2.58,
          2.91,
          2.28,
          2.82,
          7.28,
          2.9,
          3.66,
          2.93,
          2.8,
          4.1,
          3.78,
          5.39,
          3.24,
          4.79,
          4.46
         ],
         "xaxis": "x3",
         "y": [
          2006,
          1985,
          2008,
          2009,
          1996,
          1989,
          2006,
          2006,
          2009,
          1984,
          2005,
          2005,
          1999,
          2007,
          2009,
          2010,
          2013,
          2004,
          1990,
          2005,
          2006,
          1989,
          1988,
          2013,
          2002,
          2002,
          2010,
          2005,
          2001,
          2011,
          1998,
          2010,
          2013,
          2015,
          2012,
          2012,
          2009,
          2011,
          2001,
          2008,
          2010,
          2005,
          2011,
          2007,
          2014,
          2009,
          1996,
          2004,
          2007,
          2014,
          1992,
          2008,
          1997,
          2011,
          2010,
          2009,
          2008,
          1993,
          2004,
          2004,
          2011,
          2013,
          2010,
          1996,
          2012,
          2012,
          1997,
          2013,
          2010,
          1999,
          2007,
          1994,
          2013,
          2012,
          2007,
          2011,
          1992,
          2015,
          2010,
          2004,
          2007,
          2012,
          2012,
          2009,
          1997,
          2007,
          2001,
          1999,
          2008,
          1982,
          2005,
          2010,
          2015,
          2014,
          1998,
          1997,
          1988,
          2014,
          2008,
          2011
         ],
         "yaxis": "y3"
        },
        {
         "marker": {
          "color": [
           1,
           2,
           3,
           4,
           5,
           6,
           7,
           8,
           9,
           10,
           11,
           12,
           13,
           14,
           15,
           16,
           17,
           18,
           19,
           20,
           21,
           22,
           23,
           24,
           25,
           26,
           27,
           28,
           29,
           30,
           31,
           32,
           33,
           34,
           35,
           36,
           37,
           38,
           39,
           40,
           41,
           42,
           43,
           44,
           45,
           46,
           47,
           48,
           49,
           50,
           51,
           52,
           53,
           54,
           55,
           56,
           57,
           58,
           59,
           60,
           61,
           62,
           63,
           64,
           65,
           66,
           67,
           68,
           69,
           70,
           71,
           72,
           73,
           74,
           75,
           76,
           77,
           78,
           79,
           80,
           81,
           82,
           83,
           84,
           85,
           86,
           87,
           88,
           89,
           90,
           91,
           92,
           93,
           94,
           95,
           96,
           97,
           98,
           99,
           100
          ],
          "colorscale": [
           [
            0,
            "rgb(128, 0, 38)"
           ],
           [
            1,
            "rgb(255, 255, 204)"
           ]
          ],
          "showscale": false,
          "size": 6
         },
         "mode": "markers",
         "showlegend": false,
         "type": "scatter",
         "x": [
          29.02,
          3.58,
          12.88,
          11.01,
          8.89,
          2.26,
          9.23,
          9.2,
          7.06,
          0.63,
          11,
          7.57,
          6.18,
          8.03,
          8.59,
          4.94,
          9.27,
          0.4,
          3.75,
          9.26,
          4.52,
          2.71,
          3.44,
          5.31,
          5.49,
          3.9,
          3.28,
          5.36,
          5.09,
          4.28,
          5.04,
          3.73,
          4.05,
          5.81,
          5.88,
          4.3,
          3.63,
          5.82,
          4.51,
          2.61,
          4.44,
          3.52,
          3.91,
          2.83,
          5.81,
          2.77,
          2.85,
          0.01,
          3.4,
          3.37,
          2.04,
          3.1,
          3.87,
          2.99,
          4.88,
          3.69,
          3.76,
          2.15,
          2.65,
          3.11,
          3.15,
          2.63,
          1.98,
          1.94,
          3.07,
          2.36,
          2.47,
          3.73,
          2.89,
          3.42,
          2.38,
          1.71,
          2.83,
          2.32,
          1.88,
          2.86,
          1.24,
          6.06,
          3.53,
          1.53,
          2.3,
          1.86,
          5.05,
          6.42,
          2.01,
          3.9,
          2.07,
          1.72,
          1.78,
          0.45,
          2.83,
          2.42,
          3.29,
          3.3,
          1.89,
          2.17,
          1.18,
          1.35,
          1.9,
          2.13
         ],
         "xaxis": "x4",
         "y": [
          2006,
          1985,
          2008,
          2009,
          1996,
          1989,
          2006,
          2006,
          2009,
          1984,
          2005,
          2005,
          1999,
          2007,
          2009,
          2010,
          2013,
          2004,
          1990,
          2005,
          2006,
          1989,
          1988,
          2013,
          2002,
          2002,
          2010,
          2005,
          2001,
          2011,
          1998,
          2010,
          2013,
          2015,
          2012,
          2012,
          2009,
          2011,
          2001,
          2008,
          2010,
          2005,
          2011,
          2007,
          2014,
          2009,
          1996,
          2004,
          2007,
          2014,
          1992,
          2008,
          1997,
          2011,
          2010,
          2009,
          2008,
          1993,
          2004,
          2004,
          2011,
          2013,
          2010,
          1996,
          2012,
          2012,
          1997,
          2013,
          2010,
          1999,
          2007,
          1994,
          2013,
          2012,
          2007,
          2011,
          1992,
          2015,
          2010,
          2004,
          2007,
          2012,
          2012,
          2009,
          1997,
          2007,
          2001,
          1999,
          2008,
          1982,
          2005,
          2010,
          2015,
          2014,
          1998,
          1997,
          1988,
          2014,
          2008,
          2011
         ],
         "yaxis": "y4"
        },
        {
         "marker": {
          "color": [
           1,
           2,
           3,
           4,
           5,
           6,
           7,
           8,
           9,
           10,
           11,
           12,
           13,
           14,
           15,
           16,
           17,
           18,
           19,
           20,
           21,
           22,
           23,
           24,
           25,
           26,
           27,
           28,
           29,
           30,
           31,
           32,
           33,
           34,
           35,
           36,
           37,
           38,
           39,
           40,
           41,
           42,
           43,
           44,
           45,
           46,
           47,
           48,
           49,
           50,
           51,
           52,
           53,
           54,
           55,
           56,
           57,
           58,
           59,
           60,
           61,
           62,
           63,
           64,
           65,
           66,
           67,
           68,
           69,
           70,
           71,
           72,
           73,
           74,
           75,
           76,
           77,
           78,
           79,
           80,
           81,
           82,
           83,
           84,
           85,
           86,
           87,
           88,
           89,
           90,
           91,
           92,
           93,
           94,
           95,
           96,
           97,
           98,
           99,
           100
          ],
          "colorscale": [
           [
            0,
            "rgb(128, 0, 38)"
           ],
           [
            1,
            "rgb(255, 255, 204)"
           ]
          ],
          "showscale": false,
          "size": 6
         },
         "mode": "markers",
         "showlegend": false,
         "type": "scatter",
         "x": [
          2006,
          1985,
          2008,
          2009,
          1996,
          1989,
          2006,
          2006,
          2009,
          1984,
          2005,
          2005,
          1999,
          2007,
          2009,
          2010,
          2013,
          2004,
          1990,
          2005,
          2006,
          1989,
          1988,
          2013,
          2002,
          2002,
          2010,
          2005,
          2001,
          2011,
          1998,
          2010,
          2013,
          2015,
          2012,
          2012,
          2009,
          2011,
          2001,
          2008,
          2010,
          2005,
          2011,
          2007,
          2014,
          2009,
          1996,
          2004,
          2007,
          2014,
          1992,
          2008,
          1997,
          2011,
          2010,
          2009,
          2008,
          1993,
          2004,
          2004,
          2011,
          2013,
          2010,
          1996,
          2012,
          2012,
          1997,
          2013,
          2010,
          1999,
          2007,
          1994,
          2013,
          2012,
          2007,
          2011,
          1992,
          2015,
          2010,
          2004,
          2007,
          2012,
          2012,
          2009,
          1997,
          2007,
          2001,
          1999,
          2008,
          1982,
          2005,
          2010,
          2015,
          2014,
          1998,
          1997,
          1988,
          2014,
          2008,
          2011
         ],
         "xaxis": "x5",
         "y": [
          "Wii",
          "NES",
          "Wii",
          "Wii",
          "GB",
          "GB",
          "DS",
          "Wii",
          "Wii",
          "NES",
          "DS",
          "DS",
          "GB",
          "Wii",
          "Wii",
          "X360",
          "PS3",
          "PS2",
          "SNES",
          "DS",
          "DS",
          "GB",
          "NES",
          "X360",
          "PS2",
          "GBA",
          "DS",
          "DS",
          "PS2",
          "X360",
          "GB",
          "X360",
          "3DS",
          "PS4",
          "PS3",
          "X360",
          "X360",
          "PS3",
          "PS2",
          "Wii",
          "PS3",
          "DS",
          "3DS",
          "X360",
          "PS4",
          "DS",
          "N64",
          "PS2",
          "Wii",
          "3DS",
          "GB",
          "X360",
          "PS",
          "3DS",
          "PS3",
          "PS3",
          "PS3",
          "SNES",
          "GBA",
          "DS",
          "Wii",
          "X360",
          "X360",
          "N64",
          "3DS",
          "X360",
          "PS",
          "PS3",
          "Wii",
          "PS",
          "X360",
          "SNES",
          "X360",
          "3DS",
          "DS",
          "X360",
          "SNES",
          "PS4",
          "Wii",
          "XB",
          "Wii",
          "DS",
          "PS3",
          "PC",
          "N64",
          "Wii",
          "PS2",
          "PS",
          "DS",
          "2600",
          "PSP",
          "Wii",
          "PS4",
          "PS4",
          "N64",
          "PS",
          "NES",
          "3DS",
          "X360",
          "X360"
         ],
         "yaxis": "y5"
        },
        {
         "marker": {
          "color": "rgb(128, 0, 38)"
         },
         "showlegend": false,
         "type": "box",
         "xaxis": "x6",
         "y": [
          "Wii",
          "NES",
          "Wii",
          "Wii",
          "GB",
          "GB",
          "DS",
          "Wii",
          "Wii",
          "NES",
          "DS",
          "DS",
          "GB",
          "Wii",
          "Wii",
          "X360",
          "PS3",
          "PS2",
          "SNES",
          "DS",
          "DS",
          "GB",
          "NES",
          "X360",
          "PS2",
          "GBA",
          "DS",
          "DS",
          "PS2",
          "X360",
          "GB",
          "X360",
          "3DS",
          "PS4",
          "PS3",
          "X360",
          "X360",
          "PS3",
          "PS2",
          "Wii",
          "PS3",
          "DS",
          "3DS",
          "X360",
          "PS4",
          "DS",
          "N64",
          "PS2",
          "Wii",
          "3DS",
          "GB",
          "X360",
          "PS",
          "3DS",
          "PS3",
          "PS3",
          "PS3",
          "SNES",
          "GBA",
          "DS",
          "Wii",
          "X360",
          "X360",
          "N64",
          "3DS",
          "X360",
          "PS",
          "PS3",
          "Wii",
          "PS",
          "X360",
          "SNES",
          "X360",
          "3DS",
          "DS",
          "X360",
          "SNES",
          "PS4",
          "Wii",
          "XB",
          "Wii",
          "DS",
          "PS3",
          "PC",
          "N64",
          "Wii",
          "PS2",
          "PS",
          "DS",
          "2600",
          "PSP",
          "Wii",
          "PS4",
          "PS4",
          "N64",
          "PS",
          "NES",
          "3DS",
          "X360",
          "X360"
         ],
         "yaxis": "y6"
        },
        {
         "marker": {
          "color": [
           1,
           2,
           3,
           4,
           5,
           6,
           7,
           8,
           9,
           10,
           11,
           12,
           13,
           14,
           15,
           16,
           17,
           18,
           19,
           20,
           21,
           22,
           23,
           24,
           25,
           26,
           27,
           28,
           29,
           30,
           31,
           32,
           33,
           34,
           35,
           36,
           37,
           38,
           39,
           40,
           41,
           42,
           43,
           44,
           45,
           46,
           47,
           48,
           49,
           50,
           51,
           52,
           53,
           54,
           55,
           56,
           57,
           58,
           59,
           60,
           61,
           62,
           63,
           64,
           65,
           66,
           67,
           68,
           69,
           70,
           71,
           72,
           73,
           74,
           75,
           76,
           77,
           78,
           79,
           80,
           81,
           82,
           83,
           84,
           85,
           86,
           87,
           88,
           89,
           90,
           91,
           92,
           93,
           94,
           95,
           96,
           97,
           98,
           99,
           100
          ],
          "colorscale": [
           [
            0,
            "rgb(128, 0, 38)"
           ],
           [
            1,
            "rgb(255, 255, 204)"
           ]
          ],
          "showscale": false,
          "size": 6
         },
         "mode": "markers",
         "showlegend": false,
         "type": "scatter",
         "x": [
          41.49,
          29.08,
          15.85,
          15.75,
          11.27,
          23.2,
          11.38,
          14.03,
          14.59,
          26.93,
          9.07,
          9.81,
          9,
          8.94,
          9.09,
          14.97,
          7.01,
          9.43,
          12.78,
          4.75,
          6.42,
          10.83,
          9.54,
          9.63,
          8.41,
          6.06,
          5.57,
          3.44,
          6.85,
          9.03,
          5.89,
          9.67,
          5.17,
          5.77,
          4.99,
          8.25,
          8.52,
          5.54,
          6.99,
          6.75,
          5.98,
          2.55,
          4.74,
          7.97,
          3.8,
          4.4,
          6.91,
          3.01,
          6.16,
          4.23,
          6.16,
          6.76,
          4.02,
          4.89,
          2.96,
          4.99,
          4.76,
          5.99,
          4.34,
          5.08,
          6.05,
          6.72,
          7.03,
          5.55,
          3.66,
          6.63,
          3.01,
          4.09,
          5.84,
          3.88,
          5.91,
          4.36,
          5.58,
          2.01,
          4.46,
          5.03,
          3.54,
          1.11,
          1.79,
          6.82,
          3.81,
          2.91,
          1.06,
          0.98,
          5.8,
          2.58,
          2.91,
          2.28,
          2.82,
          7.28,
          2.9,
          3.66,
          2.93,
          2.8,
          4.1,
          3.78,
          5.39,
          3.24,
          4.79,
          4.46
         ],
         "xaxis": "x7",
         "y": [
          "Wii",
          "NES",
          "Wii",
          "Wii",
          "GB",
          "GB",
          "DS",
          "Wii",
          "Wii",
          "NES",
          "DS",
          "DS",
          "GB",
          "Wii",
          "Wii",
          "X360",
          "PS3",
          "PS2",
          "SNES",
          "DS",
          "DS",
          "GB",
          "NES",
          "X360",
          "PS2",
          "GBA",
          "DS",
          "DS",
          "PS2",
          "X360",
          "GB",
          "X360",
          "3DS",
          "PS4",
          "PS3",
          "X360",
          "X360",
          "PS3",
          "PS2",
          "Wii",
          "PS3",
          "DS",
          "3DS",
          "X360",
          "PS4",
          "DS",
          "N64",
          "PS2",
          "Wii",
          "3DS",
          "GB",
          "X360",
          "PS",
          "3DS",
          "PS3",
          "PS3",
          "PS3",
          "SNES",
          "GBA",
          "DS",
          "Wii",
          "X360",
          "X360",
          "N64",
          "3DS",
          "X360",
          "PS",
          "PS3",
          "Wii",
          "PS",
          "X360",
          "SNES",
          "X360",
          "3DS",
          "DS",
          "X360",
          "SNES",
          "PS4",
          "Wii",
          "XB",
          "Wii",
          "DS",
          "PS3",
          "PC",
          "N64",
          "Wii",
          "PS2",
          "PS",
          "DS",
          "2600",
          "PSP",
          "Wii",
          "PS4",
          "PS4",
          "N64",
          "PS",
          "NES",
          "3DS",
          "X360",
          "X360"
         ],
         "yaxis": "y7"
        },
        {
         "marker": {
          "color": [
           1,
           2,
           3,
           4,
           5,
           6,
           7,
           8,
           9,
           10,
           11,
           12,
           13,
           14,
           15,
           16,
           17,
           18,
           19,
           20,
           21,
           22,
           23,
           24,
           25,
           26,
           27,
           28,
           29,
           30,
           31,
           32,
           33,
           34,
           35,
           36,
           37,
           38,
           39,
           40,
           41,
           42,
           43,
           44,
           45,
           46,
           47,
           48,
           49,
           50,
           51,
           52,
           53,
           54,
           55,
           56,
           57,
           58,
           59,
           60,
           61,
           62,
           63,
           64,
           65,
           66,
           67,
           68,
           69,
           70,
           71,
           72,
           73,
           74,
           75,
           76,
           77,
           78,
           79,
           80,
           81,
           82,
           83,
           84,
           85,
           86,
           87,
           88,
           89,
           90,
           91,
           92,
           93,
           94,
           95,
           96,
           97,
           98,
           99,
           100
          ],
          "colorscale": [
           [
            0,
            "rgb(128, 0, 38)"
           ],
           [
            1,
            "rgb(255, 255, 204)"
           ]
          ],
          "showscale": false,
          "size": 6
         },
         "mode": "markers",
         "showlegend": false,
         "type": "scatter",
         "x": [
          29.02,
          3.58,
          12.88,
          11.01,
          8.89,
          2.26,
          9.23,
          9.2,
          7.06,
          0.63,
          11,
          7.57,
          6.18,
          8.03,
          8.59,
          4.94,
          9.27,
          0.4,
          3.75,
          9.26,
          4.52,
          2.71,
          3.44,
          5.31,
          5.49,
          3.9,
          3.28,
          5.36,
          5.09,
          4.28,
          5.04,
          3.73,
          4.05,
          5.81,
          5.88,
          4.3,
          3.63,
          5.82,
          4.51,
          2.61,
          4.44,
          3.52,
          3.91,
          2.83,
          5.81,
          2.77,
          2.85,
          0.01,
          3.4,
          3.37,
          2.04,
          3.1,
          3.87,
          2.99,
          4.88,
          3.69,
          3.76,
          2.15,
          2.65,
          3.11,
          3.15,
          2.63,
          1.98,
          1.94,
          3.07,
          2.36,
          2.47,
          3.73,
          2.89,
          3.42,
          2.38,
          1.71,
          2.83,
          2.32,
          1.88,
          2.86,
          1.24,
          6.06,
          3.53,
          1.53,
          2.3,
          1.86,
          5.05,
          6.42,
          2.01,
          3.9,
          2.07,
          1.72,
          1.78,
          0.45,
          2.83,
          2.42,
          3.29,
          3.3,
          1.89,
          2.17,
          1.18,
          1.35,
          1.9,
          2.13
         ],
         "xaxis": "x8",
         "y": [
          "Wii",
          "NES",
          "Wii",
          "Wii",
          "GB",
          "GB",
          "DS",
          "Wii",
          "Wii",
          "NES",
          "DS",
          "DS",
          "GB",
          "Wii",
          "Wii",
          "X360",
          "PS3",
          "PS2",
          "SNES",
          "DS",
          "DS",
          "GB",
          "NES",
          "X360",
          "PS2",
          "GBA",
          "DS",
          "DS",
          "PS2",
          "X360",
          "GB",
          "X360",
          "3DS",
          "PS4",
          "PS3",
          "X360",
          "X360",
          "PS3",
          "PS2",
          "Wii",
          "PS3",
          "DS",
          "3DS",
          "X360",
          "PS4",
          "DS",
          "N64",
          "PS2",
          "Wii",
          "3DS",
          "GB",
          "X360",
          "PS",
          "3DS",
          "PS3",
          "PS3",
          "PS3",
          "SNES",
          "GBA",
          "DS",
          "Wii",
          "X360",
          "X360",
          "N64",
          "3DS",
          "X360",
          "PS",
          "PS3",
          "Wii",
          "PS",
          "X360",
          "SNES",
          "X360",
          "3DS",
          "DS",
          "X360",
          "SNES",
          "PS4",
          "Wii",
          "XB",
          "Wii",
          "DS",
          "PS3",
          "PC",
          "N64",
          "Wii",
          "PS2",
          "PS",
          "DS",
          "2600",
          "PSP",
          "Wii",
          "PS4",
          "PS4",
          "N64",
          "PS",
          "NES",
          "3DS",
          "X360",
          "X360"
         ],
         "yaxis": "y8"
        },
        {
         "marker": {
          "color": [
           1,
           2,
           3,
           4,
           5,
           6,
           7,
           8,
           9,
           10,
           11,
           12,
           13,
           14,
           15,
           16,
           17,
           18,
           19,
           20,
           21,
           22,
           23,
           24,
           25,
           26,
           27,
           28,
           29,
           30,
           31,
           32,
           33,
           34,
           35,
           36,
           37,
           38,
           39,
           40,
           41,
           42,
           43,
           44,
           45,
           46,
           47,
           48,
           49,
           50,
           51,
           52,
           53,
           54,
           55,
           56,
           57,
           58,
           59,
           60,
           61,
           62,
           63,
           64,
           65,
           66,
           67,
           68,
           69,
           70,
           71,
           72,
           73,
           74,
           75,
           76,
           77,
           78,
           79,
           80,
           81,
           82,
           83,
           84,
           85,
           86,
           87,
           88,
           89,
           90,
           91,
           92,
           93,
           94,
           95,
           96,
           97,
           98,
           99,
           100
          ],
          "colorscale": [
           [
            0,
            "rgb(128, 0, 38)"
           ],
           [
            1,
            "rgb(255, 255, 204)"
           ]
          ],
          "showscale": false,
          "size": 6
         },
         "mode": "markers",
         "showlegend": false,
         "type": "scatter",
         "x": [
          2006,
          1985,
          2008,
          2009,
          1996,
          1989,
          2006,
          2006,
          2009,
          1984,
          2005,
          2005,
          1999,
          2007,
          2009,
          2010,
          2013,
          2004,
          1990,
          2005,
          2006,
          1989,
          1988,
          2013,
          2002,
          2002,
          2010,
          2005,
          2001,
          2011,
          1998,
          2010,
          2013,
          2015,
          2012,
          2012,
          2009,
          2011,
          2001,
          2008,
          2010,
          2005,
          2011,
          2007,
          2014,
          2009,
          1996,
          2004,
          2007,
          2014,
          1992,
          2008,
          1997,
          2011,
          2010,
          2009,
          2008,
          1993,
          2004,
          2004,
          2011,
          2013,
          2010,
          1996,
          2012,
          2012,
          1997,
          2013,
          2010,
          1999,
          2007,
          1994,
          2013,
          2012,
          2007,
          2011,
          1992,
          2015,
          2010,
          2004,
          2007,
          2012,
          2012,
          2009,
          1997,
          2007,
          2001,
          1999,
          2008,
          1982,
          2005,
          2010,
          2015,
          2014,
          1998,
          1997,
          1988,
          2014,
          2008,
          2011
         ],
         "xaxis": "x9",
         "y": [
          41.49,
          29.08,
          15.85,
          15.75,
          11.27,
          23.2,
          11.38,
          14.03,
          14.59,
          26.93,
          9.07,
          9.81,
          9,
          8.94,
          9.09,
          14.97,
          7.01,
          9.43,
          12.78,
          4.75,
          6.42,
          10.83,
          9.54,
          9.63,
          8.41,
          6.06,
          5.57,
          3.44,
          6.85,
          9.03,
          5.89,
          9.67,
          5.17,
          5.77,
          4.99,
          8.25,
          8.52,
          5.54,
          6.99,
          6.75,
          5.98,
          2.55,
          4.74,
          7.97,
          3.8,
          4.4,
          6.91,
          3.01,
          6.16,
          4.23,
          6.16,
          6.76,
          4.02,
          4.89,
          2.96,
          4.99,
          4.76,
          5.99,
          4.34,
          5.08,
          6.05,
          6.72,
          7.03,
          5.55,
          3.66,
          6.63,
          3.01,
          4.09,
          5.84,
          3.88,
          5.91,
          4.36,
          5.58,
          2.01,
          4.46,
          5.03,
          3.54,
          1.11,
          1.79,
          6.82,
          3.81,
          2.91,
          1.06,
          0.98,
          5.8,
          2.58,
          2.91,
          2.28,
          2.82,
          7.28,
          2.9,
          3.66,
          2.93,
          2.8,
          4.1,
          3.78,
          5.39,
          3.24,
          4.79,
          4.46
         ],
         "yaxis": "y9"
        },
        {
         "marker": {
          "color": [
           1,
           2,
           3,
           4,
           5,
           6,
           7,
           8,
           9,
           10,
           11,
           12,
           13,
           14,
           15,
           16,
           17,
           18,
           19,
           20,
           21,
           22,
           23,
           24,
           25,
           26,
           27,
           28,
           29,
           30,
           31,
           32,
           33,
           34,
           35,
           36,
           37,
           38,
           39,
           40,
           41,
           42,
           43,
           44,
           45,
           46,
           47,
           48,
           49,
           50,
           51,
           52,
           53,
           54,
           55,
           56,
           57,
           58,
           59,
           60,
           61,
           62,
           63,
           64,
           65,
           66,
           67,
           68,
           69,
           70,
           71,
           72,
           73,
           74,
           75,
           76,
           77,
           78,
           79,
           80,
           81,
           82,
           83,
           84,
           85,
           86,
           87,
           88,
           89,
           90,
           91,
           92,
           93,
           94,
           95,
           96,
           97,
           98,
           99,
           100
          ],
          "colorscale": [
           [
            0,
            "rgb(128, 0, 38)"
           ],
           [
            1,
            "rgb(255, 255, 204)"
           ]
          ],
          "showscale": false,
          "size": 6
         },
         "mode": "markers",
         "showlegend": false,
         "type": "scatter",
         "x": [
          "Wii",
          "NES",
          "Wii",
          "Wii",
          "GB",
          "GB",
          "DS",
          "Wii",
          "Wii",
          "NES",
          "DS",
          "DS",
          "GB",
          "Wii",
          "Wii",
          "X360",
          "PS3",
          "PS2",
          "SNES",
          "DS",
          "DS",
          "GB",
          "NES",
          "X360",
          "PS2",
          "GBA",
          "DS",
          "DS",
          "PS2",
          "X360",
          "GB",
          "X360",
          "3DS",
          "PS4",
          "PS3",
          "X360",
          "X360",
          "PS3",
          "PS2",
          "Wii",
          "PS3",
          "DS",
          "3DS",
          "X360",
          "PS4",
          "DS",
          "N64",
          "PS2",
          "Wii",
          "3DS",
          "GB",
          "X360",
          "PS",
          "3DS",
          "PS3",
          "PS3",
          "PS3",
          "SNES",
          "GBA",
          "DS",
          "Wii",
          "X360",
          "X360",
          "N64",
          "3DS",
          "X360",
          "PS",
          "PS3",
          "Wii",
          "PS",
          "X360",
          "SNES",
          "X360",
          "3DS",
          "DS",
          "X360",
          "SNES",
          "PS4",
          "Wii",
          "XB",
          "Wii",
          "DS",
          "PS3",
          "PC",
          "N64",
          "Wii",
          "PS2",
          "PS",
          "DS",
          "2600",
          "PSP",
          "Wii",
          "PS4",
          "PS4",
          "N64",
          "PS",
          "NES",
          "3DS",
          "X360",
          "X360"
         ],
         "xaxis": "x10",
         "y": [
          41.49,
          29.08,
          15.85,
          15.75,
          11.27,
          23.2,
          11.38,
          14.03,
          14.59,
          26.93,
          9.07,
          9.81,
          9,
          8.94,
          9.09,
          14.97,
          7.01,
          9.43,
          12.78,
          4.75,
          6.42,
          10.83,
          9.54,
          9.63,
          8.41,
          6.06,
          5.57,
          3.44,
          6.85,
          9.03,
          5.89,
          9.67,
          5.17,
          5.77,
          4.99,
          8.25,
          8.52,
          5.54,
          6.99,
          6.75,
          5.98,
          2.55,
          4.74,
          7.97,
          3.8,
          4.4,
          6.91,
          3.01,
          6.16,
          4.23,
          6.16,
          6.76,
          4.02,
          4.89,
          2.96,
          4.99,
          4.76,
          5.99,
          4.34,
          5.08,
          6.05,
          6.72,
          7.03,
          5.55,
          3.66,
          6.63,
          3.01,
          4.09,
          5.84,
          3.88,
          5.91,
          4.36,
          5.58,
          2.01,
          4.46,
          5.03,
          3.54,
          1.11,
          1.79,
          6.82,
          3.81,
          2.91,
          1.06,
          0.98,
          5.8,
          2.58,
          2.91,
          2.28,
          2.82,
          7.28,
          2.9,
          3.66,
          2.93,
          2.8,
          4.1,
          3.78,
          5.39,
          3.24,
          4.79,
          4.46
         ],
         "yaxis": "y10"
        },
        {
         "marker": {
          "color": "rgb(128, 0, 38)"
         },
         "showlegend": false,
         "type": "box",
         "xaxis": "x11",
         "y": [
          41.49,
          29.08,
          15.85,
          15.75,
          11.27,
          23.2,
          11.38,
          14.03,
          14.59,
          26.93,
          9.07,
          9.81,
          9,
          8.94,
          9.09,
          14.97,
          7.01,
          9.43,
          12.78,
          4.75,
          6.42,
          10.83,
          9.54,
          9.63,
          8.41,
          6.06,
          5.57,
          3.44,
          6.85,
          9.03,
          5.89,
          9.67,
          5.17,
          5.77,
          4.99,
          8.25,
          8.52,
          5.54,
          6.99,
          6.75,
          5.98,
          2.55,
          4.74,
          7.97,
          3.8,
          4.4,
          6.91,
          3.01,
          6.16,
          4.23,
          6.16,
          6.76,
          4.02,
          4.89,
          2.96,
          4.99,
          4.76,
          5.99,
          4.34,
          5.08,
          6.05,
          6.72,
          7.03,
          5.55,
          3.66,
          6.63,
          3.01,
          4.09,
          5.84,
          3.88,
          5.91,
          4.36,
          5.58,
          2.01,
          4.46,
          5.03,
          3.54,
          1.11,
          1.79,
          6.82,
          3.81,
          2.91,
          1.06,
          0.98,
          5.8,
          2.58,
          2.91,
          2.28,
          2.82,
          7.28,
          2.9,
          3.66,
          2.93,
          2.8,
          4.1,
          3.78,
          5.39,
          3.24,
          4.79,
          4.46
         ],
         "yaxis": "y11"
        },
        {
         "marker": {
          "color": [
           1,
           2,
           3,
           4,
           5,
           6,
           7,
           8,
           9,
           10,
           11,
           12,
           13,
           14,
           15,
           16,
           17,
           18,
           19,
           20,
           21,
           22,
           23,
           24,
           25,
           26,
           27,
           28,
           29,
           30,
           31,
           32,
           33,
           34,
           35,
           36,
           37,
           38,
           39,
           40,
           41,
           42,
           43,
           44,
           45,
           46,
           47,
           48,
           49,
           50,
           51,
           52,
           53,
           54,
           55,
           56,
           57,
           58,
           59,
           60,
           61,
           62,
           63,
           64,
           65,
           66,
           67,
           68,
           69,
           70,
           71,
           72,
           73,
           74,
           75,
           76,
           77,
           78,
           79,
           80,
           81,
           82,
           83,
           84,
           85,
           86,
           87,
           88,
           89,
           90,
           91,
           92,
           93,
           94,
           95,
           96,
           97,
           98,
           99,
           100
          ],
          "colorscale": [
           [
            0,
            "rgb(128, 0, 38)"
           ],
           [
            1,
            "rgb(255, 255, 204)"
           ]
          ],
          "showscale": false,
          "size": 6
         },
         "mode": "markers",
         "showlegend": false,
         "type": "scatter",
         "x": [
          29.02,
          3.58,
          12.88,
          11.01,
          8.89,
          2.26,
          9.23,
          9.2,
          7.06,
          0.63,
          11,
          7.57,
          6.18,
          8.03,
          8.59,
          4.94,
          9.27,
          0.4,
          3.75,
          9.26,
          4.52,
          2.71,
          3.44,
          5.31,
          5.49,
          3.9,
          3.28,
          5.36,
          5.09,
          4.28,
          5.04,
          3.73,
          4.05,
          5.81,
          5.88,
          4.3,
          3.63,
          5.82,
          4.51,
          2.61,
          4.44,
          3.52,
          3.91,
          2.83,
          5.81,
          2.77,
          2.85,
          0.01,
          3.4,
          3.37,
          2.04,
          3.1,
          3.87,
          2.99,
          4.88,
          3.69,
          3.76,
          2.15,
          2.65,
          3.11,
          3.15,
          2.63,
          1.98,
          1.94,
          3.07,
          2.36,
          2.47,
          3.73,
          2.89,
          3.42,
          2.38,
          1.71,
          2.83,
          2.32,
          1.88,
          2.86,
          1.24,
          6.06,
          3.53,
          1.53,
          2.3,
          1.86,
          5.05,
          6.42,
          2.01,
          3.9,
          2.07,
          1.72,
          1.78,
          0.45,
          2.83,
          2.42,
          3.29,
          3.3,
          1.89,
          2.17,
          1.18,
          1.35,
          1.9,
          2.13
         ],
         "xaxis": "x12",
         "y": [
          41.49,
          29.08,
          15.85,
          15.75,
          11.27,
          23.2,
          11.38,
          14.03,
          14.59,
          26.93,
          9.07,
          9.81,
          9,
          8.94,
          9.09,
          14.97,
          7.01,
          9.43,
          12.78,
          4.75,
          6.42,
          10.83,
          9.54,
          9.63,
          8.41,
          6.06,
          5.57,
          3.44,
          6.85,
          9.03,
          5.89,
          9.67,
          5.17,
          5.77,
          4.99,
          8.25,
          8.52,
          5.54,
          6.99,
          6.75,
          5.98,
          2.55,
          4.74,
          7.97,
          3.8,
          4.4,
          6.91,
          3.01,
          6.16,
          4.23,
          6.16,
          6.76,
          4.02,
          4.89,
          2.96,
          4.99,
          4.76,
          5.99,
          4.34,
          5.08,
          6.05,
          6.72,
          7.03,
          5.55,
          3.66,
          6.63,
          3.01,
          4.09,
          5.84,
          3.88,
          5.91,
          4.36,
          5.58,
          2.01,
          4.46,
          5.03,
          3.54,
          1.11,
          1.79,
          6.82,
          3.81,
          2.91,
          1.06,
          0.98,
          5.8,
          2.58,
          2.91,
          2.28,
          2.82,
          7.28,
          2.9,
          3.66,
          2.93,
          2.8,
          4.1,
          3.78,
          5.39,
          3.24,
          4.79,
          4.46
         ],
         "yaxis": "y12"
        },
        {
         "marker": {
          "color": [
           1,
           2,
           3,
           4,
           5,
           6,
           7,
           8,
           9,
           10,
           11,
           12,
           13,
           14,
           15,
           16,
           17,
           18,
           19,
           20,
           21,
           22,
           23,
           24,
           25,
           26,
           27,
           28,
           29,
           30,
           31,
           32,
           33,
           34,
           35,
           36,
           37,
           38,
           39,
           40,
           41,
           42,
           43,
           44,
           45,
           46,
           47,
           48,
           49,
           50,
           51,
           52,
           53,
           54,
           55,
           56,
           57,
           58,
           59,
           60,
           61,
           62,
           63,
           64,
           65,
           66,
           67,
           68,
           69,
           70,
           71,
           72,
           73,
           74,
           75,
           76,
           77,
           78,
           79,
           80,
           81,
           82,
           83,
           84,
           85,
           86,
           87,
           88,
           89,
           90,
           91,
           92,
           93,
           94,
           95,
           96,
           97,
           98,
           99,
           100
          ],
          "colorscale": [
           [
            0,
            "rgb(128, 0, 38)"
           ],
           [
            1,
            "rgb(255, 255, 204)"
           ]
          ],
          "showscale": false,
          "size": 6
         },
         "mode": "markers",
         "showlegend": false,
         "type": "scatter",
         "x": [
          2006,
          1985,
          2008,
          2009,
          1996,
          1989,
          2006,
          2006,
          2009,
          1984,
          2005,
          2005,
          1999,
          2007,
          2009,
          2010,
          2013,
          2004,
          1990,
          2005,
          2006,
          1989,
          1988,
          2013,
          2002,
          2002,
          2010,
          2005,
          2001,
          2011,
          1998,
          2010,
          2013,
          2015,
          2012,
          2012,
          2009,
          2011,
          2001,
          2008,
          2010,
          2005,
          2011,
          2007,
          2014,
          2009,
          1996,
          2004,
          2007,
          2014,
          1992,
          2008,
          1997,
          2011,
          2010,
          2009,
          2008,
          1993,
          2004,
          2004,
          2011,
          2013,
          2010,
          1996,
          2012,
          2012,
          1997,
          2013,
          2010,
          1999,
          2007,
          1994,
          2013,
          2012,
          2007,
          2011,
          1992,
          2015,
          2010,
          2004,
          2007,
          2012,
          2012,
          2009,
          1997,
          2007,
          2001,
          1999,
          2008,
          1982,
          2005,
          2010,
          2015,
          2014,
          1998,
          1997,
          1988,
          2014,
          2008,
          2011
         ],
         "xaxis": "x13",
         "y": [
          29.02,
          3.58,
          12.88,
          11.01,
          8.89,
          2.26,
          9.23,
          9.2,
          7.06,
          0.63,
          11,
          7.57,
          6.18,
          8.03,
          8.59,
          4.94,
          9.27,
          0.4,
          3.75,
          9.26,
          4.52,
          2.71,
          3.44,
          5.31,
          5.49,
          3.9,
          3.28,
          5.36,
          5.09,
          4.28,
          5.04,
          3.73,
          4.05,
          5.81,
          5.88,
          4.3,
          3.63,
          5.82,
          4.51,
          2.61,
          4.44,
          3.52,
          3.91,
          2.83,
          5.81,
          2.77,
          2.85,
          0.01,
          3.4,
          3.37,
          2.04,
          3.1,
          3.87,
          2.99,
          4.88,
          3.69,
          3.76,
          2.15,
          2.65,
          3.11,
          3.15,
          2.63,
          1.98,
          1.94,
          3.07,
          2.36,
          2.47,
          3.73,
          2.89,
          3.42,
          2.38,
          1.71,
          2.83,
          2.32,
          1.88,
          2.86,
          1.24,
          6.06,
          3.53,
          1.53,
          2.3,
          1.86,
          5.05,
          6.42,
          2.01,
          3.9,
          2.07,
          1.72,
          1.78,
          0.45,
          2.83,
          2.42,
          3.29,
          3.3,
          1.89,
          2.17,
          1.18,
          1.35,
          1.9,
          2.13
         ],
         "yaxis": "y13"
        },
        {
         "marker": {
          "color": [
           1,
           2,
           3,
           4,
           5,
           6,
           7,
           8,
           9,
           10,
           11,
           12,
           13,
           14,
           15,
           16,
           17,
           18,
           19,
           20,
           21,
           22,
           23,
           24,
           25,
           26,
           27,
           28,
           29,
           30,
           31,
           32,
           33,
           34,
           35,
           36,
           37,
           38,
           39,
           40,
           41,
           42,
           43,
           44,
           45,
           46,
           47,
           48,
           49,
           50,
           51,
           52,
           53,
           54,
           55,
           56,
           57,
           58,
           59,
           60,
           61,
           62,
           63,
           64,
           65,
           66,
           67,
           68,
           69,
           70,
           71,
           72,
           73,
           74,
           75,
           76,
           77,
           78,
           79,
           80,
           81,
           82,
           83,
           84,
           85,
           86,
           87,
           88,
           89,
           90,
           91,
           92,
           93,
           94,
           95,
           96,
           97,
           98,
           99,
           100
          ],
          "colorscale": [
           [
            0,
            "rgb(128, 0, 38)"
           ],
           [
            1,
            "rgb(255, 255, 204)"
           ]
          ],
          "showscale": false,
          "size": 6
         },
         "mode": "markers",
         "showlegend": false,
         "type": "scatter",
         "x": [
          "Wii",
          "NES",
          "Wii",
          "Wii",
          "GB",
          "GB",
          "DS",
          "Wii",
          "Wii",
          "NES",
          "DS",
          "DS",
          "GB",
          "Wii",
          "Wii",
          "X360",
          "PS3",
          "PS2",
          "SNES",
          "DS",
          "DS",
          "GB",
          "NES",
          "X360",
          "PS2",
          "GBA",
          "DS",
          "DS",
          "PS2",
          "X360",
          "GB",
          "X360",
          "3DS",
          "PS4",
          "PS3",
          "X360",
          "X360",
          "PS3",
          "PS2",
          "Wii",
          "PS3",
          "DS",
          "3DS",
          "X360",
          "PS4",
          "DS",
          "N64",
          "PS2",
          "Wii",
          "3DS",
          "GB",
          "X360",
          "PS",
          "3DS",
          "PS3",
          "PS3",
          "PS3",
          "SNES",
          "GBA",
          "DS",
          "Wii",
          "X360",
          "X360",
          "N64",
          "3DS",
          "X360",
          "PS",
          "PS3",
          "Wii",
          "PS",
          "X360",
          "SNES",
          "X360",
          "3DS",
          "DS",
          "X360",
          "SNES",
          "PS4",
          "Wii",
          "XB",
          "Wii",
          "DS",
          "PS3",
          "PC",
          "N64",
          "Wii",
          "PS2",
          "PS",
          "DS",
          "2600",
          "PSP",
          "Wii",
          "PS4",
          "PS4",
          "N64",
          "PS",
          "NES",
          "3DS",
          "X360",
          "X360"
         ],
         "xaxis": "x14",
         "y": [
          29.02,
          3.58,
          12.88,
          11.01,
          8.89,
          2.26,
          9.23,
          9.2,
          7.06,
          0.63,
          11,
          7.57,
          6.18,
          8.03,
          8.59,
          4.94,
          9.27,
          0.4,
          3.75,
          9.26,
          4.52,
          2.71,
          3.44,
          5.31,
          5.49,
          3.9,
          3.28,
          5.36,
          5.09,
          4.28,
          5.04,
          3.73,
          4.05,
          5.81,
          5.88,
          4.3,
          3.63,
          5.82,
          4.51,
          2.61,
          4.44,
          3.52,
          3.91,
          2.83,
          5.81,
          2.77,
          2.85,
          0.01,
          3.4,
          3.37,
          2.04,
          3.1,
          3.87,
          2.99,
          4.88,
          3.69,
          3.76,
          2.15,
          2.65,
          3.11,
          3.15,
          2.63,
          1.98,
          1.94,
          3.07,
          2.36,
          2.47,
          3.73,
          2.89,
          3.42,
          2.38,
          1.71,
          2.83,
          2.32,
          1.88,
          2.86,
          1.24,
          6.06,
          3.53,
          1.53,
          2.3,
          1.86,
          5.05,
          6.42,
          2.01,
          3.9,
          2.07,
          1.72,
          1.78,
          0.45,
          2.83,
          2.42,
          3.29,
          3.3,
          1.89,
          2.17,
          1.18,
          1.35,
          1.9,
          2.13
         ],
         "yaxis": "y14"
        },
        {
         "marker": {
          "color": [
           1,
           2,
           3,
           4,
           5,
           6,
           7,
           8,
           9,
           10,
           11,
           12,
           13,
           14,
           15,
           16,
           17,
           18,
           19,
           20,
           21,
           22,
           23,
           24,
           25,
           26,
           27,
           28,
           29,
           30,
           31,
           32,
           33,
           34,
           35,
           36,
           37,
           38,
           39,
           40,
           41,
           42,
           43,
           44,
           45,
           46,
           47,
           48,
           49,
           50,
           51,
           52,
           53,
           54,
           55,
           56,
           57,
           58,
           59,
           60,
           61,
           62,
           63,
           64,
           65,
           66,
           67,
           68,
           69,
           70,
           71,
           72,
           73,
           74,
           75,
           76,
           77,
           78,
           79,
           80,
           81,
           82,
           83,
           84,
           85,
           86,
           87,
           88,
           89,
           90,
           91,
           92,
           93,
           94,
           95,
           96,
           97,
           98,
           99,
           100
          ],
          "colorscale": [
           [
            0,
            "rgb(128, 0, 38)"
           ],
           [
            1,
            "rgb(255, 255, 204)"
           ]
          ],
          "showscale": false,
          "size": 6
         },
         "mode": "markers",
         "showlegend": false,
         "type": "scatter",
         "x": [
          41.49,
          29.08,
          15.85,
          15.75,
          11.27,
          23.2,
          11.38,
          14.03,
          14.59,
          26.93,
          9.07,
          9.81,
          9,
          8.94,
          9.09,
          14.97,
          7.01,
          9.43,
          12.78,
          4.75,
          6.42,
          10.83,
          9.54,
          9.63,
          8.41,
          6.06,
          5.57,
          3.44,
          6.85,
          9.03,
          5.89,
          9.67,
          5.17,
          5.77,
          4.99,
          8.25,
          8.52,
          5.54,
          6.99,
          6.75,
          5.98,
          2.55,
          4.74,
          7.97,
          3.8,
          4.4,
          6.91,
          3.01,
          6.16,
          4.23,
          6.16,
          6.76,
          4.02,
          4.89,
          2.96,
          4.99,
          4.76,
          5.99,
          4.34,
          5.08,
          6.05,
          6.72,
          7.03,
          5.55,
          3.66,
          6.63,
          3.01,
          4.09,
          5.84,
          3.88,
          5.91,
          4.36,
          5.58,
          2.01,
          4.46,
          5.03,
          3.54,
          1.11,
          1.79,
          6.82,
          3.81,
          2.91,
          1.06,
          0.98,
          5.8,
          2.58,
          2.91,
          2.28,
          2.82,
          7.28,
          2.9,
          3.66,
          2.93,
          2.8,
          4.1,
          3.78,
          5.39,
          3.24,
          4.79,
          4.46
         ],
         "xaxis": "x15",
         "y": [
          29.02,
          3.58,
          12.88,
          11.01,
          8.89,
          2.26,
          9.23,
          9.2,
          7.06,
          0.63,
          11,
          7.57,
          6.18,
          8.03,
          8.59,
          4.94,
          9.27,
          0.4,
          3.75,
          9.26,
          4.52,
          2.71,
          3.44,
          5.31,
          5.49,
          3.9,
          3.28,
          5.36,
          5.09,
          4.28,
          5.04,
          3.73,
          4.05,
          5.81,
          5.88,
          4.3,
          3.63,
          5.82,
          4.51,
          2.61,
          4.44,
          3.52,
          3.91,
          2.83,
          5.81,
          2.77,
          2.85,
          0.01,
          3.4,
          3.37,
          2.04,
          3.1,
          3.87,
          2.99,
          4.88,
          3.69,
          3.76,
          2.15,
          2.65,
          3.11,
          3.15,
          2.63,
          1.98,
          1.94,
          3.07,
          2.36,
          2.47,
          3.73,
          2.89,
          3.42,
          2.38,
          1.71,
          2.83,
          2.32,
          1.88,
          2.86,
          1.24,
          6.06,
          3.53,
          1.53,
          2.3,
          1.86,
          5.05,
          6.42,
          2.01,
          3.9,
          2.07,
          1.72,
          1.78,
          0.45,
          2.83,
          2.42,
          3.29,
          3.3,
          1.89,
          2.17,
          1.18,
          1.35,
          1.9,
          2.13
         ],
         "yaxis": "y15"
        },
        {
         "marker": {
          "color": "rgb(128, 0, 38)"
         },
         "showlegend": false,
         "type": "box",
         "xaxis": "x16",
         "y": [
          29.02,
          3.58,
          12.88,
          11.01,
          8.89,
          2.26,
          9.23,
          9.2,
          7.06,
          0.63,
          11,
          7.57,
          6.18,
          8.03,
          8.59,
          4.94,
          9.27,
          0.4,
          3.75,
          9.26,
          4.52,
          2.71,
          3.44,
          5.31,
          5.49,
          3.9,
          3.28,
          5.36,
          5.09,
          4.28,
          5.04,
          3.73,
          4.05,
          5.81,
          5.88,
          4.3,
          3.63,
          5.82,
          4.51,
          2.61,
          4.44,
          3.52,
          3.91,
          2.83,
          5.81,
          2.77,
          2.85,
          0.01,
          3.4,
          3.37,
          2.04,
          3.1,
          3.87,
          2.99,
          4.88,
          3.69,
          3.76,
          2.15,
          2.65,
          3.11,
          3.15,
          2.63,
          1.98,
          1.94,
          3.07,
          2.36,
          2.47,
          3.73,
          2.89,
          3.42,
          2.38,
          1.71,
          2.83,
          2.32,
          1.88,
          2.86,
          1.24,
          6.06,
          3.53,
          1.53,
          2.3,
          1.86,
          5.05,
          6.42,
          2.01,
          3.9,
          2.07,
          1.72,
          1.78,
          0.45,
          2.83,
          2.42,
          3.29,
          3.3,
          1.89,
          2.17,
          1.18,
          1.35,
          1.9,
          2.13
         ],
         "yaxis": "y16"
        }
       ],
       "layout": {
        "height": 1000,
        "showlegend": true,
        "template": {
         "data": {
          "bar": [
           {
            "error_x": {
             "color": "#2a3f5f"
            },
            "error_y": {
             "color": "#2a3f5f"
            },
            "marker": {
             "line": {
              "color": "#E5ECF6",
              "width": 0.5
             },
             "pattern": {
              "fillmode": "overlay",
              "size": 10,
              "solidity": 0.2
             }
            },
            "type": "bar"
           }
          ],
          "barpolar": [
           {
            "marker": {
             "line": {
              "color": "#E5ECF6",
              "width": 0.5
             },
             "pattern": {
              "fillmode": "overlay",
              "size": 10,
              "solidity": 0.2
             }
            },
            "type": "barpolar"
           }
          ],
          "carpet": [
           {
            "aaxis": {
             "endlinecolor": "#2a3f5f",
             "gridcolor": "white",
             "linecolor": "white",
             "minorgridcolor": "white",
             "startlinecolor": "#2a3f5f"
            },
            "baxis": {
             "endlinecolor": "#2a3f5f",
             "gridcolor": "white",
             "linecolor": "white",
             "minorgridcolor": "white",
             "startlinecolor": "#2a3f5f"
            },
            "type": "carpet"
           }
          ],
          "choropleth": [
           {
            "colorbar": {
             "outlinewidth": 0,
             "ticks": ""
            },
            "type": "choropleth"
           }
          ],
          "contour": [
           {
            "colorbar": {
             "outlinewidth": 0,
             "ticks": ""
            },
            "colorscale": [
             [
              0,
              "#0d0887"
             ],
             [
              0.1111111111111111,
              "#46039f"
             ],
             [
              0.2222222222222222,
              "#7201a8"
             ],
             [
              0.3333333333333333,
              "#9c179e"
             ],
             [
              0.4444444444444444,
              "#bd3786"
             ],
             [
              0.5555555555555556,
              "#d8576b"
             ],
             [
              0.6666666666666666,
              "#ed7953"
             ],
             [
              0.7777777777777778,
              "#fb9f3a"
             ],
             [
              0.8888888888888888,
              "#fdca26"
             ],
             [
              1,
              "#f0f921"
             ]
            ],
            "type": "contour"
           }
          ],
          "contourcarpet": [
           {
            "colorbar": {
             "outlinewidth": 0,
             "ticks": ""
            },
            "type": "contourcarpet"
           }
          ],
          "heatmap": [
           {
            "colorbar": {
             "outlinewidth": 0,
             "ticks": ""
            },
            "colorscale": [
             [
              0,
              "#0d0887"
             ],
             [
              0.1111111111111111,
              "#46039f"
             ],
             [
              0.2222222222222222,
              "#7201a8"
             ],
             [
              0.3333333333333333,
              "#9c179e"
             ],
             [
              0.4444444444444444,
              "#bd3786"
             ],
             [
              0.5555555555555556,
              "#d8576b"
             ],
             [
              0.6666666666666666,
              "#ed7953"
             ],
             [
              0.7777777777777778,
              "#fb9f3a"
             ],
             [
              0.8888888888888888,
              "#fdca26"
             ],
             [
              1,
              "#f0f921"
             ]
            ],
            "type": "heatmap"
           }
          ],
          "heatmapgl": [
           {
            "colorbar": {
             "outlinewidth": 0,
             "ticks": ""
            },
            "colorscale": [
             [
              0,
              "#0d0887"
             ],
             [
              0.1111111111111111,
              "#46039f"
             ],
             [
              0.2222222222222222,
              "#7201a8"
             ],
             [
              0.3333333333333333,
              "#9c179e"
             ],
             [
              0.4444444444444444,
              "#bd3786"
             ],
             [
              0.5555555555555556,
              "#d8576b"
             ],
             [
              0.6666666666666666,
              "#ed7953"
             ],
             [
              0.7777777777777778,
              "#fb9f3a"
             ],
             [
              0.8888888888888888,
              "#fdca26"
             ],
             [
              1,
              "#f0f921"
             ]
            ],
            "type": "heatmapgl"
           }
          ],
          "histogram": [
           {
            "marker": {
             "pattern": {
              "fillmode": "overlay",
              "size": 10,
              "solidity": 0.2
             }
            },
            "type": "histogram"
           }
          ],
          "histogram2d": [
           {
            "colorbar": {
             "outlinewidth": 0,
             "ticks": ""
            },
            "colorscale": [
             [
              0,
              "#0d0887"
             ],
             [
              0.1111111111111111,
              "#46039f"
             ],
             [
              0.2222222222222222,
              "#7201a8"
             ],
             [
              0.3333333333333333,
              "#9c179e"
             ],
             [
              0.4444444444444444,
              "#bd3786"
             ],
             [
              0.5555555555555556,
              "#d8576b"
             ],
             [
              0.6666666666666666,
              "#ed7953"
             ],
             [
              0.7777777777777778,
              "#fb9f3a"
             ],
             [
              0.8888888888888888,
              "#fdca26"
             ],
             [
              1,
              "#f0f921"
             ]
            ],
            "type": "histogram2d"
           }
          ],
          "histogram2dcontour": [
           {
            "colorbar": {
             "outlinewidth": 0,
             "ticks": ""
            },
            "colorscale": [
             [
              0,
              "#0d0887"
             ],
             [
              0.1111111111111111,
              "#46039f"
             ],
             [
              0.2222222222222222,
              "#7201a8"
             ],
             [
              0.3333333333333333,
              "#9c179e"
             ],
             [
              0.4444444444444444,
              "#bd3786"
             ],
             [
              0.5555555555555556,
              "#d8576b"
             ],
             [
              0.6666666666666666,
              "#ed7953"
             ],
             [
              0.7777777777777778,
              "#fb9f3a"
             ],
             [
              0.8888888888888888,
              "#fdca26"
             ],
             [
              1,
              "#f0f921"
             ]
            ],
            "type": "histogram2dcontour"
           }
          ],
          "mesh3d": [
           {
            "colorbar": {
             "outlinewidth": 0,
             "ticks": ""
            },
            "type": "mesh3d"
           }
          ],
          "parcoords": [
           {
            "line": {
             "colorbar": {
              "outlinewidth": 0,
              "ticks": ""
             }
            },
            "type": "parcoords"
           }
          ],
          "pie": [
           {
            "automargin": true,
            "type": "pie"
           }
          ],
          "scatter": [
           {
            "marker": {
             "colorbar": {
              "outlinewidth": 0,
              "ticks": ""
             }
            },
            "type": "scatter"
           }
          ],
          "scatter3d": [
           {
            "line": {
             "colorbar": {
              "outlinewidth": 0,
              "ticks": ""
             }
            },
            "marker": {
             "colorbar": {
              "outlinewidth": 0,
              "ticks": ""
             }
            },
            "type": "scatter3d"
           }
          ],
          "scattercarpet": [
           {
            "marker": {
             "colorbar": {
              "outlinewidth": 0,
              "ticks": ""
             }
            },
            "type": "scattercarpet"
           }
          ],
          "scattergeo": [
           {
            "marker": {
             "colorbar": {
              "outlinewidth": 0,
              "ticks": ""
             }
            },
            "type": "scattergeo"
           }
          ],
          "scattergl": [
           {
            "marker": {
             "colorbar": {
              "outlinewidth": 0,
              "ticks": ""
             }
            },
            "type": "scattergl"
           }
          ],
          "scattermapbox": [
           {
            "marker": {
             "colorbar": {
              "outlinewidth": 0,
              "ticks": ""
             }
            },
            "type": "scattermapbox"
           }
          ],
          "scatterpolar": [
           {
            "marker": {
             "colorbar": {
              "outlinewidth": 0,
              "ticks": ""
             }
            },
            "type": "scatterpolar"
           }
          ],
          "scatterpolargl": [
           {
            "marker": {
             "colorbar": {
              "outlinewidth": 0,
              "ticks": ""
             }
            },
            "type": "scatterpolargl"
           }
          ],
          "scatterternary": [
           {
            "marker": {
             "colorbar": {
              "outlinewidth": 0,
              "ticks": ""
             }
            },
            "type": "scatterternary"
           }
          ],
          "surface": [
           {
            "colorbar": {
             "outlinewidth": 0,
             "ticks": ""
            },
            "colorscale": [
             [
              0,
              "#0d0887"
             ],
             [
              0.1111111111111111,
              "#46039f"
             ],
             [
              0.2222222222222222,
              "#7201a8"
             ],
             [
              0.3333333333333333,
              "#9c179e"
             ],
             [
              0.4444444444444444,
              "#bd3786"
             ],
             [
              0.5555555555555556,
              "#d8576b"
             ],
             [
              0.6666666666666666,
              "#ed7953"
             ],
             [
              0.7777777777777778,
              "#fb9f3a"
             ],
             [
              0.8888888888888888,
              "#fdca26"
             ],
             [
              1,
              "#f0f921"
             ]
            ],
            "type": "surface"
           }
          ],
          "table": [
           {
            "cells": {
             "fill": {
              "color": "#EBF0F8"
             },
             "line": {
              "color": "white"
             }
            },
            "header": {
             "fill": {
              "color": "#C8D4E3"
             },
             "line": {
              "color": "white"
             }
            },
            "type": "table"
           }
          ]
         },
         "layout": {
          "annotationdefaults": {
           "arrowcolor": "#2a3f5f",
           "arrowhead": 0,
           "arrowwidth": 1
          },
          "autotypenumbers": "strict",
          "coloraxis": {
           "colorbar": {
            "outlinewidth": 0,
            "ticks": ""
           }
          },
          "colorscale": {
           "diverging": [
            [
             0,
             "#8e0152"
            ],
            [
             0.1,
             "#c51b7d"
            ],
            [
             0.2,
             "#de77ae"
            ],
            [
             0.3,
             "#f1b6da"
            ],
            [
             0.4,
             "#fde0ef"
            ],
            [
             0.5,
             "#f7f7f7"
            ],
            [
             0.6,
             "#e6f5d0"
            ],
            [
             0.7,
             "#b8e186"
            ],
            [
             0.8,
             "#7fbc41"
            ],
            [
             0.9,
             "#4d9221"
            ],
            [
             1,
             "#276419"
            ]
           ],
           "sequential": [
            [
             0,
             "#0d0887"
            ],
            [
             0.1111111111111111,
             "#46039f"
            ],
            [
             0.2222222222222222,
             "#7201a8"
            ],
            [
             0.3333333333333333,
             "#9c179e"
            ],
            [
             0.4444444444444444,
             "#bd3786"
            ],
            [
             0.5555555555555556,
             "#d8576b"
            ],
            [
             0.6666666666666666,
             "#ed7953"
            ],
            [
             0.7777777777777778,
             "#fb9f3a"
            ],
            [
             0.8888888888888888,
             "#fdca26"
            ],
            [
             1,
             "#f0f921"
            ]
           ],
           "sequentialminus": [
            [
             0,
             "#0d0887"
            ],
            [
             0.1111111111111111,
             "#46039f"
            ],
            [
             0.2222222222222222,
             "#7201a8"
            ],
            [
             0.3333333333333333,
             "#9c179e"
            ],
            [
             0.4444444444444444,
             "#bd3786"
            ],
            [
             0.5555555555555556,
             "#d8576b"
            ],
            [
             0.6666666666666666,
             "#ed7953"
            ],
            [
             0.7777777777777778,
             "#fb9f3a"
            ],
            [
             0.8888888888888888,
             "#fdca26"
            ],
            [
             1,
             "#f0f921"
            ]
           ]
          },
          "colorway": [
           "#636efa",
           "#EF553B",
           "#00cc96",
           "#ab63fa",
           "#FFA15A",
           "#19d3f3",
           "#FF6692",
           "#B6E880",
           "#FF97FF",
           "#FECB52"
          ],
          "font": {
           "color": "#2a3f5f"
          },
          "geo": {
           "bgcolor": "white",
           "lakecolor": "white",
           "landcolor": "#E5ECF6",
           "showlakes": true,
           "showland": true,
           "subunitcolor": "white"
          },
          "hoverlabel": {
           "align": "left"
          },
          "hovermode": "closest",
          "mapbox": {
           "style": "light"
          },
          "paper_bgcolor": "white",
          "plot_bgcolor": "#E5ECF6",
          "polar": {
           "angularaxis": {
            "gridcolor": "white",
            "linecolor": "white",
            "ticks": ""
           },
           "bgcolor": "#E5ECF6",
           "radialaxis": {
            "gridcolor": "white",
            "linecolor": "white",
            "ticks": ""
           }
          },
          "scene": {
           "xaxis": {
            "backgroundcolor": "#E5ECF6",
            "gridcolor": "white",
            "gridwidth": 2,
            "linecolor": "white",
            "showbackground": true,
            "ticks": "",
            "zerolinecolor": "white"
           },
           "yaxis": {
            "backgroundcolor": "#E5ECF6",
            "gridcolor": "white",
            "gridwidth": 2,
            "linecolor": "white",
            "showbackground": true,
            "ticks": "",
            "zerolinecolor": "white"
           },
           "zaxis": {
            "backgroundcolor": "#E5ECF6",
            "gridcolor": "white",
            "gridwidth": 2,
            "linecolor": "white",
            "showbackground": true,
            "ticks": "",
            "zerolinecolor": "white"
           }
          },
          "shapedefaults": {
           "line": {
            "color": "#2a3f5f"
           }
          },
          "ternary": {
           "aaxis": {
            "gridcolor": "white",
            "linecolor": "white",
            "ticks": ""
           },
           "baxis": {
            "gridcolor": "white",
            "linecolor": "white",
            "ticks": ""
           },
           "bgcolor": "#E5ECF6",
           "caxis": {
            "gridcolor": "white",
            "linecolor": "white",
            "ticks": ""
           }
          },
          "title": {
           "x": 0.05
          },
          "xaxis": {
           "automargin": true,
           "gridcolor": "white",
           "linecolor": "white",
           "ticks": "",
           "title": {
            "standoff": 15
           },
           "zerolinecolor": "white",
           "zerolinewidth": 2
          },
          "yaxis": {
           "automargin": true,
           "gridcolor": "white",
           "linecolor": "white",
           "ticks": "",
           "title": {
            "standoff": 15
           },
           "zerolinecolor": "white",
           "zerolinewidth": 2
          }
         }
        },
        "title": {
         "text": "Scatterplot Matrix"
        },
        "width": 1200,
        "xaxis": {
         "anchor": "y",
         "domain": [
          0,
          0.2125
         ],
         "showticklabels": false
        },
        "xaxis10": {
         "anchor": "y10",
         "domain": [
          0.2625,
          0.475
         ]
        },
        "xaxis11": {
         "anchor": "y11",
         "domain": [
          0.525,
          0.7375
         ],
         "showticklabels": false
        },
        "xaxis12": {
         "anchor": "y12",
         "domain": [
          0.7875,
          1
         ]
        },
        "xaxis13": {
         "anchor": "y13",
         "domain": [
          0,
          0.2125
         ],
         "title": {
          "text": "Year"
         }
        },
        "xaxis14": {
         "anchor": "y14",
         "domain": [
          0.2625,
          0.475
         ],
         "title": {
          "text": "Platform"
         }
        },
        "xaxis15": {
         "anchor": "y15",
         "domain": [
          0.525,
          0.7375
         ],
         "title": {
          "text": "NA_Sales"
         }
        },
        "xaxis16": {
         "anchor": "y16",
         "domain": [
          0.7875,
          1
         ],
         "showticklabels": false,
         "title": {
          "text": "EU_Sales"
         }
        },
        "xaxis2": {
         "anchor": "y2",
         "domain": [
          0.2625,
          0.475
         ]
        },
        "xaxis3": {
         "anchor": "y3",
         "domain": [
          0.525,
          0.7375
         ]
        },
        "xaxis4": {
         "anchor": "y4",
         "domain": [
          0.7875,
          1
         ]
        },
        "xaxis5": {
         "anchor": "y5",
         "domain": [
          0,
          0.2125
         ]
        },
        "xaxis6": {
         "anchor": "y6",
         "domain": [
          0.2625,
          0.475
         ],
         "showticklabels": false
        },
        "xaxis7": {
         "anchor": "y7",
         "domain": [
          0.525,
          0.7375
         ]
        },
        "xaxis8": {
         "anchor": "y8",
         "domain": [
          0.7875,
          1
         ]
        },
        "xaxis9": {
         "anchor": "y9",
         "domain": [
          0,
          0.2125
         ]
        },
        "yaxis": {
         "anchor": "x",
         "domain": [
          0.80625,
          1
         ],
         "title": {
          "text": "Year"
         }
        },
        "yaxis10": {
         "anchor": "x10",
         "domain": [
          0.26875,
          0.4625
         ]
        },
        "yaxis11": {
         "anchor": "x11",
         "domain": [
          0.26875,
          0.4625
         ]
        },
        "yaxis12": {
         "anchor": "x12",
         "domain": [
          0.26875,
          0.4625
         ]
        },
        "yaxis13": {
         "anchor": "x13",
         "domain": [
          0,
          0.19375
         ],
         "title": {
          "text": "EU_Sales"
         }
        },
        "yaxis14": {
         "anchor": "x14",
         "domain": [
          0,
          0.19375
         ]
        },
        "yaxis15": {
         "anchor": "x15",
         "domain": [
          0,
          0.19375
         ]
        },
        "yaxis16": {
         "anchor": "x16",
         "domain": [
          0,
          0.19375
         ]
        },
        "yaxis2": {
         "anchor": "x2",
         "domain": [
          0.80625,
          1
         ]
        },
        "yaxis3": {
         "anchor": "x3",
         "domain": [
          0.80625,
          1
         ]
        },
        "yaxis4": {
         "anchor": "x4",
         "domain": [
          0.80625,
          1
         ]
        },
        "yaxis5": {
         "anchor": "x5",
         "domain": [
          0.5375,
          0.73125
         ],
         "title": {
          "text": "Platform"
         }
        },
        "yaxis6": {
         "anchor": "x6",
         "domain": [
          0.5375,
          0.73125
         ]
        },
        "yaxis7": {
         "anchor": "x7",
         "domain": [
          0.5375,
          0.73125
         ]
        },
        "yaxis8": {
         "anchor": "x8",
         "domain": [
          0.5375,
          0.73125
         ]
        },
        "yaxis9": {
         "anchor": "x9",
         "domain": [
          0.26875,
          0.4625
         ],
         "title": {
          "text": "NA_Sales"
         }
        }
       }
      },
      "text/html": [
       "<div>                            <div id=\"8f8104d1-8a9d-4502-8029-5eacd8b6fcfb\" class=\"plotly-graph-div\" style=\"height:1000px; width:1200px;\"></div>            <script type=\"text/javascript\">                require([\"plotly\"], function(Plotly) {                    window.PLOTLYENV=window.PLOTLYENV || {};                                    if (document.getElementById(\"8f8104d1-8a9d-4502-8029-5eacd8b6fcfb\")) {                    Plotly.newPlot(                        \"8f8104d1-8a9d-4502-8029-5eacd8b6fcfb\",                        [{\"marker\":{\"color\":\"rgb(128, 0, 38)\"},\"showlegend\":false,\"type\":\"box\",\"xaxis\":\"x\",\"y\":[2006.0,1985.0,2008.0,2009.0,1996.0,1989.0,2006.0,2006.0,2009.0,1984.0,2005.0,2005.0,1999.0,2007.0,2009.0,2010.0,2013.0,2004.0,1990.0,2005.0,2006.0,1989.0,1988.0,2013.0,2002.0,2002.0,2010.0,2005.0,2001.0,2011.0,1998.0,2010.0,2013.0,2015.0,2012.0,2012.0,2009.0,2011.0,2001.0,2008.0,2010.0,2005.0,2011.0,2007.0,2014.0,2009.0,1996.0,2004.0,2007.0,2014.0,1992.0,2008.0,1997.0,2011.0,2010.0,2009.0,2008.0,1993.0,2004.0,2004.0,2011.0,2013.0,2010.0,1996.0,2012.0,2012.0,1997.0,2013.0,2010.0,1999.0,2007.0,1994.0,2013.0,2012.0,2007.0,2011.0,1992.0,2015.0,2010.0,2004.0,2007.0,2012.0,2012.0,2009.0,1997.0,2007.0,2001.0,1999.0,2008.0,1982.0,2005.0,2010.0,2015.0,2014.0,1998.0,1997.0,1988.0,2014.0,2008.0,2011.0],\"yaxis\":\"y\"},{\"marker\":{\"color\":[1,2,3,4,5,6,7,8,9,10,11,12,13,14,15,16,17,18,19,20,21,22,23,24,25,26,27,28,29,30,31,32,33,34,35,36,37,38,39,40,41,42,43,44,45,46,47,48,49,50,51,52,53,54,55,56,57,58,59,60,61,62,63,64,65,66,67,68,69,70,71,72,73,74,75,76,77,78,79,80,81,82,83,84,85,86,87,88,89,90,91,92,93,94,95,96,97,98,99,100],\"colorscale\":[[0.0,\"rgb(128, 0, 38)\"],[1.0,\"rgb(255, 255, 204)\"]],\"showscale\":true,\"size\":6},\"mode\":\"markers\",\"showlegend\":false,\"type\":\"scatter\",\"x\":[\"Wii\",\"NES\",\"Wii\",\"Wii\",\"GB\",\"GB\",\"DS\",\"Wii\",\"Wii\",\"NES\",\"DS\",\"DS\",\"GB\",\"Wii\",\"Wii\",\"X360\",\"PS3\",\"PS2\",\"SNES\",\"DS\",\"DS\",\"GB\",\"NES\",\"X360\",\"PS2\",\"GBA\",\"DS\",\"DS\",\"PS2\",\"X360\",\"GB\",\"X360\",\"3DS\",\"PS4\",\"PS3\",\"X360\",\"X360\",\"PS3\",\"PS2\",\"Wii\",\"PS3\",\"DS\",\"3DS\",\"X360\",\"PS4\",\"DS\",\"N64\",\"PS2\",\"Wii\",\"3DS\",\"GB\",\"X360\",\"PS\",\"3DS\",\"PS3\",\"PS3\",\"PS3\",\"SNES\",\"GBA\",\"DS\",\"Wii\",\"X360\",\"X360\",\"N64\",\"3DS\",\"X360\",\"PS\",\"PS3\",\"Wii\",\"PS\",\"X360\",\"SNES\",\"X360\",\"3DS\",\"DS\",\"X360\",\"SNES\",\"PS4\",\"Wii\",\"XB\",\"Wii\",\"DS\",\"PS3\",\"PC\",\"N64\",\"Wii\",\"PS2\",\"PS\",\"DS\",\"2600\",\"PSP\",\"Wii\",\"PS4\",\"PS4\",\"N64\",\"PS\",\"NES\",\"3DS\",\"X360\",\"X360\"],\"xaxis\":\"x2\",\"y\":[2006.0,1985.0,2008.0,2009.0,1996.0,1989.0,2006.0,2006.0,2009.0,1984.0,2005.0,2005.0,1999.0,2007.0,2009.0,2010.0,2013.0,2004.0,1990.0,2005.0,2006.0,1989.0,1988.0,2013.0,2002.0,2002.0,2010.0,2005.0,2001.0,2011.0,1998.0,2010.0,2013.0,2015.0,2012.0,2012.0,2009.0,2011.0,2001.0,2008.0,2010.0,2005.0,2011.0,2007.0,2014.0,2009.0,1996.0,2004.0,2007.0,2014.0,1992.0,2008.0,1997.0,2011.0,2010.0,2009.0,2008.0,1993.0,2004.0,2004.0,2011.0,2013.0,2010.0,1996.0,2012.0,2012.0,1997.0,2013.0,2010.0,1999.0,2007.0,1994.0,2013.0,2012.0,2007.0,2011.0,1992.0,2015.0,2010.0,2004.0,2007.0,2012.0,2012.0,2009.0,1997.0,2007.0,2001.0,1999.0,2008.0,1982.0,2005.0,2010.0,2015.0,2014.0,1998.0,1997.0,1988.0,2014.0,2008.0,2011.0],\"yaxis\":\"y2\"},{\"marker\":{\"color\":[1,2,3,4,5,6,7,8,9,10,11,12,13,14,15,16,17,18,19,20,21,22,23,24,25,26,27,28,29,30,31,32,33,34,35,36,37,38,39,40,41,42,43,44,45,46,47,48,49,50,51,52,53,54,55,56,57,58,59,60,61,62,63,64,65,66,67,68,69,70,71,72,73,74,75,76,77,78,79,80,81,82,83,84,85,86,87,88,89,90,91,92,93,94,95,96,97,98,99,100],\"colorscale\":[[0.0,\"rgb(128, 0, 38)\"],[1.0,\"rgb(255, 255, 204)\"]],\"showscale\":false,\"size\":6},\"mode\":\"markers\",\"showlegend\":false,\"type\":\"scatter\",\"x\":[41.49,29.08,15.85,15.75,11.27,23.2,11.38,14.03,14.59,26.93,9.07,9.81,9.0,8.94,9.09,14.97,7.01,9.43,12.78,4.75,6.42,10.83,9.54,9.63,8.41,6.06,5.57,3.44,6.85,9.03,5.89,9.67,5.17,5.77,4.99,8.25,8.52,5.54,6.99,6.75,5.98,2.55,4.74,7.97,3.8,4.4,6.91,3.01,6.16,4.23,6.16,6.76,4.02,4.89,2.96,4.99,4.76,5.99,4.34,5.08,6.05,6.72,7.03,5.55,3.66,6.63,3.01,4.09,5.84,3.88,5.91,4.36,5.58,2.01,4.46,5.03,3.54,1.11,1.79,6.82,3.81,2.91,1.06,0.98,5.8,2.58,2.91,2.28,2.82,7.28,2.9,3.66,2.93,2.8,4.1,3.78,5.39,3.24,4.79,4.46],\"xaxis\":\"x3\",\"y\":[2006.0,1985.0,2008.0,2009.0,1996.0,1989.0,2006.0,2006.0,2009.0,1984.0,2005.0,2005.0,1999.0,2007.0,2009.0,2010.0,2013.0,2004.0,1990.0,2005.0,2006.0,1989.0,1988.0,2013.0,2002.0,2002.0,2010.0,2005.0,2001.0,2011.0,1998.0,2010.0,2013.0,2015.0,2012.0,2012.0,2009.0,2011.0,2001.0,2008.0,2010.0,2005.0,2011.0,2007.0,2014.0,2009.0,1996.0,2004.0,2007.0,2014.0,1992.0,2008.0,1997.0,2011.0,2010.0,2009.0,2008.0,1993.0,2004.0,2004.0,2011.0,2013.0,2010.0,1996.0,2012.0,2012.0,1997.0,2013.0,2010.0,1999.0,2007.0,1994.0,2013.0,2012.0,2007.0,2011.0,1992.0,2015.0,2010.0,2004.0,2007.0,2012.0,2012.0,2009.0,1997.0,2007.0,2001.0,1999.0,2008.0,1982.0,2005.0,2010.0,2015.0,2014.0,1998.0,1997.0,1988.0,2014.0,2008.0,2011.0],\"yaxis\":\"y3\"},{\"marker\":{\"color\":[1,2,3,4,5,6,7,8,9,10,11,12,13,14,15,16,17,18,19,20,21,22,23,24,25,26,27,28,29,30,31,32,33,34,35,36,37,38,39,40,41,42,43,44,45,46,47,48,49,50,51,52,53,54,55,56,57,58,59,60,61,62,63,64,65,66,67,68,69,70,71,72,73,74,75,76,77,78,79,80,81,82,83,84,85,86,87,88,89,90,91,92,93,94,95,96,97,98,99,100],\"colorscale\":[[0.0,\"rgb(128, 0, 38)\"],[1.0,\"rgb(255, 255, 204)\"]],\"showscale\":false,\"size\":6},\"mode\":\"markers\",\"showlegend\":false,\"type\":\"scatter\",\"x\":[29.02,3.58,12.88,11.01,8.89,2.26,9.23,9.2,7.06,0.63,11.0,7.57,6.18,8.03,8.59,4.94,9.27,0.4,3.75,9.26,4.52,2.71,3.44,5.31,5.49,3.9,3.28,5.36,5.09,4.28,5.04,3.73,4.05,5.81,5.88,4.3,3.63,5.82,4.51,2.61,4.44,3.52,3.91,2.83,5.81,2.77,2.85,0.01,3.4,3.37,2.04,3.1,3.87,2.99,4.88,3.69,3.76,2.15,2.65,3.11,3.15,2.63,1.98,1.94,3.07,2.36,2.47,3.73,2.89,3.42,2.38,1.71,2.83,2.32,1.88,2.86,1.24,6.06,3.53,1.53,2.3,1.86,5.05,6.42,2.01,3.9,2.07,1.72,1.78,0.45,2.83,2.42,3.29,3.3,1.89,2.17,1.18,1.35,1.9,2.13],\"xaxis\":\"x4\",\"y\":[2006.0,1985.0,2008.0,2009.0,1996.0,1989.0,2006.0,2006.0,2009.0,1984.0,2005.0,2005.0,1999.0,2007.0,2009.0,2010.0,2013.0,2004.0,1990.0,2005.0,2006.0,1989.0,1988.0,2013.0,2002.0,2002.0,2010.0,2005.0,2001.0,2011.0,1998.0,2010.0,2013.0,2015.0,2012.0,2012.0,2009.0,2011.0,2001.0,2008.0,2010.0,2005.0,2011.0,2007.0,2014.0,2009.0,1996.0,2004.0,2007.0,2014.0,1992.0,2008.0,1997.0,2011.0,2010.0,2009.0,2008.0,1993.0,2004.0,2004.0,2011.0,2013.0,2010.0,1996.0,2012.0,2012.0,1997.0,2013.0,2010.0,1999.0,2007.0,1994.0,2013.0,2012.0,2007.0,2011.0,1992.0,2015.0,2010.0,2004.0,2007.0,2012.0,2012.0,2009.0,1997.0,2007.0,2001.0,1999.0,2008.0,1982.0,2005.0,2010.0,2015.0,2014.0,1998.0,1997.0,1988.0,2014.0,2008.0,2011.0],\"yaxis\":\"y4\"},{\"marker\":{\"color\":[1,2,3,4,5,6,7,8,9,10,11,12,13,14,15,16,17,18,19,20,21,22,23,24,25,26,27,28,29,30,31,32,33,34,35,36,37,38,39,40,41,42,43,44,45,46,47,48,49,50,51,52,53,54,55,56,57,58,59,60,61,62,63,64,65,66,67,68,69,70,71,72,73,74,75,76,77,78,79,80,81,82,83,84,85,86,87,88,89,90,91,92,93,94,95,96,97,98,99,100],\"colorscale\":[[0.0,\"rgb(128, 0, 38)\"],[1.0,\"rgb(255, 255, 204)\"]],\"showscale\":false,\"size\":6},\"mode\":\"markers\",\"showlegend\":false,\"type\":\"scatter\",\"x\":[2006.0,1985.0,2008.0,2009.0,1996.0,1989.0,2006.0,2006.0,2009.0,1984.0,2005.0,2005.0,1999.0,2007.0,2009.0,2010.0,2013.0,2004.0,1990.0,2005.0,2006.0,1989.0,1988.0,2013.0,2002.0,2002.0,2010.0,2005.0,2001.0,2011.0,1998.0,2010.0,2013.0,2015.0,2012.0,2012.0,2009.0,2011.0,2001.0,2008.0,2010.0,2005.0,2011.0,2007.0,2014.0,2009.0,1996.0,2004.0,2007.0,2014.0,1992.0,2008.0,1997.0,2011.0,2010.0,2009.0,2008.0,1993.0,2004.0,2004.0,2011.0,2013.0,2010.0,1996.0,2012.0,2012.0,1997.0,2013.0,2010.0,1999.0,2007.0,1994.0,2013.0,2012.0,2007.0,2011.0,1992.0,2015.0,2010.0,2004.0,2007.0,2012.0,2012.0,2009.0,1997.0,2007.0,2001.0,1999.0,2008.0,1982.0,2005.0,2010.0,2015.0,2014.0,1998.0,1997.0,1988.0,2014.0,2008.0,2011.0],\"xaxis\":\"x5\",\"y\":[\"Wii\",\"NES\",\"Wii\",\"Wii\",\"GB\",\"GB\",\"DS\",\"Wii\",\"Wii\",\"NES\",\"DS\",\"DS\",\"GB\",\"Wii\",\"Wii\",\"X360\",\"PS3\",\"PS2\",\"SNES\",\"DS\",\"DS\",\"GB\",\"NES\",\"X360\",\"PS2\",\"GBA\",\"DS\",\"DS\",\"PS2\",\"X360\",\"GB\",\"X360\",\"3DS\",\"PS4\",\"PS3\",\"X360\",\"X360\",\"PS3\",\"PS2\",\"Wii\",\"PS3\",\"DS\",\"3DS\",\"X360\",\"PS4\",\"DS\",\"N64\",\"PS2\",\"Wii\",\"3DS\",\"GB\",\"X360\",\"PS\",\"3DS\",\"PS3\",\"PS3\",\"PS3\",\"SNES\",\"GBA\",\"DS\",\"Wii\",\"X360\",\"X360\",\"N64\",\"3DS\",\"X360\",\"PS\",\"PS3\",\"Wii\",\"PS\",\"X360\",\"SNES\",\"X360\",\"3DS\",\"DS\",\"X360\",\"SNES\",\"PS4\",\"Wii\",\"XB\",\"Wii\",\"DS\",\"PS3\",\"PC\",\"N64\",\"Wii\",\"PS2\",\"PS\",\"DS\",\"2600\",\"PSP\",\"Wii\",\"PS4\",\"PS4\",\"N64\",\"PS\",\"NES\",\"3DS\",\"X360\",\"X360\"],\"yaxis\":\"y5\"},{\"marker\":{\"color\":\"rgb(128, 0, 38)\"},\"showlegend\":false,\"type\":\"box\",\"xaxis\":\"x6\",\"y\":[\"Wii\",\"NES\",\"Wii\",\"Wii\",\"GB\",\"GB\",\"DS\",\"Wii\",\"Wii\",\"NES\",\"DS\",\"DS\",\"GB\",\"Wii\",\"Wii\",\"X360\",\"PS3\",\"PS2\",\"SNES\",\"DS\",\"DS\",\"GB\",\"NES\",\"X360\",\"PS2\",\"GBA\",\"DS\",\"DS\",\"PS2\",\"X360\",\"GB\",\"X360\",\"3DS\",\"PS4\",\"PS3\",\"X360\",\"X360\",\"PS3\",\"PS2\",\"Wii\",\"PS3\",\"DS\",\"3DS\",\"X360\",\"PS4\",\"DS\",\"N64\",\"PS2\",\"Wii\",\"3DS\",\"GB\",\"X360\",\"PS\",\"3DS\",\"PS3\",\"PS3\",\"PS3\",\"SNES\",\"GBA\",\"DS\",\"Wii\",\"X360\",\"X360\",\"N64\",\"3DS\",\"X360\",\"PS\",\"PS3\",\"Wii\",\"PS\",\"X360\",\"SNES\",\"X360\",\"3DS\",\"DS\",\"X360\",\"SNES\",\"PS4\",\"Wii\",\"XB\",\"Wii\",\"DS\",\"PS3\",\"PC\",\"N64\",\"Wii\",\"PS2\",\"PS\",\"DS\",\"2600\",\"PSP\",\"Wii\",\"PS4\",\"PS4\",\"N64\",\"PS\",\"NES\",\"3DS\",\"X360\",\"X360\"],\"yaxis\":\"y6\"},{\"marker\":{\"color\":[1,2,3,4,5,6,7,8,9,10,11,12,13,14,15,16,17,18,19,20,21,22,23,24,25,26,27,28,29,30,31,32,33,34,35,36,37,38,39,40,41,42,43,44,45,46,47,48,49,50,51,52,53,54,55,56,57,58,59,60,61,62,63,64,65,66,67,68,69,70,71,72,73,74,75,76,77,78,79,80,81,82,83,84,85,86,87,88,89,90,91,92,93,94,95,96,97,98,99,100],\"colorscale\":[[0.0,\"rgb(128, 0, 38)\"],[1.0,\"rgb(255, 255, 204)\"]],\"showscale\":false,\"size\":6},\"mode\":\"markers\",\"showlegend\":false,\"type\":\"scatter\",\"x\":[41.49,29.08,15.85,15.75,11.27,23.2,11.38,14.03,14.59,26.93,9.07,9.81,9.0,8.94,9.09,14.97,7.01,9.43,12.78,4.75,6.42,10.83,9.54,9.63,8.41,6.06,5.57,3.44,6.85,9.03,5.89,9.67,5.17,5.77,4.99,8.25,8.52,5.54,6.99,6.75,5.98,2.55,4.74,7.97,3.8,4.4,6.91,3.01,6.16,4.23,6.16,6.76,4.02,4.89,2.96,4.99,4.76,5.99,4.34,5.08,6.05,6.72,7.03,5.55,3.66,6.63,3.01,4.09,5.84,3.88,5.91,4.36,5.58,2.01,4.46,5.03,3.54,1.11,1.79,6.82,3.81,2.91,1.06,0.98,5.8,2.58,2.91,2.28,2.82,7.28,2.9,3.66,2.93,2.8,4.1,3.78,5.39,3.24,4.79,4.46],\"xaxis\":\"x7\",\"y\":[\"Wii\",\"NES\",\"Wii\",\"Wii\",\"GB\",\"GB\",\"DS\",\"Wii\",\"Wii\",\"NES\",\"DS\",\"DS\",\"GB\",\"Wii\",\"Wii\",\"X360\",\"PS3\",\"PS2\",\"SNES\",\"DS\",\"DS\",\"GB\",\"NES\",\"X360\",\"PS2\",\"GBA\",\"DS\",\"DS\",\"PS2\",\"X360\",\"GB\",\"X360\",\"3DS\",\"PS4\",\"PS3\",\"X360\",\"X360\",\"PS3\",\"PS2\",\"Wii\",\"PS3\",\"DS\",\"3DS\",\"X360\",\"PS4\",\"DS\",\"N64\",\"PS2\",\"Wii\",\"3DS\",\"GB\",\"X360\",\"PS\",\"3DS\",\"PS3\",\"PS3\",\"PS3\",\"SNES\",\"GBA\",\"DS\",\"Wii\",\"X360\",\"X360\",\"N64\",\"3DS\",\"X360\",\"PS\",\"PS3\",\"Wii\",\"PS\",\"X360\",\"SNES\",\"X360\",\"3DS\",\"DS\",\"X360\",\"SNES\",\"PS4\",\"Wii\",\"XB\",\"Wii\",\"DS\",\"PS3\",\"PC\",\"N64\",\"Wii\",\"PS2\",\"PS\",\"DS\",\"2600\",\"PSP\",\"Wii\",\"PS4\",\"PS4\",\"N64\",\"PS\",\"NES\",\"3DS\",\"X360\",\"X360\"],\"yaxis\":\"y7\"},{\"marker\":{\"color\":[1,2,3,4,5,6,7,8,9,10,11,12,13,14,15,16,17,18,19,20,21,22,23,24,25,26,27,28,29,30,31,32,33,34,35,36,37,38,39,40,41,42,43,44,45,46,47,48,49,50,51,52,53,54,55,56,57,58,59,60,61,62,63,64,65,66,67,68,69,70,71,72,73,74,75,76,77,78,79,80,81,82,83,84,85,86,87,88,89,90,91,92,93,94,95,96,97,98,99,100],\"colorscale\":[[0.0,\"rgb(128, 0, 38)\"],[1.0,\"rgb(255, 255, 204)\"]],\"showscale\":false,\"size\":6},\"mode\":\"markers\",\"showlegend\":false,\"type\":\"scatter\",\"x\":[29.02,3.58,12.88,11.01,8.89,2.26,9.23,9.2,7.06,0.63,11.0,7.57,6.18,8.03,8.59,4.94,9.27,0.4,3.75,9.26,4.52,2.71,3.44,5.31,5.49,3.9,3.28,5.36,5.09,4.28,5.04,3.73,4.05,5.81,5.88,4.3,3.63,5.82,4.51,2.61,4.44,3.52,3.91,2.83,5.81,2.77,2.85,0.01,3.4,3.37,2.04,3.1,3.87,2.99,4.88,3.69,3.76,2.15,2.65,3.11,3.15,2.63,1.98,1.94,3.07,2.36,2.47,3.73,2.89,3.42,2.38,1.71,2.83,2.32,1.88,2.86,1.24,6.06,3.53,1.53,2.3,1.86,5.05,6.42,2.01,3.9,2.07,1.72,1.78,0.45,2.83,2.42,3.29,3.3,1.89,2.17,1.18,1.35,1.9,2.13],\"xaxis\":\"x8\",\"y\":[\"Wii\",\"NES\",\"Wii\",\"Wii\",\"GB\",\"GB\",\"DS\",\"Wii\",\"Wii\",\"NES\",\"DS\",\"DS\",\"GB\",\"Wii\",\"Wii\",\"X360\",\"PS3\",\"PS2\",\"SNES\",\"DS\",\"DS\",\"GB\",\"NES\",\"X360\",\"PS2\",\"GBA\",\"DS\",\"DS\",\"PS2\",\"X360\",\"GB\",\"X360\",\"3DS\",\"PS4\",\"PS3\",\"X360\",\"X360\",\"PS3\",\"PS2\",\"Wii\",\"PS3\",\"DS\",\"3DS\",\"X360\",\"PS4\",\"DS\",\"N64\",\"PS2\",\"Wii\",\"3DS\",\"GB\",\"X360\",\"PS\",\"3DS\",\"PS3\",\"PS3\",\"PS3\",\"SNES\",\"GBA\",\"DS\",\"Wii\",\"X360\",\"X360\",\"N64\",\"3DS\",\"X360\",\"PS\",\"PS3\",\"Wii\",\"PS\",\"X360\",\"SNES\",\"X360\",\"3DS\",\"DS\",\"X360\",\"SNES\",\"PS4\",\"Wii\",\"XB\",\"Wii\",\"DS\",\"PS3\",\"PC\",\"N64\",\"Wii\",\"PS2\",\"PS\",\"DS\",\"2600\",\"PSP\",\"Wii\",\"PS4\",\"PS4\",\"N64\",\"PS\",\"NES\",\"3DS\",\"X360\",\"X360\"],\"yaxis\":\"y8\"},{\"marker\":{\"color\":[1,2,3,4,5,6,7,8,9,10,11,12,13,14,15,16,17,18,19,20,21,22,23,24,25,26,27,28,29,30,31,32,33,34,35,36,37,38,39,40,41,42,43,44,45,46,47,48,49,50,51,52,53,54,55,56,57,58,59,60,61,62,63,64,65,66,67,68,69,70,71,72,73,74,75,76,77,78,79,80,81,82,83,84,85,86,87,88,89,90,91,92,93,94,95,96,97,98,99,100],\"colorscale\":[[0.0,\"rgb(128, 0, 38)\"],[1.0,\"rgb(255, 255, 204)\"]],\"showscale\":false,\"size\":6},\"mode\":\"markers\",\"showlegend\":false,\"type\":\"scatter\",\"x\":[2006.0,1985.0,2008.0,2009.0,1996.0,1989.0,2006.0,2006.0,2009.0,1984.0,2005.0,2005.0,1999.0,2007.0,2009.0,2010.0,2013.0,2004.0,1990.0,2005.0,2006.0,1989.0,1988.0,2013.0,2002.0,2002.0,2010.0,2005.0,2001.0,2011.0,1998.0,2010.0,2013.0,2015.0,2012.0,2012.0,2009.0,2011.0,2001.0,2008.0,2010.0,2005.0,2011.0,2007.0,2014.0,2009.0,1996.0,2004.0,2007.0,2014.0,1992.0,2008.0,1997.0,2011.0,2010.0,2009.0,2008.0,1993.0,2004.0,2004.0,2011.0,2013.0,2010.0,1996.0,2012.0,2012.0,1997.0,2013.0,2010.0,1999.0,2007.0,1994.0,2013.0,2012.0,2007.0,2011.0,1992.0,2015.0,2010.0,2004.0,2007.0,2012.0,2012.0,2009.0,1997.0,2007.0,2001.0,1999.0,2008.0,1982.0,2005.0,2010.0,2015.0,2014.0,1998.0,1997.0,1988.0,2014.0,2008.0,2011.0],\"xaxis\":\"x9\",\"y\":[41.49,29.08,15.85,15.75,11.27,23.2,11.38,14.03,14.59,26.93,9.07,9.81,9.0,8.94,9.09,14.97,7.01,9.43,12.78,4.75,6.42,10.83,9.54,9.63,8.41,6.06,5.57,3.44,6.85,9.03,5.89,9.67,5.17,5.77,4.99,8.25,8.52,5.54,6.99,6.75,5.98,2.55,4.74,7.97,3.8,4.4,6.91,3.01,6.16,4.23,6.16,6.76,4.02,4.89,2.96,4.99,4.76,5.99,4.34,5.08,6.05,6.72,7.03,5.55,3.66,6.63,3.01,4.09,5.84,3.88,5.91,4.36,5.58,2.01,4.46,5.03,3.54,1.11,1.79,6.82,3.81,2.91,1.06,0.98,5.8,2.58,2.91,2.28,2.82,7.28,2.9,3.66,2.93,2.8,4.1,3.78,5.39,3.24,4.79,4.46],\"yaxis\":\"y9\"},{\"marker\":{\"color\":[1,2,3,4,5,6,7,8,9,10,11,12,13,14,15,16,17,18,19,20,21,22,23,24,25,26,27,28,29,30,31,32,33,34,35,36,37,38,39,40,41,42,43,44,45,46,47,48,49,50,51,52,53,54,55,56,57,58,59,60,61,62,63,64,65,66,67,68,69,70,71,72,73,74,75,76,77,78,79,80,81,82,83,84,85,86,87,88,89,90,91,92,93,94,95,96,97,98,99,100],\"colorscale\":[[0.0,\"rgb(128, 0, 38)\"],[1.0,\"rgb(255, 255, 204)\"]],\"showscale\":false,\"size\":6},\"mode\":\"markers\",\"showlegend\":false,\"type\":\"scatter\",\"x\":[\"Wii\",\"NES\",\"Wii\",\"Wii\",\"GB\",\"GB\",\"DS\",\"Wii\",\"Wii\",\"NES\",\"DS\",\"DS\",\"GB\",\"Wii\",\"Wii\",\"X360\",\"PS3\",\"PS2\",\"SNES\",\"DS\",\"DS\",\"GB\",\"NES\",\"X360\",\"PS2\",\"GBA\",\"DS\",\"DS\",\"PS2\",\"X360\",\"GB\",\"X360\",\"3DS\",\"PS4\",\"PS3\",\"X360\",\"X360\",\"PS3\",\"PS2\",\"Wii\",\"PS3\",\"DS\",\"3DS\",\"X360\",\"PS4\",\"DS\",\"N64\",\"PS2\",\"Wii\",\"3DS\",\"GB\",\"X360\",\"PS\",\"3DS\",\"PS3\",\"PS3\",\"PS3\",\"SNES\",\"GBA\",\"DS\",\"Wii\",\"X360\",\"X360\",\"N64\",\"3DS\",\"X360\",\"PS\",\"PS3\",\"Wii\",\"PS\",\"X360\",\"SNES\",\"X360\",\"3DS\",\"DS\",\"X360\",\"SNES\",\"PS4\",\"Wii\",\"XB\",\"Wii\",\"DS\",\"PS3\",\"PC\",\"N64\",\"Wii\",\"PS2\",\"PS\",\"DS\",\"2600\",\"PSP\",\"Wii\",\"PS4\",\"PS4\",\"N64\",\"PS\",\"NES\",\"3DS\",\"X360\",\"X360\"],\"xaxis\":\"x10\",\"y\":[41.49,29.08,15.85,15.75,11.27,23.2,11.38,14.03,14.59,26.93,9.07,9.81,9.0,8.94,9.09,14.97,7.01,9.43,12.78,4.75,6.42,10.83,9.54,9.63,8.41,6.06,5.57,3.44,6.85,9.03,5.89,9.67,5.17,5.77,4.99,8.25,8.52,5.54,6.99,6.75,5.98,2.55,4.74,7.97,3.8,4.4,6.91,3.01,6.16,4.23,6.16,6.76,4.02,4.89,2.96,4.99,4.76,5.99,4.34,5.08,6.05,6.72,7.03,5.55,3.66,6.63,3.01,4.09,5.84,3.88,5.91,4.36,5.58,2.01,4.46,5.03,3.54,1.11,1.79,6.82,3.81,2.91,1.06,0.98,5.8,2.58,2.91,2.28,2.82,7.28,2.9,3.66,2.93,2.8,4.1,3.78,5.39,3.24,4.79,4.46],\"yaxis\":\"y10\"},{\"marker\":{\"color\":\"rgb(128, 0, 38)\"},\"showlegend\":false,\"type\":\"box\",\"xaxis\":\"x11\",\"y\":[41.49,29.08,15.85,15.75,11.27,23.2,11.38,14.03,14.59,26.93,9.07,9.81,9.0,8.94,9.09,14.97,7.01,9.43,12.78,4.75,6.42,10.83,9.54,9.63,8.41,6.06,5.57,3.44,6.85,9.03,5.89,9.67,5.17,5.77,4.99,8.25,8.52,5.54,6.99,6.75,5.98,2.55,4.74,7.97,3.8,4.4,6.91,3.01,6.16,4.23,6.16,6.76,4.02,4.89,2.96,4.99,4.76,5.99,4.34,5.08,6.05,6.72,7.03,5.55,3.66,6.63,3.01,4.09,5.84,3.88,5.91,4.36,5.58,2.01,4.46,5.03,3.54,1.11,1.79,6.82,3.81,2.91,1.06,0.98,5.8,2.58,2.91,2.28,2.82,7.28,2.9,3.66,2.93,2.8,4.1,3.78,5.39,3.24,4.79,4.46],\"yaxis\":\"y11\"},{\"marker\":{\"color\":[1,2,3,4,5,6,7,8,9,10,11,12,13,14,15,16,17,18,19,20,21,22,23,24,25,26,27,28,29,30,31,32,33,34,35,36,37,38,39,40,41,42,43,44,45,46,47,48,49,50,51,52,53,54,55,56,57,58,59,60,61,62,63,64,65,66,67,68,69,70,71,72,73,74,75,76,77,78,79,80,81,82,83,84,85,86,87,88,89,90,91,92,93,94,95,96,97,98,99,100],\"colorscale\":[[0.0,\"rgb(128, 0, 38)\"],[1.0,\"rgb(255, 255, 204)\"]],\"showscale\":false,\"size\":6},\"mode\":\"markers\",\"showlegend\":false,\"type\":\"scatter\",\"x\":[29.02,3.58,12.88,11.01,8.89,2.26,9.23,9.2,7.06,0.63,11.0,7.57,6.18,8.03,8.59,4.94,9.27,0.4,3.75,9.26,4.52,2.71,3.44,5.31,5.49,3.9,3.28,5.36,5.09,4.28,5.04,3.73,4.05,5.81,5.88,4.3,3.63,5.82,4.51,2.61,4.44,3.52,3.91,2.83,5.81,2.77,2.85,0.01,3.4,3.37,2.04,3.1,3.87,2.99,4.88,3.69,3.76,2.15,2.65,3.11,3.15,2.63,1.98,1.94,3.07,2.36,2.47,3.73,2.89,3.42,2.38,1.71,2.83,2.32,1.88,2.86,1.24,6.06,3.53,1.53,2.3,1.86,5.05,6.42,2.01,3.9,2.07,1.72,1.78,0.45,2.83,2.42,3.29,3.3,1.89,2.17,1.18,1.35,1.9,2.13],\"xaxis\":\"x12\",\"y\":[41.49,29.08,15.85,15.75,11.27,23.2,11.38,14.03,14.59,26.93,9.07,9.81,9.0,8.94,9.09,14.97,7.01,9.43,12.78,4.75,6.42,10.83,9.54,9.63,8.41,6.06,5.57,3.44,6.85,9.03,5.89,9.67,5.17,5.77,4.99,8.25,8.52,5.54,6.99,6.75,5.98,2.55,4.74,7.97,3.8,4.4,6.91,3.01,6.16,4.23,6.16,6.76,4.02,4.89,2.96,4.99,4.76,5.99,4.34,5.08,6.05,6.72,7.03,5.55,3.66,6.63,3.01,4.09,5.84,3.88,5.91,4.36,5.58,2.01,4.46,5.03,3.54,1.11,1.79,6.82,3.81,2.91,1.06,0.98,5.8,2.58,2.91,2.28,2.82,7.28,2.9,3.66,2.93,2.8,4.1,3.78,5.39,3.24,4.79,4.46],\"yaxis\":\"y12\"},{\"marker\":{\"color\":[1,2,3,4,5,6,7,8,9,10,11,12,13,14,15,16,17,18,19,20,21,22,23,24,25,26,27,28,29,30,31,32,33,34,35,36,37,38,39,40,41,42,43,44,45,46,47,48,49,50,51,52,53,54,55,56,57,58,59,60,61,62,63,64,65,66,67,68,69,70,71,72,73,74,75,76,77,78,79,80,81,82,83,84,85,86,87,88,89,90,91,92,93,94,95,96,97,98,99,100],\"colorscale\":[[0.0,\"rgb(128, 0, 38)\"],[1.0,\"rgb(255, 255, 204)\"]],\"showscale\":false,\"size\":6},\"mode\":\"markers\",\"showlegend\":false,\"type\":\"scatter\",\"x\":[2006.0,1985.0,2008.0,2009.0,1996.0,1989.0,2006.0,2006.0,2009.0,1984.0,2005.0,2005.0,1999.0,2007.0,2009.0,2010.0,2013.0,2004.0,1990.0,2005.0,2006.0,1989.0,1988.0,2013.0,2002.0,2002.0,2010.0,2005.0,2001.0,2011.0,1998.0,2010.0,2013.0,2015.0,2012.0,2012.0,2009.0,2011.0,2001.0,2008.0,2010.0,2005.0,2011.0,2007.0,2014.0,2009.0,1996.0,2004.0,2007.0,2014.0,1992.0,2008.0,1997.0,2011.0,2010.0,2009.0,2008.0,1993.0,2004.0,2004.0,2011.0,2013.0,2010.0,1996.0,2012.0,2012.0,1997.0,2013.0,2010.0,1999.0,2007.0,1994.0,2013.0,2012.0,2007.0,2011.0,1992.0,2015.0,2010.0,2004.0,2007.0,2012.0,2012.0,2009.0,1997.0,2007.0,2001.0,1999.0,2008.0,1982.0,2005.0,2010.0,2015.0,2014.0,1998.0,1997.0,1988.0,2014.0,2008.0,2011.0],\"xaxis\":\"x13\",\"y\":[29.02,3.58,12.88,11.01,8.89,2.26,9.23,9.2,7.06,0.63,11.0,7.57,6.18,8.03,8.59,4.94,9.27,0.4,3.75,9.26,4.52,2.71,3.44,5.31,5.49,3.9,3.28,5.36,5.09,4.28,5.04,3.73,4.05,5.81,5.88,4.3,3.63,5.82,4.51,2.61,4.44,3.52,3.91,2.83,5.81,2.77,2.85,0.01,3.4,3.37,2.04,3.1,3.87,2.99,4.88,3.69,3.76,2.15,2.65,3.11,3.15,2.63,1.98,1.94,3.07,2.36,2.47,3.73,2.89,3.42,2.38,1.71,2.83,2.32,1.88,2.86,1.24,6.06,3.53,1.53,2.3,1.86,5.05,6.42,2.01,3.9,2.07,1.72,1.78,0.45,2.83,2.42,3.29,3.3,1.89,2.17,1.18,1.35,1.9,2.13],\"yaxis\":\"y13\"},{\"marker\":{\"color\":[1,2,3,4,5,6,7,8,9,10,11,12,13,14,15,16,17,18,19,20,21,22,23,24,25,26,27,28,29,30,31,32,33,34,35,36,37,38,39,40,41,42,43,44,45,46,47,48,49,50,51,52,53,54,55,56,57,58,59,60,61,62,63,64,65,66,67,68,69,70,71,72,73,74,75,76,77,78,79,80,81,82,83,84,85,86,87,88,89,90,91,92,93,94,95,96,97,98,99,100],\"colorscale\":[[0.0,\"rgb(128, 0, 38)\"],[1.0,\"rgb(255, 255, 204)\"]],\"showscale\":false,\"size\":6},\"mode\":\"markers\",\"showlegend\":false,\"type\":\"scatter\",\"x\":[\"Wii\",\"NES\",\"Wii\",\"Wii\",\"GB\",\"GB\",\"DS\",\"Wii\",\"Wii\",\"NES\",\"DS\",\"DS\",\"GB\",\"Wii\",\"Wii\",\"X360\",\"PS3\",\"PS2\",\"SNES\",\"DS\",\"DS\",\"GB\",\"NES\",\"X360\",\"PS2\",\"GBA\",\"DS\",\"DS\",\"PS2\",\"X360\",\"GB\",\"X360\",\"3DS\",\"PS4\",\"PS3\",\"X360\",\"X360\",\"PS3\",\"PS2\",\"Wii\",\"PS3\",\"DS\",\"3DS\",\"X360\",\"PS4\",\"DS\",\"N64\",\"PS2\",\"Wii\",\"3DS\",\"GB\",\"X360\",\"PS\",\"3DS\",\"PS3\",\"PS3\",\"PS3\",\"SNES\",\"GBA\",\"DS\",\"Wii\",\"X360\",\"X360\",\"N64\",\"3DS\",\"X360\",\"PS\",\"PS3\",\"Wii\",\"PS\",\"X360\",\"SNES\",\"X360\",\"3DS\",\"DS\",\"X360\",\"SNES\",\"PS4\",\"Wii\",\"XB\",\"Wii\",\"DS\",\"PS3\",\"PC\",\"N64\",\"Wii\",\"PS2\",\"PS\",\"DS\",\"2600\",\"PSP\",\"Wii\",\"PS4\",\"PS4\",\"N64\",\"PS\",\"NES\",\"3DS\",\"X360\",\"X360\"],\"xaxis\":\"x14\",\"y\":[29.02,3.58,12.88,11.01,8.89,2.26,9.23,9.2,7.06,0.63,11.0,7.57,6.18,8.03,8.59,4.94,9.27,0.4,3.75,9.26,4.52,2.71,3.44,5.31,5.49,3.9,3.28,5.36,5.09,4.28,5.04,3.73,4.05,5.81,5.88,4.3,3.63,5.82,4.51,2.61,4.44,3.52,3.91,2.83,5.81,2.77,2.85,0.01,3.4,3.37,2.04,3.1,3.87,2.99,4.88,3.69,3.76,2.15,2.65,3.11,3.15,2.63,1.98,1.94,3.07,2.36,2.47,3.73,2.89,3.42,2.38,1.71,2.83,2.32,1.88,2.86,1.24,6.06,3.53,1.53,2.3,1.86,5.05,6.42,2.01,3.9,2.07,1.72,1.78,0.45,2.83,2.42,3.29,3.3,1.89,2.17,1.18,1.35,1.9,2.13],\"yaxis\":\"y14\"},{\"marker\":{\"color\":[1,2,3,4,5,6,7,8,9,10,11,12,13,14,15,16,17,18,19,20,21,22,23,24,25,26,27,28,29,30,31,32,33,34,35,36,37,38,39,40,41,42,43,44,45,46,47,48,49,50,51,52,53,54,55,56,57,58,59,60,61,62,63,64,65,66,67,68,69,70,71,72,73,74,75,76,77,78,79,80,81,82,83,84,85,86,87,88,89,90,91,92,93,94,95,96,97,98,99,100],\"colorscale\":[[0.0,\"rgb(128, 0, 38)\"],[1.0,\"rgb(255, 255, 204)\"]],\"showscale\":false,\"size\":6},\"mode\":\"markers\",\"showlegend\":false,\"type\":\"scatter\",\"x\":[41.49,29.08,15.85,15.75,11.27,23.2,11.38,14.03,14.59,26.93,9.07,9.81,9.0,8.94,9.09,14.97,7.01,9.43,12.78,4.75,6.42,10.83,9.54,9.63,8.41,6.06,5.57,3.44,6.85,9.03,5.89,9.67,5.17,5.77,4.99,8.25,8.52,5.54,6.99,6.75,5.98,2.55,4.74,7.97,3.8,4.4,6.91,3.01,6.16,4.23,6.16,6.76,4.02,4.89,2.96,4.99,4.76,5.99,4.34,5.08,6.05,6.72,7.03,5.55,3.66,6.63,3.01,4.09,5.84,3.88,5.91,4.36,5.58,2.01,4.46,5.03,3.54,1.11,1.79,6.82,3.81,2.91,1.06,0.98,5.8,2.58,2.91,2.28,2.82,7.28,2.9,3.66,2.93,2.8,4.1,3.78,5.39,3.24,4.79,4.46],\"xaxis\":\"x15\",\"y\":[29.02,3.58,12.88,11.01,8.89,2.26,9.23,9.2,7.06,0.63,11.0,7.57,6.18,8.03,8.59,4.94,9.27,0.4,3.75,9.26,4.52,2.71,3.44,5.31,5.49,3.9,3.28,5.36,5.09,4.28,5.04,3.73,4.05,5.81,5.88,4.3,3.63,5.82,4.51,2.61,4.44,3.52,3.91,2.83,5.81,2.77,2.85,0.01,3.4,3.37,2.04,3.1,3.87,2.99,4.88,3.69,3.76,2.15,2.65,3.11,3.15,2.63,1.98,1.94,3.07,2.36,2.47,3.73,2.89,3.42,2.38,1.71,2.83,2.32,1.88,2.86,1.24,6.06,3.53,1.53,2.3,1.86,5.05,6.42,2.01,3.9,2.07,1.72,1.78,0.45,2.83,2.42,3.29,3.3,1.89,2.17,1.18,1.35,1.9,2.13],\"yaxis\":\"y15\"},{\"marker\":{\"color\":\"rgb(128, 0, 38)\"},\"showlegend\":false,\"type\":\"box\",\"xaxis\":\"x16\",\"y\":[29.02,3.58,12.88,11.01,8.89,2.26,9.23,9.2,7.06,0.63,11.0,7.57,6.18,8.03,8.59,4.94,9.27,0.4,3.75,9.26,4.52,2.71,3.44,5.31,5.49,3.9,3.28,5.36,5.09,4.28,5.04,3.73,4.05,5.81,5.88,4.3,3.63,5.82,4.51,2.61,4.44,3.52,3.91,2.83,5.81,2.77,2.85,0.01,3.4,3.37,2.04,3.1,3.87,2.99,4.88,3.69,3.76,2.15,2.65,3.11,3.15,2.63,1.98,1.94,3.07,2.36,2.47,3.73,2.89,3.42,2.38,1.71,2.83,2.32,1.88,2.86,1.24,6.06,3.53,1.53,2.3,1.86,5.05,6.42,2.01,3.9,2.07,1.72,1.78,0.45,2.83,2.42,3.29,3.3,1.89,2.17,1.18,1.35,1.9,2.13],\"yaxis\":\"y16\"}],                        {\"height\":1000,\"showlegend\":true,\"template\":{\"data\":{\"bar\":[{\"error_x\":{\"color\":\"#2a3f5f\"},\"error_y\":{\"color\":\"#2a3f5f\"},\"marker\":{\"line\":{\"color\":\"#E5ECF6\",\"width\":0.5},\"pattern\":{\"fillmode\":\"overlay\",\"size\":10,\"solidity\":0.2}},\"type\":\"bar\"}],\"barpolar\":[{\"marker\":{\"line\":{\"color\":\"#E5ECF6\",\"width\":0.5},\"pattern\":{\"fillmode\":\"overlay\",\"size\":10,\"solidity\":0.2}},\"type\":\"barpolar\"}],\"carpet\":[{\"aaxis\":{\"endlinecolor\":\"#2a3f5f\",\"gridcolor\":\"white\",\"linecolor\":\"white\",\"minorgridcolor\":\"white\",\"startlinecolor\":\"#2a3f5f\"},\"baxis\":{\"endlinecolor\":\"#2a3f5f\",\"gridcolor\":\"white\",\"linecolor\":\"white\",\"minorgridcolor\":\"white\",\"startlinecolor\":\"#2a3f5f\"},\"type\":\"carpet\"}],\"choropleth\":[{\"colorbar\":{\"outlinewidth\":0,\"ticks\":\"\"},\"type\":\"choropleth\"}],\"contour\":[{\"colorbar\":{\"outlinewidth\":0,\"ticks\":\"\"},\"colorscale\":[[0.0,\"#0d0887\"],[0.1111111111111111,\"#46039f\"],[0.2222222222222222,\"#7201a8\"],[0.3333333333333333,\"#9c179e\"],[0.4444444444444444,\"#bd3786\"],[0.5555555555555556,\"#d8576b\"],[0.6666666666666666,\"#ed7953\"],[0.7777777777777778,\"#fb9f3a\"],[0.8888888888888888,\"#fdca26\"],[1.0,\"#f0f921\"]],\"type\":\"contour\"}],\"contourcarpet\":[{\"colorbar\":{\"outlinewidth\":0,\"ticks\":\"\"},\"type\":\"contourcarpet\"}],\"heatmap\":[{\"colorbar\":{\"outlinewidth\":0,\"ticks\":\"\"},\"colorscale\":[[0.0,\"#0d0887\"],[0.1111111111111111,\"#46039f\"],[0.2222222222222222,\"#7201a8\"],[0.3333333333333333,\"#9c179e\"],[0.4444444444444444,\"#bd3786\"],[0.5555555555555556,\"#d8576b\"],[0.6666666666666666,\"#ed7953\"],[0.7777777777777778,\"#fb9f3a\"],[0.8888888888888888,\"#fdca26\"],[1.0,\"#f0f921\"]],\"type\":\"heatmap\"}],\"heatmapgl\":[{\"colorbar\":{\"outlinewidth\":0,\"ticks\":\"\"},\"colorscale\":[[0.0,\"#0d0887\"],[0.1111111111111111,\"#46039f\"],[0.2222222222222222,\"#7201a8\"],[0.3333333333333333,\"#9c179e\"],[0.4444444444444444,\"#bd3786\"],[0.5555555555555556,\"#d8576b\"],[0.6666666666666666,\"#ed7953\"],[0.7777777777777778,\"#fb9f3a\"],[0.8888888888888888,\"#fdca26\"],[1.0,\"#f0f921\"]],\"type\":\"heatmapgl\"}],\"histogram\":[{\"marker\":{\"pattern\":{\"fillmode\":\"overlay\",\"size\":10,\"solidity\":0.2}},\"type\":\"histogram\"}],\"histogram2d\":[{\"colorbar\":{\"outlinewidth\":0,\"ticks\":\"\"},\"colorscale\":[[0.0,\"#0d0887\"],[0.1111111111111111,\"#46039f\"],[0.2222222222222222,\"#7201a8\"],[0.3333333333333333,\"#9c179e\"],[0.4444444444444444,\"#bd3786\"],[0.5555555555555556,\"#d8576b\"],[0.6666666666666666,\"#ed7953\"],[0.7777777777777778,\"#fb9f3a\"],[0.8888888888888888,\"#fdca26\"],[1.0,\"#f0f921\"]],\"type\":\"histogram2d\"}],\"histogram2dcontour\":[{\"colorbar\":{\"outlinewidth\":0,\"ticks\":\"\"},\"colorscale\":[[0.0,\"#0d0887\"],[0.1111111111111111,\"#46039f\"],[0.2222222222222222,\"#7201a8\"],[0.3333333333333333,\"#9c179e\"],[0.4444444444444444,\"#bd3786\"],[0.5555555555555556,\"#d8576b\"],[0.6666666666666666,\"#ed7953\"],[0.7777777777777778,\"#fb9f3a\"],[0.8888888888888888,\"#fdca26\"],[1.0,\"#f0f921\"]],\"type\":\"histogram2dcontour\"}],\"mesh3d\":[{\"colorbar\":{\"outlinewidth\":0,\"ticks\":\"\"},\"type\":\"mesh3d\"}],\"parcoords\":[{\"line\":{\"colorbar\":{\"outlinewidth\":0,\"ticks\":\"\"}},\"type\":\"parcoords\"}],\"pie\":[{\"automargin\":true,\"type\":\"pie\"}],\"scatter\":[{\"marker\":{\"colorbar\":{\"outlinewidth\":0,\"ticks\":\"\"}},\"type\":\"scatter\"}],\"scatter3d\":[{\"line\":{\"colorbar\":{\"outlinewidth\":0,\"ticks\":\"\"}},\"marker\":{\"colorbar\":{\"outlinewidth\":0,\"ticks\":\"\"}},\"type\":\"scatter3d\"}],\"scattercarpet\":[{\"marker\":{\"colorbar\":{\"outlinewidth\":0,\"ticks\":\"\"}},\"type\":\"scattercarpet\"}],\"scattergeo\":[{\"marker\":{\"colorbar\":{\"outlinewidth\":0,\"ticks\":\"\"}},\"type\":\"scattergeo\"}],\"scattergl\":[{\"marker\":{\"colorbar\":{\"outlinewidth\":0,\"ticks\":\"\"}},\"type\":\"scattergl\"}],\"scattermapbox\":[{\"marker\":{\"colorbar\":{\"outlinewidth\":0,\"ticks\":\"\"}},\"type\":\"scattermapbox\"}],\"scatterpolar\":[{\"marker\":{\"colorbar\":{\"outlinewidth\":0,\"ticks\":\"\"}},\"type\":\"scatterpolar\"}],\"scatterpolargl\":[{\"marker\":{\"colorbar\":{\"outlinewidth\":0,\"ticks\":\"\"}},\"type\":\"scatterpolargl\"}],\"scatterternary\":[{\"marker\":{\"colorbar\":{\"outlinewidth\":0,\"ticks\":\"\"}},\"type\":\"scatterternary\"}],\"surface\":[{\"colorbar\":{\"outlinewidth\":0,\"ticks\":\"\"},\"colorscale\":[[0.0,\"#0d0887\"],[0.1111111111111111,\"#46039f\"],[0.2222222222222222,\"#7201a8\"],[0.3333333333333333,\"#9c179e\"],[0.4444444444444444,\"#bd3786\"],[0.5555555555555556,\"#d8576b\"],[0.6666666666666666,\"#ed7953\"],[0.7777777777777778,\"#fb9f3a\"],[0.8888888888888888,\"#fdca26\"],[1.0,\"#f0f921\"]],\"type\":\"surface\"}],\"table\":[{\"cells\":{\"fill\":{\"color\":\"#EBF0F8\"},\"line\":{\"color\":\"white\"}},\"header\":{\"fill\":{\"color\":\"#C8D4E3\"},\"line\":{\"color\":\"white\"}},\"type\":\"table\"}]},\"layout\":{\"annotationdefaults\":{\"arrowcolor\":\"#2a3f5f\",\"arrowhead\":0,\"arrowwidth\":1},\"autotypenumbers\":\"strict\",\"coloraxis\":{\"colorbar\":{\"outlinewidth\":0,\"ticks\":\"\"}},\"colorscale\":{\"diverging\":[[0,\"#8e0152\"],[0.1,\"#c51b7d\"],[0.2,\"#de77ae\"],[0.3,\"#f1b6da\"],[0.4,\"#fde0ef\"],[0.5,\"#f7f7f7\"],[0.6,\"#e6f5d0\"],[0.7,\"#b8e186\"],[0.8,\"#7fbc41\"],[0.9,\"#4d9221\"],[1,\"#276419\"]],\"sequential\":[[0.0,\"#0d0887\"],[0.1111111111111111,\"#46039f\"],[0.2222222222222222,\"#7201a8\"],[0.3333333333333333,\"#9c179e\"],[0.4444444444444444,\"#bd3786\"],[0.5555555555555556,\"#d8576b\"],[0.6666666666666666,\"#ed7953\"],[0.7777777777777778,\"#fb9f3a\"],[0.8888888888888888,\"#fdca26\"],[1.0,\"#f0f921\"]],\"sequentialminus\":[[0.0,\"#0d0887\"],[0.1111111111111111,\"#46039f\"],[0.2222222222222222,\"#7201a8\"],[0.3333333333333333,\"#9c179e\"],[0.4444444444444444,\"#bd3786\"],[0.5555555555555556,\"#d8576b\"],[0.6666666666666666,\"#ed7953\"],[0.7777777777777778,\"#fb9f3a\"],[0.8888888888888888,\"#fdca26\"],[1.0,\"#f0f921\"]]},\"colorway\":[\"#636efa\",\"#EF553B\",\"#00cc96\",\"#ab63fa\",\"#FFA15A\",\"#19d3f3\",\"#FF6692\",\"#B6E880\",\"#FF97FF\",\"#FECB52\"],\"font\":{\"color\":\"#2a3f5f\"},\"geo\":{\"bgcolor\":\"white\",\"lakecolor\":\"white\",\"landcolor\":\"#E5ECF6\",\"showlakes\":true,\"showland\":true,\"subunitcolor\":\"white\"},\"hoverlabel\":{\"align\":\"left\"},\"hovermode\":\"closest\",\"mapbox\":{\"style\":\"light\"},\"paper_bgcolor\":\"white\",\"plot_bgcolor\":\"#E5ECF6\",\"polar\":{\"angularaxis\":{\"gridcolor\":\"white\",\"linecolor\":\"white\",\"ticks\":\"\"},\"bgcolor\":\"#E5ECF6\",\"radialaxis\":{\"gridcolor\":\"white\",\"linecolor\":\"white\",\"ticks\":\"\"}},\"scene\":{\"xaxis\":{\"backgroundcolor\":\"#E5ECF6\",\"gridcolor\":\"white\",\"gridwidth\":2,\"linecolor\":\"white\",\"showbackground\":true,\"ticks\":\"\",\"zerolinecolor\":\"white\"},\"yaxis\":{\"backgroundcolor\":\"#E5ECF6\",\"gridcolor\":\"white\",\"gridwidth\":2,\"linecolor\":\"white\",\"showbackground\":true,\"ticks\":\"\",\"zerolinecolor\":\"white\"},\"zaxis\":{\"backgroundcolor\":\"#E5ECF6\",\"gridcolor\":\"white\",\"gridwidth\":2,\"linecolor\":\"white\",\"showbackground\":true,\"ticks\":\"\",\"zerolinecolor\":\"white\"}},\"shapedefaults\":{\"line\":{\"color\":\"#2a3f5f\"}},\"ternary\":{\"aaxis\":{\"gridcolor\":\"white\",\"linecolor\":\"white\",\"ticks\":\"\"},\"baxis\":{\"gridcolor\":\"white\",\"linecolor\":\"white\",\"ticks\":\"\"},\"bgcolor\":\"#E5ECF6\",\"caxis\":{\"gridcolor\":\"white\",\"linecolor\":\"white\",\"ticks\":\"\"}},\"title\":{\"x\":0.05},\"xaxis\":{\"automargin\":true,\"gridcolor\":\"white\",\"linecolor\":\"white\",\"ticks\":\"\",\"title\":{\"standoff\":15},\"zerolinecolor\":\"white\",\"zerolinewidth\":2},\"yaxis\":{\"automargin\":true,\"gridcolor\":\"white\",\"linecolor\":\"white\",\"ticks\":\"\",\"title\":{\"standoff\":15},\"zerolinecolor\":\"white\",\"zerolinewidth\":2}}},\"title\":{\"text\":\"Scatterplot Matrix\"},\"width\":1200,\"xaxis\":{\"anchor\":\"y\",\"domain\":[0.0,0.2125],\"showticklabels\":false},\"xaxis10\":{\"anchor\":\"y10\",\"domain\":[0.2625,0.475]},\"xaxis11\":{\"anchor\":\"y11\",\"domain\":[0.525,0.7375],\"showticklabels\":false},\"xaxis12\":{\"anchor\":\"y12\",\"domain\":[0.7875,1.0]},\"xaxis13\":{\"anchor\":\"y13\",\"domain\":[0.0,0.2125],\"title\":{\"text\":\"Year\"}},\"xaxis14\":{\"anchor\":\"y14\",\"domain\":[0.2625,0.475],\"title\":{\"text\":\"Platform\"}},\"xaxis15\":{\"anchor\":\"y15\",\"domain\":[0.525,0.7375],\"title\":{\"text\":\"NA_Sales\"}},\"xaxis16\":{\"anchor\":\"y16\",\"domain\":[0.7875,1.0],\"showticklabels\":false,\"title\":{\"text\":\"EU_Sales\"}},\"xaxis2\":{\"anchor\":\"y2\",\"domain\":[0.2625,0.475]},\"xaxis3\":{\"anchor\":\"y3\",\"domain\":[0.525,0.7375]},\"xaxis4\":{\"anchor\":\"y4\",\"domain\":[0.7875,1.0]},\"xaxis5\":{\"anchor\":\"y5\",\"domain\":[0.0,0.2125]},\"xaxis6\":{\"anchor\":\"y6\",\"domain\":[0.2625,0.475],\"showticklabels\":false},\"xaxis7\":{\"anchor\":\"y7\",\"domain\":[0.525,0.7375]},\"xaxis8\":{\"anchor\":\"y8\",\"domain\":[0.7875,1.0]},\"xaxis9\":{\"anchor\":\"y9\",\"domain\":[0.0,0.2125]},\"yaxis\":{\"anchor\":\"x\",\"domain\":[0.80625,1.0],\"title\":{\"text\":\"Year\"}},\"yaxis10\":{\"anchor\":\"x10\",\"domain\":[0.26875,0.4625]},\"yaxis11\":{\"anchor\":\"x11\",\"domain\":[0.26875,0.4625]},\"yaxis12\":{\"anchor\":\"x12\",\"domain\":[0.26875,0.4625]},\"yaxis13\":{\"anchor\":\"x13\",\"domain\":[0.0,0.19375],\"title\":{\"text\":\"EU_Sales\"}},\"yaxis14\":{\"anchor\":\"x14\",\"domain\":[0.0,0.19375]},\"yaxis15\":{\"anchor\":\"x15\",\"domain\":[0.0,0.19375]},\"yaxis16\":{\"anchor\":\"x16\",\"domain\":[0.0,0.19375]},\"yaxis2\":{\"anchor\":\"x2\",\"domain\":[0.80625,1.0]},\"yaxis3\":{\"anchor\":\"x3\",\"domain\":[0.80625,1.0]},\"yaxis4\":{\"anchor\":\"x4\",\"domain\":[0.80625,1.0]},\"yaxis5\":{\"anchor\":\"x5\",\"domain\":[0.5375,0.73125],\"title\":{\"text\":\"Platform\"}},\"yaxis6\":{\"anchor\":\"x6\",\"domain\":[0.5375,0.73125]},\"yaxis7\":{\"anchor\":\"x7\",\"domain\":[0.5375,0.73125]},\"yaxis8\":{\"anchor\":\"x8\",\"domain\":[0.5375,0.73125]},\"yaxis9\":{\"anchor\":\"x9\",\"domain\":[0.26875,0.4625],\"title\":{\"text\":\"NA_Sales\"}}},                        {\"responsive\": true}                    ).then(function(){\n",
       "                            \n",
       "var gd = document.getElementById('8f8104d1-8a9d-4502-8029-5eacd8b6fcfb');\n",
       "var x = new MutationObserver(function (mutations, observer) {{\n",
       "        var display = window.getComputedStyle(gd).display;\n",
       "        if (!display || display === 'none') {{\n",
       "            console.log([gd, 'removed!']);\n",
       "            Plotly.purge(gd);\n",
       "            observer.disconnect();\n",
       "        }}\n",
       "}});\n",
       "\n",
       "// Listen for the removal of the full notebook cells\n",
       "var notebookContainer = gd.closest('#notebook-container');\n",
       "if (notebookContainer) {{\n",
       "    x.observe(notebookContainer, {childList: true});\n",
       "}}\n",
       "\n",
       "// Listen for the clearing of the current output cell\n",
       "var outputEl = gd.closest('.output');\n",
       "if (outputEl) {{\n",
       "    x.observe(outputEl, {childList: true});\n",
       "}}\n",
       "\n",
       "                        })                };                });            </script>        </div>"
      ]
     },
     "metadata": {},
     "output_type": "display_data"
    }
   ],
   "source": [
    "df2 = df.loc[:,[\"Year\",\"Platform\",\"NA_Sales\",\"EU_Sales\" ]]\n",
    "\n",
    "df2[\"index\"] = np.arange(1,len(df)+1)\n",
    "# scatter matrix\n",
    "fig = ff.create_scatterplotmatrix(df2, diag='box', index='index',colormap='YlOrRd',\n",
    "                                  colormap_type='seq',\n",
    "                                  height=1000, width=1200)\n",
    "iplot(fig)"
   ]
  },
  {
   "cell_type": "code",
   "execution_count": 37,
   "metadata": {},
   "outputs": [
    {
     "data": {
      "application/vnd.plotly.v1+json": {
       "config": {
        "linkText": "Export to plot.ly",
        "plotlyServerURL": "https://plot.ly",
        "showLink": false
       },
       "data": [
        {
         "marker": {
          "color": "rgb(165,0,38)"
         },
         "name": "Action",
         "opacity": 0.75,
         "type": "histogram",
         "x": [
          "PS3",
          "PS2",
          "X360",
          "PS2",
          "PS2",
          "PS4",
          "DS",
          "X360",
          "PS3",
          "PS3",
          "PSP",
          "N64"
         ]
        },
        {
         "marker": {
          "color": "rgb(215,48,39)"
         },
         "name": "Sports",
         "opacity": 0.75,
         "type": "histogram",
         "x": [
          "Wii",
          "Wii",
          "Wii",
          "Wii",
          "PS4",
          "Wii"
         ]
        },
        {
         "marker": {
          "color": "rgb(244,109,67)"
         },
         "name": "Misc",
         "opacity": 0.75,
         "type": "histogram",
         "x": [
          "Wii",
          "X360",
          "DS",
          "Wii",
          "Wii",
          "X360",
          "DS",
          "Wii",
          "Wii"
         ]
        },
        {
         "marker": {
          "color": "rgb(253,174,97)"
         },
         "name": "Role Playing",
         "opacity": 0.75,
         "type": "histogram",
         "x": [
          "GB",
          "GB",
          "DS",
          "GBA",
          "DS",
          "GB",
          "3DS",
          "3DS",
          "GBA",
          "PS",
          "X360",
          "DS",
          "PS2",
          "PS",
          "DS"
         ]
        },
        {
         "marker": {
          "color": "rgb(254,224,144)"
         },
         "name": "Shooter",
         "opacity": 0.75,
         "type": "histogram",
         "x": [
          "NES",
          "X360",
          "X360",
          "PS4",
          "PS3",
          "X360",
          "X360",
          "PS3",
          "PS3",
          "X360",
          "PS3",
          "X360",
          "X360",
          "X360",
          "PS3",
          "X360",
          "XB",
          "N64",
          "PS4",
          "PS4",
          "X360",
          "X360"
         ]
        },
        {
         "marker": {
          "color": "rgb(170,253,87)"
         },
         "name": "Adventure",
         "opacity": 0.75,
         "type": "histogram",
         "x": [
          "GB"
         ]
        },
        {
         "marker": {
          "color": "rgb(171,217,233)"
         },
         "name": "Racing",
         "opacity": 0.75,
         "type": "histogram",
         "x": [
          "Wii",
          "DS",
          "PS2",
          "3DS",
          "PS2",
          "PS",
          "PS3",
          "N64",
          "PS",
          "SNES"
         ]
        },
        {
         "marker": {
          "color": "rgb(116,173,209)"
         },
         "name": "Platform",
         "opacity": 0.75,
         "type": "histogram",
         "x": [
          "NES",
          "DS",
          "Wii",
          "SNES",
          "GB",
          "NES",
          "N64",
          "Wii",
          "3DS",
          "SNES",
          "DS",
          "3DS",
          "SNES",
          "Wii",
          "PS",
          "NES"
         ]
        },
        {
         "marker": {
          "color": "rgb(69,117,180)"
         },
         "name": "Simulation",
         "opacity": 0.75,
         "type": "histogram",
         "x": [
          "DS",
          "DS",
          "3DS",
          "PC"
         ]
        },
        {
         "marker": {
          "color": "rgb(49,54,149)"
         },
         "name": "Fighting",
         "opacity": 0.75,
         "type": "histogram",
         "x": [
          "Wii",
          "3DS"
         ]
        },
        {
         "marker": {
          "color": "rgb(10,77,131)"
         },
         "name": "Strategy",
         "opacity": 0.75,
         "type": "histogram",
         "x": []
        },
        {
         "marker": {
          "color": "rgb(1,15,139)"
         },
         "name": "Puzzle",
         "opacity": 0.75,
         "type": "histogram",
         "x": [
          "GB",
          "DS",
          "2600"
         ]
        }
       ],
       "layout": {
        "barmode": "stack",
        "paper_bgcolor": "beige",
        "plot_bgcolor": "beige",
        "template": {
         "data": {
          "bar": [
           {
            "error_x": {
             "color": "#2a3f5f"
            },
            "error_y": {
             "color": "#2a3f5f"
            },
            "marker": {
             "line": {
              "color": "#E5ECF6",
              "width": 0.5
             },
             "pattern": {
              "fillmode": "overlay",
              "size": 10,
              "solidity": 0.2
             }
            },
            "type": "bar"
           }
          ],
          "barpolar": [
           {
            "marker": {
             "line": {
              "color": "#E5ECF6",
              "width": 0.5
             },
             "pattern": {
              "fillmode": "overlay",
              "size": 10,
              "solidity": 0.2
             }
            },
            "type": "barpolar"
           }
          ],
          "carpet": [
           {
            "aaxis": {
             "endlinecolor": "#2a3f5f",
             "gridcolor": "white",
             "linecolor": "white",
             "minorgridcolor": "white",
             "startlinecolor": "#2a3f5f"
            },
            "baxis": {
             "endlinecolor": "#2a3f5f",
             "gridcolor": "white",
             "linecolor": "white",
             "minorgridcolor": "white",
             "startlinecolor": "#2a3f5f"
            },
            "type": "carpet"
           }
          ],
          "choropleth": [
           {
            "colorbar": {
             "outlinewidth": 0,
             "ticks": ""
            },
            "type": "choropleth"
           }
          ],
          "contour": [
           {
            "colorbar": {
             "outlinewidth": 0,
             "ticks": ""
            },
            "colorscale": [
             [
              0,
              "#0d0887"
             ],
             [
              0.1111111111111111,
              "#46039f"
             ],
             [
              0.2222222222222222,
              "#7201a8"
             ],
             [
              0.3333333333333333,
              "#9c179e"
             ],
             [
              0.4444444444444444,
              "#bd3786"
             ],
             [
              0.5555555555555556,
              "#d8576b"
             ],
             [
              0.6666666666666666,
              "#ed7953"
             ],
             [
              0.7777777777777778,
              "#fb9f3a"
             ],
             [
              0.8888888888888888,
              "#fdca26"
             ],
             [
              1,
              "#f0f921"
             ]
            ],
            "type": "contour"
           }
          ],
          "contourcarpet": [
           {
            "colorbar": {
             "outlinewidth": 0,
             "ticks": ""
            },
            "type": "contourcarpet"
           }
          ],
          "heatmap": [
           {
            "colorbar": {
             "outlinewidth": 0,
             "ticks": ""
            },
            "colorscale": [
             [
              0,
              "#0d0887"
             ],
             [
              0.1111111111111111,
              "#46039f"
             ],
             [
              0.2222222222222222,
              "#7201a8"
             ],
             [
              0.3333333333333333,
              "#9c179e"
             ],
             [
              0.4444444444444444,
              "#bd3786"
             ],
             [
              0.5555555555555556,
              "#d8576b"
             ],
             [
              0.6666666666666666,
              "#ed7953"
             ],
             [
              0.7777777777777778,
              "#fb9f3a"
             ],
             [
              0.8888888888888888,
              "#fdca26"
             ],
             [
              1,
              "#f0f921"
             ]
            ],
            "type": "heatmap"
           }
          ],
          "heatmapgl": [
           {
            "colorbar": {
             "outlinewidth": 0,
             "ticks": ""
            },
            "colorscale": [
             [
              0,
              "#0d0887"
             ],
             [
              0.1111111111111111,
              "#46039f"
             ],
             [
              0.2222222222222222,
              "#7201a8"
             ],
             [
              0.3333333333333333,
              "#9c179e"
             ],
             [
              0.4444444444444444,
              "#bd3786"
             ],
             [
              0.5555555555555556,
              "#d8576b"
             ],
             [
              0.6666666666666666,
              "#ed7953"
             ],
             [
              0.7777777777777778,
              "#fb9f3a"
             ],
             [
              0.8888888888888888,
              "#fdca26"
             ],
             [
              1,
              "#f0f921"
             ]
            ],
            "type": "heatmapgl"
           }
          ],
          "histogram": [
           {
            "marker": {
             "pattern": {
              "fillmode": "overlay",
              "size": 10,
              "solidity": 0.2
             }
            },
            "type": "histogram"
           }
          ],
          "histogram2d": [
           {
            "colorbar": {
             "outlinewidth": 0,
             "ticks": ""
            },
            "colorscale": [
             [
              0,
              "#0d0887"
             ],
             [
              0.1111111111111111,
              "#46039f"
             ],
             [
              0.2222222222222222,
              "#7201a8"
             ],
             [
              0.3333333333333333,
              "#9c179e"
             ],
             [
              0.4444444444444444,
              "#bd3786"
             ],
             [
              0.5555555555555556,
              "#d8576b"
             ],
             [
              0.6666666666666666,
              "#ed7953"
             ],
             [
              0.7777777777777778,
              "#fb9f3a"
             ],
             [
              0.8888888888888888,
              "#fdca26"
             ],
             [
              1,
              "#f0f921"
             ]
            ],
            "type": "histogram2d"
           }
          ],
          "histogram2dcontour": [
           {
            "colorbar": {
             "outlinewidth": 0,
             "ticks": ""
            },
            "colorscale": [
             [
              0,
              "#0d0887"
             ],
             [
              0.1111111111111111,
              "#46039f"
             ],
             [
              0.2222222222222222,
              "#7201a8"
             ],
             [
              0.3333333333333333,
              "#9c179e"
             ],
             [
              0.4444444444444444,
              "#bd3786"
             ],
             [
              0.5555555555555556,
              "#d8576b"
             ],
             [
              0.6666666666666666,
              "#ed7953"
             ],
             [
              0.7777777777777778,
              "#fb9f3a"
             ],
             [
              0.8888888888888888,
              "#fdca26"
             ],
             [
              1,
              "#f0f921"
             ]
            ],
            "type": "histogram2dcontour"
           }
          ],
          "mesh3d": [
           {
            "colorbar": {
             "outlinewidth": 0,
             "ticks": ""
            },
            "type": "mesh3d"
           }
          ],
          "parcoords": [
           {
            "line": {
             "colorbar": {
              "outlinewidth": 0,
              "ticks": ""
             }
            },
            "type": "parcoords"
           }
          ],
          "pie": [
           {
            "automargin": true,
            "type": "pie"
           }
          ],
          "scatter": [
           {
            "marker": {
             "colorbar": {
              "outlinewidth": 0,
              "ticks": ""
             }
            },
            "type": "scatter"
           }
          ],
          "scatter3d": [
           {
            "line": {
             "colorbar": {
              "outlinewidth": 0,
              "ticks": ""
             }
            },
            "marker": {
             "colorbar": {
              "outlinewidth": 0,
              "ticks": ""
             }
            },
            "type": "scatter3d"
           }
          ],
          "scattercarpet": [
           {
            "marker": {
             "colorbar": {
              "outlinewidth": 0,
              "ticks": ""
             }
            },
            "type": "scattercarpet"
           }
          ],
          "scattergeo": [
           {
            "marker": {
             "colorbar": {
              "outlinewidth": 0,
              "ticks": ""
             }
            },
            "type": "scattergeo"
           }
          ],
          "scattergl": [
           {
            "marker": {
             "colorbar": {
              "outlinewidth": 0,
              "ticks": ""
             }
            },
            "type": "scattergl"
           }
          ],
          "scattermapbox": [
           {
            "marker": {
             "colorbar": {
              "outlinewidth": 0,
              "ticks": ""
             }
            },
            "type": "scattermapbox"
           }
          ],
          "scatterpolar": [
           {
            "marker": {
             "colorbar": {
              "outlinewidth": 0,
              "ticks": ""
             }
            },
            "type": "scatterpolar"
           }
          ],
          "scatterpolargl": [
           {
            "marker": {
             "colorbar": {
              "outlinewidth": 0,
              "ticks": ""
             }
            },
            "type": "scatterpolargl"
           }
          ],
          "scatterternary": [
           {
            "marker": {
             "colorbar": {
              "outlinewidth": 0,
              "ticks": ""
             }
            },
            "type": "scatterternary"
           }
          ],
          "surface": [
           {
            "colorbar": {
             "outlinewidth": 0,
             "ticks": ""
            },
            "colorscale": [
             [
              0,
              "#0d0887"
             ],
             [
              0.1111111111111111,
              "#46039f"
             ],
             [
              0.2222222222222222,
              "#7201a8"
             ],
             [
              0.3333333333333333,
              "#9c179e"
             ],
             [
              0.4444444444444444,
              "#bd3786"
             ],
             [
              0.5555555555555556,
              "#d8576b"
             ],
             [
              0.6666666666666666,
              "#ed7953"
             ],
             [
              0.7777777777777778,
              "#fb9f3a"
             ],
             [
              0.8888888888888888,
              "#fdca26"
             ],
             [
              1,
              "#f0f921"
             ]
            ],
            "type": "surface"
           }
          ],
          "table": [
           {
            "cells": {
             "fill": {
              "color": "#EBF0F8"
             },
             "line": {
              "color": "white"
             }
            },
            "header": {
             "fill": {
              "color": "#C8D4E3"
             },
             "line": {
              "color": "white"
             }
            },
            "type": "table"
           }
          ]
         },
         "layout": {
          "annotationdefaults": {
           "arrowcolor": "#2a3f5f",
           "arrowhead": 0,
           "arrowwidth": 1
          },
          "autotypenumbers": "strict",
          "coloraxis": {
           "colorbar": {
            "outlinewidth": 0,
            "ticks": ""
           }
          },
          "colorscale": {
           "diverging": [
            [
             0,
             "#8e0152"
            ],
            [
             0.1,
             "#c51b7d"
            ],
            [
             0.2,
             "#de77ae"
            ],
            [
             0.3,
             "#f1b6da"
            ],
            [
             0.4,
             "#fde0ef"
            ],
            [
             0.5,
             "#f7f7f7"
            ],
            [
             0.6,
             "#e6f5d0"
            ],
            [
             0.7,
             "#b8e186"
            ],
            [
             0.8,
             "#7fbc41"
            ],
            [
             0.9,
             "#4d9221"
            ],
            [
             1,
             "#276419"
            ]
           ],
           "sequential": [
            [
             0,
             "#0d0887"
            ],
            [
             0.1111111111111111,
             "#46039f"
            ],
            [
             0.2222222222222222,
             "#7201a8"
            ],
            [
             0.3333333333333333,
             "#9c179e"
            ],
            [
             0.4444444444444444,
             "#bd3786"
            ],
            [
             0.5555555555555556,
             "#d8576b"
            ],
            [
             0.6666666666666666,
             "#ed7953"
            ],
            [
             0.7777777777777778,
             "#fb9f3a"
            ],
            [
             0.8888888888888888,
             "#fdca26"
            ],
            [
             1,
             "#f0f921"
            ]
           ],
           "sequentialminus": [
            [
             0,
             "#0d0887"
            ],
            [
             0.1111111111111111,
             "#46039f"
            ],
            [
             0.2222222222222222,
             "#7201a8"
            ],
            [
             0.3333333333333333,
             "#9c179e"
            ],
            [
             0.4444444444444444,
             "#bd3786"
            ],
            [
             0.5555555555555556,
             "#d8576b"
            ],
            [
             0.6666666666666666,
             "#ed7953"
            ],
            [
             0.7777777777777778,
             "#fb9f3a"
            ],
            [
             0.8888888888888888,
             "#fdca26"
            ],
            [
             1,
             "#f0f921"
            ]
           ]
          },
          "colorway": [
           "#636efa",
           "#EF553B",
           "#00cc96",
           "#ab63fa",
           "#FFA15A",
           "#19d3f3",
           "#FF6692",
           "#B6E880",
           "#FF97FF",
           "#FECB52"
          ],
          "font": {
           "color": "#2a3f5f"
          },
          "geo": {
           "bgcolor": "white",
           "lakecolor": "white",
           "landcolor": "#E5ECF6",
           "showlakes": true,
           "showland": true,
           "subunitcolor": "white"
          },
          "hoverlabel": {
           "align": "left"
          },
          "hovermode": "closest",
          "mapbox": {
           "style": "light"
          },
          "paper_bgcolor": "white",
          "plot_bgcolor": "#E5ECF6",
          "polar": {
           "angularaxis": {
            "gridcolor": "white",
            "linecolor": "white",
            "ticks": ""
           },
           "bgcolor": "#E5ECF6",
           "radialaxis": {
            "gridcolor": "white",
            "linecolor": "white",
            "ticks": ""
           }
          },
          "scene": {
           "xaxis": {
            "backgroundcolor": "#E5ECF6",
            "gridcolor": "white",
            "gridwidth": 2,
            "linecolor": "white",
            "showbackground": true,
            "ticks": "",
            "zerolinecolor": "white"
           },
           "yaxis": {
            "backgroundcolor": "#E5ECF6",
            "gridcolor": "white",
            "gridwidth": 2,
            "linecolor": "white",
            "showbackground": true,
            "ticks": "",
            "zerolinecolor": "white"
           },
           "zaxis": {
            "backgroundcolor": "#E5ECF6",
            "gridcolor": "white",
            "gridwidth": 2,
            "linecolor": "white",
            "showbackground": true,
            "ticks": "",
            "zerolinecolor": "white"
           }
          },
          "shapedefaults": {
           "line": {
            "color": "#2a3f5f"
           }
          },
          "ternary": {
           "aaxis": {
            "gridcolor": "white",
            "linecolor": "white",
            "ticks": ""
           },
           "baxis": {
            "gridcolor": "white",
            "linecolor": "white",
            "ticks": ""
           },
           "bgcolor": "#E5ECF6",
           "caxis": {
            "gridcolor": "white",
            "linecolor": "white",
            "ticks": ""
           }
          },
          "title": {
           "x": 0.05
          },
          "xaxis": {
           "automargin": true,
           "gridcolor": "white",
           "linecolor": "white",
           "ticks": "",
           "title": {
            "standoff": 15
           },
           "zerolinecolor": "white",
           "zerolinewidth": 2
          },
          "yaxis": {
           "automargin": true,
           "gridcolor": "white",
           "linecolor": "white",
           "ticks": "",
           "title": {
            "standoff": 15
           },
           "zerolinecolor": "white",
           "zerolinewidth": 2
          }
         }
        },
        "title": {
         "text": "Genre Counts According to Platform"
        },
        "xaxis": {
         "title": {
          "text": "Platform"
         }
        },
        "yaxis": {
         "title": {
          "text": "Count"
         }
        }
       }
      },
      "text/html": [
       "<div>                            <div id=\"077eefe9-4d62-4cfe-98c6-56f6ad25454b\" class=\"plotly-graph-div\" style=\"height:525px; width:100%;\"></div>            <script type=\"text/javascript\">                require([\"plotly\"], function(Plotly) {                    window.PLOTLYENV=window.PLOTLYENV || {};                                    if (document.getElementById(\"077eefe9-4d62-4cfe-98c6-56f6ad25454b\")) {                    Plotly.newPlot(                        \"077eefe9-4d62-4cfe-98c6-56f6ad25454b\",                        [{\"marker\":{\"color\":\"rgb(165,0,38)\"},\"name\":\"Action\",\"opacity\":0.75,\"type\":\"histogram\",\"x\":[\"PS3\",\"PS2\",\"X360\",\"PS2\",\"PS2\",\"PS4\",\"DS\",\"X360\",\"PS3\",\"PS3\",\"PSP\",\"N64\"]},{\"marker\":{\"color\":\"rgb(215,48,39)\"},\"name\":\"Sports\",\"opacity\":0.75,\"type\":\"histogram\",\"x\":[\"Wii\",\"Wii\",\"Wii\",\"Wii\",\"PS4\",\"Wii\"]},{\"marker\":{\"color\":\"rgb(244,109,67)\"},\"name\":\"Misc\",\"opacity\":0.75,\"type\":\"histogram\",\"x\":[\"Wii\",\"X360\",\"DS\",\"Wii\",\"Wii\",\"X360\",\"DS\",\"Wii\",\"Wii\"]},{\"marker\":{\"color\":\"rgb(253,174,97)\"},\"name\":\"Role Playing\",\"opacity\":0.75,\"type\":\"histogram\",\"x\":[\"GB\",\"GB\",\"DS\",\"GBA\",\"DS\",\"GB\",\"3DS\",\"3DS\",\"GBA\",\"PS\",\"X360\",\"DS\",\"PS2\",\"PS\",\"DS\"]},{\"marker\":{\"color\":\"rgb(254,224,144)\"},\"name\":\"Shooter\",\"opacity\":0.75,\"type\":\"histogram\",\"x\":[\"NES\",\"X360\",\"X360\",\"PS4\",\"PS3\",\"X360\",\"X360\",\"PS3\",\"PS3\",\"X360\",\"PS3\",\"X360\",\"X360\",\"X360\",\"PS3\",\"X360\",\"XB\",\"N64\",\"PS4\",\"PS4\",\"X360\",\"X360\"]},{\"marker\":{\"color\":\"rgb(170,253,87)\"},\"name\":\"Adventure\",\"opacity\":0.75,\"type\":\"histogram\",\"x\":[\"GB\"]},{\"marker\":{\"color\":\"rgb(171,217,233)\"},\"name\":\"Racing\",\"opacity\":0.75,\"type\":\"histogram\",\"x\":[\"Wii\",\"DS\",\"PS2\",\"3DS\",\"PS2\",\"PS\",\"PS3\",\"N64\",\"PS\",\"SNES\"]},{\"marker\":{\"color\":\"rgb(116,173,209)\"},\"name\":\"Platform\",\"opacity\":0.75,\"type\":\"histogram\",\"x\":[\"NES\",\"DS\",\"Wii\",\"SNES\",\"GB\",\"NES\",\"N64\",\"Wii\",\"3DS\",\"SNES\",\"DS\",\"3DS\",\"SNES\",\"Wii\",\"PS\",\"NES\"]},{\"marker\":{\"color\":\"rgb(69,117,180)\"},\"name\":\"Simulation\",\"opacity\":0.75,\"type\":\"histogram\",\"x\":[\"DS\",\"DS\",\"3DS\",\"PC\"]},{\"marker\":{\"color\":\"rgb(49,54,149)\"},\"name\":\"Fighting\",\"opacity\":0.75,\"type\":\"histogram\",\"x\":[\"Wii\",\"3DS\"]},{\"marker\":{\"color\":\"rgb(10,77,131)\"},\"name\":\"Strategy\",\"opacity\":0.75,\"type\":\"histogram\",\"x\":[]},{\"marker\":{\"color\":\"rgb(1,15,139)\"},\"name\":\"Puzzle\",\"opacity\":0.75,\"type\":\"histogram\",\"x\":[\"GB\",\"DS\",\"2600\"]}],                        {\"barmode\":\"stack\",\"paper_bgcolor\":\"beige\",\"plot_bgcolor\":\"beige\",\"template\":{\"data\":{\"bar\":[{\"error_x\":{\"color\":\"#2a3f5f\"},\"error_y\":{\"color\":\"#2a3f5f\"},\"marker\":{\"line\":{\"color\":\"#E5ECF6\",\"width\":0.5},\"pattern\":{\"fillmode\":\"overlay\",\"size\":10,\"solidity\":0.2}},\"type\":\"bar\"}],\"barpolar\":[{\"marker\":{\"line\":{\"color\":\"#E5ECF6\",\"width\":0.5},\"pattern\":{\"fillmode\":\"overlay\",\"size\":10,\"solidity\":0.2}},\"type\":\"barpolar\"}],\"carpet\":[{\"aaxis\":{\"endlinecolor\":\"#2a3f5f\",\"gridcolor\":\"white\",\"linecolor\":\"white\",\"minorgridcolor\":\"white\",\"startlinecolor\":\"#2a3f5f\"},\"baxis\":{\"endlinecolor\":\"#2a3f5f\",\"gridcolor\":\"white\",\"linecolor\":\"white\",\"minorgridcolor\":\"white\",\"startlinecolor\":\"#2a3f5f\"},\"type\":\"carpet\"}],\"choropleth\":[{\"colorbar\":{\"outlinewidth\":0,\"ticks\":\"\"},\"type\":\"choropleth\"}],\"contour\":[{\"colorbar\":{\"outlinewidth\":0,\"ticks\":\"\"},\"colorscale\":[[0.0,\"#0d0887\"],[0.1111111111111111,\"#46039f\"],[0.2222222222222222,\"#7201a8\"],[0.3333333333333333,\"#9c179e\"],[0.4444444444444444,\"#bd3786\"],[0.5555555555555556,\"#d8576b\"],[0.6666666666666666,\"#ed7953\"],[0.7777777777777778,\"#fb9f3a\"],[0.8888888888888888,\"#fdca26\"],[1.0,\"#f0f921\"]],\"type\":\"contour\"}],\"contourcarpet\":[{\"colorbar\":{\"outlinewidth\":0,\"ticks\":\"\"},\"type\":\"contourcarpet\"}],\"heatmap\":[{\"colorbar\":{\"outlinewidth\":0,\"ticks\":\"\"},\"colorscale\":[[0.0,\"#0d0887\"],[0.1111111111111111,\"#46039f\"],[0.2222222222222222,\"#7201a8\"],[0.3333333333333333,\"#9c179e\"],[0.4444444444444444,\"#bd3786\"],[0.5555555555555556,\"#d8576b\"],[0.6666666666666666,\"#ed7953\"],[0.7777777777777778,\"#fb9f3a\"],[0.8888888888888888,\"#fdca26\"],[1.0,\"#f0f921\"]],\"type\":\"heatmap\"}],\"heatmapgl\":[{\"colorbar\":{\"outlinewidth\":0,\"ticks\":\"\"},\"colorscale\":[[0.0,\"#0d0887\"],[0.1111111111111111,\"#46039f\"],[0.2222222222222222,\"#7201a8\"],[0.3333333333333333,\"#9c179e\"],[0.4444444444444444,\"#bd3786\"],[0.5555555555555556,\"#d8576b\"],[0.6666666666666666,\"#ed7953\"],[0.7777777777777778,\"#fb9f3a\"],[0.8888888888888888,\"#fdca26\"],[1.0,\"#f0f921\"]],\"type\":\"heatmapgl\"}],\"histogram\":[{\"marker\":{\"pattern\":{\"fillmode\":\"overlay\",\"size\":10,\"solidity\":0.2}},\"type\":\"histogram\"}],\"histogram2d\":[{\"colorbar\":{\"outlinewidth\":0,\"ticks\":\"\"},\"colorscale\":[[0.0,\"#0d0887\"],[0.1111111111111111,\"#46039f\"],[0.2222222222222222,\"#7201a8\"],[0.3333333333333333,\"#9c179e\"],[0.4444444444444444,\"#bd3786\"],[0.5555555555555556,\"#d8576b\"],[0.6666666666666666,\"#ed7953\"],[0.7777777777777778,\"#fb9f3a\"],[0.8888888888888888,\"#fdca26\"],[1.0,\"#f0f921\"]],\"type\":\"histogram2d\"}],\"histogram2dcontour\":[{\"colorbar\":{\"outlinewidth\":0,\"ticks\":\"\"},\"colorscale\":[[0.0,\"#0d0887\"],[0.1111111111111111,\"#46039f\"],[0.2222222222222222,\"#7201a8\"],[0.3333333333333333,\"#9c179e\"],[0.4444444444444444,\"#bd3786\"],[0.5555555555555556,\"#d8576b\"],[0.6666666666666666,\"#ed7953\"],[0.7777777777777778,\"#fb9f3a\"],[0.8888888888888888,\"#fdca26\"],[1.0,\"#f0f921\"]],\"type\":\"histogram2dcontour\"}],\"mesh3d\":[{\"colorbar\":{\"outlinewidth\":0,\"ticks\":\"\"},\"type\":\"mesh3d\"}],\"parcoords\":[{\"line\":{\"colorbar\":{\"outlinewidth\":0,\"ticks\":\"\"}},\"type\":\"parcoords\"}],\"pie\":[{\"automargin\":true,\"type\":\"pie\"}],\"scatter\":[{\"marker\":{\"colorbar\":{\"outlinewidth\":0,\"ticks\":\"\"}},\"type\":\"scatter\"}],\"scatter3d\":[{\"line\":{\"colorbar\":{\"outlinewidth\":0,\"ticks\":\"\"}},\"marker\":{\"colorbar\":{\"outlinewidth\":0,\"ticks\":\"\"}},\"type\":\"scatter3d\"}],\"scattercarpet\":[{\"marker\":{\"colorbar\":{\"outlinewidth\":0,\"ticks\":\"\"}},\"type\":\"scattercarpet\"}],\"scattergeo\":[{\"marker\":{\"colorbar\":{\"outlinewidth\":0,\"ticks\":\"\"}},\"type\":\"scattergeo\"}],\"scattergl\":[{\"marker\":{\"colorbar\":{\"outlinewidth\":0,\"ticks\":\"\"}},\"type\":\"scattergl\"}],\"scattermapbox\":[{\"marker\":{\"colorbar\":{\"outlinewidth\":0,\"ticks\":\"\"}},\"type\":\"scattermapbox\"}],\"scatterpolar\":[{\"marker\":{\"colorbar\":{\"outlinewidth\":0,\"ticks\":\"\"}},\"type\":\"scatterpolar\"}],\"scatterpolargl\":[{\"marker\":{\"colorbar\":{\"outlinewidth\":0,\"ticks\":\"\"}},\"type\":\"scatterpolargl\"}],\"scatterternary\":[{\"marker\":{\"colorbar\":{\"outlinewidth\":0,\"ticks\":\"\"}},\"type\":\"scatterternary\"}],\"surface\":[{\"colorbar\":{\"outlinewidth\":0,\"ticks\":\"\"},\"colorscale\":[[0.0,\"#0d0887\"],[0.1111111111111111,\"#46039f\"],[0.2222222222222222,\"#7201a8\"],[0.3333333333333333,\"#9c179e\"],[0.4444444444444444,\"#bd3786\"],[0.5555555555555556,\"#d8576b\"],[0.6666666666666666,\"#ed7953\"],[0.7777777777777778,\"#fb9f3a\"],[0.8888888888888888,\"#fdca26\"],[1.0,\"#f0f921\"]],\"type\":\"surface\"}],\"table\":[{\"cells\":{\"fill\":{\"color\":\"#EBF0F8\"},\"line\":{\"color\":\"white\"}},\"header\":{\"fill\":{\"color\":\"#C8D4E3\"},\"line\":{\"color\":\"white\"}},\"type\":\"table\"}]},\"layout\":{\"annotationdefaults\":{\"arrowcolor\":\"#2a3f5f\",\"arrowhead\":0,\"arrowwidth\":1},\"autotypenumbers\":\"strict\",\"coloraxis\":{\"colorbar\":{\"outlinewidth\":0,\"ticks\":\"\"}},\"colorscale\":{\"diverging\":[[0,\"#8e0152\"],[0.1,\"#c51b7d\"],[0.2,\"#de77ae\"],[0.3,\"#f1b6da\"],[0.4,\"#fde0ef\"],[0.5,\"#f7f7f7\"],[0.6,\"#e6f5d0\"],[0.7,\"#b8e186\"],[0.8,\"#7fbc41\"],[0.9,\"#4d9221\"],[1,\"#276419\"]],\"sequential\":[[0.0,\"#0d0887\"],[0.1111111111111111,\"#46039f\"],[0.2222222222222222,\"#7201a8\"],[0.3333333333333333,\"#9c179e\"],[0.4444444444444444,\"#bd3786\"],[0.5555555555555556,\"#d8576b\"],[0.6666666666666666,\"#ed7953\"],[0.7777777777777778,\"#fb9f3a\"],[0.8888888888888888,\"#fdca26\"],[1.0,\"#f0f921\"]],\"sequentialminus\":[[0.0,\"#0d0887\"],[0.1111111111111111,\"#46039f\"],[0.2222222222222222,\"#7201a8\"],[0.3333333333333333,\"#9c179e\"],[0.4444444444444444,\"#bd3786\"],[0.5555555555555556,\"#d8576b\"],[0.6666666666666666,\"#ed7953\"],[0.7777777777777778,\"#fb9f3a\"],[0.8888888888888888,\"#fdca26\"],[1.0,\"#f0f921\"]]},\"colorway\":[\"#636efa\",\"#EF553B\",\"#00cc96\",\"#ab63fa\",\"#FFA15A\",\"#19d3f3\",\"#FF6692\",\"#B6E880\",\"#FF97FF\",\"#FECB52\"],\"font\":{\"color\":\"#2a3f5f\"},\"geo\":{\"bgcolor\":\"white\",\"lakecolor\":\"white\",\"landcolor\":\"#E5ECF6\",\"showlakes\":true,\"showland\":true,\"subunitcolor\":\"white\"},\"hoverlabel\":{\"align\":\"left\"},\"hovermode\":\"closest\",\"mapbox\":{\"style\":\"light\"},\"paper_bgcolor\":\"white\",\"plot_bgcolor\":\"#E5ECF6\",\"polar\":{\"angularaxis\":{\"gridcolor\":\"white\",\"linecolor\":\"white\",\"ticks\":\"\"},\"bgcolor\":\"#E5ECF6\",\"radialaxis\":{\"gridcolor\":\"white\",\"linecolor\":\"white\",\"ticks\":\"\"}},\"scene\":{\"xaxis\":{\"backgroundcolor\":\"#E5ECF6\",\"gridcolor\":\"white\",\"gridwidth\":2,\"linecolor\":\"white\",\"showbackground\":true,\"ticks\":\"\",\"zerolinecolor\":\"white\"},\"yaxis\":{\"backgroundcolor\":\"#E5ECF6\",\"gridcolor\":\"white\",\"gridwidth\":2,\"linecolor\":\"white\",\"showbackground\":true,\"ticks\":\"\",\"zerolinecolor\":\"white\"},\"zaxis\":{\"backgroundcolor\":\"#E5ECF6\",\"gridcolor\":\"white\",\"gridwidth\":2,\"linecolor\":\"white\",\"showbackground\":true,\"ticks\":\"\",\"zerolinecolor\":\"white\"}},\"shapedefaults\":{\"line\":{\"color\":\"#2a3f5f\"}},\"ternary\":{\"aaxis\":{\"gridcolor\":\"white\",\"linecolor\":\"white\",\"ticks\":\"\"},\"baxis\":{\"gridcolor\":\"white\",\"linecolor\":\"white\",\"ticks\":\"\"},\"bgcolor\":\"#E5ECF6\",\"caxis\":{\"gridcolor\":\"white\",\"linecolor\":\"white\",\"ticks\":\"\"}},\"title\":{\"x\":0.05},\"xaxis\":{\"automargin\":true,\"gridcolor\":\"white\",\"linecolor\":\"white\",\"ticks\":\"\",\"title\":{\"standoff\":15},\"zerolinecolor\":\"white\",\"zerolinewidth\":2},\"yaxis\":{\"automargin\":true,\"gridcolor\":\"white\",\"linecolor\":\"white\",\"ticks\":\"\",\"title\":{\"standoff\":15},\"zerolinecolor\":\"white\",\"zerolinewidth\":2}}},\"title\":{\"text\":\"Genre Counts According to Platform\"},\"xaxis\":{\"title\":{\"text\":\"Platform\"}},\"yaxis\":{\"title\":{\"text\":\"Count\"}}},                        {\"responsive\": true}                    ).then(function(){\n",
       "                            \n",
       "var gd = document.getElementById('077eefe9-4d62-4cfe-98c6-56f6ad25454b');\n",
       "var x = new MutationObserver(function (mutations, observer) {{\n",
       "        var display = window.getComputedStyle(gd).display;\n",
       "        if (!display || display === 'none') {{\n",
       "            console.log([gd, 'removed!']);\n",
       "            Plotly.purge(gd);\n",
       "            observer.disconnect();\n",
       "        }}\n",
       "}});\n",
       "\n",
       "// Listen for the removal of the full notebook cells\n",
       "var notebookContainer = gd.closest('#notebook-container');\n",
       "if (notebookContainer) {{\n",
       "    x.observe(notebookContainer, {childList: true});\n",
       "}}\n",
       "\n",
       "// Listen for the clearing of the current output cell\n",
       "var outputEl = gd.closest('.output');\n",
       "if (outputEl) {{\n",
       "    x.observe(outputEl, {childList: true});\n",
       "}}\n",
       "\n",
       "                        })                };                });            </script>        </div>"
      ]
     },
     "metadata": {},
     "output_type": "display_data"
    }
   ],
   "source": [
    "xaction=df[df.Genre==\"Action\"]\n",
    "xsports=df[df.Genre==\"Sports\"]\n",
    "xmisc=df[df.Genre==\"Misc\"]\n",
    "xrole=df[df.Genre==\"Role-Playing\"]\n",
    "xshooter=df[df.Genre==\"Shooter\"]\n",
    "xadventure=df[df.Genre==\"Adventure\"]\n",
    "xrace=df[df.Genre==\"Racing\"]\n",
    "xplatform=df[df.Genre==\"Platform\"]\n",
    "xsimulation=df[df.Genre==\"Simulation\"]\n",
    "xfight=df[df.Genre==\"Fighting\"]\n",
    "xstrategy=df[df.Genre==\"Strategy\"]\n",
    "xpuzzle=df[df.Genre==\"Puzzle\"]\n",
    "trace1 = go.Histogram(\n",
    "    x=xaction.Platform,\n",
    "    opacity=0.75,\n",
    "    name = \"Action\",\n",
    "    marker=dict(color='rgb(165,0,38)'))\n",
    "trace2 = go.Histogram(\n",
    "    x=xsports.Platform,\n",
    "    opacity=0.75,\n",
    "    name = \"Sports\",\n",
    "    marker=dict(color='rgb(215,48,39)'))\n",
    "trace3 = go.Histogram(\n",
    "    x=xmisc.Platform,\n",
    "    opacity=0.75,\n",
    "    name = \"Misc\",\n",
    "    marker=dict(color='rgb(244,109,67)'))\n",
    "trace4 = go.Histogram(\n",
    "    x=xrole.Platform,\n",
    "    opacity=0.75,\n",
    "    name = \"Role Playing\",\n",
    "    marker=dict(color='rgb(253,174,97)'))\n",
    "trace5 = go.Histogram(\n",
    "    x=xshooter.Platform,\n",
    "    opacity=0.75,\n",
    "    name = \"Shooter\",\n",
    "    marker=dict(color='rgb(254,224,144)'))\n",
    "trace6 = go.Histogram(\n",
    "    x=xadventure.Platform,\n",
    "    opacity=0.75,\n",
    "    name = \"Adventure\",\n",
    "    marker=dict(color='rgb(170,253,87)'))\n",
    "trace7 = go.Histogram(\n",
    "    x=xrace.Platform,\n",
    "    opacity=0.75,\n",
    "    name = \"Racing\",\n",
    "    marker=dict(color='rgb(171,217,233)'))\n",
    "trace8 = go.Histogram(\n",
    "    x=xplatform.Platform,\n",
    "    opacity=0.75,\n",
    "    name = \"Platform\",\n",
    "    marker=dict(color='rgb(116,173,209)'))\n",
    "trace9 = go.Histogram(\n",
    "    x=xsimulation.Platform,\n",
    "    opacity=0.75,\n",
    "    name = \"Simulation\",\n",
    "    marker=dict(color='rgb(69,117,180)'))\n",
    "trace10 = go.Histogram(\n",
    "    x=xfight.Platform,\n",
    "    opacity=0.75,\n",
    "    name = \"Fighting\",\n",
    "    marker=dict(color='rgb(49,54,149)'))\n",
    "trace11 = go.Histogram(\n",
    "    x=xstrategy.Platform,\n",
    "    opacity=0.75,\n",
    "    name = \"Strategy\",\n",
    "    marker=dict(color=\"rgb(10,77,131)\"))\n",
    "trace12 = go.Histogram(\n",
    "    x=xpuzzle.Platform,\n",
    "    opacity=0.75,\n",
    "    name = \"Puzzle\",\n",
    "    marker=dict(color='rgb(1,15,139)'))\n",
    "\n",
    "data = [trace1, trace2,trace3,trace4,trace5,trace6,trace7,trace8,trace9,trace10,trace11,trace12]\n",
    "layout = go.Layout(barmode='stack',\n",
    "                   title='Genre Counts According to Platform',\n",
    "                   xaxis=dict(title='Platform'),\n",
    "                   yaxis=dict( title='Count'),\n",
    "                   paper_bgcolor='beige',\n",
    "                   plot_bgcolor='beige'\n",
    ")\n",
    "fig = go.Figure(data=data, layout=layout)\n",
    "iplot(fig)"
   ]
  },
  {
   "cell_type": "code",
   "execution_count": 38,
   "metadata": {},
   "outputs": [
    {
     "data": {
      "application/vnd.plotly.v1+json": {
       "config": {
        "linkText": "Export to plot.ly",
        "plotlyServerURL": "https://plot.ly",
        "showLink": false
       },
       "data": [
        {
         "marker": {
          "color": "rgb(119,172,238)"
         },
         "name": "Action",
         "opacity": 0.75,
         "type": "bar",
         "x": [
          "DS",
          "N64",
          "PS2",
          "PS3",
          "PS4",
          "PSP",
          "X360"
         ],
         "y": [
          11.9,
          7.6,
          50.059999999999995,
          40.21,
          11.98,
          7.72,
          27.4
         ]
        },
        {
         "marker": {
          "color": "rgb(21,90,174)"
         },
         "name": "Sports",
         "opacity": 0.75,
         "type": "bar",
         "x": [
          "PS4",
          "Wii"
         ],
         "y": [
          8.49,
          168.51999999999998
         ]
        },
        {
         "marker": {
          "color": "rgb(156,245,163)"
         },
         "name": "Racing",
         "opacity": 0.75,
         "type": "bar",
         "x": [
          "3DS",
          "DS",
          "N64",
          "PS",
          "PS2",
          "PS3",
          "SNES",
          "Wii"
         ],
         "y": [
          12.21,
          23.42,
          9.87,
          20.439999999999998,
          26.64,
          10.77,
          8.76,
          35.82
         ]
        },
        {
         "marker": {
          "color": "rgb(14,135,23)"
         },
         "name": "Shooter",
         "opacity": 0.75,
         "type": "bar",
         "x": [
          "N64",
          "NES",
          "PS3",
          "PS4",
          "X360",
          "XB"
         ],
         "y": [
          8.09,
          28.31,
          60.5,
          29.509999999999998,
          122.66000000000003,
          8.49
         ]
        },
        {
         "marker": {
          "color": "rgb(252,118,103)"
         },
         "name": "Misc",
         "opacity": 0.75,
         "type": "bar",
         "x": [
          "DS",
          "Wii",
          "X360"
         ],
         "y": [
          29.24,
          65.71,
          31.02
         ]
        },
        {
         "marker": {
          "color": "rgb(226,28,5)"
         },
         "name": "Role Playing",
         "opacity": 0.75,
         "type": "bar",
         "x": [
          "3DS",
          "DS",
          "GB",
          "GBA",
          "PS",
          "PS2",
          "X360"
         ],
         "y": [
          25.68,
          49.849999999999994,
          69.11,
          26.34,
          17.580000000000002,
          8.05,
          8.84
         ]
        },
        {
         "marker": {
          "color": "rgb(247,173,13)"
         },
         "name": "Fighting",
         "opacity": 0.75,
         "type": "bar",
         "x": [
          "3DS",
          "Wii"
         ],
         "y": [
          7.45,
          13.04
         ]
        },
        {
         "marker": {
          "color": "rgb(242,122,13)"
         },
         "name": "Platform",
         "opacity": 0.75,
         "type": "bar",
         "x": [
          "3DS",
          "DS",
          "GB",
          "N64",
          "NES",
          "PS",
          "SNES",
          "Wii"
         ],
         "y": [
          20.61,
          40.43,
          18.14,
          11.89,
          64.98,
          7.58,
          40.46,
          47.83
         ]
        },
        {
         "marker": {
          "color": "rgb(188,145,202)"
         },
         "name": "Simulation",
         "opacity": 0.75,
         "type": "bar",
         "x": [
          "3DS",
          "DS",
          "PC"
         ],
         "y": [
          9.09,
          37.03,
          8.11
         ]
        },
        {
         "marker": {
          "color": "rgb(104,57,119)"
         },
         "name": "Adventure",
         "opacity": 0.75,
         "type": "bar",
         "x": [
          "GB"
         ],
         "y": [
          11.18
         ]
        },
        {
         "marker": {
          "color": "rgb(245,253,104)"
         },
         "name": "Strategy",
         "opacity": 0.75,
         "type": "bar",
         "x": [],
         "y": []
        },
        {
         "marker": {
          "color": "rgb(138,72,40)"
         },
         "name": "Puzzle",
         "opacity": 0.75,
         "type": "bar",
         "x": [
          "2600",
          "DS",
          "GB"
         ],
         "y": [
          7.81,
          15.3,
          30.26
         ]
        }
       ],
       "layout": {
        "barmode": "stack",
        "paper_bgcolor": "beige",
        "plot_bgcolor": "beige",
        "template": {
         "data": {
          "bar": [
           {
            "error_x": {
             "color": "#2a3f5f"
            },
            "error_y": {
             "color": "#2a3f5f"
            },
            "marker": {
             "line": {
              "color": "#E5ECF6",
              "width": 0.5
             },
             "pattern": {
              "fillmode": "overlay",
              "size": 10,
              "solidity": 0.2
             }
            },
            "type": "bar"
           }
          ],
          "barpolar": [
           {
            "marker": {
             "line": {
              "color": "#E5ECF6",
              "width": 0.5
             },
             "pattern": {
              "fillmode": "overlay",
              "size": 10,
              "solidity": 0.2
             }
            },
            "type": "barpolar"
           }
          ],
          "carpet": [
           {
            "aaxis": {
             "endlinecolor": "#2a3f5f",
             "gridcolor": "white",
             "linecolor": "white",
             "minorgridcolor": "white",
             "startlinecolor": "#2a3f5f"
            },
            "baxis": {
             "endlinecolor": "#2a3f5f",
             "gridcolor": "white",
             "linecolor": "white",
             "minorgridcolor": "white",
             "startlinecolor": "#2a3f5f"
            },
            "type": "carpet"
           }
          ],
          "choropleth": [
           {
            "colorbar": {
             "outlinewidth": 0,
             "ticks": ""
            },
            "type": "choropleth"
           }
          ],
          "contour": [
           {
            "colorbar": {
             "outlinewidth": 0,
             "ticks": ""
            },
            "colorscale": [
             [
              0,
              "#0d0887"
             ],
             [
              0.1111111111111111,
              "#46039f"
             ],
             [
              0.2222222222222222,
              "#7201a8"
             ],
             [
              0.3333333333333333,
              "#9c179e"
             ],
             [
              0.4444444444444444,
              "#bd3786"
             ],
             [
              0.5555555555555556,
              "#d8576b"
             ],
             [
              0.6666666666666666,
              "#ed7953"
             ],
             [
              0.7777777777777778,
              "#fb9f3a"
             ],
             [
              0.8888888888888888,
              "#fdca26"
             ],
             [
              1,
              "#f0f921"
             ]
            ],
            "type": "contour"
           }
          ],
          "contourcarpet": [
           {
            "colorbar": {
             "outlinewidth": 0,
             "ticks": ""
            },
            "type": "contourcarpet"
           }
          ],
          "heatmap": [
           {
            "colorbar": {
             "outlinewidth": 0,
             "ticks": ""
            },
            "colorscale": [
             [
              0,
              "#0d0887"
             ],
             [
              0.1111111111111111,
              "#46039f"
             ],
             [
              0.2222222222222222,
              "#7201a8"
             ],
             [
              0.3333333333333333,
              "#9c179e"
             ],
             [
              0.4444444444444444,
              "#bd3786"
             ],
             [
              0.5555555555555556,
              "#d8576b"
             ],
             [
              0.6666666666666666,
              "#ed7953"
             ],
             [
              0.7777777777777778,
              "#fb9f3a"
             ],
             [
              0.8888888888888888,
              "#fdca26"
             ],
             [
              1,
              "#f0f921"
             ]
            ],
            "type": "heatmap"
           }
          ],
          "heatmapgl": [
           {
            "colorbar": {
             "outlinewidth": 0,
             "ticks": ""
            },
            "colorscale": [
             [
              0,
              "#0d0887"
             ],
             [
              0.1111111111111111,
              "#46039f"
             ],
             [
              0.2222222222222222,
              "#7201a8"
             ],
             [
              0.3333333333333333,
              "#9c179e"
             ],
             [
              0.4444444444444444,
              "#bd3786"
             ],
             [
              0.5555555555555556,
              "#d8576b"
             ],
             [
              0.6666666666666666,
              "#ed7953"
             ],
             [
              0.7777777777777778,
              "#fb9f3a"
             ],
             [
              0.8888888888888888,
              "#fdca26"
             ],
             [
              1,
              "#f0f921"
             ]
            ],
            "type": "heatmapgl"
           }
          ],
          "histogram": [
           {
            "marker": {
             "pattern": {
              "fillmode": "overlay",
              "size": 10,
              "solidity": 0.2
             }
            },
            "type": "histogram"
           }
          ],
          "histogram2d": [
           {
            "colorbar": {
             "outlinewidth": 0,
             "ticks": ""
            },
            "colorscale": [
             [
              0,
              "#0d0887"
             ],
             [
              0.1111111111111111,
              "#46039f"
             ],
             [
              0.2222222222222222,
              "#7201a8"
             ],
             [
              0.3333333333333333,
              "#9c179e"
             ],
             [
              0.4444444444444444,
              "#bd3786"
             ],
             [
              0.5555555555555556,
              "#d8576b"
             ],
             [
              0.6666666666666666,
              "#ed7953"
             ],
             [
              0.7777777777777778,
              "#fb9f3a"
             ],
             [
              0.8888888888888888,
              "#fdca26"
             ],
             [
              1,
              "#f0f921"
             ]
            ],
            "type": "histogram2d"
           }
          ],
          "histogram2dcontour": [
           {
            "colorbar": {
             "outlinewidth": 0,
             "ticks": ""
            },
            "colorscale": [
             [
              0,
              "#0d0887"
             ],
             [
              0.1111111111111111,
              "#46039f"
             ],
             [
              0.2222222222222222,
              "#7201a8"
             ],
             [
              0.3333333333333333,
              "#9c179e"
             ],
             [
              0.4444444444444444,
              "#bd3786"
             ],
             [
              0.5555555555555556,
              "#d8576b"
             ],
             [
              0.6666666666666666,
              "#ed7953"
             ],
             [
              0.7777777777777778,
              "#fb9f3a"
             ],
             [
              0.8888888888888888,
              "#fdca26"
             ],
             [
              1,
              "#f0f921"
             ]
            ],
            "type": "histogram2dcontour"
           }
          ],
          "mesh3d": [
           {
            "colorbar": {
             "outlinewidth": 0,
             "ticks": ""
            },
            "type": "mesh3d"
           }
          ],
          "parcoords": [
           {
            "line": {
             "colorbar": {
              "outlinewidth": 0,
              "ticks": ""
             }
            },
            "type": "parcoords"
           }
          ],
          "pie": [
           {
            "automargin": true,
            "type": "pie"
           }
          ],
          "scatter": [
           {
            "marker": {
             "colorbar": {
              "outlinewidth": 0,
              "ticks": ""
             }
            },
            "type": "scatter"
           }
          ],
          "scatter3d": [
           {
            "line": {
             "colorbar": {
              "outlinewidth": 0,
              "ticks": ""
             }
            },
            "marker": {
             "colorbar": {
              "outlinewidth": 0,
              "ticks": ""
             }
            },
            "type": "scatter3d"
           }
          ],
          "scattercarpet": [
           {
            "marker": {
             "colorbar": {
              "outlinewidth": 0,
              "ticks": ""
             }
            },
            "type": "scattercarpet"
           }
          ],
          "scattergeo": [
           {
            "marker": {
             "colorbar": {
              "outlinewidth": 0,
              "ticks": ""
             }
            },
            "type": "scattergeo"
           }
          ],
          "scattergl": [
           {
            "marker": {
             "colorbar": {
              "outlinewidth": 0,
              "ticks": ""
             }
            },
            "type": "scattergl"
           }
          ],
          "scattermapbox": [
           {
            "marker": {
             "colorbar": {
              "outlinewidth": 0,
              "ticks": ""
             }
            },
            "type": "scattermapbox"
           }
          ],
          "scatterpolar": [
           {
            "marker": {
             "colorbar": {
              "outlinewidth": 0,
              "ticks": ""
             }
            },
            "type": "scatterpolar"
           }
          ],
          "scatterpolargl": [
           {
            "marker": {
             "colorbar": {
              "outlinewidth": 0,
              "ticks": ""
             }
            },
            "type": "scatterpolargl"
           }
          ],
          "scatterternary": [
           {
            "marker": {
             "colorbar": {
              "outlinewidth": 0,
              "ticks": ""
             }
            },
            "type": "scatterternary"
           }
          ],
          "surface": [
           {
            "colorbar": {
             "outlinewidth": 0,
             "ticks": ""
            },
            "colorscale": [
             [
              0,
              "#0d0887"
             ],
             [
              0.1111111111111111,
              "#46039f"
             ],
             [
              0.2222222222222222,
              "#7201a8"
             ],
             [
              0.3333333333333333,
              "#9c179e"
             ],
             [
              0.4444444444444444,
              "#bd3786"
             ],
             [
              0.5555555555555556,
              "#d8576b"
             ],
             [
              0.6666666666666666,
              "#ed7953"
             ],
             [
              0.7777777777777778,
              "#fb9f3a"
             ],
             [
              0.8888888888888888,
              "#fdca26"
             ],
             [
              1,
              "#f0f921"
             ]
            ],
            "type": "surface"
           }
          ],
          "table": [
           {
            "cells": {
             "fill": {
              "color": "#EBF0F8"
             },
             "line": {
              "color": "white"
             }
            },
            "header": {
             "fill": {
              "color": "#C8D4E3"
             },
             "line": {
              "color": "white"
             }
            },
            "type": "table"
           }
          ]
         },
         "layout": {
          "annotationdefaults": {
           "arrowcolor": "#2a3f5f",
           "arrowhead": 0,
           "arrowwidth": 1
          },
          "autotypenumbers": "strict",
          "coloraxis": {
           "colorbar": {
            "outlinewidth": 0,
            "ticks": ""
           }
          },
          "colorscale": {
           "diverging": [
            [
             0,
             "#8e0152"
            ],
            [
             0.1,
             "#c51b7d"
            ],
            [
             0.2,
             "#de77ae"
            ],
            [
             0.3,
             "#f1b6da"
            ],
            [
             0.4,
             "#fde0ef"
            ],
            [
             0.5,
             "#f7f7f7"
            ],
            [
             0.6,
             "#e6f5d0"
            ],
            [
             0.7,
             "#b8e186"
            ],
            [
             0.8,
             "#7fbc41"
            ],
            [
             0.9,
             "#4d9221"
            ],
            [
             1,
             "#276419"
            ]
           ],
           "sequential": [
            [
             0,
             "#0d0887"
            ],
            [
             0.1111111111111111,
             "#46039f"
            ],
            [
             0.2222222222222222,
             "#7201a8"
            ],
            [
             0.3333333333333333,
             "#9c179e"
            ],
            [
             0.4444444444444444,
             "#bd3786"
            ],
            [
             0.5555555555555556,
             "#d8576b"
            ],
            [
             0.6666666666666666,
             "#ed7953"
            ],
            [
             0.7777777777777778,
             "#fb9f3a"
            ],
            [
             0.8888888888888888,
             "#fdca26"
            ],
            [
             1,
             "#f0f921"
            ]
           ],
           "sequentialminus": [
            [
             0,
             "#0d0887"
            ],
            [
             0.1111111111111111,
             "#46039f"
            ],
            [
             0.2222222222222222,
             "#7201a8"
            ],
            [
             0.3333333333333333,
             "#9c179e"
            ],
            [
             0.4444444444444444,
             "#bd3786"
            ],
            [
             0.5555555555555556,
             "#d8576b"
            ],
            [
             0.6666666666666666,
             "#ed7953"
            ],
            [
             0.7777777777777778,
             "#fb9f3a"
            ],
            [
             0.8888888888888888,
             "#fdca26"
            ],
            [
             1,
             "#f0f921"
            ]
           ]
          },
          "colorway": [
           "#636efa",
           "#EF553B",
           "#00cc96",
           "#ab63fa",
           "#FFA15A",
           "#19d3f3",
           "#FF6692",
           "#B6E880",
           "#FF97FF",
           "#FECB52"
          ],
          "font": {
           "color": "#2a3f5f"
          },
          "geo": {
           "bgcolor": "white",
           "lakecolor": "white",
           "landcolor": "#E5ECF6",
           "showlakes": true,
           "showland": true,
           "subunitcolor": "white"
          },
          "hoverlabel": {
           "align": "left"
          },
          "hovermode": "closest",
          "mapbox": {
           "style": "light"
          },
          "paper_bgcolor": "white",
          "plot_bgcolor": "#E5ECF6",
          "polar": {
           "angularaxis": {
            "gridcolor": "white",
            "linecolor": "white",
            "ticks": ""
           },
           "bgcolor": "#E5ECF6",
           "radialaxis": {
            "gridcolor": "white",
            "linecolor": "white",
            "ticks": ""
           }
          },
          "scene": {
           "xaxis": {
            "backgroundcolor": "#E5ECF6",
            "gridcolor": "white",
            "gridwidth": 2,
            "linecolor": "white",
            "showbackground": true,
            "ticks": "",
            "zerolinecolor": "white"
           },
           "yaxis": {
            "backgroundcolor": "#E5ECF6",
            "gridcolor": "white",
            "gridwidth": 2,
            "linecolor": "white",
            "showbackground": true,
            "ticks": "",
            "zerolinecolor": "white"
           },
           "zaxis": {
            "backgroundcolor": "#E5ECF6",
            "gridcolor": "white",
            "gridwidth": 2,
            "linecolor": "white",
            "showbackground": true,
            "ticks": "",
            "zerolinecolor": "white"
           }
          },
          "shapedefaults": {
           "line": {
            "color": "#2a3f5f"
           }
          },
          "ternary": {
           "aaxis": {
            "gridcolor": "white",
            "linecolor": "white",
            "ticks": ""
           },
           "baxis": {
            "gridcolor": "white",
            "linecolor": "white",
            "ticks": ""
           },
           "bgcolor": "#E5ECF6",
           "caxis": {
            "gridcolor": "white",
            "linecolor": "white",
            "ticks": ""
           }
          },
          "title": {
           "x": 0.05
          },
          "xaxis": {
           "automargin": true,
           "gridcolor": "white",
           "linecolor": "white",
           "ticks": "",
           "title": {
            "standoff": 15
           },
           "zerolinecolor": "white",
           "zerolinewidth": 2
          },
          "yaxis": {
           "automargin": true,
           "gridcolor": "white",
           "linecolor": "white",
           "ticks": "",
           "title": {
            "standoff": 15
           },
           "zerolinecolor": "white",
           "zerolinewidth": 2
          }
         }
        },
        "title": {
         "text": "Total Global Sales According to Platform and Genre"
        },
        "xaxis": {
         "title": {
          "text": "Platform"
         }
        },
        "yaxis": {
         "title": {
          "text": "Global Sales(In Millions)"
         }
        }
       }
      },
      "text/html": [
       "<div>                            <div id=\"cfeb2cc6-9a8d-47aa-a7de-985c4403188a\" class=\"plotly-graph-div\" style=\"height:525px; width:100%;\"></div>            <script type=\"text/javascript\">                require([\"plotly\"], function(Plotly) {                    window.PLOTLYENV=window.PLOTLYENV || {};                                    if (document.getElementById(\"cfeb2cc6-9a8d-47aa-a7de-985c4403188a\")) {                    Plotly.newPlot(                        \"cfeb2cc6-9a8d-47aa-a7de-985c4403188a\",                        [{\"marker\":{\"color\":\"rgb(119,172,238)\"},\"name\":\"Action\",\"opacity\":0.75,\"type\":\"bar\",\"x\":[\"DS\",\"N64\",\"PS2\",\"PS3\",\"PS4\",\"PSP\",\"X360\"],\"y\":[11.9,7.6,50.059999999999995,40.21,11.98,7.72,27.4]},{\"marker\":{\"color\":\"rgb(21,90,174)\"},\"name\":\"Sports\",\"opacity\":0.75,\"type\":\"bar\",\"x\":[\"PS4\",\"Wii\"],\"y\":[8.49,168.51999999999998]},{\"marker\":{\"color\":\"rgb(156,245,163)\"},\"name\":\"Racing\",\"opacity\":0.75,\"type\":\"bar\",\"x\":[\"3DS\",\"DS\",\"N64\",\"PS\",\"PS2\",\"PS3\",\"SNES\",\"Wii\"],\"y\":[12.21,23.42,9.87,20.439999999999998,26.64,10.77,8.76,35.82]},{\"marker\":{\"color\":\"rgb(14,135,23)\"},\"name\":\"Shooter\",\"opacity\":0.75,\"type\":\"bar\",\"x\":[\"N64\",\"NES\",\"PS3\",\"PS4\",\"X360\",\"XB\"],\"y\":[8.09,28.31,60.5,29.509999999999998,122.66000000000003,8.49]},{\"marker\":{\"color\":\"rgb(252,118,103)\"},\"name\":\"Misc\",\"opacity\":0.75,\"type\":\"bar\",\"x\":[\"DS\",\"Wii\",\"X360\"],\"y\":[29.24,65.71,31.02]},{\"marker\":{\"color\":\"rgb(226,28,5)\"},\"name\":\"Role Playing\",\"opacity\":0.75,\"type\":\"bar\",\"x\":[\"3DS\",\"DS\",\"GB\",\"GBA\",\"PS\",\"PS2\",\"X360\"],\"y\":[25.68,49.849999999999994,69.11,26.34,17.580000000000002,8.05,8.84]},{\"marker\":{\"color\":\"rgb(247,173,13)\"},\"name\":\"Fighting\",\"opacity\":0.75,\"type\":\"bar\",\"x\":[\"3DS\",\"Wii\"],\"y\":[7.45,13.04]},{\"marker\":{\"color\":\"rgb(242,122,13)\"},\"name\":\"Platform\",\"opacity\":0.75,\"type\":\"bar\",\"x\":[\"3DS\",\"DS\",\"GB\",\"N64\",\"NES\",\"PS\",\"SNES\",\"Wii\"],\"y\":[20.61,40.43,18.14,11.89,64.98,7.58,40.46,47.83]},{\"marker\":{\"color\":\"rgb(188,145,202)\"},\"name\":\"Simulation\",\"opacity\":0.75,\"type\":\"bar\",\"x\":[\"3DS\",\"DS\",\"PC\"],\"y\":[9.09,37.03,8.11]},{\"marker\":{\"color\":\"rgb(104,57,119)\"},\"name\":\"Adventure\",\"opacity\":0.75,\"type\":\"bar\",\"x\":[\"GB\"],\"y\":[11.18]},{\"marker\":{\"color\":\"rgb(245,253,104)\"},\"name\":\"Strategy\",\"opacity\":0.75,\"type\":\"bar\",\"x\":[],\"y\":[]},{\"marker\":{\"color\":\"rgb(138,72,40)\"},\"name\":\"Puzzle\",\"opacity\":0.75,\"type\":\"bar\",\"x\":[\"2600\",\"DS\",\"GB\"],\"y\":[7.81,15.3,30.26]}],                        {\"barmode\":\"stack\",\"paper_bgcolor\":\"beige\",\"plot_bgcolor\":\"beige\",\"template\":{\"data\":{\"bar\":[{\"error_x\":{\"color\":\"#2a3f5f\"},\"error_y\":{\"color\":\"#2a3f5f\"},\"marker\":{\"line\":{\"color\":\"#E5ECF6\",\"width\":0.5},\"pattern\":{\"fillmode\":\"overlay\",\"size\":10,\"solidity\":0.2}},\"type\":\"bar\"}],\"barpolar\":[{\"marker\":{\"line\":{\"color\":\"#E5ECF6\",\"width\":0.5},\"pattern\":{\"fillmode\":\"overlay\",\"size\":10,\"solidity\":0.2}},\"type\":\"barpolar\"}],\"carpet\":[{\"aaxis\":{\"endlinecolor\":\"#2a3f5f\",\"gridcolor\":\"white\",\"linecolor\":\"white\",\"minorgridcolor\":\"white\",\"startlinecolor\":\"#2a3f5f\"},\"baxis\":{\"endlinecolor\":\"#2a3f5f\",\"gridcolor\":\"white\",\"linecolor\":\"white\",\"minorgridcolor\":\"white\",\"startlinecolor\":\"#2a3f5f\"},\"type\":\"carpet\"}],\"choropleth\":[{\"colorbar\":{\"outlinewidth\":0,\"ticks\":\"\"},\"type\":\"choropleth\"}],\"contour\":[{\"colorbar\":{\"outlinewidth\":0,\"ticks\":\"\"},\"colorscale\":[[0.0,\"#0d0887\"],[0.1111111111111111,\"#46039f\"],[0.2222222222222222,\"#7201a8\"],[0.3333333333333333,\"#9c179e\"],[0.4444444444444444,\"#bd3786\"],[0.5555555555555556,\"#d8576b\"],[0.6666666666666666,\"#ed7953\"],[0.7777777777777778,\"#fb9f3a\"],[0.8888888888888888,\"#fdca26\"],[1.0,\"#f0f921\"]],\"type\":\"contour\"}],\"contourcarpet\":[{\"colorbar\":{\"outlinewidth\":0,\"ticks\":\"\"},\"type\":\"contourcarpet\"}],\"heatmap\":[{\"colorbar\":{\"outlinewidth\":0,\"ticks\":\"\"},\"colorscale\":[[0.0,\"#0d0887\"],[0.1111111111111111,\"#46039f\"],[0.2222222222222222,\"#7201a8\"],[0.3333333333333333,\"#9c179e\"],[0.4444444444444444,\"#bd3786\"],[0.5555555555555556,\"#d8576b\"],[0.6666666666666666,\"#ed7953\"],[0.7777777777777778,\"#fb9f3a\"],[0.8888888888888888,\"#fdca26\"],[1.0,\"#f0f921\"]],\"type\":\"heatmap\"}],\"heatmapgl\":[{\"colorbar\":{\"outlinewidth\":0,\"ticks\":\"\"},\"colorscale\":[[0.0,\"#0d0887\"],[0.1111111111111111,\"#46039f\"],[0.2222222222222222,\"#7201a8\"],[0.3333333333333333,\"#9c179e\"],[0.4444444444444444,\"#bd3786\"],[0.5555555555555556,\"#d8576b\"],[0.6666666666666666,\"#ed7953\"],[0.7777777777777778,\"#fb9f3a\"],[0.8888888888888888,\"#fdca26\"],[1.0,\"#f0f921\"]],\"type\":\"heatmapgl\"}],\"histogram\":[{\"marker\":{\"pattern\":{\"fillmode\":\"overlay\",\"size\":10,\"solidity\":0.2}},\"type\":\"histogram\"}],\"histogram2d\":[{\"colorbar\":{\"outlinewidth\":0,\"ticks\":\"\"},\"colorscale\":[[0.0,\"#0d0887\"],[0.1111111111111111,\"#46039f\"],[0.2222222222222222,\"#7201a8\"],[0.3333333333333333,\"#9c179e\"],[0.4444444444444444,\"#bd3786\"],[0.5555555555555556,\"#d8576b\"],[0.6666666666666666,\"#ed7953\"],[0.7777777777777778,\"#fb9f3a\"],[0.8888888888888888,\"#fdca26\"],[1.0,\"#f0f921\"]],\"type\":\"histogram2d\"}],\"histogram2dcontour\":[{\"colorbar\":{\"outlinewidth\":0,\"ticks\":\"\"},\"colorscale\":[[0.0,\"#0d0887\"],[0.1111111111111111,\"#46039f\"],[0.2222222222222222,\"#7201a8\"],[0.3333333333333333,\"#9c179e\"],[0.4444444444444444,\"#bd3786\"],[0.5555555555555556,\"#d8576b\"],[0.6666666666666666,\"#ed7953\"],[0.7777777777777778,\"#fb9f3a\"],[0.8888888888888888,\"#fdca26\"],[1.0,\"#f0f921\"]],\"type\":\"histogram2dcontour\"}],\"mesh3d\":[{\"colorbar\":{\"outlinewidth\":0,\"ticks\":\"\"},\"type\":\"mesh3d\"}],\"parcoords\":[{\"line\":{\"colorbar\":{\"outlinewidth\":0,\"ticks\":\"\"}},\"type\":\"parcoords\"}],\"pie\":[{\"automargin\":true,\"type\":\"pie\"}],\"scatter\":[{\"marker\":{\"colorbar\":{\"outlinewidth\":0,\"ticks\":\"\"}},\"type\":\"scatter\"}],\"scatter3d\":[{\"line\":{\"colorbar\":{\"outlinewidth\":0,\"ticks\":\"\"}},\"marker\":{\"colorbar\":{\"outlinewidth\":0,\"ticks\":\"\"}},\"type\":\"scatter3d\"}],\"scattercarpet\":[{\"marker\":{\"colorbar\":{\"outlinewidth\":0,\"ticks\":\"\"}},\"type\":\"scattercarpet\"}],\"scattergeo\":[{\"marker\":{\"colorbar\":{\"outlinewidth\":0,\"ticks\":\"\"}},\"type\":\"scattergeo\"}],\"scattergl\":[{\"marker\":{\"colorbar\":{\"outlinewidth\":0,\"ticks\":\"\"}},\"type\":\"scattergl\"}],\"scattermapbox\":[{\"marker\":{\"colorbar\":{\"outlinewidth\":0,\"ticks\":\"\"}},\"type\":\"scattermapbox\"}],\"scatterpolar\":[{\"marker\":{\"colorbar\":{\"outlinewidth\":0,\"ticks\":\"\"}},\"type\":\"scatterpolar\"}],\"scatterpolargl\":[{\"marker\":{\"colorbar\":{\"outlinewidth\":0,\"ticks\":\"\"}},\"type\":\"scatterpolargl\"}],\"scatterternary\":[{\"marker\":{\"colorbar\":{\"outlinewidth\":0,\"ticks\":\"\"}},\"type\":\"scatterternary\"}],\"surface\":[{\"colorbar\":{\"outlinewidth\":0,\"ticks\":\"\"},\"colorscale\":[[0.0,\"#0d0887\"],[0.1111111111111111,\"#46039f\"],[0.2222222222222222,\"#7201a8\"],[0.3333333333333333,\"#9c179e\"],[0.4444444444444444,\"#bd3786\"],[0.5555555555555556,\"#d8576b\"],[0.6666666666666666,\"#ed7953\"],[0.7777777777777778,\"#fb9f3a\"],[0.8888888888888888,\"#fdca26\"],[1.0,\"#f0f921\"]],\"type\":\"surface\"}],\"table\":[{\"cells\":{\"fill\":{\"color\":\"#EBF0F8\"},\"line\":{\"color\":\"white\"}},\"header\":{\"fill\":{\"color\":\"#C8D4E3\"},\"line\":{\"color\":\"white\"}},\"type\":\"table\"}]},\"layout\":{\"annotationdefaults\":{\"arrowcolor\":\"#2a3f5f\",\"arrowhead\":0,\"arrowwidth\":1},\"autotypenumbers\":\"strict\",\"coloraxis\":{\"colorbar\":{\"outlinewidth\":0,\"ticks\":\"\"}},\"colorscale\":{\"diverging\":[[0,\"#8e0152\"],[0.1,\"#c51b7d\"],[0.2,\"#de77ae\"],[0.3,\"#f1b6da\"],[0.4,\"#fde0ef\"],[0.5,\"#f7f7f7\"],[0.6,\"#e6f5d0\"],[0.7,\"#b8e186\"],[0.8,\"#7fbc41\"],[0.9,\"#4d9221\"],[1,\"#276419\"]],\"sequential\":[[0.0,\"#0d0887\"],[0.1111111111111111,\"#46039f\"],[0.2222222222222222,\"#7201a8\"],[0.3333333333333333,\"#9c179e\"],[0.4444444444444444,\"#bd3786\"],[0.5555555555555556,\"#d8576b\"],[0.6666666666666666,\"#ed7953\"],[0.7777777777777778,\"#fb9f3a\"],[0.8888888888888888,\"#fdca26\"],[1.0,\"#f0f921\"]],\"sequentialminus\":[[0.0,\"#0d0887\"],[0.1111111111111111,\"#46039f\"],[0.2222222222222222,\"#7201a8\"],[0.3333333333333333,\"#9c179e\"],[0.4444444444444444,\"#bd3786\"],[0.5555555555555556,\"#d8576b\"],[0.6666666666666666,\"#ed7953\"],[0.7777777777777778,\"#fb9f3a\"],[0.8888888888888888,\"#fdca26\"],[1.0,\"#f0f921\"]]},\"colorway\":[\"#636efa\",\"#EF553B\",\"#00cc96\",\"#ab63fa\",\"#FFA15A\",\"#19d3f3\",\"#FF6692\",\"#B6E880\",\"#FF97FF\",\"#FECB52\"],\"font\":{\"color\":\"#2a3f5f\"},\"geo\":{\"bgcolor\":\"white\",\"lakecolor\":\"white\",\"landcolor\":\"#E5ECF6\",\"showlakes\":true,\"showland\":true,\"subunitcolor\":\"white\"},\"hoverlabel\":{\"align\":\"left\"},\"hovermode\":\"closest\",\"mapbox\":{\"style\":\"light\"},\"paper_bgcolor\":\"white\",\"plot_bgcolor\":\"#E5ECF6\",\"polar\":{\"angularaxis\":{\"gridcolor\":\"white\",\"linecolor\":\"white\",\"ticks\":\"\"},\"bgcolor\":\"#E5ECF6\",\"radialaxis\":{\"gridcolor\":\"white\",\"linecolor\":\"white\",\"ticks\":\"\"}},\"scene\":{\"xaxis\":{\"backgroundcolor\":\"#E5ECF6\",\"gridcolor\":\"white\",\"gridwidth\":2,\"linecolor\":\"white\",\"showbackground\":true,\"ticks\":\"\",\"zerolinecolor\":\"white\"},\"yaxis\":{\"backgroundcolor\":\"#E5ECF6\",\"gridcolor\":\"white\",\"gridwidth\":2,\"linecolor\":\"white\",\"showbackground\":true,\"ticks\":\"\",\"zerolinecolor\":\"white\"},\"zaxis\":{\"backgroundcolor\":\"#E5ECF6\",\"gridcolor\":\"white\",\"gridwidth\":2,\"linecolor\":\"white\",\"showbackground\":true,\"ticks\":\"\",\"zerolinecolor\":\"white\"}},\"shapedefaults\":{\"line\":{\"color\":\"#2a3f5f\"}},\"ternary\":{\"aaxis\":{\"gridcolor\":\"white\",\"linecolor\":\"white\",\"ticks\":\"\"},\"baxis\":{\"gridcolor\":\"white\",\"linecolor\":\"white\",\"ticks\":\"\"},\"bgcolor\":\"#E5ECF6\",\"caxis\":{\"gridcolor\":\"white\",\"linecolor\":\"white\",\"ticks\":\"\"}},\"title\":{\"x\":0.05},\"xaxis\":{\"automargin\":true,\"gridcolor\":\"white\",\"linecolor\":\"white\",\"ticks\":\"\",\"title\":{\"standoff\":15},\"zerolinecolor\":\"white\",\"zerolinewidth\":2},\"yaxis\":{\"automargin\":true,\"gridcolor\":\"white\",\"linecolor\":\"white\",\"ticks\":\"\",\"title\":{\"standoff\":15},\"zerolinecolor\":\"white\",\"zerolinewidth\":2}}},\"title\":{\"text\":\"Total Global Sales According to Platform and Genre\"},\"xaxis\":{\"title\":{\"text\":\"Platform\"}},\"yaxis\":{\"title\":{\"text\":\"Global Sales(In Millions)\"}}},                        {\"responsive\": true}                    ).then(function(){\n",
       "                            \n",
       "var gd = document.getElementById('cfeb2cc6-9a8d-47aa-a7de-985c4403188a');\n",
       "var x = new MutationObserver(function (mutations, observer) {{\n",
       "        var display = window.getComputedStyle(gd).display;\n",
       "        if (!display || display === 'none') {{\n",
       "            console.log([gd, 'removed!']);\n",
       "            Plotly.purge(gd);\n",
       "            observer.disconnect();\n",
       "        }}\n",
       "}});\n",
       "\n",
       "// Listen for the removal of the full notebook cells\n",
       "var notebookContainer = gd.closest('#notebook-container');\n",
       "if (notebookContainer) {{\n",
       "    x.observe(notebookContainer, {childList: true});\n",
       "}}\n",
       "\n",
       "// Listen for the clearing of the current output cell\n",
       "var outputEl = gd.closest('.output');\n",
       "if (outputEl) {{\n",
       "    x.observe(outputEl, {childList: true});\n",
       "}}\n",
       "\n",
       "                        })                };                });            </script>        </div>"
      ]
     },
     "metadata": {},
     "output_type": "display_data"
    }
   ],
   "source": [
    "trace1 = go.Bar(\n",
    "    x=xaction.groupby(\"Platform\")[\"Global_Sales\"].sum().index,\n",
    "    y=xaction.groupby(\"Platform\")[\"Global_Sales\"].sum().values,\n",
    "    opacity=0.75,\n",
    "    name = \"Action\",\n",
    "    marker=dict(color=\"rgb(119,172,238)\"))\n",
    "trace2 = go.Bar(\n",
    "    x=xsports.groupby(\"Platform\")[\"Global_Sales\"].sum().index,\n",
    "    y=xsports.groupby(\"Platform\")[\"Global_Sales\"].sum().values,\n",
    "    opacity=0.75,\n",
    "    name = \"Sports\",\n",
    "    marker=dict(color='rgb(21,90,174)'))\n",
    "trace3 = go.Bar(\n",
    "    x=xrace.groupby(\"Platform\")[\"Global_Sales\"].sum().index,\n",
    "    y=xrace.groupby(\"Platform\")[\"Global_Sales\"].sum().values,\n",
    "    opacity=0.75,\n",
    "    name = \"Racing\",\n",
    "    marker=dict(color=\"rgb(156,245,163)\"))\n",
    "trace4 = go.Bar(\n",
    "    x=xshooter.groupby(\"Platform\")[\"Global_Sales\"].sum().index,\n",
    "    y=xshooter.groupby(\"Platform\")[\"Global_Sales\"].sum().values,\n",
    "    opacity=0.75,\n",
    "    name = \"Shooter\",\n",
    "    marker=dict(color=\"rgb(14,135,23)\"))\n",
    "trace5 = go.Bar(\n",
    "    x=xmisc.groupby(\"Platform\")[\"Global_Sales\"].sum().index,\n",
    "    y=xmisc.groupby(\"Platform\")[\"Global_Sales\"].sum().values,\n",
    "    opacity=0.75,\n",
    "    name = \"Misc\",\n",
    "    marker=dict(color='rgb(252,118,103)'))\n",
    "trace6 = go.Bar(\n",
    "    x=xrole.groupby(\"Platform\")[\"Global_Sales\"].sum().index,\n",
    "    y=xrole.groupby(\"Platform\")[\"Global_Sales\"].sum().values,\n",
    "    opacity=0.75,\n",
    "    name = \"Role Playing\",\n",
    "    marker=dict(color=\"rgb(226,28,5)\"))\n",
    "trace7 = go.Bar(\n",
    "    x=xfight.groupby(\"Platform\")[\"Global_Sales\"].sum().index,\n",
    "    y=xfight.groupby(\"Platform\")[\"Global_Sales\"].sum().values,\n",
    "    opacity=0.75,\n",
    "    name = \"Fighting\",\n",
    "    marker=dict(color=\"rgb(247,173,13)\"))\n",
    "trace8 = go.Bar(\n",
    "    x=xplatform.groupby(\"Platform\")[\"Global_Sales\"].sum().index,\n",
    "    y=xplatform.groupby(\"Platform\")[\"Global_Sales\"].sum().values,\n",
    "    opacity=0.75,\n",
    "    name = \"Platform\",\n",
    "    marker=dict(color=\"rgb(242,122,13)\"))\n",
    "trace9 = go.Bar(\n",
    "    x=xsimulation.groupby(\"Platform\")[\"Global_Sales\"].sum().index,\n",
    "    y=xsimulation.groupby(\"Platform\")[\"Global_Sales\"].sum().values,\n",
    "    opacity=0.75,\n",
    "    name = \"Simulation\",\n",
    "    marker=dict(color=\"rgb(188,145,202)\"))\n",
    "trace10 = go.Bar(\n",
    "    x=xadventure.groupby(\"Platform\")[\"Global_Sales\"].sum().index,\n",
    "    y=xadventure.groupby(\"Platform\")[\"Global_Sales\"].sum().values,\n",
    "    opacity=0.75,\n",
    "    name = \"Adventure\",\n",
    "    marker=dict(color='rgb(104,57,119)'))\n",
    "trace11 = go.Bar(\n",
    "    x=xstrategy.groupby(\"Platform\")[\"Global_Sales\"].sum().index,\n",
    "    y=xstrategy.groupby(\"Platform\")[\"Global_Sales\"].sum().values,\n",
    "    opacity=0.75,\n",
    "    name = \"Strategy\",\n",
    "    marker=dict(color='rgb(245,253,104)'))\n",
    "trace12 = go.Bar(\n",
    "    x=xpuzzle.groupby(\"Platform\")[\"Global_Sales\"].sum().index,\n",
    "    y=xpuzzle.groupby(\"Platform\")[\"Global_Sales\"].sum().values,\n",
    "    opacity=0.75,\n",
    "    name = \"Puzzle\",\n",
    "    marker=dict(color='rgb(138,72,40)'))\n",
    "\n",
    "data = [trace1, trace2,trace3,trace4,trace5,trace6,trace7,trace8,trace9,trace10,trace11,trace12]\n",
    "layout = go.Layout(barmode='stack',\n",
    "                   title='Total Global Sales According to Platform and Genre',\n",
    "                   xaxis=dict(title='Platform'),\n",
    "                   yaxis=dict( title='Global Sales(In Millions)'),\n",
    "                   paper_bgcolor='beige',\n",
    "                   plot_bgcolor='beige'\n",
    ")\n",
    "fig = go.Figure(data=data, layout=layout)\n",
    "iplot(fig)\n"
   ]
  },
  {
   "cell_type": "code",
   "execution_count": 39,
   "metadata": {},
   "outputs": [],
   "source": [
    "genre=pd.DataFrame(df.groupby(\"Genre\")[[\"NA_Sales\",\"EU_Sales\",\"JP_Sales\",\"Other_Sales\",\"Global_Sales\"]].sum())\n",
    "genre.reset_index(level=0, inplace=True)\n",
    "genrecount=pd.DataFrame(df[\"Genre\"].value_counts())\n",
    "genrecount.reset_index(level=0, inplace=True)\n",
    "genrecount.rename(columns={\"Genre\": \"Counts\",\"index\":\"Genre\"}, inplace=True)\n",
    "\n",
    "genre=pd.merge(genre,genrecount,on=\"Genre\")"
   ]
  },
  {
   "cell_type": "code",
   "execution_count": 40,
   "metadata": {},
   "outputs": [],
   "source": [
    "table_data=genre[[\"Genre\",\"NA_Sales\",\"EU_Sales\",\"JP_Sales\",\"Other_Sales\",\"Global_Sales\"]]\n",
    "table_data = table_data.rename(columns = {\"NA_Sales\": \"North America\", \n",
    "                                  \"EU_Sales\":\"Europe\", \n",
    "                                  \"JP_Sales\": \"Japan\",\"Other_Sales\":\"Other\",\"Global_Sales\":\"Total\"})"
   ]
  },
  {
   "cell_type": "code",
   "execution_count": 41,
   "metadata": {},
   "outputs": [
    {
     "data": {
      "application/vnd.plotly.v1+json": {
       "config": {
        "linkText": "Export to plot.ly",
        "plotlyServerURL": "https://plot.ly",
        "showLink": false
       },
       "data": [
        {
         "marker": {
          "color": "rgb(158,202,225)",
          "line": {
           "color": "rgb(8,48,107)",
           "width": 3
          }
         },
         "name": "North America",
         "opacity": 0.75,
         "type": "bar",
         "x": [
          "Action",
          "Adventure",
          "Fighting",
          "Misc",
          "Platform",
          "Puzzle",
          "Racing",
          "Role-Playing",
          "Shooter",
          "Simulation",
          "Sports"
         ],
         "xaxis": "x2",
         "y": [
          44.14483330145981,
          55.098389982110916,
          48.755490483162525,
          48.646503135667224,
          54.81105112734198,
          63.5563050402848,
          40.70168322855404,
          37.43489900219029,
          60.4208728063364,
          26.940807671030797,
          44.607649285351116
         ],
         "yaxis": "y2"
        },
        {
         "marker": {
          "color": "red",
          "line": {
           "color": "rgb(8,48,107)",
           "width": 3
          }
         },
         "name": "Europe",
         "opacity": 0.75,
         "type": "bar",
         "x": [
          "Action",
          "Adventure",
          "Fighting",
          "Misc",
          "Platform",
          "Puzzle",
          "Racing",
          "Role-Playing",
          "Shooter",
          "Simulation",
          "Sports"
         ],
         "xaxis": "x2",
         "y": [
          31.994645247657296,
          18.246869409660107,
          19.32650073206442,
          31.737715329046594,
          21.760876468720227,
          15.120854412591342,
          30.291354018792678,
          26.595278656607434,
          28.063363876378318,
          42.89138853033376,
          37.630642336591166
         ],
         "yaxis": "y2"
        },
        {
         "marker": {
          "color": "orange",
          "line": {
           "color": "rgb(8,48,107)",
           "width": 3
          }
         },
         "name": "Japan",
         "opacity": 0.75,
         "type": "bar",
         "x": [
          "Action",
          "Adventure",
          "Fighting",
          "Misc",
          "Platform",
          "Puzzle",
          "Racing",
          "Role-Playing",
          "Shooter",
          "Simulation",
          "Sports"
         ],
         "xaxis": "x2",
         "y": [
          5.692611716708103,
          24.0608228980322,
          24.792581747193758,
          10.645391759942843,
          18.513813909177514,
          17.8752107925801,
          16.656526735618197,
          31.02944755414942,
          1.7161049852461558,
          21.427254287294854,
          7.852663691316876
         ],
         "yaxis": "y2"
        },
        {
         "marker": {
          "color": "purple",
          "line": {
           "color": "rgb(8,48,107)",
           "width": 3
          }
         },
         "name": "Other",
         "opacity": 0.75,
         "type": "bar",
         "x": [
          "Action",
          "Adventure",
          "Fighting",
          "Misc",
          "Platform",
          "Puzzle",
          "Racing",
          "Role-Playing",
          "Shooter",
          "Simulation",
          "Sports"
         ],
         "xaxis": "x2",
         "y": [
          18.187033849684457,
          2.59391771019678,
          7.076622742801367,
          8.970389775343335,
          4.922197523023182,
          3.44762975454375,
          12.357195971067394,
          4.930640058408371,
          9.81130610343221,
          8.758989489212613,
          9.903395288401788
         ],
         "yaxis": "y2"
        },
        {
         "cells": {
          "align": [
           "left",
           "center"
          ],
          "fill": {
           "color": [
            "silver",
            "rgb(158,202,225)",
            "darksalmon",
            "gold",
            "mediumorchid",
            "yellowgreen"
           ]
          },
          "font": {
           "color": "#506784",
           "size": 12
          },
          "height": 30,
          "line": {
           "color": "rgb(8,48,107)",
           "width": 3
          },
          "values": [
           [
            "Action",
            "Adventure",
            "Fighting",
            "Misc",
            "Platform",
            "Puzzle",
            "Racing",
            "Role-Playing",
            "Shooter",
            "Simulation",
            "Sports"
           ],
           [
            69,
            6,
            10,
            61,
            138,
            34,
            60,
            77,
            156,
            15,
            79
           ],
           [
            50,
            2,
            4,
            40,
            55,
            8,
            45,
            55,
            72,
            23,
            67
           ],
           [
            9,
            3,
            5,
            13,
            47,
            10,
            25,
            64,
            4,
            12,
            14
           ],
           [
            29,
            0,
            1,
            11,
            12,
            2,
            18,
            10,
            25,
            5,
            18
           ],
           [
            157,
            11,
            20,
            126,
            252,
            53,
            148,
            205,
            258,
            54,
            177
           ]
          ]
         },
         "domain": {
          "x": [
           0.6,
           1
          ],
          "y": [
           0,
           0.95
          ]
         },
         "header": {
          "align": [
           "left",
           "center"
          ],
          "fill": {
           "color": [
            "darkslateblue",
            "blue",
            "red",
            "orange",
            "purple",
            "green"
           ]
          },
          "font": {
           "color": "white",
           "size": 12
          },
          "height": 30,
          "line": {
           "color": "rgb(8,48,107)",
           "width": 3
          },
          "values": [
           "Genre",
           "North America",
           "Europe",
           "Japan",
           "Other",
           "Total"
          ]
         },
         "type": "table"
        }
       ],
       "layout": {
        "annotations": [
         {
          "bgcolor": "lightyellow",
          "borderwidth": 5,
          "font": {
           "family": "Courier New, monospace",
           "size": 15
          },
          "showarrow": false,
          "text": "Sales Percentage According to Region",
          "x": 0.08,
          "xref": "paper",
          "y": 1.02,
          "yref": "paper"
         },
         {
          "bgcolor": "lightyellow",
          "borderwidth": 5,
          "font": {
           "family": "Courier New, monospace",
           "size": 15
          },
          "showarrow": false,
          "text": "Total Sales(In Millions)",
          "x": 0.9,
          "xref": "paper",
          "y": 1.02,
          "yref": "paper"
         }
        ],
        "autosize": false,
        "barmode": "stack",
        "height": 650,
        "legend": {
         "bgcolor": "beige",
         "bordercolor": "beige",
         "borderwidth": 1,
         "font": {
          "color": "#000",
          "family": "Courier New, monospace",
          "size": 11
         },
         "orientation": "h",
         "x": 0.58,
         "y": 0
        },
        "paper_bgcolor": "beige",
        "plot_bgcolor": "beige",
        "template": {
         "data": {
          "bar": [
           {
            "error_x": {
             "color": "#2a3f5f"
            },
            "error_y": {
             "color": "#2a3f5f"
            },
            "marker": {
             "line": {
              "color": "#E5ECF6",
              "width": 0.5
             },
             "pattern": {
              "fillmode": "overlay",
              "size": 10,
              "solidity": 0.2
             }
            },
            "type": "bar"
           }
          ],
          "barpolar": [
           {
            "marker": {
             "line": {
              "color": "#E5ECF6",
              "width": 0.5
             },
             "pattern": {
              "fillmode": "overlay",
              "size": 10,
              "solidity": 0.2
             }
            },
            "type": "barpolar"
           }
          ],
          "carpet": [
           {
            "aaxis": {
             "endlinecolor": "#2a3f5f",
             "gridcolor": "white",
             "linecolor": "white",
             "minorgridcolor": "white",
             "startlinecolor": "#2a3f5f"
            },
            "baxis": {
             "endlinecolor": "#2a3f5f",
             "gridcolor": "white",
             "linecolor": "white",
             "minorgridcolor": "white",
             "startlinecolor": "#2a3f5f"
            },
            "type": "carpet"
           }
          ],
          "choropleth": [
           {
            "colorbar": {
             "outlinewidth": 0,
             "ticks": ""
            },
            "type": "choropleth"
           }
          ],
          "contour": [
           {
            "colorbar": {
             "outlinewidth": 0,
             "ticks": ""
            },
            "colorscale": [
             [
              0,
              "#0d0887"
             ],
             [
              0.1111111111111111,
              "#46039f"
             ],
             [
              0.2222222222222222,
              "#7201a8"
             ],
             [
              0.3333333333333333,
              "#9c179e"
             ],
             [
              0.4444444444444444,
              "#bd3786"
             ],
             [
              0.5555555555555556,
              "#d8576b"
             ],
             [
              0.6666666666666666,
              "#ed7953"
             ],
             [
              0.7777777777777778,
              "#fb9f3a"
             ],
             [
              0.8888888888888888,
              "#fdca26"
             ],
             [
              1,
              "#f0f921"
             ]
            ],
            "type": "contour"
           }
          ],
          "contourcarpet": [
           {
            "colorbar": {
             "outlinewidth": 0,
             "ticks": ""
            },
            "type": "contourcarpet"
           }
          ],
          "heatmap": [
           {
            "colorbar": {
             "outlinewidth": 0,
             "ticks": ""
            },
            "colorscale": [
             [
              0,
              "#0d0887"
             ],
             [
              0.1111111111111111,
              "#46039f"
             ],
             [
              0.2222222222222222,
              "#7201a8"
             ],
             [
              0.3333333333333333,
              "#9c179e"
             ],
             [
              0.4444444444444444,
              "#bd3786"
             ],
             [
              0.5555555555555556,
              "#d8576b"
             ],
             [
              0.6666666666666666,
              "#ed7953"
             ],
             [
              0.7777777777777778,
              "#fb9f3a"
             ],
             [
              0.8888888888888888,
              "#fdca26"
             ],
             [
              1,
              "#f0f921"
             ]
            ],
            "type": "heatmap"
           }
          ],
          "heatmapgl": [
           {
            "colorbar": {
             "outlinewidth": 0,
             "ticks": ""
            },
            "colorscale": [
             [
              0,
              "#0d0887"
             ],
             [
              0.1111111111111111,
              "#46039f"
             ],
             [
              0.2222222222222222,
              "#7201a8"
             ],
             [
              0.3333333333333333,
              "#9c179e"
             ],
             [
              0.4444444444444444,
              "#bd3786"
             ],
             [
              0.5555555555555556,
              "#d8576b"
             ],
             [
              0.6666666666666666,
              "#ed7953"
             ],
             [
              0.7777777777777778,
              "#fb9f3a"
             ],
             [
              0.8888888888888888,
              "#fdca26"
             ],
             [
              1,
              "#f0f921"
             ]
            ],
            "type": "heatmapgl"
           }
          ],
          "histogram": [
           {
            "marker": {
             "pattern": {
              "fillmode": "overlay",
              "size": 10,
              "solidity": 0.2
             }
            },
            "type": "histogram"
           }
          ],
          "histogram2d": [
           {
            "colorbar": {
             "outlinewidth": 0,
             "ticks": ""
            },
            "colorscale": [
             [
              0,
              "#0d0887"
             ],
             [
              0.1111111111111111,
              "#46039f"
             ],
             [
              0.2222222222222222,
              "#7201a8"
             ],
             [
              0.3333333333333333,
              "#9c179e"
             ],
             [
              0.4444444444444444,
              "#bd3786"
             ],
             [
              0.5555555555555556,
              "#d8576b"
             ],
             [
              0.6666666666666666,
              "#ed7953"
             ],
             [
              0.7777777777777778,
              "#fb9f3a"
             ],
             [
              0.8888888888888888,
              "#fdca26"
             ],
             [
              1,
              "#f0f921"
             ]
            ],
            "type": "histogram2d"
           }
          ],
          "histogram2dcontour": [
           {
            "colorbar": {
             "outlinewidth": 0,
             "ticks": ""
            },
            "colorscale": [
             [
              0,
              "#0d0887"
             ],
             [
              0.1111111111111111,
              "#46039f"
             ],
             [
              0.2222222222222222,
              "#7201a8"
             ],
             [
              0.3333333333333333,
              "#9c179e"
             ],
             [
              0.4444444444444444,
              "#bd3786"
             ],
             [
              0.5555555555555556,
              "#d8576b"
             ],
             [
              0.6666666666666666,
              "#ed7953"
             ],
             [
              0.7777777777777778,
              "#fb9f3a"
             ],
             [
              0.8888888888888888,
              "#fdca26"
             ],
             [
              1,
              "#f0f921"
             ]
            ],
            "type": "histogram2dcontour"
           }
          ],
          "mesh3d": [
           {
            "colorbar": {
             "outlinewidth": 0,
             "ticks": ""
            },
            "type": "mesh3d"
           }
          ],
          "parcoords": [
           {
            "line": {
             "colorbar": {
              "outlinewidth": 0,
              "ticks": ""
             }
            },
            "type": "parcoords"
           }
          ],
          "pie": [
           {
            "automargin": true,
            "type": "pie"
           }
          ],
          "scatter": [
           {
            "marker": {
             "colorbar": {
              "outlinewidth": 0,
              "ticks": ""
             }
            },
            "type": "scatter"
           }
          ],
          "scatter3d": [
           {
            "line": {
             "colorbar": {
              "outlinewidth": 0,
              "ticks": ""
             }
            },
            "marker": {
             "colorbar": {
              "outlinewidth": 0,
              "ticks": ""
             }
            },
            "type": "scatter3d"
           }
          ],
          "scattercarpet": [
           {
            "marker": {
             "colorbar": {
              "outlinewidth": 0,
              "ticks": ""
             }
            },
            "type": "scattercarpet"
           }
          ],
          "scattergeo": [
           {
            "marker": {
             "colorbar": {
              "outlinewidth": 0,
              "ticks": ""
             }
            },
            "type": "scattergeo"
           }
          ],
          "scattergl": [
           {
            "marker": {
             "colorbar": {
              "outlinewidth": 0,
              "ticks": ""
             }
            },
            "type": "scattergl"
           }
          ],
          "scattermapbox": [
           {
            "marker": {
             "colorbar": {
              "outlinewidth": 0,
              "ticks": ""
             }
            },
            "type": "scattermapbox"
           }
          ],
          "scatterpolar": [
           {
            "marker": {
             "colorbar": {
              "outlinewidth": 0,
              "ticks": ""
             }
            },
            "type": "scatterpolar"
           }
          ],
          "scatterpolargl": [
           {
            "marker": {
             "colorbar": {
              "outlinewidth": 0,
              "ticks": ""
             }
            },
            "type": "scatterpolargl"
           }
          ],
          "scatterternary": [
           {
            "marker": {
             "colorbar": {
              "outlinewidth": 0,
              "ticks": ""
             }
            },
            "type": "scatterternary"
           }
          ],
          "surface": [
           {
            "colorbar": {
             "outlinewidth": 0,
             "ticks": ""
            },
            "colorscale": [
             [
              0,
              "#0d0887"
             ],
             [
              0.1111111111111111,
              "#46039f"
             ],
             [
              0.2222222222222222,
              "#7201a8"
             ],
             [
              0.3333333333333333,
              "#9c179e"
             ],
             [
              0.4444444444444444,
              "#bd3786"
             ],
             [
              0.5555555555555556,
              "#d8576b"
             ],
             [
              0.6666666666666666,
              "#ed7953"
             ],
             [
              0.7777777777777778,
              "#fb9f3a"
             ],
             [
              0.8888888888888888,
              "#fdca26"
             ],
             [
              1,
              "#f0f921"
             ]
            ],
            "type": "surface"
           }
          ],
          "table": [
           {
            "cells": {
             "fill": {
              "color": "#EBF0F8"
             },
             "line": {
              "color": "white"
             }
            },
            "header": {
             "fill": {
              "color": "#C8D4E3"
             },
             "line": {
              "color": "white"
             }
            },
            "type": "table"
           }
          ]
         },
         "layout": {
          "annotationdefaults": {
           "arrowcolor": "#2a3f5f",
           "arrowhead": 0,
           "arrowwidth": 1
          },
          "autotypenumbers": "strict",
          "coloraxis": {
           "colorbar": {
            "outlinewidth": 0,
            "ticks": ""
           }
          },
          "colorscale": {
           "diverging": [
            [
             0,
             "#8e0152"
            ],
            [
             0.1,
             "#c51b7d"
            ],
            [
             0.2,
             "#de77ae"
            ],
            [
             0.3,
             "#f1b6da"
            ],
            [
             0.4,
             "#fde0ef"
            ],
            [
             0.5,
             "#f7f7f7"
            ],
            [
             0.6,
             "#e6f5d0"
            ],
            [
             0.7,
             "#b8e186"
            ],
            [
             0.8,
             "#7fbc41"
            ],
            [
             0.9,
             "#4d9221"
            ],
            [
             1,
             "#276419"
            ]
           ],
           "sequential": [
            [
             0,
             "#0d0887"
            ],
            [
             0.1111111111111111,
             "#46039f"
            ],
            [
             0.2222222222222222,
             "#7201a8"
            ],
            [
             0.3333333333333333,
             "#9c179e"
            ],
            [
             0.4444444444444444,
             "#bd3786"
            ],
            [
             0.5555555555555556,
             "#d8576b"
            ],
            [
             0.6666666666666666,
             "#ed7953"
            ],
            [
             0.7777777777777778,
             "#fb9f3a"
            ],
            [
             0.8888888888888888,
             "#fdca26"
            ],
            [
             1,
             "#f0f921"
            ]
           ],
           "sequentialminus": [
            [
             0,
             "#0d0887"
            ],
            [
             0.1111111111111111,
             "#46039f"
            ],
            [
             0.2222222222222222,
             "#7201a8"
            ],
            [
             0.3333333333333333,
             "#9c179e"
            ],
            [
             0.4444444444444444,
             "#bd3786"
            ],
            [
             0.5555555555555556,
             "#d8576b"
            ],
            [
             0.6666666666666666,
             "#ed7953"
            ],
            [
             0.7777777777777778,
             "#fb9f3a"
            ],
            [
             0.8888888888888888,
             "#fdca26"
            ],
            [
             1,
             "#f0f921"
            ]
           ]
          },
          "colorway": [
           "#636efa",
           "#EF553B",
           "#00cc96",
           "#ab63fa",
           "#FFA15A",
           "#19d3f3",
           "#FF6692",
           "#B6E880",
           "#FF97FF",
           "#FECB52"
          ],
          "font": {
           "color": "#2a3f5f"
          },
          "geo": {
           "bgcolor": "white",
           "lakecolor": "white",
           "landcolor": "#E5ECF6",
           "showlakes": true,
           "showland": true,
           "subunitcolor": "white"
          },
          "hoverlabel": {
           "align": "left"
          },
          "hovermode": "closest",
          "mapbox": {
           "style": "light"
          },
          "paper_bgcolor": "white",
          "plot_bgcolor": "#E5ECF6",
          "polar": {
           "angularaxis": {
            "gridcolor": "white",
            "linecolor": "white",
            "ticks": ""
           },
           "bgcolor": "#E5ECF6",
           "radialaxis": {
            "gridcolor": "white",
            "linecolor": "white",
            "ticks": ""
           }
          },
          "scene": {
           "xaxis": {
            "backgroundcolor": "#E5ECF6",
            "gridcolor": "white",
            "gridwidth": 2,
            "linecolor": "white",
            "showbackground": true,
            "ticks": "",
            "zerolinecolor": "white"
           },
           "yaxis": {
            "backgroundcolor": "#E5ECF6",
            "gridcolor": "white",
            "gridwidth": 2,
            "linecolor": "white",
            "showbackground": true,
            "ticks": "",
            "zerolinecolor": "white"
           },
           "zaxis": {
            "backgroundcolor": "#E5ECF6",
            "gridcolor": "white",
            "gridwidth": 2,
            "linecolor": "white",
            "showbackground": true,
            "ticks": "",
            "zerolinecolor": "white"
           }
          },
          "shapedefaults": {
           "line": {
            "color": "#2a3f5f"
           }
          },
          "ternary": {
           "aaxis": {
            "gridcolor": "white",
            "linecolor": "white",
            "ticks": ""
           },
           "baxis": {
            "gridcolor": "white",
            "linecolor": "white",
            "ticks": ""
           },
           "bgcolor": "#E5ECF6",
           "caxis": {
            "gridcolor": "white",
            "linecolor": "white",
            "ticks": ""
           }
          },
          "title": {
           "x": 0.05
          },
          "xaxis": {
           "automargin": true,
           "gridcolor": "white",
           "linecolor": "white",
           "ticks": "",
           "title": {
            "standoff": 15
           },
           "zerolinecolor": "white",
           "zerolinewidth": 2
          },
          "yaxis": {
           "automargin": true,
           "gridcolor": "white",
           "linecolor": "white",
           "ticks": "",
           "title": {
            "standoff": 15
           },
           "zerolinecolor": "white",
           "zerolinewidth": 2
          }
         }
        },
        "title": {
         "font": {
          "color": "black",
          "family": "Courier New, monospace",
          "size": 17
         },
         "text": "North America, Europe, Japan and Other Sales Percentage and Amounts According to Genre"
        },
        "width": 1200,
        "xaxis2": {
         "anchor": "y2",
         "domain": [
          0,
          0.5
         ],
         "tickfont": {
          "family": "Courier New, monospace"
         },
         "title": {
          "font": {
           "family": "Courier New, monospace"
          },
          "text": "Genre"
         }
        },
        "yaxis2": {
         "anchor": "x2",
         "domain": [
          0,
          1
         ],
         "tickfont": {
          "family": "Courier New, monospace"
         },
         "title": {
          "font": {
           "family": "Courier New, monospace"
          },
          "text": "Total Percentage"
         }
        }
       }
      },
      "text/html": [
       "<div>                            <div id=\"1fc4dc4b-eea2-4a83-baf0-0a6c38ab1d39\" class=\"plotly-graph-div\" style=\"height:650px; width:1200px;\"></div>            <script type=\"text/javascript\">                require([\"plotly\"], function(Plotly) {                    window.PLOTLYENV=window.PLOTLYENV || {};                                    if (document.getElementById(\"1fc4dc4b-eea2-4a83-baf0-0a6c38ab1d39\")) {                    Plotly.newPlot(                        \"1fc4dc4b-eea2-4a83-baf0-0a6c38ab1d39\",                        [{\"marker\":{\"color\":\"rgb(158,202,225)\",\"line\":{\"color\":\"rgb(8,48,107)\",\"width\":3}},\"name\":\"North America\",\"opacity\":0.75,\"type\":\"bar\",\"x\":[\"Action\",\"Adventure\",\"Fighting\",\"Misc\",\"Platform\",\"Puzzle\",\"Racing\",\"Role-Playing\",\"Shooter\",\"Simulation\",\"Sports\"],\"xaxis\":\"x2\",\"y\":[44.14483330145981,55.098389982110916,48.755490483162525,48.646503135667224,54.81105112734198,63.5563050402848,40.70168322855404,37.43489900219029,60.4208728063364,26.940807671030797,44.607649285351116],\"yaxis\":\"y2\"},{\"marker\":{\"color\":\"red\",\"line\":{\"color\":\"rgb(8,48,107)\",\"width\":3}},\"name\":\"Europe\",\"opacity\":0.75,\"type\":\"bar\",\"x\":[\"Action\",\"Adventure\",\"Fighting\",\"Misc\",\"Platform\",\"Puzzle\",\"Racing\",\"Role-Playing\",\"Shooter\",\"Simulation\",\"Sports\"],\"xaxis\":\"x2\",\"y\":[31.994645247657296,18.246869409660107,19.32650073206442,31.737715329046594,21.760876468720227,15.120854412591342,30.291354018792678,26.595278656607434,28.063363876378318,42.89138853033376,37.630642336591166],\"yaxis\":\"y2\"},{\"marker\":{\"color\":\"orange\",\"line\":{\"color\":\"rgb(8,48,107)\",\"width\":3}},\"name\":\"Japan\",\"opacity\":0.75,\"type\":\"bar\",\"x\":[\"Action\",\"Adventure\",\"Fighting\",\"Misc\",\"Platform\",\"Puzzle\",\"Racing\",\"Role-Playing\",\"Shooter\",\"Simulation\",\"Sports\"],\"xaxis\":\"x2\",\"y\":[5.692611716708103,24.0608228980322,24.792581747193758,10.645391759942843,18.513813909177514,17.8752107925801,16.656526735618197,31.02944755414942,1.7161049852461558,21.427254287294854,7.852663691316876],\"yaxis\":\"y2\"},{\"marker\":{\"color\":\"purple\",\"line\":{\"color\":\"rgb(8,48,107)\",\"width\":3}},\"name\":\"Other\",\"opacity\":0.75,\"type\":\"bar\",\"x\":[\"Action\",\"Adventure\",\"Fighting\",\"Misc\",\"Platform\",\"Puzzle\",\"Racing\",\"Role-Playing\",\"Shooter\",\"Simulation\",\"Sports\"],\"xaxis\":\"x2\",\"y\":[18.187033849684457,2.59391771019678,7.076622742801367,8.970389775343335,4.922197523023182,3.44762975454375,12.357195971067394,4.930640058408371,9.81130610343221,8.758989489212613,9.903395288401788],\"yaxis\":\"y2\"},{\"cells\":{\"align\":[\"left\",\"center\"],\"fill\":{\"color\":[\"silver\",\"rgb(158,202,225)\",\"darksalmon\",\"gold\",\"mediumorchid\",\"yellowgreen\"]},\"font\":{\"color\":\"#506784\",\"size\":12},\"height\":30,\"line\":{\"color\":\"rgb(8,48,107)\",\"width\":3},\"values\":[[\"Action\",\"Adventure\",\"Fighting\",\"Misc\",\"Platform\",\"Puzzle\",\"Racing\",\"Role-Playing\",\"Shooter\",\"Simulation\",\"Sports\"],[69.0,6.0,10.0,61.0,138.0,34.0,60.0,77.0,156.0,15.0,79.0],[50.0,2.0,4.0,40.0,55.0,8.0,45.0,55.0,72.0,23.0,67.0],[9.0,3.0,5.0,13.0,47.0,10.0,25.0,64.0,4.0,12.0,14.0],[29.0,0.0,1.0,11.0,12.0,2.0,18.0,10.0,25.0,5.0,18.0],[157.0,11.0,20.0,126.0,252.0,53.0,148.0,205.0,258.0,54.0,177.0]]},\"domain\":{\"x\":[0.6,1],\"y\":[0,0.95]},\"header\":{\"align\":[\"left\",\"center\"],\"fill\":{\"color\":[\"darkslateblue\",\"blue\",\"red\",\"orange\",\"purple\",\"green\"]},\"font\":{\"color\":\"white\",\"size\":12},\"height\":30,\"line\":{\"color\":\"rgb(8,48,107)\",\"width\":3},\"values\":[\"Genre\",\"North America\",\"Europe\",\"Japan\",\"Other\",\"Total\"]},\"type\":\"table\"}],                        {\"annotations\":[{\"bgcolor\":\"lightyellow\",\"borderwidth\":5,\"font\":{\"family\":\"Courier New, monospace\",\"size\":15},\"showarrow\":false,\"text\":\"Sales Percentage According to Region\",\"x\":0.08,\"xref\":\"paper\",\"y\":1.02,\"yref\":\"paper\"},{\"bgcolor\":\"lightyellow\",\"borderwidth\":5,\"font\":{\"family\":\"Courier New, monospace\",\"size\":15},\"showarrow\":false,\"text\":\"Total Sales(In Millions)\",\"x\":0.9,\"xref\":\"paper\",\"y\":1.02,\"yref\":\"paper\"}],\"autosize\":false,\"barmode\":\"stack\",\"height\":650,\"legend\":{\"bgcolor\":\"beige\",\"bordercolor\":\"beige\",\"borderwidth\":1,\"font\":{\"color\":\"#000\",\"family\":\"Courier New, monospace\",\"size\":11},\"orientation\":\"h\",\"x\":0.58,\"y\":0},\"paper_bgcolor\":\"beige\",\"plot_bgcolor\":\"beige\",\"template\":{\"data\":{\"bar\":[{\"error_x\":{\"color\":\"#2a3f5f\"},\"error_y\":{\"color\":\"#2a3f5f\"},\"marker\":{\"line\":{\"color\":\"#E5ECF6\",\"width\":0.5},\"pattern\":{\"fillmode\":\"overlay\",\"size\":10,\"solidity\":0.2}},\"type\":\"bar\"}],\"barpolar\":[{\"marker\":{\"line\":{\"color\":\"#E5ECF6\",\"width\":0.5},\"pattern\":{\"fillmode\":\"overlay\",\"size\":10,\"solidity\":0.2}},\"type\":\"barpolar\"}],\"carpet\":[{\"aaxis\":{\"endlinecolor\":\"#2a3f5f\",\"gridcolor\":\"white\",\"linecolor\":\"white\",\"minorgridcolor\":\"white\",\"startlinecolor\":\"#2a3f5f\"},\"baxis\":{\"endlinecolor\":\"#2a3f5f\",\"gridcolor\":\"white\",\"linecolor\":\"white\",\"minorgridcolor\":\"white\",\"startlinecolor\":\"#2a3f5f\"},\"type\":\"carpet\"}],\"choropleth\":[{\"colorbar\":{\"outlinewidth\":0,\"ticks\":\"\"},\"type\":\"choropleth\"}],\"contour\":[{\"colorbar\":{\"outlinewidth\":0,\"ticks\":\"\"},\"colorscale\":[[0.0,\"#0d0887\"],[0.1111111111111111,\"#46039f\"],[0.2222222222222222,\"#7201a8\"],[0.3333333333333333,\"#9c179e\"],[0.4444444444444444,\"#bd3786\"],[0.5555555555555556,\"#d8576b\"],[0.6666666666666666,\"#ed7953\"],[0.7777777777777778,\"#fb9f3a\"],[0.8888888888888888,\"#fdca26\"],[1.0,\"#f0f921\"]],\"type\":\"contour\"}],\"contourcarpet\":[{\"colorbar\":{\"outlinewidth\":0,\"ticks\":\"\"},\"type\":\"contourcarpet\"}],\"heatmap\":[{\"colorbar\":{\"outlinewidth\":0,\"ticks\":\"\"},\"colorscale\":[[0.0,\"#0d0887\"],[0.1111111111111111,\"#46039f\"],[0.2222222222222222,\"#7201a8\"],[0.3333333333333333,\"#9c179e\"],[0.4444444444444444,\"#bd3786\"],[0.5555555555555556,\"#d8576b\"],[0.6666666666666666,\"#ed7953\"],[0.7777777777777778,\"#fb9f3a\"],[0.8888888888888888,\"#fdca26\"],[1.0,\"#f0f921\"]],\"type\":\"heatmap\"}],\"heatmapgl\":[{\"colorbar\":{\"outlinewidth\":0,\"ticks\":\"\"},\"colorscale\":[[0.0,\"#0d0887\"],[0.1111111111111111,\"#46039f\"],[0.2222222222222222,\"#7201a8\"],[0.3333333333333333,\"#9c179e\"],[0.4444444444444444,\"#bd3786\"],[0.5555555555555556,\"#d8576b\"],[0.6666666666666666,\"#ed7953\"],[0.7777777777777778,\"#fb9f3a\"],[0.8888888888888888,\"#fdca26\"],[1.0,\"#f0f921\"]],\"type\":\"heatmapgl\"}],\"histogram\":[{\"marker\":{\"pattern\":{\"fillmode\":\"overlay\",\"size\":10,\"solidity\":0.2}},\"type\":\"histogram\"}],\"histogram2d\":[{\"colorbar\":{\"outlinewidth\":0,\"ticks\":\"\"},\"colorscale\":[[0.0,\"#0d0887\"],[0.1111111111111111,\"#46039f\"],[0.2222222222222222,\"#7201a8\"],[0.3333333333333333,\"#9c179e\"],[0.4444444444444444,\"#bd3786\"],[0.5555555555555556,\"#d8576b\"],[0.6666666666666666,\"#ed7953\"],[0.7777777777777778,\"#fb9f3a\"],[0.8888888888888888,\"#fdca26\"],[1.0,\"#f0f921\"]],\"type\":\"histogram2d\"}],\"histogram2dcontour\":[{\"colorbar\":{\"outlinewidth\":0,\"ticks\":\"\"},\"colorscale\":[[0.0,\"#0d0887\"],[0.1111111111111111,\"#46039f\"],[0.2222222222222222,\"#7201a8\"],[0.3333333333333333,\"#9c179e\"],[0.4444444444444444,\"#bd3786\"],[0.5555555555555556,\"#d8576b\"],[0.6666666666666666,\"#ed7953\"],[0.7777777777777778,\"#fb9f3a\"],[0.8888888888888888,\"#fdca26\"],[1.0,\"#f0f921\"]],\"type\":\"histogram2dcontour\"}],\"mesh3d\":[{\"colorbar\":{\"outlinewidth\":0,\"ticks\":\"\"},\"type\":\"mesh3d\"}],\"parcoords\":[{\"line\":{\"colorbar\":{\"outlinewidth\":0,\"ticks\":\"\"}},\"type\":\"parcoords\"}],\"pie\":[{\"automargin\":true,\"type\":\"pie\"}],\"scatter\":[{\"marker\":{\"colorbar\":{\"outlinewidth\":0,\"ticks\":\"\"}},\"type\":\"scatter\"}],\"scatter3d\":[{\"line\":{\"colorbar\":{\"outlinewidth\":0,\"ticks\":\"\"}},\"marker\":{\"colorbar\":{\"outlinewidth\":0,\"ticks\":\"\"}},\"type\":\"scatter3d\"}],\"scattercarpet\":[{\"marker\":{\"colorbar\":{\"outlinewidth\":0,\"ticks\":\"\"}},\"type\":\"scattercarpet\"}],\"scattergeo\":[{\"marker\":{\"colorbar\":{\"outlinewidth\":0,\"ticks\":\"\"}},\"type\":\"scattergeo\"}],\"scattergl\":[{\"marker\":{\"colorbar\":{\"outlinewidth\":0,\"ticks\":\"\"}},\"type\":\"scattergl\"}],\"scattermapbox\":[{\"marker\":{\"colorbar\":{\"outlinewidth\":0,\"ticks\":\"\"}},\"type\":\"scattermapbox\"}],\"scatterpolar\":[{\"marker\":{\"colorbar\":{\"outlinewidth\":0,\"ticks\":\"\"}},\"type\":\"scatterpolar\"}],\"scatterpolargl\":[{\"marker\":{\"colorbar\":{\"outlinewidth\":0,\"ticks\":\"\"}},\"type\":\"scatterpolargl\"}],\"scatterternary\":[{\"marker\":{\"colorbar\":{\"outlinewidth\":0,\"ticks\":\"\"}},\"type\":\"scatterternary\"}],\"surface\":[{\"colorbar\":{\"outlinewidth\":0,\"ticks\":\"\"},\"colorscale\":[[0.0,\"#0d0887\"],[0.1111111111111111,\"#46039f\"],[0.2222222222222222,\"#7201a8\"],[0.3333333333333333,\"#9c179e\"],[0.4444444444444444,\"#bd3786\"],[0.5555555555555556,\"#d8576b\"],[0.6666666666666666,\"#ed7953\"],[0.7777777777777778,\"#fb9f3a\"],[0.8888888888888888,\"#fdca26\"],[1.0,\"#f0f921\"]],\"type\":\"surface\"}],\"table\":[{\"cells\":{\"fill\":{\"color\":\"#EBF0F8\"},\"line\":{\"color\":\"white\"}},\"header\":{\"fill\":{\"color\":\"#C8D4E3\"},\"line\":{\"color\":\"white\"}},\"type\":\"table\"}]},\"layout\":{\"annotationdefaults\":{\"arrowcolor\":\"#2a3f5f\",\"arrowhead\":0,\"arrowwidth\":1},\"autotypenumbers\":\"strict\",\"coloraxis\":{\"colorbar\":{\"outlinewidth\":0,\"ticks\":\"\"}},\"colorscale\":{\"diverging\":[[0,\"#8e0152\"],[0.1,\"#c51b7d\"],[0.2,\"#de77ae\"],[0.3,\"#f1b6da\"],[0.4,\"#fde0ef\"],[0.5,\"#f7f7f7\"],[0.6,\"#e6f5d0\"],[0.7,\"#b8e186\"],[0.8,\"#7fbc41\"],[0.9,\"#4d9221\"],[1,\"#276419\"]],\"sequential\":[[0.0,\"#0d0887\"],[0.1111111111111111,\"#46039f\"],[0.2222222222222222,\"#7201a8\"],[0.3333333333333333,\"#9c179e\"],[0.4444444444444444,\"#bd3786\"],[0.5555555555555556,\"#d8576b\"],[0.6666666666666666,\"#ed7953\"],[0.7777777777777778,\"#fb9f3a\"],[0.8888888888888888,\"#fdca26\"],[1.0,\"#f0f921\"]],\"sequentialminus\":[[0.0,\"#0d0887\"],[0.1111111111111111,\"#46039f\"],[0.2222222222222222,\"#7201a8\"],[0.3333333333333333,\"#9c179e\"],[0.4444444444444444,\"#bd3786\"],[0.5555555555555556,\"#d8576b\"],[0.6666666666666666,\"#ed7953\"],[0.7777777777777778,\"#fb9f3a\"],[0.8888888888888888,\"#fdca26\"],[1.0,\"#f0f921\"]]},\"colorway\":[\"#636efa\",\"#EF553B\",\"#00cc96\",\"#ab63fa\",\"#FFA15A\",\"#19d3f3\",\"#FF6692\",\"#B6E880\",\"#FF97FF\",\"#FECB52\"],\"font\":{\"color\":\"#2a3f5f\"},\"geo\":{\"bgcolor\":\"white\",\"lakecolor\":\"white\",\"landcolor\":\"#E5ECF6\",\"showlakes\":true,\"showland\":true,\"subunitcolor\":\"white\"},\"hoverlabel\":{\"align\":\"left\"},\"hovermode\":\"closest\",\"mapbox\":{\"style\":\"light\"},\"paper_bgcolor\":\"white\",\"plot_bgcolor\":\"#E5ECF6\",\"polar\":{\"angularaxis\":{\"gridcolor\":\"white\",\"linecolor\":\"white\",\"ticks\":\"\"},\"bgcolor\":\"#E5ECF6\",\"radialaxis\":{\"gridcolor\":\"white\",\"linecolor\":\"white\",\"ticks\":\"\"}},\"scene\":{\"xaxis\":{\"backgroundcolor\":\"#E5ECF6\",\"gridcolor\":\"white\",\"gridwidth\":2,\"linecolor\":\"white\",\"showbackground\":true,\"ticks\":\"\",\"zerolinecolor\":\"white\"},\"yaxis\":{\"backgroundcolor\":\"#E5ECF6\",\"gridcolor\":\"white\",\"gridwidth\":2,\"linecolor\":\"white\",\"showbackground\":true,\"ticks\":\"\",\"zerolinecolor\":\"white\"},\"zaxis\":{\"backgroundcolor\":\"#E5ECF6\",\"gridcolor\":\"white\",\"gridwidth\":2,\"linecolor\":\"white\",\"showbackground\":true,\"ticks\":\"\",\"zerolinecolor\":\"white\"}},\"shapedefaults\":{\"line\":{\"color\":\"#2a3f5f\"}},\"ternary\":{\"aaxis\":{\"gridcolor\":\"white\",\"linecolor\":\"white\",\"ticks\":\"\"},\"baxis\":{\"gridcolor\":\"white\",\"linecolor\":\"white\",\"ticks\":\"\"},\"bgcolor\":\"#E5ECF6\",\"caxis\":{\"gridcolor\":\"white\",\"linecolor\":\"white\",\"ticks\":\"\"}},\"title\":{\"x\":0.05},\"xaxis\":{\"automargin\":true,\"gridcolor\":\"white\",\"linecolor\":\"white\",\"ticks\":\"\",\"title\":{\"standoff\":15},\"zerolinecolor\":\"white\",\"zerolinewidth\":2},\"yaxis\":{\"automargin\":true,\"gridcolor\":\"white\",\"linecolor\":\"white\",\"ticks\":\"\",\"title\":{\"standoff\":15},\"zerolinecolor\":\"white\",\"zerolinewidth\":2}}},\"title\":{\"font\":{\"color\":\"black\",\"family\":\"Courier New, monospace\",\"size\":17},\"text\":\"North America, Europe, Japan and Other Sales Percentage and Amounts According to Genre\"},\"width\":1200,\"xaxis2\":{\"anchor\":\"y2\",\"domain\":[0,0.5],\"tickfont\":{\"family\":\"Courier New, monospace\"},\"title\":{\"font\":{\"family\":\"Courier New, monospace\"},\"text\":\"Genre\"}},\"yaxis2\":{\"anchor\":\"x2\",\"domain\":[0,1],\"tickfont\":{\"family\":\"Courier New, monospace\"},\"title\":{\"font\":{\"family\":\"Courier New, monospace\"},\"text\":\"Total Percentage\"}}},                        {\"responsive\": true}                    ).then(function(){\n",
       "                            \n",
       "var gd = document.getElementById('1fc4dc4b-eea2-4a83-baf0-0a6c38ab1d39');\n",
       "var x = new MutationObserver(function (mutations, observer) {{\n",
       "        var display = window.getComputedStyle(gd).display;\n",
       "        if (!display || display === 'none') {{\n",
       "            console.log([gd, 'removed!']);\n",
       "            Plotly.purge(gd);\n",
       "            observer.disconnect();\n",
       "        }}\n",
       "}});\n",
       "\n",
       "// Listen for the removal of the full notebook cells\n",
       "var notebookContainer = gd.closest('#notebook-container');\n",
       "if (notebookContainer) {{\n",
       "    x.observe(notebookContainer, {childList: true});\n",
       "}}\n",
       "\n",
       "// Listen for the clearing of the current output cell\n",
       "var outputEl = gd.closest('.output');\n",
       "if (outputEl) {{\n",
       "    x.observe(outputEl, {childList: true});\n",
       "}}\n",
       "\n",
       "                        })                };                });            </script>        </div>"
      ]
     },
     "metadata": {},
     "output_type": "display_data"
    }
   ],
   "source": [
    "x=genre.Genre\n",
    "NA_Perce=list(genre[\"NA_Sales\"]/genre[\"Global_Sales\"]*100)\n",
    "EU_Perce=list(genre[\"EU_Sales\"]/genre[\"Global_Sales\"]*100)\n",
    "JP_Perce=list(genre[\"JP_Sales\"]/genre[\"Global_Sales\"]*100)\n",
    "Other_Perce=list(genre[\"Other_Sales\"]/genre[\"Global_Sales\"]*100)\n",
    "\n",
    "trace1 = go.Bar(\n",
    "    x=x,\n",
    "    y=NA_Perce,\n",
    "    name=\"North America\" ,\n",
    "    xaxis='x2', yaxis='y2',\n",
    "    marker=dict(\n",
    "        color='rgb(158,202,225)',\n",
    "        line=dict(\n",
    "            color='rgb(8,48,107)',\n",
    "            width=3),\n",
    "        ),\n",
    "    opacity=0.75)\n",
    "trace2 = go.Bar(\n",
    "    x=x,\n",
    "    y=EU_Perce,\n",
    "    xaxis='x2', yaxis='y2',\n",
    "    marker=dict(\n",
    "        color='red',\n",
    "        line=dict(\n",
    "            color='rgb(8,48,107)',\n",
    "            width=3),\n",
    "        ),\n",
    "    opacity=0.75,\n",
    "    name = \"Europe\",\n",
    "    )\n",
    "trace3 = go.Bar(\n",
    "    x=x,\n",
    "    y=JP_Perce,\n",
    "    xaxis='x2', yaxis='y2',\n",
    "  \n",
    "    marker=dict(\n",
    "        color='orange',\n",
    "        line=dict(\n",
    "            color='rgb(8,48,107)',\n",
    "            width=3),\n",
    "        ),\n",
    "    opacity=0.75,\n",
    "    name = \"Japan\",\n",
    "    )\n",
    "trace4 = go.Bar(\n",
    "    x=x,\n",
    "    y=Other_Perce,\n",
    "    xaxis='x2', yaxis='y2',\n",
    "    \n",
    "    marker=dict(\n",
    "        color='purple',\n",
    "        line=dict(\n",
    "            color='rgb(8,48,107)',\n",
    "            width=3),\n",
    "        ),\n",
    "    opacity=0.75,\n",
    "    name = \"Other\",)\n",
    "trace5=go.Table(\n",
    "  header = dict(\n",
    "    values = table_data.columns,\n",
    "    line = dict(color = 'rgb(8,48,107)',width=3),\n",
    "    fill = dict(color = [\"darkslateblue\",\"blue\",\"red\", \"orange\",\"purple\",\"green\"]),\n",
    "    align = ['left','center'],\n",
    "    font = dict(color = 'white', size = 12),\n",
    "     height=30,\n",
    "  ),\n",
    "  cells = dict(\n",
    "    values = [table_data.Genre,round(table_data[\"North America\"]),round(table_data[\"Europe\"]), round(table_data[\"Japan\"]), round(table_data[\"Other\"]),round(table_data[\"Total\"])],\n",
    "    height=30,\n",
    "    line = dict(color = 'rgb(8,48,107)',width=3),\n",
    "    fill = dict(color = [\"silver\",\"rgb(158,202,225)\",\"darksalmon\", \"gold\",\"mediumorchid\",\"yellowgreen\"]),\n",
    "    align = ['left', 'center'],\n",
    "    font = dict(color = '#506784', size = 12)),\n",
    "    domain=dict(x=[0.60,1],y=[0,0.95]),\n",
    ")\n",
    "\n",
    "data = [trace1, trace2,trace3,trace4,trace5]\n",
    "layout = go.Layout(barmode='stack',autosize=False,width=1200,height=650,\n",
    "                legend=dict(x=.58, y=0,orientation=\"h\",font=dict(family='Courier New, monospace',size=11,color='#000'),\n",
    "                           bgcolor='beige', bordercolor='beige', borderwidth=1),\n",
    "                title='North America, Europe, Japan and Other Sales Percentage and Amounts According to Genre',\n",
    "                titlefont=dict(family='Courier New, monospace',size=17,color='black'),\n",
    "                xaxis2=dict(domain=[0, 0.50],anchor=\"y2\", title='Genre',titlefont=dict(family='Courier New, monospace'),tickfont=dict(family='Courier New, monospace')), yaxis2=dict( domain=[0, 1],anchor='x2',title=\"Total Percentage\",titlefont=dict(family='Courier New, monospace'),tickfont=dict(family='Courier New, monospace')),\n",
    "                paper_bgcolor='beige',plot_bgcolor='beige',\n",
    "                annotations=[ dict( text='Sales Percentage According to Region',x=0.08,y=1.02,xref=\"paper\",yref=\"paper\",showarrow=False,font=dict(size=15,family=\"Courier New, monospace\"),bgcolor=\"lightyellow\",borderwidth=5),dict( text='Total Sales(In Millions)',x=0.9,y=1.02,xref=\"paper\",yref=\"paper\",showarrow=False,font=dict(size=15,family='Courier New, monospace'),bgcolor=\"lightyellow\",borderwidth=5)],\n",
    "              \n",
    "                  )\n",
    "fig = go.Figure(data=data, layout=layout)\n",
    "iplot(fig)"
   ]
  },
  {
   "cell_type": "code",
   "execution_count": 42,
   "metadata": {},
   "outputs": [],
   "source": [
    "df1000=df.iloc[:1000,:]\n",
    "df1000[\"normsales\"] = (df1000[\"Global_Sales\"] - np.min(df1000[\"Global_Sales\"]))/(np.max(df1000[\"Global_Sales\"])-np.min(df1000[\"Global_Sales\"]))"
   ]
  },
  {
   "cell_type": "code",
   "execution_count": 43,
   "metadata": {},
   "outputs": [
    {
     "data": {
      "application/vnd.plotly.v1+json": {
       "config": {
        "linkText": "Export to plot.ly",
        "plotlyServerURL": "https://plot.ly",
        "showLink": false
       },
       "data": [
        {
         "marker": {
          "color": [
           1,
           0.4363395225464192,
           0.37771883289124675,
           0.34031830238726796,
           0.31870026525198947,
           0.30397877984084887,
           0.3006631299734749,
           0.2875331564986738,
           0.2822281167108754,
           0.2781167108753316,
           0.23103448275862074,
           0.21326259946949608,
           0.20901856763925733,
           0.2039787798408488,
           0.1944297082228117,
           0.19204244031830242,
           0.18647214854111407,
           0.17864721485411142,
           0.17599469496021222,
           0.17082228116710876,
           0.14615384615384616,
           0.14323607427055707,
           0.13183023872679048,
           0.11989389920424404,
           0.11684350132625994,
           0.11286472148541116,
           0.10583554376657826,
           0.10557029177718835,
           0.10132625994694962,
           0.09840848806366048,
           0.09681697612732097,
           0.09681697612732097,
           0.09297082228116711,
           0.09151193633952256,
           0.08872679045092839,
           0.0847480106100796,
           0.08183023872679046,
           0.08116710875331568,
           0.07639257294429709,
           0.07559681697612732,
           0.07148541114058357,
           0.06538461538461539,
           0.06458885941644564,
           0.06366047745358092,
           0.061538461538461556,
           0.06047745358090187,
           0.06034482758620691,
           0.05729442970822282,
           0.05543766578249337,
           0.05291777188328913,
           0.05092838196286473,
           0.04880636604774536,
           0.047877984084880636,
           0.04575596816976127,
           0.04549071618037136,
           0.04442970822281167,
           0.04283819628647216,
           0.04257294429708224,
           0.041777188328912473,
           0.04084880636604775,
           0.03872679045092838,
           0.0380636604774536,
           0.03368700265251991,
           0.03355437665782493,
           0.032891246684350145,
           0.032095490716180376,
           0.03156498673740055,
           0.02984084880636605,
           0.028912466843501326,
           0.028514588859416455,
           0.026259946949602132,
           0.025994694960212218,
           0.024668435013262595,
           0.02320954907161804,
           0.022281167108753313,
           0.019893899204244034,
           0.01883289124668435,
           0.015251989389920432,
           0.015251989389920432,
           0.015251989389920432,
           0.014323607427055705,
           0.013129973474801066,
           0.011936339522546425,
           0.010212201591511932,
           0.009946949602122017,
           0.009549071618037145,
           0.009416445623342188,
           0.006896551724137938,
           0.006631299734748012,
           0.006233421750663127,
           0.005039787798408487,
           0.004641909814323615,
           0.004376657824933688,
           0.003448275862068963,
           0.003448275862068963,
           0.0031830238726790485,
           0.0015915119363395242,
           0.0014588859416445668,
           0.000397877984084884,
           0
          ],
          "colorbar": {
           "title": {
            "text": "Global Sales"
           }
          },
          "colorscale": [
           [
            0,
            "rgb(150,0,90)"
           ],
           [
            0.125,
            "rgb(0,0,200)"
           ],
           [
            0.25,
            "rgb(0,25,255)"
           ],
           [
            0.375,
            "rgb(0,152,255)"
           ],
           [
            0.5,
            "rgb(44,255,150)"
           ],
           [
            0.625,
            "rgb(151,255,0)"
           ],
           [
            0.75,
            "rgb(255,234,0)"
           ],
           [
            0.875,
            "rgb(255,111,0)"
           ],
           [
            1,
            "rgb(255,0,0)"
           ]
          ],
          "line": {
           "color": "rgb(140, 140, 170)"
          },
          "size": [
           41.49,
           29.08,
           15.85,
           15.75,
           11.27,
           23.2,
           11.38,
           14.03,
           14.59,
           26.93,
           9.07,
           9.81,
           9,
           8.94,
           9.09,
           14.97,
           7.01,
           9.43,
           12.78,
           4.75,
           6.42,
           10.83,
           9.54,
           9.63,
           8.41,
           6.06,
           5.57,
           3.44,
           6.85,
           9.03,
           5.89,
           9.67,
           5.17,
           5.77,
           4.99,
           8.25,
           8.52,
           5.54,
           6.99,
           6.75,
           5.98,
           2.55,
           4.74,
           7.97,
           3.8,
           4.4,
           6.91,
           3.01,
           6.16,
           4.23,
           6.16,
           6.76,
           4.02,
           4.89,
           2.96,
           4.99,
           4.76,
           5.99,
           4.34,
           5.08,
           6.05,
           6.72,
           7.03,
           5.55,
           3.66,
           6.63,
           3.01,
           4.09,
           5.84,
           3.88,
           5.91,
           4.36,
           5.58,
           2.01,
           4.46,
           5.03,
           3.54,
           1.11,
           1.79,
           6.82,
           3.81,
           2.91,
           1.06,
           0.98,
           5.8,
           2.58,
           2.91,
           2.28,
           2.82,
           7.28,
           2.9,
           3.66,
           2.93,
           2.8,
           4.1,
           3.78,
           5.39,
           3.24,
           4.79,
           4.46
          ]
         },
         "mode": "markers",
         "text": [
          "Name:Wii Sports, Rank:1 Global Sales: 82.74 millions",
          "Name:Super Mario Bros., Rank:2 Global Sales: 40.24 millions",
          "Name:Mario Kart Wii, Rank:3 Global Sales: 35.82 millions",
          "Name:Wii Sports Resort, Rank:4 Global Sales: 33.0 millions",
          "Name:Pokemon Red/Pokemon Blue, Rank:5 Global Sales: 31.37 millions",
          "Name:Tetris, Rank:6 Global Sales: 30.26 millions",
          "Name:New Super Mario Bros., Rank:7 Global Sales: 30.01 millions",
          "Name:Wii Play, Rank:8 Global Sales: 29.02 millions",
          "Name:New Super Mario Bros. Wii, Rank:9 Global Sales: 28.62 millions",
          "Name:Duck Hunt, Rank:10 Global Sales: 28.31 millions",
          "Name:Nintendogs, Rank:11 Global Sales: 24.76 millions",
          "Name:Mario Kart DS, Rank:12 Global Sales: 23.42 millions",
          "Name:Pokemon Gold/Pokemon Silver, Rank:13 Global Sales: 23.1 millions",
          "Name:Wii Fit, Rank:14 Global Sales: 22.72 millions",
          "Name:Wii Fit Plus, Rank:15 Global Sales: 22.0 millions",
          "Name:Kinect Adventures!, Rank:16 Global Sales: 21.82 millions",
          "Name:Grand Theft Auto V, Rank:17 Global Sales: 21.4 millions",
          "Name:Grand Theft Auto: San Andreas, Rank:18 Global Sales: 20.81 millions",
          "Name:Super Mario World, Rank:19 Global Sales: 20.61 millions",
          "Name:Brain Age: Train Your Brain in Minutes a Day, Rank:20 Global Sales: 20.22 millions",
          "Name:Pokemon Diamond/Pokemon Pearl, Rank:21 Global Sales: 18.36 millions",
          "Name:Super Mario Land, Rank:22 Global Sales: 18.14 millions",
          "Name:Super Mario Bros. 3, Rank:23 Global Sales: 17.28 millions",
          "Name:Grand Theft Auto V, Rank:24 Global Sales: 16.38 millions",
          "Name:Grand Theft Auto: Vice City, Rank:25 Global Sales: 16.15 millions",
          "Name:Pokemon Ruby/Pokemon Sapphire, Rank:26 Global Sales: 15.85 millions",
          "Name:Pokemon Black/Pokemon White, Rank:27 Global Sales: 15.32 millions",
          "Name:Brain Age 2: More Training in Minutes a Day, Rank:28 Global Sales: 15.3 millions",
          "Name:Gran Turismo 3: A-Spec, Rank:29 Global Sales: 14.98 millions",
          "Name:Call of Duty: Modern Warfare 3, Rank:30 Global Sales: 14.76 millions",
          "Name:Pokémon Yellow: Special Pikachu Edition, Rank:31 Global Sales: 14.64 millions",
          "Name:Call of Duty: Black Ops, Rank:32 Global Sales: 14.64 millions",
          "Name:Pokemon X/Pokemon Y, Rank:33 Global Sales: 14.35 millions",
          "Name:Call of Duty: Black Ops 3, Rank:34 Global Sales: 14.24 millions",
          "Name:Call of Duty: Black Ops II, Rank:35 Global Sales: 14.03 millions",
          "Name:Call of Duty: Black Ops II, Rank:36 Global Sales: 13.73 millions",
          "Name:Call of Duty: Modern Warfare 2, Rank:37 Global Sales: 13.51 millions",
          "Name:Call of Duty: Modern Warfare 3, Rank:38 Global Sales: 13.46 millions",
          "Name:Grand Theft Auto III, Rank:39 Global Sales: 13.1 millions",
          "Name:Super Smash Bros. Brawl, Rank:40 Global Sales: 13.04 millions",
          "Name:Call of Duty: Black Ops, Rank:41 Global Sales: 12.73 millions",
          "Name:Animal Crossing: Wild World, Rank:42 Global Sales: 12.27 millions",
          "Name:Mario Kart 7, Rank:43 Global Sales: 12.21 millions",
          "Name:Halo 3, Rank:44 Global Sales: 12.14 millions",
          "Name:Grand Theft Auto V, Rank:45 Global Sales: 11.98 millions",
          "Name:Pokemon HeartGold/Pokemon SoulSilver, Rank:46 Global Sales: 11.9 millions",
          "Name:Super Mario 64, Rank:47 Global Sales: 11.89 millions",
          "Name:Gran Turismo 4, Rank:48 Global Sales: 11.66 millions",
          "Name:Super Mario Galaxy, Rank:49 Global Sales: 11.52 millions",
          "Name:Pokemon Omega Ruby/Pokemon Alpha Sapphire, Rank:50 Global Sales: 11.33 millions",
          "Name:Super Mario Land 2: 6 Golden Coins, Rank:51 Global Sales: 11.18 millions",
          "Name:Grand Theft Auto IV, Rank:52 Global Sales: 11.02 millions",
          "Name:Gran Turismo, Rank:53 Global Sales: 10.95 millions",
          "Name:Super Mario 3D Land, Rank:54 Global Sales: 10.79 millions",
          "Name:Gran Turismo 5, Rank:55 Global Sales: 10.77 millions",
          "Name:Call of Duty: Modern Warfare 2, Rank:56 Global Sales: 10.69 millions",
          "Name:Grand Theft Auto IV, Rank:57 Global Sales: 10.57 millions",
          "Name:Super Mario All-Stars, Rank:58 Global Sales: 10.55 millions",
          "Name:Pokemon FireRed/Pokemon LeafGreen, Rank:59 Global Sales: 10.49 millions",
          "Name:Super Mario 64, Rank:60 Global Sales: 10.42 millions",
          "Name:Just Dance 3, Rank:61 Global Sales: 10.26 millions",
          "Name:Call of Duty: Ghosts, Rank:62 Global Sales: 10.21 millions",
          "Name:Halo: Reach, Rank:63 Global Sales: 9.88 millions",
          "Name:Mario Kart 64, Rank:64 Global Sales: 9.87 millions",
          "Name:New Super Mario Bros. 2, Rank:65 Global Sales: 9.82 millions",
          "Name:Halo 4, Rank:66 Global Sales: 9.76 millions",
          "Name:Final Fantasy VII, Rank:67 Global Sales: 9.72 millions",
          "Name:Call of Duty: Ghosts, Rank:68 Global Sales: 9.59 millions",
          "Name:Just Dance 2, Rank:69 Global Sales: 9.52 millions",
          "Name:Gran Turismo 2, Rank:70 Global Sales: 9.49 millions",
          "Name:Call of Duty 4: Modern Warfare, Rank:71 Global Sales: 9.32 millions",
          "Name:Donkey Kong Country, Rank:72 Global Sales: 9.3 millions",
          "Name:Minecraft, Rank:73 Global Sales: 9.2 millions",
          "Name:Animal Crossing: New Leaf, Rank:74 Global Sales: 9.09 millions",
          "Name:Mario Party DS, Rank:75 Global Sales: 9.02 millions",
          "Name:The Elder Scrolls V: Skyrim, Rank:76 Global Sales: 8.84 millions",
          "Name:Super Mario Kart, Rank:77 Global Sales: 8.76 millions",
          "Name:FIFA 16, Rank:78 Global Sales: 8.49 millions",
          "Name:Wii Party, Rank:79 Global Sales: 8.49 millions",
          "Name:Halo 2, Rank:80 Global Sales: 8.49 millions",
          "Name:Mario Party 8, Rank:81 Global Sales: 8.42 millions",
          "Name:Pokemon Black 2/Pokemon White 2, Rank:82 Global Sales: 8.33 millions",
          "Name:FIFA Soccer 13, Rank:83 Global Sales: 8.24 millions",
          "Name:The Sims 3, Rank:84 Global Sales: 8.11 millions",
          "Name:GoldenEye 007, Rank:85 Global Sales: 8.09 millions",
          "Name:Mario & Sonic at the Olympic Games, Rank:86 Global Sales: 8.06 millions",
          "Name:Final Fantasy X, Rank:87 Global Sales: 8.05 millions",
          "Name:Final Fantasy VIII, Rank:88 Global Sales: 7.86 millions",
          "Name:Pokémon Platinum Version, Rank:89 Global Sales: 7.84 millions",
          "Name:Pac-Man, Rank:90 Global Sales: 7.81 millions",
          "Name:Grand Theft Auto: Liberty City Stories, Rank:91 Global Sales: 7.72 millions",
          "Name:Super Mario Galaxy 2, Rank:92 Global Sales: 7.69 millions",
          "Name:Star Wars Battlefront (2015), Rank:93 Global Sales: 7.67 millions",
          "Name:Call of Duty: Advanced Warfare, Rank:94 Global Sales: 7.6 millions",
          "Name:The Legend of Zelda: Ocarina of Time, Rank:95 Global Sales: 7.6 millions",
          "Name:Crash Bandicoot 2: Cortex Strikes Back, Rank:96 Global Sales: 7.58 millions",
          "Name:Super Mario Bros. 2, Rank:97 Global Sales: 7.46 millions",
          "Name:Super Smash Bros. for Wii U and 3DS, Rank:98 Global Sales: 7.45 millions",
          "Name:Call of Duty: World at War, Rank:99 Global Sales: 7.37 millions",
          "Name:Battlefield 3, Rank:100 Global Sales: 7.34 millions"
         ],
         "type": "scatter3d",
         "x": [
          2006,
          1985,
          2008,
          2009,
          1996,
          1989,
          2006,
          2006,
          2009,
          1984,
          2005,
          2005,
          1999,
          2007,
          2009,
          2010,
          2013,
          2004,
          1990,
          2005,
          2006,
          1989,
          1988,
          2013,
          2002,
          2002,
          2010,
          2005,
          2001,
          2011,
          1998,
          2010,
          2013,
          2015,
          2012,
          2012,
          2009,
          2011,
          2001,
          2008,
          2010,
          2005,
          2011,
          2007,
          2014,
          2009,
          1996,
          2004,
          2007,
          2014,
          1992,
          2008,
          1997,
          2011,
          2010,
          2009,
          2008,
          1993,
          2004,
          2004,
          2011,
          2013,
          2010,
          1996,
          2012,
          2012,
          1997,
          2013,
          2010,
          1999,
          2007,
          1994,
          2013,
          2012,
          2007,
          2011,
          1992,
          2015,
          2010,
          2004,
          2007,
          2012,
          2012,
          2009,
          1997,
          2007,
          2001,
          1999,
          2008,
          1982,
          2005,
          2010,
          2015,
          2014,
          1998,
          1997,
          1988,
          2014,
          2008,
          2011
         ],
         "y": [
          "Nintendo",
          "Nintendo",
          "Nintendo",
          "Nintendo",
          "Nintendo",
          "Nintendo",
          "Nintendo",
          "Nintendo",
          "Nintendo",
          "Nintendo",
          "Nintendo",
          "Nintendo",
          "Nintendo",
          "Nintendo",
          "Nintendo",
          "Microsoft Game Studios",
          "Take-Two Interactive",
          "Take-Two Interactive",
          "Nintendo",
          "Nintendo",
          "Nintendo",
          "Nintendo",
          "Nintendo",
          "Take-Two Interactive",
          "Take-Two Interactive",
          "Nintendo",
          "Nintendo",
          "Nintendo",
          "Sony Computer Entertainment",
          "Activision",
          "Nintendo",
          "Activision",
          "Nintendo",
          "Activision",
          "Activision",
          "Activision",
          "Activision",
          "Activision",
          "Take-Two Interactive",
          "Nintendo",
          "Activision",
          "Nintendo",
          "Nintendo",
          "Microsoft Game Studios",
          "Take-Two Interactive",
          "Nintendo",
          "Nintendo",
          "Sony Computer Entertainment",
          "Nintendo",
          "Nintendo",
          "Nintendo",
          "Take-Two Interactive",
          "Sony Computer Entertainment",
          "Nintendo",
          "Sony Computer Entertainment",
          "Activision",
          "Take-Two Interactive",
          "Nintendo",
          "Nintendo",
          "Nintendo",
          "Ubisoft",
          "Activision",
          "Microsoft Game Studios",
          "Nintendo",
          "Nintendo",
          "Microsoft Game Studios",
          "Sony Computer Entertainment",
          "Activision",
          "Ubisoft",
          "Sony Computer Entertainment",
          "Activision",
          "Nintendo",
          "Microsoft Game Studios",
          "Nintendo",
          "Nintendo",
          "Bethesda Softworks",
          "Nintendo",
          "Electronic Arts",
          "Nintendo",
          "Microsoft Game Studios",
          "Nintendo",
          "Nintendo",
          "Electronic Arts",
          "Electronic Arts",
          "Nintendo",
          "Sega",
          "Sony Computer Entertainment",
          "SquareSoft",
          "Nintendo",
          "Atari",
          "Take-Two Interactive",
          "Nintendo",
          "Electronic Arts",
          "Activision",
          "Nintendo",
          "Sony Computer Entertainment",
          "Nintendo",
          "Nintendo",
          "Activision",
          "Electronic Arts"
         ],
         "z": [
          1,
          0.4363395225464192,
          0.37771883289124675,
          0.34031830238726796,
          0.31870026525198947,
          0.30397877984084887,
          0.3006631299734749,
          0.2875331564986738,
          0.2822281167108754,
          0.2781167108753316,
          0.23103448275862074,
          0.21326259946949608,
          0.20901856763925733,
          0.2039787798408488,
          0.1944297082228117,
          0.19204244031830242,
          0.18647214854111407,
          0.17864721485411142,
          0.17599469496021222,
          0.17082228116710876,
          0.14615384615384616,
          0.14323607427055707,
          0.13183023872679048,
          0.11989389920424404,
          0.11684350132625994,
          0.11286472148541116,
          0.10583554376657826,
          0.10557029177718835,
          0.10132625994694962,
          0.09840848806366048,
          0.09681697612732097,
          0.09681697612732097,
          0.09297082228116711,
          0.09151193633952256,
          0.08872679045092839,
          0.0847480106100796,
          0.08183023872679046,
          0.08116710875331568,
          0.07639257294429709,
          0.07559681697612732,
          0.07148541114058357,
          0.06538461538461539,
          0.06458885941644564,
          0.06366047745358092,
          0.061538461538461556,
          0.06047745358090187,
          0.06034482758620691,
          0.05729442970822282,
          0.05543766578249337,
          0.05291777188328913,
          0.05092838196286473,
          0.04880636604774536,
          0.047877984084880636,
          0.04575596816976127,
          0.04549071618037136,
          0.04442970822281167,
          0.04283819628647216,
          0.04257294429708224,
          0.041777188328912473,
          0.04084880636604775,
          0.03872679045092838,
          0.0380636604774536,
          0.03368700265251991,
          0.03355437665782493,
          0.032891246684350145,
          0.032095490716180376,
          0.03156498673740055,
          0.02984084880636605,
          0.028912466843501326,
          0.028514588859416455,
          0.026259946949602132,
          0.025994694960212218,
          0.024668435013262595,
          0.02320954907161804,
          0.022281167108753313,
          0.019893899204244034,
          0.01883289124668435,
          0.015251989389920432,
          0.015251989389920432,
          0.015251989389920432,
          0.014323607427055705,
          0.013129973474801066,
          0.011936339522546425,
          0.010212201591511932,
          0.009946949602122017,
          0.009549071618037145,
          0.009416445623342188,
          0.006896551724137938,
          0.006631299734748012,
          0.006233421750663127,
          0.005039787798408487,
          0.004641909814323615,
          0.004376657824933688,
          0.003448275862068963,
          0.003448275862068963,
          0.0031830238726790485,
          0.0015915119363395242,
          0.0014588859416445668,
          0.000397877984084884,
          0
         ]
        }
       ],
       "layout": {
        "height": 800,
        "scene": {
         "bgcolor": "whitesmoke",
         "xaxis": {
          "title": {
           "font": {
            "color": "rgb(20, 24, 54)"
           },
           "text": "Year"
          }
         },
         "yaxis": {
          "title": {
           "font": {
            "color": "rgb(20, 24, 54)"
           },
           "text": "Publisher"
          }
         },
         "zaxis": {
          "title": {
           "font": {
            "color": "rgb(20, 24, 54)"
           },
           "text": "Global Sales"
          }
         }
        },
        "template": {
         "data": {
          "bar": [
           {
            "error_x": {
             "color": "#2a3f5f"
            },
            "error_y": {
             "color": "#2a3f5f"
            },
            "marker": {
             "line": {
              "color": "#E5ECF6",
              "width": 0.5
             },
             "pattern": {
              "fillmode": "overlay",
              "size": 10,
              "solidity": 0.2
             }
            },
            "type": "bar"
           }
          ],
          "barpolar": [
           {
            "marker": {
             "line": {
              "color": "#E5ECF6",
              "width": 0.5
             },
             "pattern": {
              "fillmode": "overlay",
              "size": 10,
              "solidity": 0.2
             }
            },
            "type": "barpolar"
           }
          ],
          "carpet": [
           {
            "aaxis": {
             "endlinecolor": "#2a3f5f",
             "gridcolor": "white",
             "linecolor": "white",
             "minorgridcolor": "white",
             "startlinecolor": "#2a3f5f"
            },
            "baxis": {
             "endlinecolor": "#2a3f5f",
             "gridcolor": "white",
             "linecolor": "white",
             "minorgridcolor": "white",
             "startlinecolor": "#2a3f5f"
            },
            "type": "carpet"
           }
          ],
          "choropleth": [
           {
            "colorbar": {
             "outlinewidth": 0,
             "ticks": ""
            },
            "type": "choropleth"
           }
          ],
          "contour": [
           {
            "colorbar": {
             "outlinewidth": 0,
             "ticks": ""
            },
            "colorscale": [
             [
              0,
              "#0d0887"
             ],
             [
              0.1111111111111111,
              "#46039f"
             ],
             [
              0.2222222222222222,
              "#7201a8"
             ],
             [
              0.3333333333333333,
              "#9c179e"
             ],
             [
              0.4444444444444444,
              "#bd3786"
             ],
             [
              0.5555555555555556,
              "#d8576b"
             ],
             [
              0.6666666666666666,
              "#ed7953"
             ],
             [
              0.7777777777777778,
              "#fb9f3a"
             ],
             [
              0.8888888888888888,
              "#fdca26"
             ],
             [
              1,
              "#f0f921"
             ]
            ],
            "type": "contour"
           }
          ],
          "contourcarpet": [
           {
            "colorbar": {
             "outlinewidth": 0,
             "ticks": ""
            },
            "type": "contourcarpet"
           }
          ],
          "heatmap": [
           {
            "colorbar": {
             "outlinewidth": 0,
             "ticks": ""
            },
            "colorscale": [
             [
              0,
              "#0d0887"
             ],
             [
              0.1111111111111111,
              "#46039f"
             ],
             [
              0.2222222222222222,
              "#7201a8"
             ],
             [
              0.3333333333333333,
              "#9c179e"
             ],
             [
              0.4444444444444444,
              "#bd3786"
             ],
             [
              0.5555555555555556,
              "#d8576b"
             ],
             [
              0.6666666666666666,
              "#ed7953"
             ],
             [
              0.7777777777777778,
              "#fb9f3a"
             ],
             [
              0.8888888888888888,
              "#fdca26"
             ],
             [
              1,
              "#f0f921"
             ]
            ],
            "type": "heatmap"
           }
          ],
          "heatmapgl": [
           {
            "colorbar": {
             "outlinewidth": 0,
             "ticks": ""
            },
            "colorscale": [
             [
              0,
              "#0d0887"
             ],
             [
              0.1111111111111111,
              "#46039f"
             ],
             [
              0.2222222222222222,
              "#7201a8"
             ],
             [
              0.3333333333333333,
              "#9c179e"
             ],
             [
              0.4444444444444444,
              "#bd3786"
             ],
             [
              0.5555555555555556,
              "#d8576b"
             ],
             [
              0.6666666666666666,
              "#ed7953"
             ],
             [
              0.7777777777777778,
              "#fb9f3a"
             ],
             [
              0.8888888888888888,
              "#fdca26"
             ],
             [
              1,
              "#f0f921"
             ]
            ],
            "type": "heatmapgl"
           }
          ],
          "histogram": [
           {
            "marker": {
             "pattern": {
              "fillmode": "overlay",
              "size": 10,
              "solidity": 0.2
             }
            },
            "type": "histogram"
           }
          ],
          "histogram2d": [
           {
            "colorbar": {
             "outlinewidth": 0,
             "ticks": ""
            },
            "colorscale": [
             [
              0,
              "#0d0887"
             ],
             [
              0.1111111111111111,
              "#46039f"
             ],
             [
              0.2222222222222222,
              "#7201a8"
             ],
             [
              0.3333333333333333,
              "#9c179e"
             ],
             [
              0.4444444444444444,
              "#bd3786"
             ],
             [
              0.5555555555555556,
              "#d8576b"
             ],
             [
              0.6666666666666666,
              "#ed7953"
             ],
             [
              0.7777777777777778,
              "#fb9f3a"
             ],
             [
              0.8888888888888888,
              "#fdca26"
             ],
             [
              1,
              "#f0f921"
             ]
            ],
            "type": "histogram2d"
           }
          ],
          "histogram2dcontour": [
           {
            "colorbar": {
             "outlinewidth": 0,
             "ticks": ""
            },
            "colorscale": [
             [
              0,
              "#0d0887"
             ],
             [
              0.1111111111111111,
              "#46039f"
             ],
             [
              0.2222222222222222,
              "#7201a8"
             ],
             [
              0.3333333333333333,
              "#9c179e"
             ],
             [
              0.4444444444444444,
              "#bd3786"
             ],
             [
              0.5555555555555556,
              "#d8576b"
             ],
             [
              0.6666666666666666,
              "#ed7953"
             ],
             [
              0.7777777777777778,
              "#fb9f3a"
             ],
             [
              0.8888888888888888,
              "#fdca26"
             ],
             [
              1,
              "#f0f921"
             ]
            ],
            "type": "histogram2dcontour"
           }
          ],
          "mesh3d": [
           {
            "colorbar": {
             "outlinewidth": 0,
             "ticks": ""
            },
            "type": "mesh3d"
           }
          ],
          "parcoords": [
           {
            "line": {
             "colorbar": {
              "outlinewidth": 0,
              "ticks": ""
             }
            },
            "type": "parcoords"
           }
          ],
          "pie": [
           {
            "automargin": true,
            "type": "pie"
           }
          ],
          "scatter": [
           {
            "marker": {
             "colorbar": {
              "outlinewidth": 0,
              "ticks": ""
             }
            },
            "type": "scatter"
           }
          ],
          "scatter3d": [
           {
            "line": {
             "colorbar": {
              "outlinewidth": 0,
              "ticks": ""
             }
            },
            "marker": {
             "colorbar": {
              "outlinewidth": 0,
              "ticks": ""
             }
            },
            "type": "scatter3d"
           }
          ],
          "scattercarpet": [
           {
            "marker": {
             "colorbar": {
              "outlinewidth": 0,
              "ticks": ""
             }
            },
            "type": "scattercarpet"
           }
          ],
          "scattergeo": [
           {
            "marker": {
             "colorbar": {
              "outlinewidth": 0,
              "ticks": ""
             }
            },
            "type": "scattergeo"
           }
          ],
          "scattergl": [
           {
            "marker": {
             "colorbar": {
              "outlinewidth": 0,
              "ticks": ""
             }
            },
            "type": "scattergl"
           }
          ],
          "scattermapbox": [
           {
            "marker": {
             "colorbar": {
              "outlinewidth": 0,
              "ticks": ""
             }
            },
            "type": "scattermapbox"
           }
          ],
          "scatterpolar": [
           {
            "marker": {
             "colorbar": {
              "outlinewidth": 0,
              "ticks": ""
             }
            },
            "type": "scatterpolar"
           }
          ],
          "scatterpolargl": [
           {
            "marker": {
             "colorbar": {
              "outlinewidth": 0,
              "ticks": ""
             }
            },
            "type": "scatterpolargl"
           }
          ],
          "scatterternary": [
           {
            "marker": {
             "colorbar": {
              "outlinewidth": 0,
              "ticks": ""
             }
            },
            "type": "scatterternary"
           }
          ],
          "surface": [
           {
            "colorbar": {
             "outlinewidth": 0,
             "ticks": ""
            },
            "colorscale": [
             [
              0,
              "#0d0887"
             ],
             [
              0.1111111111111111,
              "#46039f"
             ],
             [
              0.2222222222222222,
              "#7201a8"
             ],
             [
              0.3333333333333333,
              "#9c179e"
             ],
             [
              0.4444444444444444,
              "#bd3786"
             ],
             [
              0.5555555555555556,
              "#d8576b"
             ],
             [
              0.6666666666666666,
              "#ed7953"
             ],
             [
              0.7777777777777778,
              "#fb9f3a"
             ],
             [
              0.8888888888888888,
              "#fdca26"
             ],
             [
              1,
              "#f0f921"
             ]
            ],
            "type": "surface"
           }
          ],
          "table": [
           {
            "cells": {
             "fill": {
              "color": "#EBF0F8"
             },
             "line": {
              "color": "white"
             }
            },
            "header": {
             "fill": {
              "color": "#C8D4E3"
             },
             "line": {
              "color": "white"
             }
            },
            "type": "table"
           }
          ]
         },
         "layout": {
          "annotationdefaults": {
           "arrowcolor": "#2a3f5f",
           "arrowhead": 0,
           "arrowwidth": 1
          },
          "autotypenumbers": "strict",
          "coloraxis": {
           "colorbar": {
            "outlinewidth": 0,
            "ticks": ""
           }
          },
          "colorscale": {
           "diverging": [
            [
             0,
             "#8e0152"
            ],
            [
             0.1,
             "#c51b7d"
            ],
            [
             0.2,
             "#de77ae"
            ],
            [
             0.3,
             "#f1b6da"
            ],
            [
             0.4,
             "#fde0ef"
            ],
            [
             0.5,
             "#f7f7f7"
            ],
            [
             0.6,
             "#e6f5d0"
            ],
            [
             0.7,
             "#b8e186"
            ],
            [
             0.8,
             "#7fbc41"
            ],
            [
             0.9,
             "#4d9221"
            ],
            [
             1,
             "#276419"
            ]
           ],
           "sequential": [
            [
             0,
             "#0d0887"
            ],
            [
             0.1111111111111111,
             "#46039f"
            ],
            [
             0.2222222222222222,
             "#7201a8"
            ],
            [
             0.3333333333333333,
             "#9c179e"
            ],
            [
             0.4444444444444444,
             "#bd3786"
            ],
            [
             0.5555555555555556,
             "#d8576b"
            ],
            [
             0.6666666666666666,
             "#ed7953"
            ],
            [
             0.7777777777777778,
             "#fb9f3a"
            ],
            [
             0.8888888888888888,
             "#fdca26"
            ],
            [
             1,
             "#f0f921"
            ]
           ],
           "sequentialminus": [
            [
             0,
             "#0d0887"
            ],
            [
             0.1111111111111111,
             "#46039f"
            ],
            [
             0.2222222222222222,
             "#7201a8"
            ],
            [
             0.3333333333333333,
             "#9c179e"
            ],
            [
             0.4444444444444444,
             "#bd3786"
            ],
            [
             0.5555555555555556,
             "#d8576b"
            ],
            [
             0.6666666666666666,
             "#ed7953"
            ],
            [
             0.7777777777777778,
             "#fb9f3a"
            ],
            [
             0.8888888888888888,
             "#fdca26"
            ],
            [
             1,
             "#f0f921"
            ]
           ]
          },
          "colorway": [
           "#636efa",
           "#EF553B",
           "#00cc96",
           "#ab63fa",
           "#FFA15A",
           "#19d3f3",
           "#FF6692",
           "#B6E880",
           "#FF97FF",
           "#FECB52"
          ],
          "font": {
           "color": "#2a3f5f"
          },
          "geo": {
           "bgcolor": "white",
           "lakecolor": "white",
           "landcolor": "#E5ECF6",
           "showlakes": true,
           "showland": true,
           "subunitcolor": "white"
          },
          "hoverlabel": {
           "align": "left"
          },
          "hovermode": "closest",
          "mapbox": {
           "style": "light"
          },
          "paper_bgcolor": "white",
          "plot_bgcolor": "#E5ECF6",
          "polar": {
           "angularaxis": {
            "gridcolor": "white",
            "linecolor": "white",
            "ticks": ""
           },
           "bgcolor": "#E5ECF6",
           "radialaxis": {
            "gridcolor": "white",
            "linecolor": "white",
            "ticks": ""
           }
          },
          "scene": {
           "xaxis": {
            "backgroundcolor": "#E5ECF6",
            "gridcolor": "white",
            "gridwidth": 2,
            "linecolor": "white",
            "showbackground": true,
            "ticks": "",
            "zerolinecolor": "white"
           },
           "yaxis": {
            "backgroundcolor": "#E5ECF6",
            "gridcolor": "white",
            "gridwidth": 2,
            "linecolor": "white",
            "showbackground": true,
            "ticks": "",
            "zerolinecolor": "white"
           },
           "zaxis": {
            "backgroundcolor": "#E5ECF6",
            "gridcolor": "white",
            "gridwidth": 2,
            "linecolor": "white",
            "showbackground": true,
            "ticks": "",
            "zerolinecolor": "white"
           }
          },
          "shapedefaults": {
           "line": {
            "color": "#2a3f5f"
           }
          },
          "ternary": {
           "aaxis": {
            "gridcolor": "white",
            "linecolor": "white",
            "ticks": ""
           },
           "baxis": {
            "gridcolor": "white",
            "linecolor": "white",
            "ticks": ""
           },
           "bgcolor": "#E5ECF6",
           "caxis": {
            "gridcolor": "white",
            "linecolor": "white",
            "ticks": ""
           }
          },
          "title": {
           "x": 0.05
          },
          "xaxis": {
           "automargin": true,
           "gridcolor": "white",
           "linecolor": "white",
           "ticks": "",
           "title": {
            "standoff": 15
           },
           "zerolinecolor": "white",
           "zerolinewidth": 2
          },
          "yaxis": {
           "automargin": true,
           "gridcolor": "white",
           "linecolor": "white",
           "ticks": "",
           "title": {
            "standoff": 15
           },
           "zerolinecolor": "white",
           "zerolinewidth": 2
          }
         }
        },
        "title": {
         "font": {
          "color": "rgb(20, 24, 54)"
         },
         "text": "Top 1000 Video Games, Release Years, Publishers and Sales"
        },
        "width": 800
       }
      },
      "text/html": [
       "<div>                            <div id=\"0a4d188c-5256-4a1c-833a-f93d9f50aa8e\" class=\"plotly-graph-div\" style=\"height:800px; width:800px;\"></div>            <script type=\"text/javascript\">                require([\"plotly\"], function(Plotly) {                    window.PLOTLYENV=window.PLOTLYENV || {};                                    if (document.getElementById(\"0a4d188c-5256-4a1c-833a-f93d9f50aa8e\")) {                    Plotly.newPlot(                        \"0a4d188c-5256-4a1c-833a-f93d9f50aa8e\",                        [{\"marker\":{\"color\":[1.0,0.4363395225464192,0.37771883289124675,0.34031830238726796,0.31870026525198947,0.30397877984084887,0.3006631299734749,0.2875331564986738,0.2822281167108754,0.2781167108753316,0.23103448275862074,0.21326259946949608,0.20901856763925733,0.2039787798408488,0.1944297082228117,0.19204244031830242,0.18647214854111407,0.17864721485411142,0.17599469496021222,0.17082228116710876,0.14615384615384616,0.14323607427055707,0.13183023872679048,0.11989389920424404,0.11684350132625994,0.11286472148541116,0.10583554376657826,0.10557029177718835,0.10132625994694962,0.09840848806366048,0.09681697612732097,0.09681697612732097,0.09297082228116711,0.09151193633952256,0.08872679045092839,0.0847480106100796,0.08183023872679046,0.08116710875331568,0.07639257294429709,0.07559681697612732,0.07148541114058357,0.06538461538461539,0.06458885941644564,0.06366047745358092,0.061538461538461556,0.06047745358090187,0.06034482758620691,0.05729442970822282,0.05543766578249337,0.05291777188328913,0.05092838196286473,0.04880636604774536,0.047877984084880636,0.04575596816976127,0.04549071618037136,0.04442970822281167,0.04283819628647216,0.04257294429708224,0.041777188328912473,0.04084880636604775,0.03872679045092838,0.0380636604774536,0.03368700265251991,0.03355437665782493,0.032891246684350145,0.032095490716180376,0.03156498673740055,0.02984084880636605,0.028912466843501326,0.028514588859416455,0.026259946949602132,0.025994694960212218,0.024668435013262595,0.02320954907161804,0.022281167108753313,0.019893899204244034,0.01883289124668435,0.015251989389920432,0.015251989389920432,0.015251989389920432,0.014323607427055705,0.013129973474801066,0.011936339522546425,0.010212201591511932,0.009946949602122017,0.009549071618037145,0.009416445623342188,0.006896551724137938,0.006631299734748012,0.006233421750663127,0.005039787798408487,0.004641909814323615,0.004376657824933688,0.003448275862068963,0.003448275862068963,0.0031830238726790485,0.0015915119363395242,0.0014588859416445668,0.000397877984084884,0.0],\"colorbar\":{\"title\":{\"text\":\"Global Sales\"}},\"colorscale\":[[0.0,\"rgb(150,0,90)\"],[0.125,\"rgb(0,0,200)\"],[0.25,\"rgb(0,25,255)\"],[0.375,\"rgb(0,152,255)\"],[0.5,\"rgb(44,255,150)\"],[0.625,\"rgb(151,255,0)\"],[0.75,\"rgb(255,234,0)\"],[0.875,\"rgb(255,111,0)\"],[1.0,\"rgb(255,0,0)\"]],\"line\":{\"color\":\"rgb(140, 140, 170)\"},\"size\":[41.49,29.08,15.85,15.75,11.27,23.2,11.38,14.03,14.59,26.93,9.07,9.81,9.0,8.94,9.09,14.97,7.01,9.43,12.78,4.75,6.42,10.83,9.54,9.63,8.41,6.06,5.57,3.44,6.85,9.03,5.89,9.67,5.17,5.77,4.99,8.25,8.52,5.54,6.99,6.75,5.98,2.55,4.74,7.97,3.8,4.4,6.91,3.01,6.16,4.23,6.16,6.76,4.02,4.89,2.96,4.99,4.76,5.99,4.34,5.08,6.05,6.72,7.03,5.55,3.66,6.63,3.01,4.09,5.84,3.88,5.91,4.36,5.58,2.01,4.46,5.03,3.54,1.11,1.79,6.82,3.81,2.91,1.06,0.98,5.8,2.58,2.91,2.28,2.82,7.28,2.9,3.66,2.93,2.8,4.1,3.78,5.39,3.24,4.79,4.46]},\"mode\":\"markers\",\"text\":[\"Name:Wii Sports, Rank:1 Global Sales: 82.74 millions\",\"Name:Super Mario Bros., Rank:2 Global Sales: 40.24 millions\",\"Name:Mario Kart Wii, Rank:3 Global Sales: 35.82 millions\",\"Name:Wii Sports Resort, Rank:4 Global Sales: 33.0 millions\",\"Name:Pokemon Red/Pokemon Blue, Rank:5 Global Sales: 31.37 millions\",\"Name:Tetris, Rank:6 Global Sales: 30.26 millions\",\"Name:New Super Mario Bros., Rank:7 Global Sales: 30.01 millions\",\"Name:Wii Play, Rank:8 Global Sales: 29.02 millions\",\"Name:New Super Mario Bros. Wii, Rank:9 Global Sales: 28.62 millions\",\"Name:Duck Hunt, Rank:10 Global Sales: 28.31 millions\",\"Name:Nintendogs, Rank:11 Global Sales: 24.76 millions\",\"Name:Mario Kart DS, Rank:12 Global Sales: 23.42 millions\",\"Name:Pokemon Gold/Pokemon Silver, Rank:13 Global Sales: 23.1 millions\",\"Name:Wii Fit, Rank:14 Global Sales: 22.72 millions\",\"Name:Wii Fit Plus, Rank:15 Global Sales: 22.0 millions\",\"Name:Kinect Adventures!, Rank:16 Global Sales: 21.82 millions\",\"Name:Grand Theft Auto V, Rank:17 Global Sales: 21.4 millions\",\"Name:Grand Theft Auto: San Andreas, Rank:18 Global Sales: 20.81 millions\",\"Name:Super Mario World, Rank:19 Global Sales: 20.61 millions\",\"Name:Brain Age: Train Your Brain in Minutes a Day, Rank:20 Global Sales: 20.22 millions\",\"Name:Pokemon Diamond/Pokemon Pearl, Rank:21 Global Sales: 18.36 millions\",\"Name:Super Mario Land, Rank:22 Global Sales: 18.14 millions\",\"Name:Super Mario Bros. 3, Rank:23 Global Sales: 17.28 millions\",\"Name:Grand Theft Auto V, Rank:24 Global Sales: 16.38 millions\",\"Name:Grand Theft Auto: Vice City, Rank:25 Global Sales: 16.15 millions\",\"Name:Pokemon Ruby/Pokemon Sapphire, Rank:26 Global Sales: 15.85 millions\",\"Name:Pokemon Black/Pokemon White, Rank:27 Global Sales: 15.32 millions\",\"Name:Brain Age 2: More Training in Minutes a Day, Rank:28 Global Sales: 15.3 millions\",\"Name:Gran Turismo 3: A-Spec, Rank:29 Global Sales: 14.98 millions\",\"Name:Call of Duty: Modern Warfare 3, Rank:30 Global Sales: 14.76 millions\",\"Name:Pok\\u00e9mon Yellow: Special Pikachu Edition, Rank:31 Global Sales: 14.64 millions\",\"Name:Call of Duty: Black Ops, Rank:32 Global Sales: 14.64 millions\",\"Name:Pokemon X/Pokemon Y, Rank:33 Global Sales: 14.35 millions\",\"Name:Call of Duty: Black Ops 3, Rank:34 Global Sales: 14.24 millions\",\"Name:Call of Duty: Black Ops II, Rank:35 Global Sales: 14.03 millions\",\"Name:Call of Duty: Black Ops II, Rank:36 Global Sales: 13.73 millions\",\"Name:Call of Duty: Modern Warfare 2, Rank:37 Global Sales: 13.51 millions\",\"Name:Call of Duty: Modern Warfare 3, Rank:38 Global Sales: 13.46 millions\",\"Name:Grand Theft Auto III, Rank:39 Global Sales: 13.1 millions\",\"Name:Super Smash Bros. Brawl, Rank:40 Global Sales: 13.04 millions\",\"Name:Call of Duty: Black Ops, Rank:41 Global Sales: 12.73 millions\",\"Name:Animal Crossing: Wild World, Rank:42 Global Sales: 12.27 millions\",\"Name:Mario Kart 7, Rank:43 Global Sales: 12.21 millions\",\"Name:Halo 3, Rank:44 Global Sales: 12.14 millions\",\"Name:Grand Theft Auto V, Rank:45 Global Sales: 11.98 millions\",\"Name:Pokemon HeartGold/Pokemon SoulSilver, Rank:46 Global Sales: 11.9 millions\",\"Name:Super Mario 64, Rank:47 Global Sales: 11.89 millions\",\"Name:Gran Turismo 4, Rank:48 Global Sales: 11.66 millions\",\"Name:Super Mario Galaxy, Rank:49 Global Sales: 11.52 millions\",\"Name:Pokemon Omega Ruby/Pokemon Alpha Sapphire, Rank:50 Global Sales: 11.33 millions\",\"Name:Super Mario Land 2: 6 Golden Coins, Rank:51 Global Sales: 11.18 millions\",\"Name:Grand Theft Auto IV, Rank:52 Global Sales: 11.02 millions\",\"Name:Gran Turismo, Rank:53 Global Sales: 10.95 millions\",\"Name:Super Mario 3D Land, Rank:54 Global Sales: 10.79 millions\",\"Name:Gran Turismo 5, Rank:55 Global Sales: 10.77 millions\",\"Name:Call of Duty: Modern Warfare 2, Rank:56 Global Sales: 10.69 millions\",\"Name:Grand Theft Auto IV, Rank:57 Global Sales: 10.57 millions\",\"Name:Super Mario All-Stars, Rank:58 Global Sales: 10.55 millions\",\"Name:Pokemon FireRed/Pokemon LeafGreen, Rank:59 Global Sales: 10.49 millions\",\"Name:Super Mario 64, Rank:60 Global Sales: 10.42 millions\",\"Name:Just Dance 3, Rank:61 Global Sales: 10.26 millions\",\"Name:Call of Duty: Ghosts, Rank:62 Global Sales: 10.21 millions\",\"Name:Halo: Reach, Rank:63 Global Sales: 9.88 millions\",\"Name:Mario Kart 64, Rank:64 Global Sales: 9.87 millions\",\"Name:New Super Mario Bros. 2, Rank:65 Global Sales: 9.82 millions\",\"Name:Halo 4, Rank:66 Global Sales: 9.76 millions\",\"Name:Final Fantasy VII, Rank:67 Global Sales: 9.72 millions\",\"Name:Call of Duty: Ghosts, Rank:68 Global Sales: 9.59 millions\",\"Name:Just Dance 2, Rank:69 Global Sales: 9.52 millions\",\"Name:Gran Turismo 2, Rank:70 Global Sales: 9.49 millions\",\"Name:Call of Duty 4: Modern Warfare, Rank:71 Global Sales: 9.32 millions\",\"Name:Donkey Kong Country, Rank:72 Global Sales: 9.3 millions\",\"Name:Minecraft, Rank:73 Global Sales: 9.2 millions\",\"Name:Animal Crossing: New Leaf, Rank:74 Global Sales: 9.09 millions\",\"Name:Mario Party DS, Rank:75 Global Sales: 9.02 millions\",\"Name:The Elder Scrolls V: Skyrim, Rank:76 Global Sales: 8.84 millions\",\"Name:Super Mario Kart, Rank:77 Global Sales: 8.76 millions\",\"Name:FIFA 16, Rank:78 Global Sales: 8.49 millions\",\"Name:Wii Party, Rank:79 Global Sales: 8.49 millions\",\"Name:Halo 2, Rank:80 Global Sales: 8.49 millions\",\"Name:Mario Party 8, Rank:81 Global Sales: 8.42 millions\",\"Name:Pokemon Black 2/Pokemon White 2, Rank:82 Global Sales: 8.33 millions\",\"Name:FIFA Soccer 13, Rank:83 Global Sales: 8.24 millions\",\"Name:The Sims 3, Rank:84 Global Sales: 8.11 millions\",\"Name:GoldenEye 007, Rank:85 Global Sales: 8.09 millions\",\"Name:Mario & Sonic at the Olympic Games, Rank:86 Global Sales: 8.06 millions\",\"Name:Final Fantasy X, Rank:87 Global Sales: 8.05 millions\",\"Name:Final Fantasy VIII, Rank:88 Global Sales: 7.86 millions\",\"Name:Pok\\u00e9mon Platinum Version, Rank:89 Global Sales: 7.84 millions\",\"Name:Pac-Man, Rank:90 Global Sales: 7.81 millions\",\"Name:Grand Theft Auto: Liberty City Stories, Rank:91 Global Sales: 7.72 millions\",\"Name:Super Mario Galaxy 2, Rank:92 Global Sales: 7.69 millions\",\"Name:Star Wars Battlefront (2015), Rank:93 Global Sales: 7.67 millions\",\"Name:Call of Duty: Advanced Warfare, Rank:94 Global Sales: 7.6 millions\",\"Name:The Legend of Zelda: Ocarina of Time, Rank:95 Global Sales: 7.6 millions\",\"Name:Crash Bandicoot 2: Cortex Strikes Back, Rank:96 Global Sales: 7.58 millions\",\"Name:Super Mario Bros. 2, Rank:97 Global Sales: 7.46 millions\",\"Name:Super Smash Bros. for Wii U and 3DS, Rank:98 Global Sales: 7.45 millions\",\"Name:Call of Duty: World at War, Rank:99 Global Sales: 7.37 millions\",\"Name:Battlefield 3, Rank:100 Global Sales: 7.34 millions\"],\"type\":\"scatter3d\",\"x\":[2006.0,1985.0,2008.0,2009.0,1996.0,1989.0,2006.0,2006.0,2009.0,1984.0,2005.0,2005.0,1999.0,2007.0,2009.0,2010.0,2013.0,2004.0,1990.0,2005.0,2006.0,1989.0,1988.0,2013.0,2002.0,2002.0,2010.0,2005.0,2001.0,2011.0,1998.0,2010.0,2013.0,2015.0,2012.0,2012.0,2009.0,2011.0,2001.0,2008.0,2010.0,2005.0,2011.0,2007.0,2014.0,2009.0,1996.0,2004.0,2007.0,2014.0,1992.0,2008.0,1997.0,2011.0,2010.0,2009.0,2008.0,1993.0,2004.0,2004.0,2011.0,2013.0,2010.0,1996.0,2012.0,2012.0,1997.0,2013.0,2010.0,1999.0,2007.0,1994.0,2013.0,2012.0,2007.0,2011.0,1992.0,2015.0,2010.0,2004.0,2007.0,2012.0,2012.0,2009.0,1997.0,2007.0,2001.0,1999.0,2008.0,1982.0,2005.0,2010.0,2015.0,2014.0,1998.0,1997.0,1988.0,2014.0,2008.0,2011.0],\"y\":[\"Nintendo\",\"Nintendo\",\"Nintendo\",\"Nintendo\",\"Nintendo\",\"Nintendo\",\"Nintendo\",\"Nintendo\",\"Nintendo\",\"Nintendo\",\"Nintendo\",\"Nintendo\",\"Nintendo\",\"Nintendo\",\"Nintendo\",\"Microsoft Game Studios\",\"Take-Two Interactive\",\"Take-Two Interactive\",\"Nintendo\",\"Nintendo\",\"Nintendo\",\"Nintendo\",\"Nintendo\",\"Take-Two Interactive\",\"Take-Two Interactive\",\"Nintendo\",\"Nintendo\",\"Nintendo\",\"Sony Computer Entertainment\",\"Activision\",\"Nintendo\",\"Activision\",\"Nintendo\",\"Activision\",\"Activision\",\"Activision\",\"Activision\",\"Activision\",\"Take-Two Interactive\",\"Nintendo\",\"Activision\",\"Nintendo\",\"Nintendo\",\"Microsoft Game Studios\",\"Take-Two Interactive\",\"Nintendo\",\"Nintendo\",\"Sony Computer Entertainment\",\"Nintendo\",\"Nintendo\",\"Nintendo\",\"Take-Two Interactive\",\"Sony Computer Entertainment\",\"Nintendo\",\"Sony Computer Entertainment\",\"Activision\",\"Take-Two Interactive\",\"Nintendo\",\"Nintendo\",\"Nintendo\",\"Ubisoft\",\"Activision\",\"Microsoft Game Studios\",\"Nintendo\",\"Nintendo\",\"Microsoft Game Studios\",\"Sony Computer Entertainment\",\"Activision\",\"Ubisoft\",\"Sony Computer Entertainment\",\"Activision\",\"Nintendo\",\"Microsoft Game Studios\",\"Nintendo\",\"Nintendo\",\"Bethesda Softworks\",\"Nintendo\",\"Electronic Arts\",\"Nintendo\",\"Microsoft Game Studios\",\"Nintendo\",\"Nintendo\",\"Electronic Arts\",\"Electronic Arts\",\"Nintendo\",\"Sega\",\"Sony Computer Entertainment\",\"SquareSoft\",\"Nintendo\",\"Atari\",\"Take-Two Interactive\",\"Nintendo\",\"Electronic Arts\",\"Activision\",\"Nintendo\",\"Sony Computer Entertainment\",\"Nintendo\",\"Nintendo\",\"Activision\",\"Electronic Arts\"],\"z\":[1.0,0.4363395225464192,0.37771883289124675,0.34031830238726796,0.31870026525198947,0.30397877984084887,0.3006631299734749,0.2875331564986738,0.2822281167108754,0.2781167108753316,0.23103448275862074,0.21326259946949608,0.20901856763925733,0.2039787798408488,0.1944297082228117,0.19204244031830242,0.18647214854111407,0.17864721485411142,0.17599469496021222,0.17082228116710876,0.14615384615384616,0.14323607427055707,0.13183023872679048,0.11989389920424404,0.11684350132625994,0.11286472148541116,0.10583554376657826,0.10557029177718835,0.10132625994694962,0.09840848806366048,0.09681697612732097,0.09681697612732097,0.09297082228116711,0.09151193633952256,0.08872679045092839,0.0847480106100796,0.08183023872679046,0.08116710875331568,0.07639257294429709,0.07559681697612732,0.07148541114058357,0.06538461538461539,0.06458885941644564,0.06366047745358092,0.061538461538461556,0.06047745358090187,0.06034482758620691,0.05729442970822282,0.05543766578249337,0.05291777188328913,0.05092838196286473,0.04880636604774536,0.047877984084880636,0.04575596816976127,0.04549071618037136,0.04442970822281167,0.04283819628647216,0.04257294429708224,0.041777188328912473,0.04084880636604775,0.03872679045092838,0.0380636604774536,0.03368700265251991,0.03355437665782493,0.032891246684350145,0.032095490716180376,0.03156498673740055,0.02984084880636605,0.028912466843501326,0.028514588859416455,0.026259946949602132,0.025994694960212218,0.024668435013262595,0.02320954907161804,0.022281167108753313,0.019893899204244034,0.01883289124668435,0.015251989389920432,0.015251989389920432,0.015251989389920432,0.014323607427055705,0.013129973474801066,0.011936339522546425,0.010212201591511932,0.009946949602122017,0.009549071618037145,0.009416445623342188,0.006896551724137938,0.006631299734748012,0.006233421750663127,0.005039787798408487,0.004641909814323615,0.004376657824933688,0.003448275862068963,0.003448275862068963,0.0031830238726790485,0.0015915119363395242,0.0014588859416445668,0.000397877984084884,0.0]}],                        {\"height\":800,\"scene\":{\"bgcolor\":\"whitesmoke\",\"xaxis\":{\"title\":{\"font\":{\"color\":\"rgb(20, 24, 54)\"},\"text\":\"Year\"}},\"yaxis\":{\"title\":{\"font\":{\"color\":\"rgb(20, 24, 54)\"},\"text\":\"Publisher\"}},\"zaxis\":{\"title\":{\"font\":{\"color\":\"rgb(20, 24, 54)\"},\"text\":\"Global Sales\"}}},\"template\":{\"data\":{\"bar\":[{\"error_x\":{\"color\":\"#2a3f5f\"},\"error_y\":{\"color\":\"#2a3f5f\"},\"marker\":{\"line\":{\"color\":\"#E5ECF6\",\"width\":0.5},\"pattern\":{\"fillmode\":\"overlay\",\"size\":10,\"solidity\":0.2}},\"type\":\"bar\"}],\"barpolar\":[{\"marker\":{\"line\":{\"color\":\"#E5ECF6\",\"width\":0.5},\"pattern\":{\"fillmode\":\"overlay\",\"size\":10,\"solidity\":0.2}},\"type\":\"barpolar\"}],\"carpet\":[{\"aaxis\":{\"endlinecolor\":\"#2a3f5f\",\"gridcolor\":\"white\",\"linecolor\":\"white\",\"minorgridcolor\":\"white\",\"startlinecolor\":\"#2a3f5f\"},\"baxis\":{\"endlinecolor\":\"#2a3f5f\",\"gridcolor\":\"white\",\"linecolor\":\"white\",\"minorgridcolor\":\"white\",\"startlinecolor\":\"#2a3f5f\"},\"type\":\"carpet\"}],\"choropleth\":[{\"colorbar\":{\"outlinewidth\":0,\"ticks\":\"\"},\"type\":\"choropleth\"}],\"contour\":[{\"colorbar\":{\"outlinewidth\":0,\"ticks\":\"\"},\"colorscale\":[[0.0,\"#0d0887\"],[0.1111111111111111,\"#46039f\"],[0.2222222222222222,\"#7201a8\"],[0.3333333333333333,\"#9c179e\"],[0.4444444444444444,\"#bd3786\"],[0.5555555555555556,\"#d8576b\"],[0.6666666666666666,\"#ed7953\"],[0.7777777777777778,\"#fb9f3a\"],[0.8888888888888888,\"#fdca26\"],[1.0,\"#f0f921\"]],\"type\":\"contour\"}],\"contourcarpet\":[{\"colorbar\":{\"outlinewidth\":0,\"ticks\":\"\"},\"type\":\"contourcarpet\"}],\"heatmap\":[{\"colorbar\":{\"outlinewidth\":0,\"ticks\":\"\"},\"colorscale\":[[0.0,\"#0d0887\"],[0.1111111111111111,\"#46039f\"],[0.2222222222222222,\"#7201a8\"],[0.3333333333333333,\"#9c179e\"],[0.4444444444444444,\"#bd3786\"],[0.5555555555555556,\"#d8576b\"],[0.6666666666666666,\"#ed7953\"],[0.7777777777777778,\"#fb9f3a\"],[0.8888888888888888,\"#fdca26\"],[1.0,\"#f0f921\"]],\"type\":\"heatmap\"}],\"heatmapgl\":[{\"colorbar\":{\"outlinewidth\":0,\"ticks\":\"\"},\"colorscale\":[[0.0,\"#0d0887\"],[0.1111111111111111,\"#46039f\"],[0.2222222222222222,\"#7201a8\"],[0.3333333333333333,\"#9c179e\"],[0.4444444444444444,\"#bd3786\"],[0.5555555555555556,\"#d8576b\"],[0.6666666666666666,\"#ed7953\"],[0.7777777777777778,\"#fb9f3a\"],[0.8888888888888888,\"#fdca26\"],[1.0,\"#f0f921\"]],\"type\":\"heatmapgl\"}],\"histogram\":[{\"marker\":{\"pattern\":{\"fillmode\":\"overlay\",\"size\":10,\"solidity\":0.2}},\"type\":\"histogram\"}],\"histogram2d\":[{\"colorbar\":{\"outlinewidth\":0,\"ticks\":\"\"},\"colorscale\":[[0.0,\"#0d0887\"],[0.1111111111111111,\"#46039f\"],[0.2222222222222222,\"#7201a8\"],[0.3333333333333333,\"#9c179e\"],[0.4444444444444444,\"#bd3786\"],[0.5555555555555556,\"#d8576b\"],[0.6666666666666666,\"#ed7953\"],[0.7777777777777778,\"#fb9f3a\"],[0.8888888888888888,\"#fdca26\"],[1.0,\"#f0f921\"]],\"type\":\"histogram2d\"}],\"histogram2dcontour\":[{\"colorbar\":{\"outlinewidth\":0,\"ticks\":\"\"},\"colorscale\":[[0.0,\"#0d0887\"],[0.1111111111111111,\"#46039f\"],[0.2222222222222222,\"#7201a8\"],[0.3333333333333333,\"#9c179e\"],[0.4444444444444444,\"#bd3786\"],[0.5555555555555556,\"#d8576b\"],[0.6666666666666666,\"#ed7953\"],[0.7777777777777778,\"#fb9f3a\"],[0.8888888888888888,\"#fdca26\"],[1.0,\"#f0f921\"]],\"type\":\"histogram2dcontour\"}],\"mesh3d\":[{\"colorbar\":{\"outlinewidth\":0,\"ticks\":\"\"},\"type\":\"mesh3d\"}],\"parcoords\":[{\"line\":{\"colorbar\":{\"outlinewidth\":0,\"ticks\":\"\"}},\"type\":\"parcoords\"}],\"pie\":[{\"automargin\":true,\"type\":\"pie\"}],\"scatter\":[{\"marker\":{\"colorbar\":{\"outlinewidth\":0,\"ticks\":\"\"}},\"type\":\"scatter\"}],\"scatter3d\":[{\"line\":{\"colorbar\":{\"outlinewidth\":0,\"ticks\":\"\"}},\"marker\":{\"colorbar\":{\"outlinewidth\":0,\"ticks\":\"\"}},\"type\":\"scatter3d\"}],\"scattercarpet\":[{\"marker\":{\"colorbar\":{\"outlinewidth\":0,\"ticks\":\"\"}},\"type\":\"scattercarpet\"}],\"scattergeo\":[{\"marker\":{\"colorbar\":{\"outlinewidth\":0,\"ticks\":\"\"}},\"type\":\"scattergeo\"}],\"scattergl\":[{\"marker\":{\"colorbar\":{\"outlinewidth\":0,\"ticks\":\"\"}},\"type\":\"scattergl\"}],\"scattermapbox\":[{\"marker\":{\"colorbar\":{\"outlinewidth\":0,\"ticks\":\"\"}},\"type\":\"scattermapbox\"}],\"scatterpolar\":[{\"marker\":{\"colorbar\":{\"outlinewidth\":0,\"ticks\":\"\"}},\"type\":\"scatterpolar\"}],\"scatterpolargl\":[{\"marker\":{\"colorbar\":{\"outlinewidth\":0,\"ticks\":\"\"}},\"type\":\"scatterpolargl\"}],\"scatterternary\":[{\"marker\":{\"colorbar\":{\"outlinewidth\":0,\"ticks\":\"\"}},\"type\":\"scatterternary\"}],\"surface\":[{\"colorbar\":{\"outlinewidth\":0,\"ticks\":\"\"},\"colorscale\":[[0.0,\"#0d0887\"],[0.1111111111111111,\"#46039f\"],[0.2222222222222222,\"#7201a8\"],[0.3333333333333333,\"#9c179e\"],[0.4444444444444444,\"#bd3786\"],[0.5555555555555556,\"#d8576b\"],[0.6666666666666666,\"#ed7953\"],[0.7777777777777778,\"#fb9f3a\"],[0.8888888888888888,\"#fdca26\"],[1.0,\"#f0f921\"]],\"type\":\"surface\"}],\"table\":[{\"cells\":{\"fill\":{\"color\":\"#EBF0F8\"},\"line\":{\"color\":\"white\"}},\"header\":{\"fill\":{\"color\":\"#C8D4E3\"},\"line\":{\"color\":\"white\"}},\"type\":\"table\"}]},\"layout\":{\"annotationdefaults\":{\"arrowcolor\":\"#2a3f5f\",\"arrowhead\":0,\"arrowwidth\":1},\"autotypenumbers\":\"strict\",\"coloraxis\":{\"colorbar\":{\"outlinewidth\":0,\"ticks\":\"\"}},\"colorscale\":{\"diverging\":[[0,\"#8e0152\"],[0.1,\"#c51b7d\"],[0.2,\"#de77ae\"],[0.3,\"#f1b6da\"],[0.4,\"#fde0ef\"],[0.5,\"#f7f7f7\"],[0.6,\"#e6f5d0\"],[0.7,\"#b8e186\"],[0.8,\"#7fbc41\"],[0.9,\"#4d9221\"],[1,\"#276419\"]],\"sequential\":[[0.0,\"#0d0887\"],[0.1111111111111111,\"#46039f\"],[0.2222222222222222,\"#7201a8\"],[0.3333333333333333,\"#9c179e\"],[0.4444444444444444,\"#bd3786\"],[0.5555555555555556,\"#d8576b\"],[0.6666666666666666,\"#ed7953\"],[0.7777777777777778,\"#fb9f3a\"],[0.8888888888888888,\"#fdca26\"],[1.0,\"#f0f921\"]],\"sequentialminus\":[[0.0,\"#0d0887\"],[0.1111111111111111,\"#46039f\"],[0.2222222222222222,\"#7201a8\"],[0.3333333333333333,\"#9c179e\"],[0.4444444444444444,\"#bd3786\"],[0.5555555555555556,\"#d8576b\"],[0.6666666666666666,\"#ed7953\"],[0.7777777777777778,\"#fb9f3a\"],[0.8888888888888888,\"#fdca26\"],[1.0,\"#f0f921\"]]},\"colorway\":[\"#636efa\",\"#EF553B\",\"#00cc96\",\"#ab63fa\",\"#FFA15A\",\"#19d3f3\",\"#FF6692\",\"#B6E880\",\"#FF97FF\",\"#FECB52\"],\"font\":{\"color\":\"#2a3f5f\"},\"geo\":{\"bgcolor\":\"white\",\"lakecolor\":\"white\",\"landcolor\":\"#E5ECF6\",\"showlakes\":true,\"showland\":true,\"subunitcolor\":\"white\"},\"hoverlabel\":{\"align\":\"left\"},\"hovermode\":\"closest\",\"mapbox\":{\"style\":\"light\"},\"paper_bgcolor\":\"white\",\"plot_bgcolor\":\"#E5ECF6\",\"polar\":{\"angularaxis\":{\"gridcolor\":\"white\",\"linecolor\":\"white\",\"ticks\":\"\"},\"bgcolor\":\"#E5ECF6\",\"radialaxis\":{\"gridcolor\":\"white\",\"linecolor\":\"white\",\"ticks\":\"\"}},\"scene\":{\"xaxis\":{\"backgroundcolor\":\"#E5ECF6\",\"gridcolor\":\"white\",\"gridwidth\":2,\"linecolor\":\"white\",\"showbackground\":true,\"ticks\":\"\",\"zerolinecolor\":\"white\"},\"yaxis\":{\"backgroundcolor\":\"#E5ECF6\",\"gridcolor\":\"white\",\"gridwidth\":2,\"linecolor\":\"white\",\"showbackground\":true,\"ticks\":\"\",\"zerolinecolor\":\"white\"},\"zaxis\":{\"backgroundcolor\":\"#E5ECF6\",\"gridcolor\":\"white\",\"gridwidth\":2,\"linecolor\":\"white\",\"showbackground\":true,\"ticks\":\"\",\"zerolinecolor\":\"white\"}},\"shapedefaults\":{\"line\":{\"color\":\"#2a3f5f\"}},\"ternary\":{\"aaxis\":{\"gridcolor\":\"white\",\"linecolor\":\"white\",\"ticks\":\"\"},\"baxis\":{\"gridcolor\":\"white\",\"linecolor\":\"white\",\"ticks\":\"\"},\"bgcolor\":\"#E5ECF6\",\"caxis\":{\"gridcolor\":\"white\",\"linecolor\":\"white\",\"ticks\":\"\"}},\"title\":{\"x\":0.05},\"xaxis\":{\"automargin\":true,\"gridcolor\":\"white\",\"linecolor\":\"white\",\"ticks\":\"\",\"title\":{\"standoff\":15},\"zerolinecolor\":\"white\",\"zerolinewidth\":2},\"yaxis\":{\"automargin\":true,\"gridcolor\":\"white\",\"linecolor\":\"white\",\"ticks\":\"\",\"title\":{\"standoff\":15},\"zerolinecolor\":\"white\",\"zerolinewidth\":2}}},\"title\":{\"font\":{\"color\":\"rgb(20, 24, 54)\"},\"text\":\"Top 1000 Video Games, Release Years, Publishers and Sales\"},\"width\":800},                        {\"responsive\": true}                    ).then(function(){\n",
       "                            \n",
       "var gd = document.getElementById('0a4d188c-5256-4a1c-833a-f93d9f50aa8e');\n",
       "var x = new MutationObserver(function (mutations, observer) {{\n",
       "        var display = window.getComputedStyle(gd).display;\n",
       "        if (!display || display === 'none') {{\n",
       "            console.log([gd, 'removed!']);\n",
       "            Plotly.purge(gd);\n",
       "            observer.disconnect();\n",
       "        }}\n",
       "}});\n",
       "\n",
       "// Listen for the removal of the full notebook cells\n",
       "var notebookContainer = gd.closest('#notebook-container');\n",
       "if (notebookContainer) {{\n",
       "    x.observe(notebookContainer, {childList: true});\n",
       "}}\n",
       "\n",
       "// Listen for the clearing of the current output cell\n",
       "var outputEl = gd.closest('.output');\n",
       "if (outputEl) {{\n",
       "    x.observe(outputEl, {childList: true});\n",
       "}}\n",
       "\n",
       "                        })                };                });            </script>        </div>"
      ]
     },
     "metadata": {},
     "output_type": "display_data"
    }
   ],
   "source": [
    "df1000.Rank=df1000.Rank.astype(\"str\")\n",
    "df1000.Global_Sales=df1000.Global_Sales.astype(\"str\")\n",
    "trace1 = go.Scatter3d(\n",
    "    y=df1000[\"Publisher\"],\n",
    "    x=df1000[\"Year\"],\n",
    "    z=df1000[\"normsales\"],\n",
    "    text=\"Name:\"+ df1000.Name +\",\"+\" Rank:\" + df1000.Rank + \" Global Sales: \" + df1000[\"Global_Sales\"] +\" millions\",\n",
    "    mode='markers',\n",
    "    marker=dict(\n",
    "        size=df1000['NA_Sales'],\n",
    "        color = df1000['normsales'],\n",
    "        colorscale = \"Rainbow\",\n",
    "        colorbar = dict(title = 'Global Sales'),\n",
    "        line=dict(color='rgb(140, 140, 170)'),\n",
    "       \n",
    "    )\n",
    ")\n",
    "\n",
    "data=[trace1]\n",
    "\n",
    "layout=go.Layout(height=800, width=800, title='Top 1000 Video Games, Release Years, Publishers and Sales',\n",
    "            titlefont=dict(color='rgb(20, 24, 54)'),\n",
    "            scene = dict(xaxis=dict(title='Year',\n",
    "                                    titlefont=dict(color='rgb(20, 24, 54)')),\n",
    "                            yaxis=dict(title='Publisher',\n",
    "                                       titlefont=dict(color='rgb(20, 24, 54)')),\n",
    "                            zaxis=dict(title='Global Sales',\n",
    "                                       titlefont=dict(color='rgb(20, 24, 54)')),\n",
    "                            bgcolor = 'whitesmoke'\n",
    "                           ))\n",
    " \n",
    "fig=go.Figure(data=data, layout=layout)\n",
    "iplot(fig)"
   ]
  },
  {
   "cell_type": "code",
   "execution_count": null,
   "metadata": {},
   "outputs": [],
   "source": []
  },
  {
   "cell_type": "code",
   "execution_count": null,
   "metadata": {},
   "outputs": [],
   "source": []
  },
  {
   "cell_type": "code",
   "execution_count": null,
   "metadata": {},
   "outputs": [],
   "source": []
  }
 ],
 "metadata": {
  "kernelspec": {
   "display_name": "Python 3",
   "language": "python",
   "name": "python3"
  },
  "language_info": {
   "codemirror_mode": {
    "name": "ipython",
    "version": 3
   },
   "file_extension": ".py",
   "mimetype": "text/x-python",
   "name": "python",
   "nbconvert_exporter": "python",
   "pygments_lexer": "ipython3",
   "version": "3.8.5"
  }
 },
 "nbformat": 4,
 "nbformat_minor": 4
}
